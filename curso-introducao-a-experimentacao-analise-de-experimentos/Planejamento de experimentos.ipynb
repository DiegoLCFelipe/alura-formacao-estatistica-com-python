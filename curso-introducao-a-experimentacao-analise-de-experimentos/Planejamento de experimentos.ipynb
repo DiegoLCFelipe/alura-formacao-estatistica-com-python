{
 "cells": [
  {
   "cell_type": "markdown",
   "source": [
    "<h1 style='color: blue; font-size: 34px; font-weight: bold;'> Planejamento de Experimentos \n",
    "</h1>\n"
   ],
   "metadata": {}
  },
  {
   "cell_type": "markdown",
   "source": [
    "# <font color='red' style='font-size: 30px;'>1.0 Introdução   </font>\n",
    "<hr style='border: 2px solid red;'>\n",
    "\n",
    "\n",
    "\n",
    "\n",
    "<p style='font-size: 18px; line-height: 2; margin: 0px 0px; text-align: justify; text-indent: 0px;'>    \n",
    "<i> “Chamar um especialista em estatística depois que o experimento foi feito pode ser o mesmo que pedir para ele fazer um exame post-mortem. Talvez ele consiga dizer do que foi que o experimento morreu.”  </i>     \n",
    "</p>    \n",
    "\n",
    "<p style='font-size: 18px; line-height: 2; margin: 0px 0px; text-align: right; text-indent: 0px;'>    \n",
    "    <b>Sir Ronald Fisher</b>  \n",
    "\n",
    "<hr>\n",
    "\n",
    "\n",
    "\n",
    "\n"
   ],
   "metadata": {}
  },
  {
   "cell_type": "markdown",
   "source": [
    "# <font color='red' style='font-size: 30px;'> Introdução à análise de experimentos   </font>\n",
    "<hr style='border: 2px solid red;'>"
   ],
   "metadata": {}
  },
  {
   "cell_type": "markdown",
   "source": [
    "# <font color = 'purple'> Inserindo o experimento num Data Frame </font>\n",
    "\n",
    "\n",
    "<p style='margin: 30px 30px;'>\n",
    "    \n",
    "<hr style = 'border: 1px solid purple;'>"
   ],
   "metadata": {}
  },
  {
   "cell_type": "markdown",
   "source": [
    "## Importando as bibliotecas "
   ],
   "metadata": {}
  },
  {
   "cell_type": "markdown",
   "source": [
    "### Pandas\n",
    "\n",
    "https://pandas.pydata.org/"
   ],
   "metadata": {}
  },
  {
   "cell_type": "code",
   "execution_count": 92,
   "source": [
    "import pandas as pd"
   ],
   "outputs": [],
   "metadata": {}
  },
  {
   "cell_type": "markdown",
   "source": [
    "### Numpy\n",
    "\n",
    "http://www.numpy.org/"
   ],
   "metadata": {}
  },
  {
   "cell_type": "code",
   "execution_count": 93,
   "source": [
    "import numpy as np "
   ],
   "outputs": [],
   "metadata": {}
  },
  {
   "cell_type": "markdown",
   "source": [
    "\n",
    "\n",
    "<p style='font-size: 18px; line-height: 2; margin: 0px 0px; text-align: justify; text-indent: 0px;'>\n",
    "    <font color=\"red\"> <b>Ensaios realizados na forma normalizada</b> \n",
    "\n",
    "\n",
    "<img width='800px' src='figuras/Figura_2.png'>\n",
    "\n",
    " \n",
    "   \n",
    "   \n",
    "    "
   ],
   "metadata": {}
  },
  {
   "cell_type": "markdown",
   "source": [
    "\n",
    "<p style='font-size: 18px; line-height: 2; margin: 0px 0px; text-align: justify; text-indent: 0px;'>\n",
    "<font color=\"MidnightBlue\"> Construindo uma matriz representando todos os ensaios realizados:\n"
   ],
   "metadata": {}
  },
  {
   "cell_type": "code",
   "execution_count": 94,
   "source": [
    "ensaios =  np.array([[-1, -1], [1, -1], [-1, 1], [1, 1]])"
   ],
   "outputs": [],
   "metadata": {}
  },
  {
   "cell_type": "markdown",
   "source": [
    "Escrever os experimentos dessa forma, além de muito trabalhoso, pode resultar em diversos erros, dessa forma utilizaremos uma bibilioteca do python chamada PyDOE2 para a construção de planejamentos fatoriais."
   ],
   "metadata": {}
  },
  {
   "cell_type": "markdown",
   "source": [
    "### pyDOE2\n",
    "\n",
    "https://pypi.org/project/pyDOE2/"
   ],
   "metadata": {}
  },
  {
   "cell_type": "code",
   "execution_count": 95,
   "source": [
    "import pyDOE2 as doe"
   ],
   "outputs": [],
   "metadata": {}
  },
  {
   "cell_type": "markdown",
   "source": [
    "## Costruindo um planejamento fatorial de 2²\n"
   ],
   "metadata": {}
  },
  {
   "cell_type": "code",
   "execution_count": 96,
   "source": [
    "ensaios = doe.ff2n(2)"
   ],
   "outputs": [],
   "metadata": {}
  },
  {
   "cell_type": "code",
   "execution_count": 97,
   "source": [
    "ensaios"
   ],
   "outputs": [
    {
     "output_type": "execute_result",
     "data": {
      "text/plain": [
       "array([[-1., -1.],\n",
       "       [ 1., -1.],\n",
       "       [-1.,  1.],\n",
       "       [ 1.,  1.]])"
      ]
     },
     "metadata": {},
     "execution_count": 97
    }
   ],
   "metadata": {}
  },
  {
   "cell_type": "markdown",
   "source": [
    "## Incerindo o planejamento em um Data Frame\n",
    "\n",
    "Agora vamos inserir os experimentos normalizados dentro de um dataframe."
   ],
   "metadata": {}
  },
  {
   "cell_type": "code",
   "execution_count": 98,
   "source": [
    "experimento = pd.DataFrame(ensaios, columns=['Farinha', 'Chocolate'])"
   ],
   "outputs": [],
   "metadata": {}
  },
  {
   "cell_type": "code",
   "execution_count": 99,
   "source": [
    "experimento"
   ],
   "outputs": [
    {
     "output_type": "execute_result",
     "data": {
      "text/html": [
       "<div>\n",
       "<style scoped>\n",
       "    .dataframe tbody tr th:only-of-type {\n",
       "        vertical-align: middle;\n",
       "    }\n",
       "\n",
       "    .dataframe tbody tr th {\n",
       "        vertical-align: top;\n",
       "    }\n",
       "\n",
       "    .dataframe thead th {\n",
       "        text-align: right;\n",
       "    }\n",
       "</style>\n",
       "<table border=\"1\" class=\"dataframe\">\n",
       "  <thead>\n",
       "    <tr style=\"text-align: right;\">\n",
       "      <th></th>\n",
       "      <th>Farinha</th>\n",
       "      <th>Chocolate</th>\n",
       "    </tr>\n",
       "  </thead>\n",
       "  <tbody>\n",
       "    <tr>\n",
       "      <th>0</th>\n",
       "      <td>-1.0</td>\n",
       "      <td>-1.0</td>\n",
       "    </tr>\n",
       "    <tr>\n",
       "      <th>1</th>\n",
       "      <td>1.0</td>\n",
       "      <td>-1.0</td>\n",
       "    </tr>\n",
       "    <tr>\n",
       "      <th>2</th>\n",
       "      <td>-1.0</td>\n",
       "      <td>1.0</td>\n",
       "    </tr>\n",
       "    <tr>\n",
       "      <th>3</th>\n",
       "      <td>1.0</td>\n",
       "      <td>1.0</td>\n",
       "    </tr>\n",
       "  </tbody>\n",
       "</table>\n",
       "</div>"
      ],
      "text/plain": [
       "   Farinha  Chocolate\n",
       "0     -1.0       -1.0\n",
       "1      1.0       -1.0\n",
       "2     -1.0        1.0\n",
       "3      1.0        1.0"
      ]
     },
     "metadata": {},
     "execution_count": 99
    }
   ],
   "metadata": {}
  },
  {
   "cell_type": "markdown",
   "source": [
    "### Inserindo coluna com os resultados "
   ],
   "metadata": {}
  },
  {
   "cell_type": "code",
   "execution_count": 100,
   "source": [
    "experimento['Porções'] = [19, 37, 24, 49]"
   ],
   "outputs": [],
   "metadata": {}
  },
  {
   "cell_type": "code",
   "execution_count": 101,
   "source": [
    "experimento"
   ],
   "outputs": [
    {
     "output_type": "execute_result",
     "data": {
      "text/html": [
       "<div>\n",
       "<style scoped>\n",
       "    .dataframe tbody tr th:only-of-type {\n",
       "        vertical-align: middle;\n",
       "    }\n",
       "\n",
       "    .dataframe tbody tr th {\n",
       "        vertical-align: top;\n",
       "    }\n",
       "\n",
       "    .dataframe thead th {\n",
       "        text-align: right;\n",
       "    }\n",
       "</style>\n",
       "<table border=\"1\" class=\"dataframe\">\n",
       "  <thead>\n",
       "    <tr style=\"text-align: right;\">\n",
       "      <th></th>\n",
       "      <th>Farinha</th>\n",
       "      <th>Chocolate</th>\n",
       "      <th>Porções</th>\n",
       "    </tr>\n",
       "  </thead>\n",
       "  <tbody>\n",
       "    <tr>\n",
       "      <th>0</th>\n",
       "      <td>-1.0</td>\n",
       "      <td>-1.0</td>\n",
       "      <td>19</td>\n",
       "    </tr>\n",
       "    <tr>\n",
       "      <th>1</th>\n",
       "      <td>1.0</td>\n",
       "      <td>-1.0</td>\n",
       "      <td>37</td>\n",
       "    </tr>\n",
       "    <tr>\n",
       "      <th>2</th>\n",
       "      <td>-1.0</td>\n",
       "      <td>1.0</td>\n",
       "      <td>24</td>\n",
       "    </tr>\n",
       "    <tr>\n",
       "      <th>3</th>\n",
       "      <td>1.0</td>\n",
       "      <td>1.0</td>\n",
       "      <td>49</td>\n",
       "    </tr>\n",
       "  </tbody>\n",
       "</table>\n",
       "</div>"
      ],
      "text/plain": [
       "   Farinha  Chocolate  Porções\n",
       "0     -1.0       -1.0       19\n",
       "1      1.0       -1.0       37\n",
       "2     -1.0        1.0       24\n",
       "3      1.0        1.0       49"
      ]
     },
     "metadata": {},
     "execution_count": 101
    }
   ],
   "metadata": {}
  },
  {
   "cell_type": "markdown",
   "source": [
    "<hr>\n",
    "<p style='font-size: 18px; line-height: 2; margin: 0px 0px; text-align: justify; text-indent: 0px;'>\n",
    "    <font color=\"MidnightBlue\"> <b>Conclusão:</b> Temos, por fim, nosso experimento representado por um <i>DataFrame</i> do Pandas. Usaremos este <i>DataFrame</i> para iniciarmos a análise do nosso experimento. \n",
    "    \n",
    "<hr>   "
   ],
   "metadata": {}
  },
  {
   "cell_type": "markdown",
   "source": [
    "# <font color = 'purple'> Analisando graficamente o experimento   </font>\n",
    "\n",
    "\n",
    "<p style='margin: 30px 30px;'>\n",
    "    \n",
    "<hr style = 'border: 1px solid purple;'>"
   ],
   "metadata": {}
  },
  {
   "cell_type": "markdown",
   "source": [
    "###  Importando o Seaborn\n",
    "\n",
    "https://seaborn.pydata.org"
   ],
   "metadata": {}
  },
  {
   "cell_type": "code",
   "execution_count": 102,
   "source": [
    "import seaborn as sns"
   ],
   "outputs": [],
   "metadata": {}
  },
  {
   "cell_type": "code",
   "execution_count": 103,
   "source": [
    "# paletas -> Accent, Accent_r, Blues, Blues_r, BrBG, BrBG_r, BuGn, BuGn_r, BuPu, BuPu_r, CMRmap, CMRmap_r, Dark2, Dark2_r, GnBu, GnBu_r, Greens, Greens_r, Greys, Greys_r, OrRd, OrRd_r, Oranges, Oranges_r, PRGn, PRGn_r, Paired, Paired_r, Pastel1, Pastel1_r, Pastel2, Pastel2_r, PiYG, PiYG_r, PuBu, PuBuGn, PuBuGn_r, PuBu_r, PuOr, PuOr_r, PuRd, PuRd_r, Purples, Purples_r, RdBu, RdBu_r, RdGy, RdGy_r, RdPu, RdPu_r, RdYlBu, RdYlBu_r, RdYlGn, RdYlGn_r, Reds, Reds_r, Set1, Set1_r, Set2, Set2_r, Set3, Set3_r, Spectral, Spectral_r, Wistia, Wistia_r, YlGn, YlGnBu, YlGnBu_r, YlGn_r, YlOrBr, YlOrBr_r, YlOrRd, YlOrRd_r, afmhot, afmhot_r, autumn, autumn_r, binary, binary_r, bone, bone_r, brg, brg_r, bwr, bwr_r, cividis, cividis_r, cool, cool_r, coolwarm, coolwarm_r, copper, copper_r, cubehelix, cubehelix_r, flag, flag_r, gist_earth, gist_earth_r, gist_gray, gist_gray_r, gist_heat, gist_heat_r, gist_ncar, gist_ncar_r, gist_rainbow, gist_rainbow_r, gist_stern, gist_stern_r, gist_yarg, gist_yarg_r, gnuplot, gnuplot2, gnuplot2_r, gnuplot_r, gray, gray_r, hot, hot_r, hsv, hsv_r, icefire, icefire_r, inferno, inferno_r, jet, jet_r, magma, magma_r, mako, mako_r, nipy_spectral, nipy_spectral_r, ocean, ocean_r, pink, pink_r, plasma, plasma_r, prism, prism_r, rainbow, rainbow_r, rocket, rocket_r, seismic, seismic_r, spring, spring_r, summer, summer_r, tab10, tab10_r, tab20, tab20_r, tab20b, tab20b_r, tab20c, tab20c_r, terrain, terrain_r, viridis, viridis_r, vlag, vlag_r, winter, winter_r\n",
    "sns.set_palette('terrain')\n",
    "\n",
    "# estilo -> white, dark, whitegrid, darkgrid, ticks\n",
    "sns.set_style('darkgrid')\n"
   ],
   "outputs": [],
   "metadata": {}
  },
  {
   "cell_type": "markdown",
   "source": [
    "### Para a farinha"
   ],
   "metadata": {}
  },
  {
   "cell_type": "code",
   "execution_count": 104,
   "source": [
    "ax1 = sns.lmplot(data=experimento,\n",
    "                 x = 'Farinha',\n",
    "                 y = 'Porções',\n",
    "                 ci = None, \n",
    "                 hue = 'Chocolate')\n",
    "\n",
    "ax1.set(xticks = (-1, 1), xlim = (-1.1, 1.1))\n"
   ],
   "outputs": [
    {
     "output_type": "execute_result",
     "data": {
      "text/plain": [
       "<seaborn.axisgrid.FacetGrid at 0x7f8a54ca7d60>"
      ]
     },
     "metadata": {},
     "execution_count": 104
    },
    {
     "output_type": "display_data",
     "data": {
      "image/png": "[encoded data removed]",
      "image/svg+xml": "<?xml version=\"1.0\" encoding=\"utf-8\" standalone=\"no\"?>\n<!DOCTYPE svg PUBLIC \"-//W3C//DTD SVG 1.1//EN\"\n  \"http://www.w3.org/Graphics/SVG/1.1/DTD/svg11.dtd\">\n<svg height=\"366.090625pt\" version=\"1.1\" viewBox=\"0 0 420.713698 366.090625\" width=\"420.713698pt\" xmlns=\"http://www.w3.org/2000/svg\" xmlns:xlink=\"http://www.w3.org/1999/xlink\">\n <metadata>\n  <rdf:RDF xmlns:cc=\"http://creativecommons.org/ns#\" xmlns:dc=\"http://purl.org/dc/elements/1.1/\" xmlns:rdf=\"http://www.w3.org/1999/02/22-rdf-syntax-ns#\">\n   <cc:Work>\n    <dc:type rdf:resource=\"http://purl.org/dc/dcmitype/StillImage\"/>\n    <dc:date>2021-08-31T07:52:11.566090</dc:date>\n    <dc:format>image/svg+xml</dc:format>\n    <dc:creator>\n     <cc:Agent>\n      <dc:title>Matplotlib v3.4.2, https://matplotlib.org/</dc:title>\n     </cc:Agent>\n    </dc:creator>\n   </cc:Work>\n  </rdf:RDF>\n </metadata>\n <defs>\n  <style type=\"text/css\">*{stroke-linecap:butt;stroke-linejoin:round;}</style>\n </defs>\n <g id=\"figure_1\">\n  <g id=\"patch_1\">\n   <path d=\"M 0 366.090625 \nL 420.713698 366.090625 \nL 420.713698 0 \nL 0 0 \nz\n\" style=\"fill:#ffffff;\"/>\n  </g>\n  <g id=\"axes_1\">\n   <g id=\"patch_2\">\n    <path d=\"M 38.467188 329.6 \nL 361.131198 329.6 \nL 361.131198 7.2 \nL 38.467188 7.2 \nz\n\" style=\"fill:#eaeaf2;\"/>\n   </g>\n   <g id=\"matplotlib.axis_1\">\n    <g id=\"xtick_1\">\n     <g id=\"line2d_1\">\n      <path clip-path=\"url(#p58ecd4b158)\" d=\"M 53.133733 329.6 \nL 53.133733 7.2 \n\" style=\"fill:none;stroke:#ffffff;stroke-linecap:round;stroke-width:0.8;\"/>\n     </g>\n     <g id=\"text_1\">\n      <!-- −1 -->\n      <g style=\"fill:#262626;\" transform=\"translate(47.432952 343.757812)scale(0.1 -0.1)\">\n       <defs>\n        <path d=\"M 3381 1997 \nL 356 1997 \nL 356 2522 \nL 3381 2522 \nL 3381 1997 \nz\n\" id=\"ArialMT-2212\" transform=\"scale(0.015625)\"/>\n        <path d=\"M 2384 0 \nL 1822 0 \nL 1822 3584 \nQ 1619 3391 1289 3197 \nQ 959 3003 697 2906 \nL 697 3450 \nQ 1169 3672 1522 3987 \nQ 1875 4303 2022 4600 \nL 2384 4600 \nL 2384 0 \nz\n\" id=\"ArialMT-31\" transform=\"scale(0.015625)\"/>\n       </defs>\n       <use xlink:href=\"#ArialMT-2212\"/>\n       <use x=\"58.398438\" xlink:href=\"#ArialMT-31\"/>\n      </g>\n     </g>\n    </g>\n    <g id=\"xtick_2\">\n     <g id=\"line2d_2\">\n      <path clip-path=\"url(#p58ecd4b158)\" d=\"M 346.464652 329.6 \nL 346.464652 7.2 \n\" style=\"fill:none;stroke:#ffffff;stroke-linecap:round;stroke-width:0.8;\"/>\n     </g>\n     <g id=\"text_2\">\n      <!-- 1 -->\n      <g style=\"fill:#262626;\" transform=\"translate(343.684183 343.757812)scale(0.1 -0.1)\">\n       <use xlink:href=\"#ArialMT-31\"/>\n      </g>\n     </g>\n    </g>\n    <g id=\"text_3\">\n     <!-- Farinha -->\n     <g style=\"fill:#262626;\" transform=\"translate(182.84763 356.903125)scale(0.1 -0.1)\">\n      <defs>\n       <path d=\"M 525 0 \nL 525 4581 \nL 3616 4581 \nL 3616 4041 \nL 1131 4041 \nL 1131 2622 \nL 3281 2622 \nL 3281 2081 \nL 1131 2081 \nL 1131 0 \nL 525 0 \nz\n\" id=\"ArialMT-46\" transform=\"scale(0.015625)\"/>\n       <path d=\"M 2588 409 \nQ 2275 144 1986 34 \nQ 1697 -75 1366 -75 \nQ 819 -75 525 192 \nQ 231 459 231 875 \nQ 231 1119 342 1320 \nQ 453 1522 633 1644 \nQ 813 1766 1038 1828 \nQ 1203 1872 1538 1913 \nQ 2219 1994 2541 2106 \nQ 2544 2222 2544 2253 \nQ 2544 2597 2384 2738 \nQ 2169 2928 1744 2928 \nQ 1347 2928 1158 2789 \nQ 969 2650 878 2297 \nL 328 2372 \nQ 403 2725 575 2942 \nQ 747 3159 1072 3276 \nQ 1397 3394 1825 3394 \nQ 2250 3394 2515 3294 \nQ 2781 3194 2906 3042 \nQ 3031 2891 3081 2659 \nQ 3109 2516 3109 2141 \nL 3109 1391 \nQ 3109 606 3145 398 \nQ 3181 191 3288 0 \nL 2700 0 \nQ 2613 175 2588 409 \nz\nM 2541 1666 \nQ 2234 1541 1622 1453 \nQ 1275 1403 1131 1340 \nQ 988 1278 909 1158 \nQ 831 1038 831 891 \nQ 831 666 1001 516 \nQ 1172 366 1500 366 \nQ 1825 366 2078 508 \nQ 2331 650 2450 897 \nQ 2541 1088 2541 1459 \nL 2541 1666 \nz\n\" id=\"ArialMT-61\" transform=\"scale(0.015625)\"/>\n       <path d=\"M 416 0 \nL 416 3319 \nL 922 3319 \nL 922 2816 \nQ 1116 3169 1280 3281 \nQ 1444 3394 1641 3394 \nQ 1925 3394 2219 3213 \nL 2025 2691 \nQ 1819 2813 1613 2813 \nQ 1428 2813 1281 2702 \nQ 1134 2591 1072 2394 \nQ 978 2094 978 1738 \nL 978 0 \nL 416 0 \nz\n\" id=\"ArialMT-72\" transform=\"scale(0.015625)\"/>\n       <path d=\"M 425 3934 \nL 425 4581 \nL 988 4581 \nL 988 3934 \nL 425 3934 \nz\nM 425 0 \nL 425 3319 \nL 988 3319 \nL 988 0 \nL 425 0 \nz\n\" id=\"ArialMT-69\" transform=\"scale(0.015625)\"/>\n       <path d=\"M 422 0 \nL 422 3319 \nL 928 3319 \nL 928 2847 \nQ 1294 3394 1984 3394 \nQ 2284 3394 2536 3286 \nQ 2788 3178 2913 3003 \nQ 3038 2828 3088 2588 \nQ 3119 2431 3119 2041 \nL 3119 0 \nL 2556 0 \nL 2556 2019 \nQ 2556 2363 2490 2533 \nQ 2425 2703 2258 2804 \nQ 2091 2906 1866 2906 \nQ 1506 2906 1245 2678 \nQ 984 2450 984 1813 \nL 984 0 \nL 422 0 \nz\n\" id=\"ArialMT-6e\" transform=\"scale(0.015625)\"/>\n       <path d=\"M 422 0 \nL 422 4581 \nL 984 4581 \nL 984 2938 \nQ 1378 3394 1978 3394 \nQ 2347 3394 2619 3248 \nQ 2891 3103 3008 2847 \nQ 3125 2591 3125 2103 \nL 3125 0 \nL 2563 0 \nL 2563 2103 \nQ 2563 2525 2380 2717 \nQ 2197 2909 1863 2909 \nQ 1613 2909 1392 2779 \nQ 1172 2650 1078 2428 \nQ 984 2206 984 1816 \nL 984 0 \nL 422 0 \nz\n\" id=\"ArialMT-68\" transform=\"scale(0.015625)\"/>\n      </defs>\n      <use xlink:href=\"#ArialMT-46\"/>\n      <use x=\"61.083984\" xlink:href=\"#ArialMT-61\"/>\n      <use x=\"116.699219\" xlink:href=\"#ArialMT-72\"/>\n      <use x=\"150\" xlink:href=\"#ArialMT-69\"/>\n      <use x=\"172.216797\" xlink:href=\"#ArialMT-6e\"/>\n      <use x=\"227.832031\" xlink:href=\"#ArialMT-68\"/>\n      <use x=\"283.447266\" xlink:href=\"#ArialMT-61\"/>\n     </g>\n    </g>\n   </g>\n   <g id=\"matplotlib.axis_2\">\n    <g id=\"ytick_1\">\n     <g id=\"line2d_3\">\n      <path clip-path=\"url(#p58ecd4b158)\" d=\"M 38.467188 305.175758 \nL 361.131198 305.175758 \n\" style=\"fill:none;stroke:#ffffff;stroke-linecap:round;stroke-width:0.8;\"/>\n     </g>\n     <g id=\"text_4\">\n      <!-- 20 -->\n      <g style=\"fill:#262626;\" transform=\"translate(20.345312 308.754664)scale(0.1 -0.1)\">\n       <defs>\n        <path d=\"M 3222 541 \nL 3222 0 \nL 194 0 \nQ 188 203 259 391 \nQ 375 700 629 1000 \nQ 884 1300 1366 1694 \nQ 2113 2306 2375 2664 \nQ 2638 3022 2638 3341 \nQ 2638 3675 2398 3904 \nQ 2159 4134 1775 4134 \nQ 1369 4134 1125 3890 \nQ 881 3647 878 3216 \nL 300 3275 \nQ 359 3922 746 4261 \nQ 1134 4600 1788 4600 \nQ 2447 4600 2831 4234 \nQ 3216 3869 3216 3328 \nQ 3216 3053 3103 2787 \nQ 2991 2522 2730 2228 \nQ 2469 1934 1863 1422 \nQ 1356 997 1212 845 \nQ 1069 694 975 541 \nL 3222 541 \nz\n\" id=\"ArialMT-32\" transform=\"scale(0.015625)\"/>\n        <path d=\"M 266 2259 \nQ 266 3072 433 3567 \nQ 600 4063 929 4331 \nQ 1259 4600 1759 4600 \nQ 2128 4600 2406 4451 \nQ 2684 4303 2865 4023 \nQ 3047 3744 3150 3342 \nQ 3253 2941 3253 2259 \nQ 3253 1453 3087 958 \nQ 2922 463 2592 192 \nQ 2263 -78 1759 -78 \nQ 1097 -78 719 397 \nQ 266 969 266 2259 \nz\nM 844 2259 \nQ 844 1131 1108 757 \nQ 1372 384 1759 384 \nQ 2147 384 2411 759 \nQ 2675 1134 2675 2259 \nQ 2675 3391 2411 3762 \nQ 2147 4134 1753 4134 \nQ 1366 4134 1134 3806 \nQ 844 3388 844 2259 \nz\n\" id=\"ArialMT-30\" transform=\"scale(0.015625)\"/>\n       </defs>\n       <use xlink:href=\"#ArialMT-32\"/>\n       <use x=\"55.615234\" xlink:href=\"#ArialMT-30\"/>\n      </g>\n     </g>\n    </g>\n    <g id=\"ytick_2\">\n     <g id=\"line2d_4\">\n      <path clip-path=\"url(#p58ecd4b158)\" d=\"M 38.467188 256.327273 \nL 361.131198 256.327273 \n\" style=\"fill:none;stroke:#ffffff;stroke-linecap:round;stroke-width:0.8;\"/>\n     </g>\n     <g id=\"text_5\">\n      <!-- 25 -->\n      <g style=\"fill:#262626;\" transform=\"translate(20.345312 259.906179)scale(0.1 -0.1)\">\n       <defs>\n        <path d=\"M 266 1200 \nL 856 1250 \nQ 922 819 1161 601 \nQ 1400 384 1738 384 \nQ 2144 384 2425 690 \nQ 2706 997 2706 1503 \nQ 2706 1984 2436 2262 \nQ 2166 2541 1728 2541 \nQ 1456 2541 1237 2417 \nQ 1019 2294 894 2097 \nL 366 2166 \nL 809 4519 \nL 3088 4519 \nL 3088 3981 \nL 1259 3981 \nL 1013 2750 \nQ 1425 3038 1878 3038 \nQ 2478 3038 2890 2622 \nQ 3303 2206 3303 1553 \nQ 3303 931 2941 478 \nQ 2500 -78 1738 -78 \nQ 1113 -78 717 272 \nQ 322 622 266 1200 \nz\n\" id=\"ArialMT-35\" transform=\"scale(0.015625)\"/>\n       </defs>\n       <use xlink:href=\"#ArialMT-32\"/>\n       <use x=\"55.615234\" xlink:href=\"#ArialMT-35\"/>\n      </g>\n     </g>\n    </g>\n    <g id=\"ytick_3\">\n     <g id=\"line2d_5\">\n      <path clip-path=\"url(#p58ecd4b158)\" d=\"M 38.467188 207.478788 \nL 361.131198 207.478788 \n\" style=\"fill:none;stroke:#ffffff;stroke-linecap:round;stroke-width:0.8;\"/>\n     </g>\n     <g id=\"text_6\">\n      <!-- 30 -->\n      <g style=\"fill:#262626;\" transform=\"translate(20.345312 211.057694)scale(0.1 -0.1)\">\n       <defs>\n        <path d=\"M 269 1209 \nL 831 1284 \nQ 928 806 1161 595 \nQ 1394 384 1728 384 \nQ 2125 384 2398 659 \nQ 2672 934 2672 1341 \nQ 2672 1728 2419 1979 \nQ 2166 2231 1775 2231 \nQ 1616 2231 1378 2169 \nL 1441 2663 \nQ 1497 2656 1531 2656 \nQ 1891 2656 2178 2843 \nQ 2466 3031 2466 3422 \nQ 2466 3731 2256 3934 \nQ 2047 4138 1716 4138 \nQ 1388 4138 1169 3931 \nQ 950 3725 888 3313 \nL 325 3413 \nQ 428 3978 793 4289 \nQ 1159 4600 1703 4600 \nQ 2078 4600 2393 4439 \nQ 2709 4278 2876 4000 \nQ 3044 3722 3044 3409 \nQ 3044 3113 2884 2869 \nQ 2725 2625 2413 2481 \nQ 2819 2388 3044 2092 \nQ 3269 1797 3269 1353 \nQ 3269 753 2831 336 \nQ 2394 -81 1725 -81 \nQ 1122 -81 723 278 \nQ 325 638 269 1209 \nz\n\" id=\"ArialMT-33\" transform=\"scale(0.015625)\"/>\n       </defs>\n       <use xlink:href=\"#ArialMT-33\"/>\n       <use x=\"55.615234\" xlink:href=\"#ArialMT-30\"/>\n      </g>\n     </g>\n    </g>\n    <g id=\"ytick_4\">\n     <g id=\"line2d_6\">\n      <path clip-path=\"url(#p58ecd4b158)\" d=\"M 38.467188 158.630303 \nL 361.131198 158.630303 \n\" style=\"fill:none;stroke:#ffffff;stroke-linecap:round;stroke-width:0.8;\"/>\n     </g>\n     <g id=\"text_7\">\n      <!-- 35 -->\n      <g style=\"fill:#262626;\" transform=\"translate(20.345312 162.209209)scale(0.1 -0.1)\">\n       <use xlink:href=\"#ArialMT-33\"/>\n       <use x=\"55.615234\" xlink:href=\"#ArialMT-35\"/>\n      </g>\n     </g>\n    </g>\n    <g id=\"ytick_5\">\n     <g id=\"line2d_7\">\n      <path clip-path=\"url(#p58ecd4b158)\" d=\"M 38.467188 109.781818 \nL 361.131198 109.781818 \n\" style=\"fill:none;stroke:#ffffff;stroke-linecap:round;stroke-width:0.8;\"/>\n     </g>\n     <g id=\"text_8\">\n      <!-- 40 -->\n      <g style=\"fill:#262626;\" transform=\"translate(20.345312 113.360724)scale(0.1 -0.1)\">\n       <defs>\n        <path d=\"M 2069 0 \nL 2069 1097 \nL 81 1097 \nL 81 1613 \nL 2172 4581 \nL 2631 4581 \nL 2631 1613 \nL 3250 1613 \nL 3250 1097 \nL 2631 1097 \nL 2631 0 \nL 2069 0 \nz\nM 2069 1613 \nL 2069 3678 \nL 634 1613 \nL 2069 1613 \nz\n\" id=\"ArialMT-34\" transform=\"scale(0.015625)\"/>\n       </defs>\n       <use xlink:href=\"#ArialMT-34\"/>\n       <use x=\"55.615234\" xlink:href=\"#ArialMT-30\"/>\n      </g>\n     </g>\n    </g>\n    <g id=\"ytick_6\">\n     <g id=\"line2d_8\">\n      <path clip-path=\"url(#p58ecd4b158)\" d=\"M 38.467188 60.933333 \nL 361.131198 60.933333 \n\" style=\"fill:none;stroke:#ffffff;stroke-linecap:round;stroke-width:0.8;\"/>\n     </g>\n     <g id=\"text_9\">\n      <!-- 45 -->\n      <g style=\"fill:#262626;\" transform=\"translate(20.345312 64.51224)scale(0.1 -0.1)\">\n       <use xlink:href=\"#ArialMT-34\"/>\n       <use x=\"55.615234\" xlink:href=\"#ArialMT-35\"/>\n      </g>\n     </g>\n    </g>\n    <g id=\"ytick_7\">\n     <g id=\"line2d_9\">\n      <path clip-path=\"url(#p58ecd4b158)\" d=\"M 38.467188 12.084848 \nL 361.131198 12.084848 \n\" style=\"fill:none;stroke:#ffffff;stroke-linecap:round;stroke-width:0.8;\"/>\n     </g>\n     <g id=\"text_10\">\n      <!-- 50 -->\n      <g style=\"fill:#262626;\" transform=\"translate(20.345312 15.663755)scale(0.1 -0.1)\">\n       <use xlink:href=\"#ArialMT-35\"/>\n       <use x=\"55.615234\" xlink:href=\"#ArialMT-30\"/>\n      </g>\n     </g>\n    </g>\n    <g id=\"text_11\">\n     <!-- Porções -->\n     <g style=\"fill:#262626;\" transform=\"translate(14.357812 186.741406)rotate(-90)scale(0.1 -0.1)\">\n      <defs>\n       <path d=\"M 494 0 \nL 494 4581 \nL 2222 4581 \nQ 2678 4581 2919 4538 \nQ 3256 4481 3484 4323 \nQ 3713 4166 3852 3881 \nQ 3991 3597 3991 3256 \nQ 3991 2672 3619 2267 \nQ 3247 1863 2275 1863 \nL 1100 1863 \nL 1100 0 \nL 494 0 \nz\nM 1100 2403 \nL 2284 2403 \nQ 2872 2403 3119 2622 \nQ 3366 2841 3366 3238 \nQ 3366 3525 3220 3729 \nQ 3075 3934 2838 4000 \nQ 2684 4041 2272 4041 \nL 1100 4041 \nL 1100 2403 \nz\n\" id=\"ArialMT-50\" transform=\"scale(0.015625)\"/>\n       <path d=\"M 213 1659 \nQ 213 2581 725 3025 \nQ 1153 3394 1769 3394 \nQ 2453 3394 2887 2945 \nQ 3322 2497 3322 1706 \nQ 3322 1066 3130 698 \nQ 2938 331 2570 128 \nQ 2203 -75 1769 -75 \nQ 1072 -75 642 372 \nQ 213 819 213 1659 \nz\nM 791 1659 \nQ 791 1022 1069 705 \nQ 1347 388 1769 388 \nQ 2188 388 2466 706 \nQ 2744 1025 2744 1678 \nQ 2744 2294 2464 2611 \nQ 2184 2928 1769 2928 \nQ 1347 2928 1069 2612 \nQ 791 2297 791 1659 \nz\n\" id=\"ArialMT-6f\" transform=\"scale(0.015625)\"/>\n       <path d=\"M 2588 1216 \nL 3141 1144 \nQ 3050 572 2676 248 \nQ 2303 -75 1759 -75 \nQ 1078 -75 664 370 \nQ 250 816 250 1647 \nQ 250 2184 428 2587 \nQ 606 2991 970 3192 \nQ 1334 3394 1763 3394 \nQ 2303 3394 2647 3120 \nQ 2991 2847 3088 2344 \nL 2541 2259 \nQ 2463 2594 2264 2762 \nQ 2066 2931 1784 2931 \nQ 1359 2931 1093 2626 \nQ 828 2322 828 1663 \nQ 828 994 1084 691 \nQ 1341 388 1753 388 \nQ 2084 388 2306 591 \nQ 2528 794 2588 1216 \nz\nM 1283 -417 \nL 1446 136 \nL 1864 136 \nL 1761 -199 \nQ 2027 -230 2161 -362 \nQ 2296 -495 2296 -658 \nQ 2296 -892 2071 -1072 \nQ 1846 -1252 1392 -1252 \nQ 1136 -1252 942 -1214 \nL 977 -849 \nQ 1177 -861 1271 -861 \nQ 1564 -861 1683 -780 \nQ 1774 -717 1774 -627 \nQ 1774 -570 1738 -526 \nQ 1702 -483 1605 -451 \nQ 1508 -420 1283 -417 \nz\n\" id=\"ArialMT-e7\" transform=\"scale(0.015625)\"/>\n       <path d=\"M 213 1659 \nQ 213 2581 725 3025 \nQ 1153 3394 1769 3394 \nQ 2453 3394 2887 2945 \nQ 3322 2497 3322 1706 \nQ 3322 1066 3130 698 \nQ 2938 331 2570 128 \nQ 2203 -75 1769 -75 \nQ 1072 -75 642 372 \nQ 213 819 213 1659 \nz\nM 791 1659 \nQ 791 1022 1069 705 \nQ 1347 388 1769 388 \nQ 2188 388 2466 706 \nQ 2744 1025 2744 1678 \nQ 2744 2294 2464 2611 \nQ 2184 2928 1769 2928 \nQ 1347 2928 1069 2612 \nQ 791 2297 791 1659 \nz\nM 726 3809 \nQ 723 4134 904 4328 \nQ 1082 4522 1360 4522 \nQ 1554 4522 1888 4353 \nQ 2073 4259 2182 4259 \nQ 2282 4259 2335 4314 \nQ 2388 4369 2410 4531 \nL 2817 4531 \nQ 2807 4175 2637 3997 \nQ 2467 3819 2204 3819 \nQ 2007 3819 1685 3994 \nQ 1476 4106 1379 4106 \nQ 1273 4106 1207 4031 \nQ 1138 3956 1142 3809 \nL 726 3809 \nz\n\" id=\"ArialMT-f5\" transform=\"scale(0.015625)\"/>\n       <path d=\"M 2694 1069 \nL 3275 997 \nQ 3138 488 2766 206 \nQ 2394 -75 1816 -75 \nQ 1088 -75 661 373 \nQ 234 822 234 1631 \nQ 234 2469 665 2931 \nQ 1097 3394 1784 3394 \nQ 2450 3394 2872 2941 \nQ 3294 2488 3294 1666 \nQ 3294 1616 3291 1516 \nL 816 1516 \nQ 847 969 1125 678 \nQ 1403 388 1819 388 \nQ 2128 388 2347 550 \nQ 2566 713 2694 1069 \nz\nM 847 1978 \nL 2700 1978 \nQ 2663 2397 2488 2606 \nQ 2219 2931 1791 2931 \nQ 1403 2931 1139 2672 \nQ 875 2413 847 1978 \nz\n\" id=\"ArialMT-65\" transform=\"scale(0.015625)\"/>\n       <path d=\"M 197 991 \nL 753 1078 \nQ 800 744 1014 566 \nQ 1228 388 1613 388 \nQ 2000 388 2187 545 \nQ 2375 703 2375 916 \nQ 2375 1106 2209 1216 \nQ 2094 1291 1634 1406 \nQ 1016 1563 777 1677 \nQ 538 1791 414 1992 \nQ 291 2194 291 2438 \nQ 291 2659 392 2848 \nQ 494 3038 669 3163 \nQ 800 3259 1026 3326 \nQ 1253 3394 1513 3394 \nQ 1903 3394 2198 3281 \nQ 2494 3169 2634 2976 \nQ 2775 2784 2828 2463 \nL 2278 2388 \nQ 2241 2644 2061 2787 \nQ 1881 2931 1553 2931 \nQ 1166 2931 1000 2803 \nQ 834 2675 834 2503 \nQ 834 2394 903 2306 \nQ 972 2216 1119 2156 \nQ 1203 2125 1616 2013 \nQ 2213 1853 2448 1751 \nQ 2684 1650 2818 1456 \nQ 2953 1263 2953 975 \nQ 2953 694 2789 445 \nQ 2625 197 2315 61 \nQ 2006 -75 1616 -75 \nQ 969 -75 630 194 \nQ 291 463 197 991 \nz\n\" id=\"ArialMT-73\" transform=\"scale(0.015625)\"/>\n      </defs>\n      <use xlink:href=\"#ArialMT-50\"/>\n      <use x=\"66.699219\" xlink:href=\"#ArialMT-6f\"/>\n      <use x=\"122.314453\" xlink:href=\"#ArialMT-72\"/>\n      <use x=\"155.615234\" xlink:href=\"#ArialMT-e7\"/>\n      <use x=\"205.615234\" xlink:href=\"#ArialMT-f5\"/>\n      <use x=\"261.230469\" xlink:href=\"#ArialMT-65\"/>\n      <use x=\"316.845703\" xlink:href=\"#ArialMT-73\"/>\n     </g>\n    </g>\n   </g>\n   <g id=\"PathCollection_1\">\n    <defs>\n     <path d=\"M 0 3 \nC 0.795609 3 1.55874 2.683901 2.12132 2.12132 \nC 2.683901 1.55874 3 0.795609 3 0 \nC 3 -0.795609 2.683901 -1.55874 2.12132 -2.12132 \nC 1.55874 -2.683901 0.795609 -3 0 -3 \nC -0.795609 -3 -1.55874 -2.683901 -2.12132 -2.12132 \nC -2.683901 -1.55874 -3 -0.795609 -3 0 \nC -3 0.795609 -2.683901 1.55874 -2.12132 2.12132 \nC -1.55874 2.683901 -0.795609 3 0 3 \nz\n\" id=\"mf9db36a9d0\" style=\"stroke:#0393f9;stroke-opacity:0.8;\"/>\n    </defs>\n    <g clip-path=\"url(#p58ecd4b158)\">\n     <use style=\"fill:#0393f9;fill-opacity:0.8;stroke:#0393f9;stroke-opacity:0.8;\" x=\"53.133733\" xlink:href=\"#mf9db36a9d0\" y=\"314.945455\"/>\n     <use style=\"fill:#0393f9;fill-opacity:0.8;stroke:#0393f9;stroke-opacity:0.8;\" x=\"346.464652\" xlink:href=\"#mf9db36a9d0\" y=\"139.090909\"/>\n    </g>\n   </g>\n   <g id=\"PathCollection_2\">\n    <defs>\n     <path d=\"M 0 3 \nC 0.795609 3 1.55874 2.683901 2.12132 2.12132 \nC 2.683901 1.55874 3 0.795609 3 0 \nC 3 -0.795609 2.683901 -1.55874 2.12132 -2.12132 \nC 1.55874 -2.683901 0.795609 -3 0 -3 \nC -0.795609 -3 -1.55874 -2.683901 -2.12132 -2.12132 \nC -2.683901 -1.55874 -3 -0.795609 -3 0 \nC -3 0.795609 -2.683901 1.55874 -2.12132 2.12132 \nC -1.55874 2.683901 -0.795609 3 0 3 \nz\n\" id=\"m08dddfaf83\" style=\"stroke:#25d36d;stroke-opacity:0.8;\"/>\n    </defs>\n    <g clip-path=\"url(#p58ecd4b158)\">\n     <use style=\"fill:#25d36d;fill-opacity:0.8;stroke:#25d36d;stroke-opacity:0.8;\" x=\"53.133733\" xlink:href=\"#m08dddfaf83\" y=\"266.09697\"/>\n     <use style=\"fill:#25d36d;fill-opacity:0.8;stroke:#25d36d;stroke-opacity:0.8;\" x=\"346.464652\" xlink:href=\"#m08dddfaf83\" y=\"21.854545\"/>\n    </g>\n   </g>\n   <g id=\"line2d_10\">\n    <path clip-path=\"url(#p58ecd4b158)\" d=\"M 53.133733 314.945455 \nL 56.096672 313.169146 \nL 59.059611 311.392837 \nL 62.022549 309.616529 \nL 64.985488 307.84022 \nL 67.948426 306.063912 \nL 70.911365 304.287603 \nL 73.874303 302.511295 \nL 76.837242 300.734986 \nL 79.800181 298.958678 \nL 82.763119 297.182369 \nL 85.726058 295.406061 \nL 88.688996 293.629752 \nL 91.651935 291.853444 \nL 94.614873 290.077135 \nL 97.577812 288.300826 \nL 100.540751 286.524518 \nL 103.503689 284.748209 \nL 106.466628 282.971901 \nL 109.429566 281.195592 \nL 112.392505 279.419284 \nL 115.355443 277.642975 \nL 118.318382 275.866667 \nL 121.281321 274.090358 \nL 124.244259 272.31405 \nL 127.207198 270.537741 \nL 130.170136 268.761433 \nL 133.133075 266.985124 \nL 136.096013 265.208815 \nL 139.058952 263.432507 \nL 142.021891 261.656198 \nL 144.984829 259.87989 \nL 147.947768 258.103581 \nL 150.910706 256.327273 \nL 153.873645 254.550964 \nL 156.836583 252.774656 \nL 159.799522 250.998347 \nL 162.762461 249.222039 \nL 165.725399 247.44573 \nL 168.688338 245.669421 \nL 171.651276 243.893113 \nL 174.614215 242.116804 \nL 177.577153 240.340496 \nL 180.540092 238.564187 \nL 183.503031 236.787879 \nL 186.465969 235.01157 \nL 189.428908 233.235262 \nL 192.391846 231.458953 \nL 195.354785 229.682645 \nL 198.317723 227.906336 \nL 201.280662 226.130028 \nL 204.243601 224.353719 \nL 207.206539 222.57741 \nL 210.169478 220.801102 \nL 213.132416 219.024793 \nL 216.095355 217.248485 \nL 219.058293 215.472176 \nL 222.021232 213.695868 \nL 224.984171 211.919559 \nL 227.947109 210.143251 \nL 230.910048 208.366942 \nL 233.872986 206.590634 \nL 236.835925 204.814325 \nL 239.798863 203.038017 \nL 242.761802 201.261708 \nL 245.724741 199.485399 \nL 248.687679 197.709091 \nL 251.650618 195.932782 \nL 254.613556 194.156474 \nL 257.576495 192.380165 \nL 260.539433 190.603857 \nL 263.502372 188.827548 \nL 266.465311 187.05124 \nL 269.428249 185.274931 \nL 272.391188 183.498623 \nL 275.354126 181.722314 \nL 278.317065 179.946006 \nL 281.280003 178.169697 \nL 284.242942 176.393388 \nL 287.205881 174.61708 \nL 290.168819 172.840771 \nL 293.131758 171.064463 \nL 296.094696 169.288154 \nL 299.057635 167.511846 \nL 302.020573 165.735537 \nL 304.983512 163.959229 \nL 307.946451 162.18292 \nL 310.909389 160.406612 \nL 313.872328 158.630303 \nL 316.835266 156.853994 \nL 319.798205 155.077686 \nL 322.761143 153.301377 \nL 325.724082 151.525069 \nL 328.687021 149.74876 \nL 331.649959 147.972452 \nL 334.612898 146.196143 \nL 337.575836 144.419835 \nL 340.538775 142.643526 \nL 343.501713 140.867218 \nL 346.464652 139.090909 \n\" style=\"fill:none;stroke:#0393f9;stroke-linecap:round;stroke-width:2.25;\"/>\n   </g>\n   <g id=\"line2d_11\">\n    <path clip-path=\"url(#p58ecd4b158)\" d=\"M 53.133733 266.09697 \nL 56.096672 263.629875 \nL 59.059611 261.162779 \nL 62.022549 258.695684 \nL 64.985488 256.228589 \nL 67.948426 253.761494 \nL 70.911365 251.294399 \nL 73.874303 248.827303 \nL 76.837242 246.360208 \nL 79.800181 243.893113 \nL 82.763119 241.426018 \nL 85.726058 238.958923 \nL 88.688996 236.491827 \nL 91.651935 234.024732 \nL 94.614873 231.557637 \nL 97.577812 229.090542 \nL 100.540751 226.623447 \nL 103.503689 224.156351 \nL 106.466628 221.689256 \nL 109.429566 219.222161 \nL 112.392505 216.755066 \nL 115.355443 214.287971 \nL 118.318382 211.820875 \nL 121.281321 209.35378 \nL 124.244259 206.886685 \nL 127.207198 204.41959 \nL 130.170136 201.952495 \nL 133.133075 199.485399 \nL 136.096013 197.018304 \nL 139.058952 194.551209 \nL 142.021891 192.084114 \nL 144.984829 189.617019 \nL 147.947768 187.149923 \nL 150.910706 184.682828 \nL 153.873645 182.215733 \nL 156.836583 179.748638 \nL 159.799522 177.281543 \nL 162.762461 174.814448 \nL 165.725399 172.347352 \nL 168.688338 169.880257 \nL 171.651276 167.413162 \nL 174.614215 164.946067 \nL 177.577153 162.478972 \nL 180.540092 160.011876 \nL 183.503031 157.544781 \nL 186.465969 155.077686 \nL 189.428908 152.610591 \nL 192.391846 150.143496 \nL 195.354785 147.6764 \nL 198.317723 145.209305 \nL 201.280662 142.74221 \nL 204.243601 140.275115 \nL 207.206539 137.80802 \nL 210.169478 135.340924 \nL 213.132416 132.873829 \nL 216.095355 130.406734 \nL 219.058293 127.939639 \nL 222.021232 125.472544 \nL 224.984171 123.005448 \nL 227.947109 120.538353 \nL 230.910048 118.071258 \nL 233.872986 115.604163 \nL 236.835925 113.137068 \nL 239.798863 110.669972 \nL 242.761802 108.202877 \nL 245.724741 105.735782 \nL 248.687679 103.268687 \nL 251.650618 100.801592 \nL 254.613556 98.334496 \nL 257.576495 95.867401 \nL 260.539433 93.400306 \nL 263.502372 90.933211 \nL 266.465311 88.466116 \nL 269.428249 85.999021 \nL 272.391188 83.531925 \nL 275.354126 81.06483 \nL 278.317065 78.597735 \nL 281.280003 76.13064 \nL 284.242942 73.663545 \nL 287.205881 71.196449 \nL 290.168819 68.729354 \nL 293.131758 66.262259 \nL 296.094696 63.795164 \nL 299.057635 61.328069 \nL 302.020573 58.860973 \nL 304.983512 56.393878 \nL 307.946451 53.926783 \nL 310.909389 51.459688 \nL 313.872328 48.992593 \nL 316.835266 46.525497 \nL 319.798205 44.058402 \nL 322.761143 41.591307 \nL 325.724082 39.124212 \nL 328.687021 36.657117 \nL 331.649959 34.190021 \nL 334.612898 31.722926 \nL 337.575836 29.255831 \nL 340.538775 26.788736 \nL 343.501713 24.321641 \nL 346.464652 21.854545 \n\" style=\"fill:none;stroke:#25d36d;stroke-linecap:round;stroke-width:2.25;\"/>\n   </g>\n   <g id=\"patch_3\">\n    <path d=\"M 38.467188 329.6 \nL 38.467188 7.2 \n\" style=\"fill:none;stroke:#ffffff;stroke-linecap:square;stroke-linejoin:miter;stroke-width:0.8;\"/>\n   </g>\n   <g id=\"patch_4\">\n    <path d=\"M 38.467187 329.6 \nL 361.131198 329.6 \n\" style=\"fill:none;stroke:#ffffff;stroke-linecap:square;stroke-linejoin:miter;stroke-width:0.8;\"/>\n   </g>\n  </g>\n  <g id=\"legend_1\">\n   <g id=\"text_12\">\n    <!-- Chocolate -->\n    <g style=\"fill:#262626;\" transform=\"translate(366.585573 171.485156)scale(0.1 -0.1)\">\n     <defs>\n      <path d=\"M 3763 1606 \nL 4369 1453 \nQ 4178 706 3683 314 \nQ 3188 -78 2472 -78 \nQ 1731 -78 1267 223 \nQ 803 525 561 1097 \nQ 319 1669 319 2325 \nQ 319 3041 592 3573 \nQ 866 4106 1370 4382 \nQ 1875 4659 2481 4659 \nQ 3169 4659 3637 4309 \nQ 4106 3959 4291 3325 \nL 3694 3184 \nQ 3534 3684 3231 3912 \nQ 2928 4141 2469 4141 \nQ 1941 4141 1586 3887 \nQ 1231 3634 1087 3207 \nQ 944 2781 944 2328 \nQ 944 1744 1114 1308 \nQ 1284 872 1643 656 \nQ 2003 441 2422 441 \nQ 2931 441 3284 734 \nQ 3638 1028 3763 1606 \nz\n\" id=\"ArialMT-43\" transform=\"scale(0.015625)\"/>\n      <path d=\"M 2588 1216 \nL 3141 1144 \nQ 3050 572 2676 248 \nQ 2303 -75 1759 -75 \nQ 1078 -75 664 370 \nQ 250 816 250 1647 \nQ 250 2184 428 2587 \nQ 606 2991 970 3192 \nQ 1334 3394 1763 3394 \nQ 2303 3394 2647 3120 \nQ 2991 2847 3088 2344 \nL 2541 2259 \nQ 2463 2594 2264 2762 \nQ 2066 2931 1784 2931 \nQ 1359 2931 1093 2626 \nQ 828 2322 828 1663 \nQ 828 994 1084 691 \nQ 1341 388 1753 388 \nQ 2084 388 2306 591 \nQ 2528 794 2588 1216 \nz\n\" id=\"ArialMT-63\" transform=\"scale(0.015625)\"/>\n      <path d=\"M 409 0 \nL 409 4581 \nL 972 4581 \nL 972 0 \nL 409 0 \nz\n\" id=\"ArialMT-6c\" transform=\"scale(0.015625)\"/>\n      <path d=\"M 1650 503 \nL 1731 6 \nQ 1494 -44 1306 -44 \nQ 1000 -44 831 53 \nQ 663 150 594 308 \nQ 525 466 525 972 \nL 525 2881 \nL 113 2881 \nL 113 3319 \nL 525 3319 \nL 525 4141 \nL 1084 4478 \nL 1084 3319 \nL 1650 3319 \nL 1650 2881 \nL 1084 2881 \nL 1084 941 \nQ 1084 700 1114 631 \nQ 1144 563 1211 522 \nQ 1278 481 1403 481 \nQ 1497 481 1650 503 \nz\n\" id=\"ArialMT-74\" transform=\"scale(0.015625)\"/>\n     </defs>\n     <use xlink:href=\"#ArialMT-43\"/>\n     <use x=\"72.216797\" xlink:href=\"#ArialMT-68\"/>\n     <use x=\"127.832031\" xlink:href=\"#ArialMT-6f\"/>\n     <use x=\"183.447266\" xlink:href=\"#ArialMT-63\"/>\n     <use x=\"233.447266\" xlink:href=\"#ArialMT-6f\"/>\n     <use x=\"289.0625\" xlink:href=\"#ArialMT-6c\"/>\n     <use x=\"311.279297\" xlink:href=\"#ArialMT-61\"/>\n     <use x=\"366.894531\" xlink:href=\"#ArialMT-74\"/>\n     <use x=\"394.677734\" xlink:href=\"#ArialMT-65\"/>\n    </g>\n   </g>\n   <g id=\"PathCollection_3\">\n    <g>\n     <use style=\"fill:#0393f9;fill-opacity:0.8;stroke:#0393f9;stroke-opacity:0.8;\" x=\"376.48401\" xlink:href=\"#mf9db36a9d0\" y=\"183.005469\"/>\n    </g>\n   </g>\n   <g id=\"text_13\">\n    <!-- -1.0 -->\n    <g style=\"fill:#262626;\" transform=\"translate(394.48401 185.630469)scale(0.1 -0.1)\">\n     <defs>\n      <path d=\"M 203 1375 \nL 203 1941 \nL 1931 1941 \nL 1931 1375 \nL 203 1375 \nz\n\" id=\"ArialMT-2d\" transform=\"scale(0.015625)\"/>\n      <path d=\"M 581 0 \nL 581 641 \nL 1222 641 \nL 1222 0 \nL 581 0 \nz\n\" id=\"ArialMT-2e\" transform=\"scale(0.015625)\"/>\n     </defs>\n     <use xlink:href=\"#ArialMT-2d\"/>\n     <use x=\"33.300781\" xlink:href=\"#ArialMT-31\"/>\n     <use x=\"88.916016\" xlink:href=\"#ArialMT-2e\"/>\n     <use x=\"116.699219\" xlink:href=\"#ArialMT-30\"/>\n    </g>\n   </g>\n   <g id=\"PathCollection_4\">\n    <g>\n     <use style=\"fill:#25d36d;fill-opacity:0.8;stroke:#25d36d;stroke-opacity:0.8;\" x=\"376.48401\" xlink:href=\"#m08dddfaf83\" y=\"197.150781\"/>\n    </g>\n   </g>\n   <g id=\"text_14\">\n    <!-- 1.0 -->\n    <g style=\"fill:#262626;\" transform=\"translate(394.48401 199.775781)scale(0.1 -0.1)\">\n     <use xlink:href=\"#ArialMT-31\"/>\n     <use x=\"55.615234\" xlink:href=\"#ArialMT-2e\"/>\n     <use x=\"83.398438\" xlink:href=\"#ArialMT-30\"/>\n    </g>\n   </g>\n  </g>\n </g>\n <defs>\n  <clipPath id=\"p58ecd4b158\">\n   <rect height=\"322.4\" width=\"322.66401\" x=\"38.467188\" y=\"7.2\"/>\n  </clipPath>\n </defs>\n</svg>\n",
      "text/plain": [
       "<Figure size 413.25x360 with 1 Axes>"
      ]
     },
     "metadata": {}
    }
   ],
   "metadata": {}
  },
  {
   "cell_type": "markdown",
   "source": [
    "### Para o chocolate"
   ],
   "metadata": {}
  },
  {
   "cell_type": "code",
   "execution_count": 105,
   "source": [
    "ax2 = sns.lmplot(data=experimento,\n",
    "                 x = 'Chocolate',\n",
    "                 y = 'Porções',\n",
    "                 ci = None, \n",
    "                 hue = 'Farinha')\n",
    "\n",
    "ax2.set(xticks = (-1, 1), xlim=(-1.1, 1.1))"
   ],
   "outputs": [
    {
     "output_type": "execute_result",
     "data": {
      "text/plain": [
       "<seaborn.axisgrid.FacetGrid at 0x7f8a54ca7370>"
      ]
     },
     "metadata": {},
     "execution_count": 105
    },
    {
     "output_type": "display_data",
     "data": {
      "image/png": "[encoded data removed]",
      "image/svg+xml": "<?xml version=\"1.0\" encoding=\"utf-8\" standalone=\"no\"?>\n<!DOCTYPE svg PUBLIC \"-//W3C//DTD SVG 1.1//EN\"\n  \"http://www.w3.org/Graphics/SVG/1.1/DTD/svg11.dtd\">\n<svg height=\"366.090625pt\" version=\"1.1\" viewBox=\"0 0 420.713698 366.090625\" width=\"420.713698pt\" xmlns=\"http://www.w3.org/2000/svg\" xmlns:xlink=\"http://www.w3.org/1999/xlink\">\n <metadata>\n  <rdf:RDF xmlns:cc=\"http://creativecommons.org/ns#\" xmlns:dc=\"http://purl.org/dc/elements/1.1/\" xmlns:rdf=\"http://www.w3.org/1999/02/22-rdf-syntax-ns#\">\n   <cc:Work>\n    <dc:type rdf:resource=\"http://purl.org/dc/dcmitype/StillImage\"/>\n    <dc:date>2021-08-31T07:52:12.027331</dc:date>\n    <dc:format>image/svg+xml</dc:format>\n    <dc:creator>\n     <cc:Agent>\n      <dc:title>Matplotlib v3.4.2, https://matplotlib.org/</dc:title>\n     </cc:Agent>\n    </dc:creator>\n   </cc:Work>\n  </rdf:RDF>\n </metadata>\n <defs>\n  <style type=\"text/css\">*{stroke-linecap:butt;stroke-linejoin:round;}</style>\n </defs>\n <g id=\"figure_1\">\n  <g id=\"patch_1\">\n   <path d=\"M 0 366.090625 \nL 420.713698 366.090625 \nL 420.713698 0 \nL 0 0 \nz\n\" style=\"fill:#ffffff;\"/>\n  </g>\n  <g id=\"axes_1\">\n   <g id=\"patch_2\">\n    <path d=\"M 38.467188 329.6 \nL 361.131198 329.6 \nL 361.131198 7.2 \nL 38.467188 7.2 \nz\n\" style=\"fill:#eaeaf2;\"/>\n   </g>\n   <g id=\"matplotlib.axis_1\">\n    <g id=\"xtick_1\">\n     <g id=\"line2d_1\">\n      <path clip-path=\"url(#p45cd6058f9)\" d=\"M 53.133733 329.6 \nL 53.133733 7.2 \n\" style=\"fill:none;stroke:#ffffff;stroke-linecap:round;stroke-width:0.8;\"/>\n     </g>\n     <g id=\"text_1\">\n      <!-- −1 -->\n      <g style=\"fill:#262626;\" transform=\"translate(47.432952 343.757812)scale(0.1 -0.1)\">\n       <defs>\n        <path d=\"M 3381 1997 \nL 356 1997 \nL 356 2522 \nL 3381 2522 \nL 3381 1997 \nz\n\" id=\"ArialMT-2212\" transform=\"scale(0.015625)\"/>\n        <path d=\"M 2384 0 \nL 1822 0 \nL 1822 3584 \nQ 1619 3391 1289 3197 \nQ 959 3003 697 2906 \nL 697 3450 \nQ 1169 3672 1522 3987 \nQ 1875 4303 2022 4600 \nL 2384 4600 \nL 2384 0 \nz\n\" id=\"ArialMT-31\" transform=\"scale(0.015625)\"/>\n       </defs>\n       <use xlink:href=\"#ArialMT-2212\"/>\n       <use x=\"58.398438\" xlink:href=\"#ArialMT-31\"/>\n      </g>\n     </g>\n    </g>\n    <g id=\"xtick_2\">\n     <g id=\"line2d_2\">\n      <path clip-path=\"url(#p45cd6058f9)\" d=\"M 346.464652 329.6 \nL 346.464652 7.2 \n\" style=\"fill:none;stroke:#ffffff;stroke-linecap:round;stroke-width:0.8;\"/>\n     </g>\n     <g id=\"text_2\">\n      <!-- 1 -->\n      <g style=\"fill:#262626;\" transform=\"translate(343.684183 343.757812)scale(0.1 -0.1)\">\n       <use xlink:href=\"#ArialMT-31\"/>\n      </g>\n     </g>\n    </g>\n    <g id=\"text_3\">\n     <!-- Chocolate -->\n     <g style=\"fill:#262626;\" transform=\"translate(177.285911 356.903125)scale(0.1 -0.1)\">\n      <defs>\n       <path d=\"M 3763 1606 \nL 4369 1453 \nQ 4178 706 3683 314 \nQ 3188 -78 2472 -78 \nQ 1731 -78 1267 223 \nQ 803 525 561 1097 \nQ 319 1669 319 2325 \nQ 319 3041 592 3573 \nQ 866 4106 1370 4382 \nQ 1875 4659 2481 4659 \nQ 3169 4659 3637 4309 \nQ 4106 3959 4291 3325 \nL 3694 3184 \nQ 3534 3684 3231 3912 \nQ 2928 4141 2469 4141 \nQ 1941 4141 1586 3887 \nQ 1231 3634 1087 3207 \nQ 944 2781 944 2328 \nQ 944 1744 1114 1308 \nQ 1284 872 1643 656 \nQ 2003 441 2422 441 \nQ 2931 441 3284 734 \nQ 3638 1028 3763 1606 \nz\n\" id=\"ArialMT-43\" transform=\"scale(0.015625)\"/>\n       <path d=\"M 422 0 \nL 422 4581 \nL 984 4581 \nL 984 2938 \nQ 1378 3394 1978 3394 \nQ 2347 3394 2619 3248 \nQ 2891 3103 3008 2847 \nQ 3125 2591 3125 2103 \nL 3125 0 \nL 2563 0 \nL 2563 2103 \nQ 2563 2525 2380 2717 \nQ 2197 2909 1863 2909 \nQ 1613 2909 1392 2779 \nQ 1172 2650 1078 2428 \nQ 984 2206 984 1816 \nL 984 0 \nL 422 0 \nz\n\" id=\"ArialMT-68\" transform=\"scale(0.015625)\"/>\n       <path d=\"M 213 1659 \nQ 213 2581 725 3025 \nQ 1153 3394 1769 3394 \nQ 2453 3394 2887 2945 \nQ 3322 2497 3322 1706 \nQ 3322 1066 3130 698 \nQ 2938 331 2570 128 \nQ 2203 -75 1769 -75 \nQ 1072 -75 642 372 \nQ 213 819 213 1659 \nz\nM 791 1659 \nQ 791 1022 1069 705 \nQ 1347 388 1769 388 \nQ 2188 388 2466 706 \nQ 2744 1025 2744 1678 \nQ 2744 2294 2464 2611 \nQ 2184 2928 1769 2928 \nQ 1347 2928 1069 2612 \nQ 791 2297 791 1659 \nz\n\" id=\"ArialMT-6f\" transform=\"scale(0.015625)\"/>\n       <path d=\"M 2588 1216 \nL 3141 1144 \nQ 3050 572 2676 248 \nQ 2303 -75 1759 -75 \nQ 1078 -75 664 370 \nQ 250 816 250 1647 \nQ 250 2184 428 2587 \nQ 606 2991 970 3192 \nQ 1334 3394 1763 3394 \nQ 2303 3394 2647 3120 \nQ 2991 2847 3088 2344 \nL 2541 2259 \nQ 2463 2594 2264 2762 \nQ 2066 2931 1784 2931 \nQ 1359 2931 1093 2626 \nQ 828 2322 828 1663 \nQ 828 994 1084 691 \nQ 1341 388 1753 388 \nQ 2084 388 2306 591 \nQ 2528 794 2588 1216 \nz\n\" id=\"ArialMT-63\" transform=\"scale(0.015625)\"/>\n       <path d=\"M 409 0 \nL 409 4581 \nL 972 4581 \nL 972 0 \nL 409 0 \nz\n\" id=\"ArialMT-6c\" transform=\"scale(0.015625)\"/>\n       <path d=\"M 2588 409 \nQ 2275 144 1986 34 \nQ 1697 -75 1366 -75 \nQ 819 -75 525 192 \nQ 231 459 231 875 \nQ 231 1119 342 1320 \nQ 453 1522 633 1644 \nQ 813 1766 1038 1828 \nQ 1203 1872 1538 1913 \nQ 2219 1994 2541 2106 \nQ 2544 2222 2544 2253 \nQ 2544 2597 2384 2738 \nQ 2169 2928 1744 2928 \nQ 1347 2928 1158 2789 \nQ 969 2650 878 2297 \nL 328 2372 \nQ 403 2725 575 2942 \nQ 747 3159 1072 3276 \nQ 1397 3394 1825 3394 \nQ 2250 3394 2515 3294 \nQ 2781 3194 2906 3042 \nQ 3031 2891 3081 2659 \nQ 3109 2516 3109 2141 \nL 3109 1391 \nQ 3109 606 3145 398 \nQ 3181 191 3288 0 \nL 2700 0 \nQ 2613 175 2588 409 \nz\nM 2541 1666 \nQ 2234 1541 1622 1453 \nQ 1275 1403 1131 1340 \nQ 988 1278 909 1158 \nQ 831 1038 831 891 \nQ 831 666 1001 516 \nQ 1172 366 1500 366 \nQ 1825 366 2078 508 \nQ 2331 650 2450 897 \nQ 2541 1088 2541 1459 \nL 2541 1666 \nz\n\" id=\"ArialMT-61\" transform=\"scale(0.015625)\"/>\n       <path d=\"M 1650 503 \nL 1731 6 \nQ 1494 -44 1306 -44 \nQ 1000 -44 831 53 \nQ 663 150 594 308 \nQ 525 466 525 972 \nL 525 2881 \nL 113 2881 \nL 113 3319 \nL 525 3319 \nL 525 4141 \nL 1084 4478 \nL 1084 3319 \nL 1650 3319 \nL 1650 2881 \nL 1084 2881 \nL 1084 941 \nQ 1084 700 1114 631 \nQ 1144 563 1211 522 \nQ 1278 481 1403 481 \nQ 1497 481 1650 503 \nz\n\" id=\"ArialMT-74\" transform=\"scale(0.015625)\"/>\n       <path d=\"M 2694 1069 \nL 3275 997 \nQ 3138 488 2766 206 \nQ 2394 -75 1816 -75 \nQ 1088 -75 661 373 \nQ 234 822 234 1631 \nQ 234 2469 665 2931 \nQ 1097 3394 1784 3394 \nQ 2450 3394 2872 2941 \nQ 3294 2488 3294 1666 \nQ 3294 1616 3291 1516 \nL 816 1516 \nQ 847 969 1125 678 \nQ 1403 388 1819 388 \nQ 2128 388 2347 550 \nQ 2566 713 2694 1069 \nz\nM 847 1978 \nL 2700 1978 \nQ 2663 2397 2488 2606 \nQ 2219 2931 1791 2931 \nQ 1403 2931 1139 2672 \nQ 875 2413 847 1978 \nz\n\" id=\"ArialMT-65\" transform=\"scale(0.015625)\"/>\n      </defs>\n      <use xlink:href=\"#ArialMT-43\"/>\n      <use x=\"72.216797\" xlink:href=\"#ArialMT-68\"/>\n      <use x=\"127.832031\" xlink:href=\"#ArialMT-6f\"/>\n      <use x=\"183.447266\" xlink:href=\"#ArialMT-63\"/>\n      <use x=\"233.447266\" xlink:href=\"#ArialMT-6f\"/>\n      <use x=\"289.0625\" xlink:href=\"#ArialMT-6c\"/>\n      <use x=\"311.279297\" xlink:href=\"#ArialMT-61\"/>\n      <use x=\"366.894531\" xlink:href=\"#ArialMT-74\"/>\n      <use x=\"394.677734\" xlink:href=\"#ArialMT-65\"/>\n     </g>\n    </g>\n   </g>\n   <g id=\"matplotlib.axis_2\">\n    <g id=\"ytick_1\">\n     <g id=\"line2d_3\">\n      <path clip-path=\"url(#p45cd6058f9)\" d=\"M 38.467188 305.175758 \nL 361.131198 305.175758 \n\" style=\"fill:none;stroke:#ffffff;stroke-linecap:round;stroke-width:0.8;\"/>\n     </g>\n     <g id=\"text_4\">\n      <!-- 20 -->\n      <g style=\"fill:#262626;\" transform=\"translate(20.345312 308.754664)scale(0.1 -0.1)\">\n       <defs>\n        <path d=\"M 3222 541 \nL 3222 0 \nL 194 0 \nQ 188 203 259 391 \nQ 375 700 629 1000 \nQ 884 1300 1366 1694 \nQ 2113 2306 2375 2664 \nQ 2638 3022 2638 3341 \nQ 2638 3675 2398 3904 \nQ 2159 4134 1775 4134 \nQ 1369 4134 1125 3890 \nQ 881 3647 878 3216 \nL 300 3275 \nQ 359 3922 746 4261 \nQ 1134 4600 1788 4600 \nQ 2447 4600 2831 4234 \nQ 3216 3869 3216 3328 \nQ 3216 3053 3103 2787 \nQ 2991 2522 2730 2228 \nQ 2469 1934 1863 1422 \nQ 1356 997 1212 845 \nQ 1069 694 975 541 \nL 3222 541 \nz\n\" id=\"ArialMT-32\" transform=\"scale(0.015625)\"/>\n        <path d=\"M 266 2259 \nQ 266 3072 433 3567 \nQ 600 4063 929 4331 \nQ 1259 4600 1759 4600 \nQ 2128 4600 2406 4451 \nQ 2684 4303 2865 4023 \nQ 3047 3744 3150 3342 \nQ 3253 2941 3253 2259 \nQ 3253 1453 3087 958 \nQ 2922 463 2592 192 \nQ 2263 -78 1759 -78 \nQ 1097 -78 719 397 \nQ 266 969 266 2259 \nz\nM 844 2259 \nQ 844 1131 1108 757 \nQ 1372 384 1759 384 \nQ 2147 384 2411 759 \nQ 2675 1134 2675 2259 \nQ 2675 3391 2411 3762 \nQ 2147 4134 1753 4134 \nQ 1366 4134 1134 3806 \nQ 844 3388 844 2259 \nz\n\" id=\"ArialMT-30\" transform=\"scale(0.015625)\"/>\n       </defs>\n       <use xlink:href=\"#ArialMT-32\"/>\n       <use x=\"55.615234\" xlink:href=\"#ArialMT-30\"/>\n      </g>\n     </g>\n    </g>\n    <g id=\"ytick_2\">\n     <g id=\"line2d_4\">\n      <path clip-path=\"url(#p45cd6058f9)\" d=\"M 38.467188 256.327273 \nL 361.131198 256.327273 \n\" style=\"fill:none;stroke:#ffffff;stroke-linecap:round;stroke-width:0.8;\"/>\n     </g>\n     <g id=\"text_5\">\n      <!-- 25 -->\n      <g style=\"fill:#262626;\" transform=\"translate(20.345312 259.906179)scale(0.1 -0.1)\">\n       <defs>\n        <path d=\"M 266 1200 \nL 856 1250 \nQ 922 819 1161 601 \nQ 1400 384 1738 384 \nQ 2144 384 2425 690 \nQ 2706 997 2706 1503 \nQ 2706 1984 2436 2262 \nQ 2166 2541 1728 2541 \nQ 1456 2541 1237 2417 \nQ 1019 2294 894 2097 \nL 366 2166 \nL 809 4519 \nL 3088 4519 \nL 3088 3981 \nL 1259 3981 \nL 1013 2750 \nQ 1425 3038 1878 3038 \nQ 2478 3038 2890 2622 \nQ 3303 2206 3303 1553 \nQ 3303 931 2941 478 \nQ 2500 -78 1738 -78 \nQ 1113 -78 717 272 \nQ 322 622 266 1200 \nz\n\" id=\"ArialMT-35\" transform=\"scale(0.015625)\"/>\n       </defs>\n       <use xlink:href=\"#ArialMT-32\"/>\n       <use x=\"55.615234\" xlink:href=\"#ArialMT-35\"/>\n      </g>\n     </g>\n    </g>\n    <g id=\"ytick_3\">\n     <g id=\"line2d_5\">\n      <path clip-path=\"url(#p45cd6058f9)\" d=\"M 38.467188 207.478788 \nL 361.131198 207.478788 \n\" style=\"fill:none;stroke:#ffffff;stroke-linecap:round;stroke-width:0.8;\"/>\n     </g>\n     <g id=\"text_6\">\n      <!-- 30 -->\n      <g style=\"fill:#262626;\" transform=\"translate(20.345312 211.057694)scale(0.1 -0.1)\">\n       <defs>\n        <path d=\"M 269 1209 \nL 831 1284 \nQ 928 806 1161 595 \nQ 1394 384 1728 384 \nQ 2125 384 2398 659 \nQ 2672 934 2672 1341 \nQ 2672 1728 2419 1979 \nQ 2166 2231 1775 2231 \nQ 1616 2231 1378 2169 \nL 1441 2663 \nQ 1497 2656 1531 2656 \nQ 1891 2656 2178 2843 \nQ 2466 3031 2466 3422 \nQ 2466 3731 2256 3934 \nQ 2047 4138 1716 4138 \nQ 1388 4138 1169 3931 \nQ 950 3725 888 3313 \nL 325 3413 \nQ 428 3978 793 4289 \nQ 1159 4600 1703 4600 \nQ 2078 4600 2393 4439 \nQ 2709 4278 2876 4000 \nQ 3044 3722 3044 3409 \nQ 3044 3113 2884 2869 \nQ 2725 2625 2413 2481 \nQ 2819 2388 3044 2092 \nQ 3269 1797 3269 1353 \nQ 3269 753 2831 336 \nQ 2394 -81 1725 -81 \nQ 1122 -81 723 278 \nQ 325 638 269 1209 \nz\n\" id=\"ArialMT-33\" transform=\"scale(0.015625)\"/>\n       </defs>\n       <use xlink:href=\"#ArialMT-33\"/>\n       <use x=\"55.615234\" xlink:href=\"#ArialMT-30\"/>\n      </g>\n     </g>\n    </g>\n    <g id=\"ytick_4\">\n     <g id=\"line2d_6\">\n      <path clip-path=\"url(#p45cd6058f9)\" d=\"M 38.467188 158.630303 \nL 361.131198 158.630303 \n\" style=\"fill:none;stroke:#ffffff;stroke-linecap:round;stroke-width:0.8;\"/>\n     </g>\n     <g id=\"text_7\">\n      <!-- 35 -->\n      <g style=\"fill:#262626;\" transform=\"translate(20.345312 162.209209)scale(0.1 -0.1)\">\n       <use xlink:href=\"#ArialMT-33\"/>\n       <use x=\"55.615234\" xlink:href=\"#ArialMT-35\"/>\n      </g>\n     </g>\n    </g>\n    <g id=\"ytick_5\">\n     <g id=\"line2d_7\">\n      <path clip-path=\"url(#p45cd6058f9)\" d=\"M 38.467188 109.781818 \nL 361.131198 109.781818 \n\" style=\"fill:none;stroke:#ffffff;stroke-linecap:round;stroke-width:0.8;\"/>\n     </g>\n     <g id=\"text_8\">\n      <!-- 40 -->\n      <g style=\"fill:#262626;\" transform=\"translate(20.345312 113.360724)scale(0.1 -0.1)\">\n       <defs>\n        <path d=\"M 2069 0 \nL 2069 1097 \nL 81 1097 \nL 81 1613 \nL 2172 4581 \nL 2631 4581 \nL 2631 1613 \nL 3250 1613 \nL 3250 1097 \nL 2631 1097 \nL 2631 0 \nL 2069 0 \nz\nM 2069 1613 \nL 2069 3678 \nL 634 1613 \nL 2069 1613 \nz\n\" id=\"ArialMT-34\" transform=\"scale(0.015625)\"/>\n       </defs>\n       <use xlink:href=\"#ArialMT-34\"/>\n       <use x=\"55.615234\" xlink:href=\"#ArialMT-30\"/>\n      </g>\n     </g>\n    </g>\n    <g id=\"ytick_6\">\n     <g id=\"line2d_8\">\n      <path clip-path=\"url(#p45cd6058f9)\" d=\"M 38.467188 60.933333 \nL 361.131198 60.933333 \n\" style=\"fill:none;stroke:#ffffff;stroke-linecap:round;stroke-width:0.8;\"/>\n     </g>\n     <g id=\"text_9\">\n      <!-- 45 -->\n      <g style=\"fill:#262626;\" transform=\"translate(20.345312 64.51224)scale(0.1 -0.1)\">\n       <use xlink:href=\"#ArialMT-34\"/>\n       <use x=\"55.615234\" xlink:href=\"#ArialMT-35\"/>\n      </g>\n     </g>\n    </g>\n    <g id=\"ytick_7\">\n     <g id=\"line2d_9\">\n      <path clip-path=\"url(#p45cd6058f9)\" d=\"M 38.467188 12.084848 \nL 361.131198 12.084848 \n\" style=\"fill:none;stroke:#ffffff;stroke-linecap:round;stroke-width:0.8;\"/>\n     </g>\n     <g id=\"text_10\">\n      <!-- 50 -->\n      <g style=\"fill:#262626;\" transform=\"translate(20.345312 15.663755)scale(0.1 -0.1)\">\n       <use xlink:href=\"#ArialMT-35\"/>\n       <use x=\"55.615234\" xlink:href=\"#ArialMT-30\"/>\n      </g>\n     </g>\n    </g>\n    <g id=\"text_11\">\n     <!-- Porções -->\n     <g style=\"fill:#262626;\" transform=\"translate(14.357812 186.741406)rotate(-90)scale(0.1 -0.1)\">\n      <defs>\n       <path d=\"M 494 0 \nL 494 4581 \nL 2222 4581 \nQ 2678 4581 2919 4538 \nQ 3256 4481 3484 4323 \nQ 3713 4166 3852 3881 \nQ 3991 3597 3991 3256 \nQ 3991 2672 3619 2267 \nQ 3247 1863 2275 1863 \nL 1100 1863 \nL 1100 0 \nL 494 0 \nz\nM 1100 2403 \nL 2284 2403 \nQ 2872 2403 3119 2622 \nQ 3366 2841 3366 3238 \nQ 3366 3525 3220 3729 \nQ 3075 3934 2838 4000 \nQ 2684 4041 2272 4041 \nL 1100 4041 \nL 1100 2403 \nz\n\" id=\"ArialMT-50\" transform=\"scale(0.015625)\"/>\n       <path d=\"M 416 0 \nL 416 3319 \nL 922 3319 \nL 922 2816 \nQ 1116 3169 1280 3281 \nQ 1444 3394 1641 3394 \nQ 1925 3394 2219 3213 \nL 2025 2691 \nQ 1819 2813 1613 2813 \nQ 1428 2813 1281 2702 \nQ 1134 2591 1072 2394 \nQ 978 2094 978 1738 \nL 978 0 \nL 416 0 \nz\n\" id=\"ArialMT-72\" transform=\"scale(0.015625)\"/>\n       <path d=\"M 2588 1216 \nL 3141 1144 \nQ 3050 572 2676 248 \nQ 2303 -75 1759 -75 \nQ 1078 -75 664 370 \nQ 250 816 250 1647 \nQ 250 2184 428 2587 \nQ 606 2991 970 3192 \nQ 1334 3394 1763 3394 \nQ 2303 3394 2647 3120 \nQ 2991 2847 3088 2344 \nL 2541 2259 \nQ 2463 2594 2264 2762 \nQ 2066 2931 1784 2931 \nQ 1359 2931 1093 2626 \nQ 828 2322 828 1663 \nQ 828 994 1084 691 \nQ 1341 388 1753 388 \nQ 2084 388 2306 591 \nQ 2528 794 2588 1216 \nz\nM 1283 -417 \nL 1446 136 \nL 1864 136 \nL 1761 -199 \nQ 2027 -230 2161 -362 \nQ 2296 -495 2296 -658 \nQ 2296 -892 2071 -1072 \nQ 1846 -1252 1392 -1252 \nQ 1136 -1252 942 -1214 \nL 977 -849 \nQ 1177 -861 1271 -861 \nQ 1564 -861 1683 -780 \nQ 1774 -717 1774 -627 \nQ 1774 -570 1738 -526 \nQ 1702 -483 1605 -451 \nQ 1508 -420 1283 -417 \nz\n\" id=\"ArialMT-e7\" transform=\"scale(0.015625)\"/>\n       <path d=\"M 213 1659 \nQ 213 2581 725 3025 \nQ 1153 3394 1769 3394 \nQ 2453 3394 2887 2945 \nQ 3322 2497 3322 1706 \nQ 3322 1066 3130 698 \nQ 2938 331 2570 128 \nQ 2203 -75 1769 -75 \nQ 1072 -75 642 372 \nQ 213 819 213 1659 \nz\nM 791 1659 \nQ 791 1022 1069 705 \nQ 1347 388 1769 388 \nQ 2188 388 2466 706 \nQ 2744 1025 2744 1678 \nQ 2744 2294 2464 2611 \nQ 2184 2928 1769 2928 \nQ 1347 2928 1069 2612 \nQ 791 2297 791 1659 \nz\nM 726 3809 \nQ 723 4134 904 4328 \nQ 1082 4522 1360 4522 \nQ 1554 4522 1888 4353 \nQ 2073 4259 2182 4259 \nQ 2282 4259 2335 4314 \nQ 2388 4369 2410 4531 \nL 2817 4531 \nQ 2807 4175 2637 3997 \nQ 2467 3819 2204 3819 \nQ 2007 3819 1685 3994 \nQ 1476 4106 1379 4106 \nQ 1273 4106 1207 4031 \nQ 1138 3956 1142 3809 \nL 726 3809 \nz\n\" id=\"ArialMT-f5\" transform=\"scale(0.015625)\"/>\n       <path d=\"M 197 991 \nL 753 1078 \nQ 800 744 1014 566 \nQ 1228 388 1613 388 \nQ 2000 388 2187 545 \nQ 2375 703 2375 916 \nQ 2375 1106 2209 1216 \nQ 2094 1291 1634 1406 \nQ 1016 1563 777 1677 \nQ 538 1791 414 1992 \nQ 291 2194 291 2438 \nQ 291 2659 392 2848 \nQ 494 3038 669 3163 \nQ 800 3259 1026 3326 \nQ 1253 3394 1513 3394 \nQ 1903 3394 2198 3281 \nQ 2494 3169 2634 2976 \nQ 2775 2784 2828 2463 \nL 2278 2388 \nQ 2241 2644 2061 2787 \nQ 1881 2931 1553 2931 \nQ 1166 2931 1000 2803 \nQ 834 2675 834 2503 \nQ 834 2394 903 2306 \nQ 972 2216 1119 2156 \nQ 1203 2125 1616 2013 \nQ 2213 1853 2448 1751 \nQ 2684 1650 2818 1456 \nQ 2953 1263 2953 975 \nQ 2953 694 2789 445 \nQ 2625 197 2315 61 \nQ 2006 -75 1616 -75 \nQ 969 -75 630 194 \nQ 291 463 197 991 \nz\n\" id=\"ArialMT-73\" transform=\"scale(0.015625)\"/>\n      </defs>\n      <use xlink:href=\"#ArialMT-50\"/>\n      <use x=\"66.699219\" xlink:href=\"#ArialMT-6f\"/>\n      <use x=\"122.314453\" xlink:href=\"#ArialMT-72\"/>\n      <use x=\"155.615234\" xlink:href=\"#ArialMT-e7\"/>\n      <use x=\"205.615234\" xlink:href=\"#ArialMT-f5\"/>\n      <use x=\"261.230469\" xlink:href=\"#ArialMT-65\"/>\n      <use x=\"316.845703\" xlink:href=\"#ArialMT-73\"/>\n     </g>\n    </g>\n   </g>\n   <g id=\"PathCollection_1\">\n    <defs>\n     <path d=\"M 0 3 \nC 0.795609 3 1.55874 2.683901 2.12132 2.12132 \nC 2.683901 1.55874 3 0.795609 3 0 \nC 3 -0.795609 2.683901 -1.55874 2.12132 -2.12132 \nC 1.55874 -2.683901 0.795609 -3 0 -3 \nC -0.795609 -3 -1.55874 -2.683901 -2.12132 -2.12132 \nC -2.683901 -1.55874 -3 -0.795609 -3 0 \nC -3 0.795609 -2.683901 1.55874 -2.12132 2.12132 \nC -1.55874 2.683901 -0.795609 3 0 3 \nz\n\" id=\"m4f26731b87\" style=\"stroke:#0393f9;stroke-opacity:0.8;\"/>\n    </defs>\n    <g clip-path=\"url(#p45cd6058f9)\">\n     <use style=\"fill:#0393f9;fill-opacity:0.8;stroke:#0393f9;stroke-opacity:0.8;\" x=\"53.133733\" xlink:href=\"#m4f26731b87\" y=\"314.945455\"/>\n     <use style=\"fill:#0393f9;fill-opacity:0.8;stroke:#0393f9;stroke-opacity:0.8;\" x=\"346.464652\" xlink:href=\"#m4f26731b87\" y=\"266.09697\"/>\n    </g>\n   </g>\n   <g id=\"PathCollection_2\">\n    <defs>\n     <path d=\"M 0 3 \nC 0.795609 3 1.55874 2.683901 2.12132 2.12132 \nC 2.683901 1.55874 3 0.795609 3 0 \nC 3 -0.795609 2.683901 -1.55874 2.12132 -2.12132 \nC 1.55874 -2.683901 0.795609 -3 0 -3 \nC -0.795609 -3 -1.55874 -2.683901 -2.12132 -2.12132 \nC -2.683901 -1.55874 -3 -0.795609 -3 0 \nC -3 0.795609 -2.683901 1.55874 -2.12132 2.12132 \nC -1.55874 2.683901 -0.795609 3 0 3 \nz\n\" id=\"m4ae1dff458\" style=\"stroke:#25d36d;stroke-opacity:0.8;\"/>\n    </defs>\n    <g clip-path=\"url(#p45cd6058f9)\">\n     <use style=\"fill:#25d36d;fill-opacity:0.8;stroke:#25d36d;stroke-opacity:0.8;\" x=\"53.133733\" xlink:href=\"#m4ae1dff458\" y=\"139.090909\"/>\n     <use style=\"fill:#25d36d;fill-opacity:0.8;stroke:#25d36d;stroke-opacity:0.8;\" x=\"346.464652\" xlink:href=\"#m4ae1dff458\" y=\"21.854545\"/>\n    </g>\n   </g>\n   <g id=\"line2d_10\">\n    <path clip-path=\"url(#p45cd6058f9)\" d=\"M 53.133733 314.945455 \nL 56.096672 314.452036 \nL 59.059611 313.958616 \nL 62.022549 313.465197 \nL 64.985488 312.971778 \nL 67.948426 312.478359 \nL 70.911365 311.98494 \nL 73.874303 311.491521 \nL 76.837242 310.998102 \nL 79.800181 310.504683 \nL 82.763119 310.011264 \nL 85.726058 309.517845 \nL 88.688996 309.024426 \nL 91.651935 308.531007 \nL 94.614873 308.037588 \nL 97.577812 307.544169 \nL 100.540751 307.05075 \nL 103.503689 306.557331 \nL 106.466628 306.063912 \nL 109.429566 305.570493 \nL 112.392505 305.077074 \nL 115.355443 304.583655 \nL 118.318382 304.090236 \nL 121.281321 303.596817 \nL 124.244259 303.103398 \nL 127.207198 302.609979 \nL 130.170136 302.11656 \nL 133.133075 301.62314 \nL 136.096013 301.129721 \nL 139.058952 300.636302 \nL 142.021891 300.142883 \nL 144.984829 299.649464 \nL 147.947768 299.156045 \nL 150.910706 298.662626 \nL 153.873645 298.169207 \nL 156.836583 297.675788 \nL 159.799522 297.182369 \nL 162.762461 296.68895 \nL 165.725399 296.195531 \nL 168.688338 295.702112 \nL 171.651276 295.208693 \nL 174.614215 294.715274 \nL 177.577153 294.221855 \nL 180.540092 293.728436 \nL 183.503031 293.235017 \nL 186.465969 292.741598 \nL 189.428908 292.248179 \nL 192.391846 291.75476 \nL 195.354785 291.261341 \nL 198.317723 290.767922 \nL 201.280662 290.274503 \nL 204.243601 289.781084 \nL 207.206539 289.287665 \nL 210.169478 288.794245 \nL 213.132416 288.300826 \nL 216.095355 287.807407 \nL 219.058293 287.313988 \nL 222.021232 286.820569 \nL 224.984171 286.32715 \nL 227.947109 285.833731 \nL 230.910048 285.340312 \nL 233.872986 284.846893 \nL 236.835925 284.353474 \nL 239.798863 283.860055 \nL 242.761802 283.366636 \nL 245.724741 282.873217 \nL 248.687679 282.379798 \nL 251.650618 281.886379 \nL 254.613556 281.39296 \nL 257.576495 280.899541 \nL 260.539433 280.406122 \nL 263.502372 279.912703 \nL 266.465311 279.419284 \nL 269.428249 278.925865 \nL 272.391188 278.432446 \nL 275.354126 277.939027 \nL 278.317065 277.445608 \nL 281.280003 276.952189 \nL 284.242942 276.45877 \nL 287.205881 275.96535 \nL 290.168819 275.471931 \nL 293.131758 274.978512 \nL 296.094696 274.485093 \nL 299.057635 273.991674 \nL 302.020573 273.498255 \nL 304.983512 273.004836 \nL 307.946451 272.511417 \nL 310.909389 272.017998 \nL 313.872328 271.524579 \nL 316.835266 271.03116 \nL 319.798205 270.537741 \nL 322.761143 270.044322 \nL 325.724082 269.550903 \nL 328.687021 269.057484 \nL 331.649959 268.564065 \nL 334.612898 268.070646 \nL 337.575836 267.577227 \nL 340.538775 267.083808 \nL 343.501713 266.590389 \nL 346.464652 266.09697 \n\" style=\"fill:none;stroke:#0393f9;stroke-linecap:round;stroke-width:2.25;\"/>\n   </g>\n   <g id=\"line2d_11\">\n    <path clip-path=\"url(#p45cd6058f9)\" d=\"M 53.133733 139.090909 \nL 56.096672 137.906703 \nL 59.059611 136.722498 \nL 62.022549 135.538292 \nL 64.985488 134.354086 \nL 67.948426 133.169881 \nL 70.911365 131.985675 \nL 73.874303 130.801469 \nL 76.837242 129.617264 \nL 79.800181 128.433058 \nL 82.763119 127.248852 \nL 85.726058 126.064646 \nL 88.688996 124.880441 \nL 91.651935 123.696235 \nL 94.614873 122.512029 \nL 97.577812 121.327824 \nL 100.540751 120.143618 \nL 103.503689 118.959412 \nL 106.466628 117.775207 \nL 109.429566 116.591001 \nL 112.392505 115.406795 \nL 115.355443 114.22259 \nL 118.318382 113.038384 \nL 121.281321 111.854178 \nL 124.244259 110.669972 \nL 127.207198 109.485767 \nL 130.170136 108.301561 \nL 133.133075 107.117355 \nL 136.096013 105.93315 \nL 139.058952 104.748944 \nL 142.021891 103.564738 \nL 144.984829 102.380533 \nL 147.947768 101.196327 \nL 150.910706 100.012121 \nL 153.873645 98.827916 \nL 156.836583 97.64371 \nL 159.799522 96.459504 \nL 162.762461 95.275298 \nL 165.725399 94.091093 \nL 168.688338 92.906887 \nL 171.651276 91.722681 \nL 174.614215 90.538476 \nL 177.577153 89.35427 \nL 180.540092 88.170064 \nL 183.503031 86.985859 \nL 186.465969 85.801653 \nL 189.428908 84.617447 \nL 192.391846 83.433242 \nL 195.354785 82.249036 \nL 198.317723 81.06483 \nL 201.280662 79.880624 \nL 204.243601 78.696419 \nL 207.206539 77.512213 \nL 210.169478 76.328007 \nL 213.132416 75.143802 \nL 216.095355 73.959596 \nL 219.058293 72.77539 \nL 222.021232 71.591185 \nL 224.984171 70.406979 \nL 227.947109 69.222773 \nL 230.910048 68.038567 \nL 233.872986 66.854362 \nL 236.835925 65.670156 \nL 239.798863 64.48595 \nL 242.761802 63.301745 \nL 245.724741 62.117539 \nL 248.687679 60.933333 \nL 251.650618 59.749128 \nL 254.613556 58.564922 \nL 257.576495 57.380716 \nL 260.539433 56.196511 \nL 263.502372 55.012305 \nL 266.465311 53.828099 \nL 269.428249 52.643893 \nL 272.391188 51.459688 \nL 275.354126 50.275482 \nL 278.317065 49.091276 \nL 281.280003 47.907071 \nL 284.242942 46.722865 \nL 287.205881 45.538659 \nL 290.168819 44.354454 \nL 293.131758 43.170248 \nL 296.094696 41.986042 \nL 299.057635 40.801837 \nL 302.020573 39.617631 \nL 304.983512 38.433425 \nL 307.946451 37.249219 \nL 310.909389 36.065014 \nL 313.872328 34.880808 \nL 316.835266 33.696602 \nL 319.798205 32.512397 \nL 322.761143 31.328191 \nL 325.724082 30.143985 \nL 328.687021 28.95978 \nL 331.649959 27.775574 \nL 334.612898 26.591368 \nL 337.575836 25.407163 \nL 340.538775 24.222957 \nL 343.501713 23.038751 \nL 346.464652 21.854545 \n\" style=\"fill:none;stroke:#25d36d;stroke-linecap:round;stroke-width:2.25;\"/>\n   </g>\n   <g id=\"patch_3\">\n    <path d=\"M 38.467188 329.6 \nL 38.467188 7.2 \n\" style=\"fill:none;stroke:#ffffff;stroke-linecap:square;stroke-linejoin:miter;stroke-width:0.8;\"/>\n   </g>\n   <g id=\"patch_4\">\n    <path d=\"M 38.467187 329.6 \nL 361.131198 329.6 \n\" style=\"fill:none;stroke:#ffffff;stroke-linecap:square;stroke-linejoin:miter;stroke-width:0.8;\"/>\n   </g>\n  </g>\n  <g id=\"legend_1\">\n   <g id=\"text_12\">\n    <!-- Farinha -->\n    <g style=\"fill:#262626;\" transform=\"translate(372.147292 171.485156)scale(0.1 -0.1)\">\n     <defs>\n      <path d=\"M 525 0 \nL 525 4581 \nL 3616 4581 \nL 3616 4041 \nL 1131 4041 \nL 1131 2622 \nL 3281 2622 \nL 3281 2081 \nL 1131 2081 \nL 1131 0 \nL 525 0 \nz\n\" id=\"ArialMT-46\" transform=\"scale(0.015625)\"/>\n      <path d=\"M 425 3934 \nL 425 4581 \nL 988 4581 \nL 988 3934 \nL 425 3934 \nz\nM 425 0 \nL 425 3319 \nL 988 3319 \nL 988 0 \nL 425 0 \nz\n\" id=\"ArialMT-69\" transform=\"scale(0.015625)\"/>\n      <path d=\"M 422 0 \nL 422 3319 \nL 928 3319 \nL 928 2847 \nQ 1294 3394 1984 3394 \nQ 2284 3394 2536 3286 \nQ 2788 3178 2913 3003 \nQ 3038 2828 3088 2588 \nQ 3119 2431 3119 2041 \nL 3119 0 \nL 2556 0 \nL 2556 2019 \nQ 2556 2363 2490 2533 \nQ 2425 2703 2258 2804 \nQ 2091 2906 1866 2906 \nQ 1506 2906 1245 2678 \nQ 984 2450 984 1813 \nL 984 0 \nL 422 0 \nz\n\" id=\"ArialMT-6e\" transform=\"scale(0.015625)\"/>\n     </defs>\n     <use xlink:href=\"#ArialMT-46\"/>\n     <use x=\"61.083984\" xlink:href=\"#ArialMT-61\"/>\n     <use x=\"116.699219\" xlink:href=\"#ArialMT-72\"/>\n     <use x=\"150\" xlink:href=\"#ArialMT-69\"/>\n     <use x=\"172.216797\" xlink:href=\"#ArialMT-6e\"/>\n     <use x=\"227.832031\" xlink:href=\"#ArialMT-68\"/>\n     <use x=\"283.447266\" xlink:href=\"#ArialMT-61\"/>\n    </g>\n   </g>\n   <g id=\"PathCollection_3\">\n    <g>\n     <use style=\"fill:#0393f9;fill-opacity:0.8;stroke:#0393f9;stroke-opacity:0.8;\" x=\"376.48401\" xlink:href=\"#m4f26731b87\" y=\"183.005469\"/>\n    </g>\n   </g>\n   <g id=\"text_13\">\n    <!-- -1.0 -->\n    <g style=\"fill:#262626;\" transform=\"translate(394.48401 185.630469)scale(0.1 -0.1)\">\n     <defs>\n      <path d=\"M 203 1375 \nL 203 1941 \nL 1931 1941 \nL 1931 1375 \nL 203 1375 \nz\n\" id=\"ArialMT-2d\" transform=\"scale(0.015625)\"/>\n      <path d=\"M 581 0 \nL 581 641 \nL 1222 641 \nL 1222 0 \nL 581 0 \nz\n\" id=\"ArialMT-2e\" transform=\"scale(0.015625)\"/>\n     </defs>\n     <use xlink:href=\"#ArialMT-2d\"/>\n     <use x=\"33.300781\" xlink:href=\"#ArialMT-31\"/>\n     <use x=\"88.916016\" xlink:href=\"#ArialMT-2e\"/>\n     <use x=\"116.699219\" xlink:href=\"#ArialMT-30\"/>\n    </g>\n   </g>\n   <g id=\"PathCollection_4\">\n    <g>\n     <use style=\"fill:#25d36d;fill-opacity:0.8;stroke:#25d36d;stroke-opacity:0.8;\" x=\"376.48401\" xlink:href=\"#m4ae1dff458\" y=\"197.150781\"/>\n    </g>\n   </g>\n   <g id=\"text_14\">\n    <!-- 1.0 -->\n    <g style=\"fill:#262626;\" transform=\"translate(394.48401 199.775781)scale(0.1 -0.1)\">\n     <use xlink:href=\"#ArialMT-31\"/>\n     <use x=\"55.615234\" xlink:href=\"#ArialMT-2e\"/>\n     <use x=\"83.398438\" xlink:href=\"#ArialMT-30\"/>\n    </g>\n   </g>\n  </g>\n </g>\n <defs>\n  <clipPath id=\"p45cd6058f9\">\n   <rect height=\"322.4\" width=\"322.66401\" x=\"38.467188\" y=\"7.2\"/>\n  </clipPath>\n </defs>\n</svg>\n",
      "text/plain": [
       "<Figure size 413.25x360 with 1 Axes>"
      ]
     },
     "metadata": {}
    }
   ],
   "metadata": {}
  },
  {
   "cell_type": "markdown",
   "source": [
    "A partir da visualização dos gráficos levantamos duas hipóteses: a primeira é que existe uma relação entre a quantidade de chocolate e farinha e a segunda é que a quantidade de farinha influencia mais o número de porções."
   ],
   "metadata": {}
  },
  {
   "cell_type": "markdown",
   "source": [
    "# <font color = 'purple'> Ajustando o modelo estatístico </font>\n",
    "\n",
    "\n",
    "<p style='margin: 30px 30px;'>\n",
    "    \n",
    "<hr style = 'border: 1px solid purple;'>"
   ],
   "metadata": {}
  },
  {
   "cell_type": "markdown",
   "source": [
    "<hr>\n",
    "\n",
    "<img width='800px' src='figuras/Figura_3.png'>\n",
    "\n",
    "<p style='margin: 30px 30px;'> \n",
    "\n",
    "<hr>\n"
   ],
   "metadata": {}
  },
  {
   "cell_type": "markdown",
   "source": [
    "### Bibliotecas  Stats Model\n"
   ],
   "metadata": {}
  },
  {
   "cell_type": "code",
   "execution_count": 106,
   "source": [
    "import statsmodels.api as sm\n",
    "\n",
    "import statsmodels.formula.api as smf"
   ],
   "outputs": [],
   "metadata": {}
  },
  {
   "cell_type": "markdown",
   "source": [
    "### ."
   ],
   "metadata": {}
  },
  {
   "cell_type": "markdown",
   "source": [
    "Para a construção do nosso modelo utilizamos a função ols da biblioteca statsmodel. Introduzimos os dados experimentais e aplicamos a fórmula."
   ],
   "metadata": {}
  },
  {
   "cell_type": "code",
   "execution_count": 107,
   "source": [
    "modelo = smf.ols(data = experimento, formula='Porções ~ Farinha + Chocolate + Farinha:Chocolate')"
   ],
   "outputs": [],
   "metadata": {}
  },
  {
   "cell_type": "code",
   "execution_count": 108,
   "source": [
    "modelo_ajustado = modelo.fit()"
   ],
   "outputs": [],
   "metadata": {}
  },
  {
   "cell_type": "code",
   "execution_count": 109,
   "source": [
    "print(modelo_ajustado.summary())"
   ],
   "outputs": [
    {
     "output_type": "stream",
     "name": "stdout",
     "text": [
      "                            OLS Regression Results                            \n",
      "==============================================================================\n",
      "Dep. Variable:                Porções   R-squared:                       1.000\n",
      "Model:                            OLS   Adj. R-squared:                    nan\n",
      "Method:                 Least Squares   F-statistic:                       nan\n",
      "Date:                Tue, 31 Aug 2021   Prob (F-statistic):                nan\n",
      "Time:                        07:52:12   Log-Likelihood:                    inf\n",
      "No. Observations:                   4   AIC:                              -inf\n",
      "Df Residuals:                       0   BIC:                              -inf\n",
      "Df Model:                           3                                         \n",
      "Covariance Type:            nonrobust                                         \n",
      "=====================================================================================\n",
      "                        coef    std err          t      P>|t|      [0.025      0.975]\n",
      "-------------------------------------------------------------------------------------\n",
      "Intercept            32.2500        nan        nan        nan         nan         nan\n",
      "Farinha              10.7500        nan        nan        nan         nan         nan\n",
      "Chocolate             4.2500        nan        nan        nan         nan         nan\n",
      "Farinha:Chocolate     1.7500        nan        nan        nan         nan         nan\n",
      "==============================================================================\n",
      "Omnibus:                          nan   Durbin-Watson:                     nan\n",
      "Prob(Omnibus):                    nan   Jarque-Bera (JB):                1.500\n",
      "Skew:                           0.000   Prob(JB):                        0.472\n",
      "Kurtosis:                       0.000   Cond. No.                         1.00\n",
      "==============================================================================\n",
      "\n",
      "Notes:\n",
      "[1] Standard Errors assume that the covariance matrix of the errors is correctly specified.\n"
     ]
    },
    {
     "output_type": "stream",
     "name": "stderr",
     "text": [
      "/home/diego/anaconda3/lib/python3.8/site-packages/statsmodels/stats/stattools.py:74: ValueWarning: omni_normtest is not valid with less than 8 observations; 4 samples were given.\n",
      "  warn(\"omni_normtest is not valid with less than 8 observations; %i \"\n",
      "/home/diego/anaconda3/lib/python3.8/site-packages/statsmodels/regression/linear_model.py:1728: RuntimeWarning: divide by zero encountered in true_divide\n",
      "  return 1 - (np.divide(self.nobs - self.k_constant, self.df_resid)\n",
      "/home/diego/anaconda3/lib/python3.8/site-packages/statsmodels/regression/linear_model.py:1728: RuntimeWarning: invalid value encountered in double_scalars\n",
      "  return 1 - (np.divide(self.nobs - self.k_constant, self.df_resid)\n",
      "/home/diego/anaconda3/lib/python3.8/site-packages/statsmodels/regression/linear_model.py:903: RuntimeWarning: divide by zero encountered in log\n",
      "  llf = -nobs2*np.log(2*np.pi) - nobs2*np.log(ssr / nobs) - nobs2\n",
      "/home/diego/anaconda3/lib/python3.8/site-packages/statsmodels/stats/stattools.py:50: RuntimeWarning: invalid value encountered in double_scalars\n",
      "  dw = np.sum(diff_resids**2, axis=axis) / np.sum(resids**2, axis=axis)\n",
      "/home/diego/anaconda3/lib/python3.8/site-packages/statsmodels/regression/linear_model.py:1650: RuntimeWarning: invalid value encountered in double_scalars\n",
      "  return np.dot(wresid, wresid) / self.df_resid\n"
     ]
    }
   ],
   "metadata": {}
  },
  {
   "cell_type": "markdown",
   "source": [
    "Observamos através do sumário do modelo que ele não apresenta graus de liberdade, de foma que o parâmetro t não pode ser calculado. Dessa forma, é necessário adicionar pelo menos um grau de liberdade (experimento) ao modelo."
   ],
   "metadata": {}
  },
  {
   "cell_type": "markdown",
   "source": [
    "# <font color = 'purple'> Aumentando os Graus de liberdade  </font>\n",
    "\n",
    "\n",
    "<p style='margin: 30px 30px;'>\n",
    "    \n",
    "<hr style = 'border: 1px solid purple;'>\n",
    "\n",
    "\n",
    "\n",
    "<p style='margin: 30px 30px;'>     \n",
    "    \n"
   ],
   "metadata": {}
  },
  {
   "cell_type": "markdown",
   "source": [
    "Resolvemos adicionar mais 4 experimentos."
   ],
   "metadata": {}
  },
  {
   "cell_type": "markdown",
   "source": [
    "<hr>\n",
    "\n",
    "\n",
    "<p style='font-size: 18px; line-height: 2; margin: 0px 0px; text-align: justify; text-indent: 0px;'>\n",
    "    <font color=\"red\"> <b>Replicatas no centro</b>\n",
    "\n",
    "\n",
    "<img width='800px' src='figuras/Figura_5.png'> \n",
    "\n",
    "\n",
    "<p style='margin: 30px 30px;'> \n",
    "    \n",
    "    \n",
    " \n",
    "    \n",
    "\n",
    "    \n",
    "<hr>    "
   ],
   "metadata": {}
  },
  {
   "cell_type": "code",
   "execution_count": 110,
   "source": [
    "centro = np.array([[0, 0, 29],\n",
    "                   [0, 0, 30],\n",
    "                   [0, 0, 29],\n",
    "                   [0, 0, 30]]\n",
    "                  )\n"
   ],
   "outputs": [],
   "metadata": {}
  },
  {
   "cell_type": "code",
   "execution_count": 111,
   "source": [
    "centro_dataFrame = pd.DataFrame(centro, columns=['Farinha', 'Chocolate', 'Porções'], index = [4, 5, 6, 7])"
   ],
   "outputs": [],
   "metadata": {}
  },
  {
   "cell_type": "code",
   "execution_count": 112,
   "source": [
    "centro_dataFrame"
   ],
   "outputs": [
    {
     "output_type": "execute_result",
     "data": {
      "text/html": [
       "<div>\n",
       "<style scoped>\n",
       "    .dataframe tbody tr th:only-of-type {\n",
       "        vertical-align: middle;\n",
       "    }\n",
       "\n",
       "    .dataframe tbody tr th {\n",
       "        vertical-align: top;\n",
       "    }\n",
       "\n",
       "    .dataframe thead th {\n",
       "        text-align: right;\n",
       "    }\n",
       "</style>\n",
       "<table border=\"1\" class=\"dataframe\">\n",
       "  <thead>\n",
       "    <tr style=\"text-align: right;\">\n",
       "      <th></th>\n",
       "      <th>Farinha</th>\n",
       "      <th>Chocolate</th>\n",
       "      <th>Porções</th>\n",
       "    </tr>\n",
       "  </thead>\n",
       "  <tbody>\n",
       "    <tr>\n",
       "      <th>4</th>\n",
       "      <td>0</td>\n",
       "      <td>0</td>\n",
       "      <td>29</td>\n",
       "    </tr>\n",
       "    <tr>\n",
       "      <th>5</th>\n",
       "      <td>0</td>\n",
       "      <td>0</td>\n",
       "      <td>30</td>\n",
       "    </tr>\n",
       "    <tr>\n",
       "      <th>6</th>\n",
       "      <td>0</td>\n",
       "      <td>0</td>\n",
       "      <td>29</td>\n",
       "    </tr>\n",
       "    <tr>\n",
       "      <th>7</th>\n",
       "      <td>0</td>\n",
       "      <td>0</td>\n",
       "      <td>30</td>\n",
       "    </tr>\n",
       "  </tbody>\n",
       "</table>\n",
       "</div>"
      ],
      "text/plain": [
       "   Farinha  Chocolate  Porções\n",
       "4        0          0       29\n",
       "5        0          0       30\n",
       "6        0          0       29\n",
       "7        0          0       30"
      ]
     },
     "metadata": {},
     "execution_count": 112
    }
   ],
   "metadata": {}
  },
  {
   "cell_type": "markdown",
   "source": [
    "### ."
   ],
   "metadata": {}
  },
  {
   "cell_type": "code",
   "execution_count": 113,
   "source": [
    "experimento = experimento.append(centro_dataFrame)"
   ],
   "outputs": [],
   "metadata": {}
  },
  {
   "cell_type": "code",
   "execution_count": 114,
   "source": [
    "experimento"
   ],
   "outputs": [
    {
     "output_type": "execute_result",
     "data": {
      "text/html": [
       "<div>\n",
       "<style scoped>\n",
       "    .dataframe tbody tr th:only-of-type {\n",
       "        vertical-align: middle;\n",
       "    }\n",
       "\n",
       "    .dataframe tbody tr th {\n",
       "        vertical-align: top;\n",
       "    }\n",
       "\n",
       "    .dataframe thead th {\n",
       "        text-align: right;\n",
       "    }\n",
       "</style>\n",
       "<table border=\"1\" class=\"dataframe\">\n",
       "  <thead>\n",
       "    <tr style=\"text-align: right;\">\n",
       "      <th></th>\n",
       "      <th>Farinha</th>\n",
       "      <th>Chocolate</th>\n",
       "      <th>Porções</th>\n",
       "    </tr>\n",
       "  </thead>\n",
       "  <tbody>\n",
       "    <tr>\n",
       "      <th>0</th>\n",
       "      <td>-1.0</td>\n",
       "      <td>-1.0</td>\n",
       "      <td>19</td>\n",
       "    </tr>\n",
       "    <tr>\n",
       "      <th>1</th>\n",
       "      <td>1.0</td>\n",
       "      <td>-1.0</td>\n",
       "      <td>37</td>\n",
       "    </tr>\n",
       "    <tr>\n",
       "      <th>2</th>\n",
       "      <td>-1.0</td>\n",
       "      <td>1.0</td>\n",
       "      <td>24</td>\n",
       "    </tr>\n",
       "    <tr>\n",
       "      <th>3</th>\n",
       "      <td>1.0</td>\n",
       "      <td>1.0</td>\n",
       "      <td>49</td>\n",
       "    </tr>\n",
       "    <tr>\n",
       "      <th>4</th>\n",
       "      <td>0.0</td>\n",
       "      <td>0.0</td>\n",
       "      <td>29</td>\n",
       "    </tr>\n",
       "    <tr>\n",
       "      <th>5</th>\n",
       "      <td>0.0</td>\n",
       "      <td>0.0</td>\n",
       "      <td>30</td>\n",
       "    </tr>\n",
       "    <tr>\n",
       "      <th>6</th>\n",
       "      <td>0.0</td>\n",
       "      <td>0.0</td>\n",
       "      <td>29</td>\n",
       "    </tr>\n",
       "    <tr>\n",
       "      <th>7</th>\n",
       "      <td>0.0</td>\n",
       "      <td>0.0</td>\n",
       "      <td>30</td>\n",
       "    </tr>\n",
       "  </tbody>\n",
       "</table>\n",
       "</div>"
      ],
      "text/plain": [
       "   Farinha  Chocolate  Porções\n",
       "0     -1.0       -1.0       19\n",
       "1      1.0       -1.0       37\n",
       "2     -1.0        1.0       24\n",
       "3      1.0        1.0       49\n",
       "4      0.0        0.0       29\n",
       "5      0.0        0.0       30\n",
       "6      0.0        0.0       29\n",
       "7      0.0        0.0       30"
      ]
     },
     "metadata": {},
     "execution_count": 114
    }
   ],
   "metadata": {}
  },
  {
   "cell_type": "markdown",
   "source": [
    "# <font color = 'purple'>  Análise de significância estatística   </font>\n",
    "\n",
    "\n",
    "<p style='margin: 30px 30px;'>\n",
    "    \n",
    "<hr style = 'border: 1px solid purple;'>"
   ],
   "metadata": {}
  },
  {
   "cell_type": "markdown",
   "source": [
    "Com os 4 novos experimentos adicionas refazemos nosso modelo."
   ],
   "metadata": {}
  },
  {
   "cell_type": "code",
   "execution_count": 115,
   "source": [
    "modelo = smf.ols(data = experimento, formula = 'Porções ~ Farinha + Chocolate + Farinha:Chocolate')"
   ],
   "outputs": [],
   "metadata": {}
  },
  {
   "cell_type": "code",
   "execution_count": 116,
   "source": [
    "modelo_ajustado = modelo.fit()"
   ],
   "outputs": [],
   "metadata": {}
  },
  {
   "cell_type": "code",
   "execution_count": 117,
   "source": [
    "print(modelo_ajustado.summary())"
   ],
   "outputs": [
    {
     "output_type": "stream",
     "name": "stdout",
     "text": [
      "                            OLS Regression Results                            \n",
      "==============================================================================\n",
      "Dep. Variable:                Porções   R-squared:                       0.971\n",
      "Model:                            OLS   Adj. R-squared:                  0.950\n",
      "Method:                 Least Squares   F-statistic:                     45.21\n",
      "Date:                Tue, 31 Aug 2021   Prob (F-statistic):            0.00152\n",
      "Time:                        07:52:12   Log-Likelihood:                -14.155\n",
      "No. Observations:                   8   AIC:                             36.31\n",
      "Df Residuals:                       4   BIC:                             36.63\n",
      "Df Model:                           3                                         \n",
      "Covariance Type:            nonrobust                                         \n",
      "=====================================================================================\n",
      "                        coef    std err          t      P>|t|      [0.025      0.975]\n",
      "-------------------------------------------------------------------------------------\n",
      "Intercept            30.8750      0.710     43.494      0.000      28.904      32.846\n",
      "Farinha              10.7500      1.004     10.708      0.000       7.963      13.537\n",
      "Chocolate             4.2500      1.004      4.233      0.013       1.463       7.037\n",
      "Farinha:Chocolate     1.7500      1.004      1.743      0.156      -1.037       4.537\n",
      "==============================================================================\n",
      "Omnibus:                        4.655   Durbin-Watson:                   0.841\n",
      "Prob(Omnibus):                  0.098   Jarque-Bera (JB):                1.080\n",
      "Skew:                          -0.180   Prob(JB):                        0.583\n",
      "Kurtosis:                       1.237   Cond. No.                         1.41\n",
      "==============================================================================\n",
      "\n",
      "Notes:\n",
      "[1] Standard Errors assume that the covariance matrix of the errors is correctly specified.\n"
     ]
    },
    {
     "output_type": "stream",
     "name": "stderr",
     "text": [
      "/home/diego/.local/lib/python3.8/site-packages/scipy/stats/stats.py:1603: UserWarning: kurtosistest only valid for n>=20 ... continuing anyway, n=8\n",
      "  warnings.warn(\"kurtosistest only valid for n>=20 ... continuing \"\n"
     ]
    }
   ],
   "metadata": {}
  },
  {
   "cell_type": "markdown",
   "source": [
    "Através do sumário observa-se que o modelo apresenta 3 graus de liberdade e o parâmetro t pode ser calculado, contudo como o valor de P > |t| foi maior que 0.05 para a variável Farinha:chocolate podemos dizer que ela não é significativa e será removida do modelo."
   ],
   "metadata": {}
  },
  {
   "cell_type": "markdown",
   "source": [
    "<p style='margin: 200px 200px;'>    \n",
    "\n",
    "\n",
    "<hr>\n",
    "\n",
    "\n",
    "    \n",
    " <img width='400px' src='figuras/Figura_6.png'> \n",
    "\n",
    "\n",
    "<p style='margin: 30px 30px;'>    \n",
    "\n",
    "<hr>\n",
    "\n",
    "\n",
    " <img width='600px' src='figuras/Figura_7.png'> \n",
    "\n",
    "\n",
    "<p style='margin: 30px 30px;'>        \n",
    "    \n",
    "    \n",
    " <hr>   \n",
    "    \n",
    "\n",
    "  \n",
    " <img width='600px' src='figuras/Figura_10.png'> \n",
    "\n",
    "\n",
    "<p style='margin: 30px 30px;'>       \n",
    "  \n",
    "<hr>        "
   ],
   "metadata": {}
  },
  {
   "cell_type": "markdown",
   "source": [
    "\n",
    "# <font color = 'purple'> Teste de significância estatística usando o <b>t<b>    </font>\n",
    "\n",
    "\n",
    "<p style='margin: 30px 30px;'>\n",
    "    \n",
    "<hr style = 'border: 1px solid purple;'>\n",
    "\n",
    "\n",
    "\n"
   ],
   "metadata": {}
  },
  {
   "cell_type": "markdown",
   "source": [
    "<hr>\n",
    "<img width='600px' src='figuras/Figura_11.png'> \n",
    "\n",
    "\n",
    "<hr>\n",
    "  <p style='margin: 30px 30px;'>     \n",
    "<img width='900px' src='figuras/Figura_8.png'> \n",
    "\n",
    "\n",
    "<hr>\n",
    "\n"
   ],
   "metadata": {}
  },
  {
   "cell_type": "markdown",
   "source": [
    "<p style='margin: 150px 150px;'>     \n",
    "<img width='1000px' src='figuras/Figura_20.png'\n",
    "\n",
    "\n",
    "\n",
    "<hr>\n",
    "<p style='margin: 150px 150px;'>    "
   ],
   "metadata": {}
  },
  {
   "cell_type": "code",
   "execution_count": 118,
   "source": [
    "t_valores = modelo_ajustado.tvalues"
   ],
   "outputs": [],
   "metadata": {}
  },
  {
   "cell_type": "code",
   "execution_count": 119,
   "source": [
    "t_valores"
   ],
   "outputs": [
    {
     "output_type": "execute_result",
     "data": {
      "text/plain": [
       "Intercept            43.494275\n",
       "Farinha              10.708252\n",
       "Chocolate             4.233495\n",
       "Farinha:Chocolate     1.743204\n",
       "dtype: float64"
      ]
     },
     "metadata": {},
     "execution_count": 119
    }
   ],
   "metadata": {}
  },
  {
   "cell_type": "code",
   "execution_count": 120,
   "source": [
    "nome = t_valores.index.tolist()"
   ],
   "outputs": [],
   "metadata": {}
  },
  {
   "cell_type": "code",
   "execution_count": 121,
   "source": [
    "nome"
   ],
   "outputs": [
    {
     "output_type": "execute_result",
     "data": {
      "text/plain": [
       "['Intercept', 'Farinha', 'Chocolate', 'Farinha:Chocolate']"
      ]
     },
     "metadata": {},
     "execution_count": 121
    }
   ],
   "metadata": {}
  },
  {
   "cell_type": "markdown",
   "source": [
    "### ."
   ],
   "metadata": {}
  },
  {
   "cell_type": "code",
   "execution_count": 122,
   "source": [
    "from scipy import stats "
   ],
   "outputs": [],
   "metadata": {}
  },
  {
   "cell_type": "markdown",
   "source": [
    "### .\n"
   ],
   "metadata": {}
  },
  {
   "cell_type": "code",
   "execution_count": 123,
   "source": [
    "distribuicao = stats.t(df = 4)"
   ],
   "outputs": [],
   "metadata": {}
  },
  {
   "cell_type": "code",
   "execution_count": 124,
   "source": [
    "distribuicao.ppf(q = 1-0.025)"
   ],
   "outputs": [
    {
     "output_type": "execute_result",
     "data": {
      "text/plain": [
       "2.7764451051977987"
      ]
     },
     "metadata": {},
     "execution_count": 124
    }
   ],
   "metadata": {}
  },
  {
   "cell_type": "code",
   "execution_count": 125,
   "source": [
    "limite = [distribuicao.ppf(q = 1-0.025)] * len(nome)"
   ],
   "outputs": [],
   "metadata": {}
  },
  {
   "cell_type": "code",
   "execution_count": 126,
   "source": [
    "limite"
   ],
   "outputs": [
    {
     "output_type": "execute_result",
     "data": {
      "text/plain": [
       "[2.7764451051977987,\n",
       " 2.7764451051977987,\n",
       " 2.7764451051977987,\n",
       " 2.7764451051977987]"
      ]
     },
     "metadata": {},
     "execution_count": 126
    }
   ],
   "metadata": {}
  },
  {
   "cell_type": "markdown",
   "source": [
    "### Plotando o gráfico "
   ],
   "metadata": {}
  },
  {
   "cell_type": "code",
   "execution_count": 127,
   "source": [
    "pareto = sns.barplot(x = t_valores, y =  nome)\n",
    "pareto.figure.set_size_inches(16, 6)\n",
    "pareto.tick_params(labelsize = 20)\n",
    "pareto.set_xlabel('t-valores', fontsize=20 )\n",
    "\n",
    "pareto.plot(limite, nome, 'r')"
   ],
   "outputs": [
    {
     "output_type": "execute_result",
     "data": {
      "text/plain": [
       "[<matplotlib.lines.Line2D at 0x7f8a56d5a100>]"
      ]
     },
     "metadata": {},
     "execution_count": 127
    },
    {
     "output_type": "display_data",
     "data": {
      "image/png": "[encoded data removed]",
      "image/svg+xml": "<?xml version=\"1.0\" encoding=\"utf-8\" standalone=\"no\"?>\n<!DOCTYPE svg PUBLIC \"-//W3C//DTD SVG 1.1//EN\"\n  \"http://www.w3.org/Graphics/SVG/1.1/DTD/svg11.dtd\">\n<svg height=\"388.14125pt\" version=\"1.1\" viewBox=\"0 0 1077.615625 388.14125\" width=\"1077.615625pt\" xmlns=\"http://www.w3.org/2000/svg\" xmlns:xlink=\"http://www.w3.org/1999/xlink\">\n <metadata>\n  <rdf:RDF xmlns:cc=\"http://creativecommons.org/ns#\" xmlns:dc=\"http://purl.org/dc/elements/1.1/\" xmlns:rdf=\"http://www.w3.org/1999/02/22-rdf-syntax-ns#\">\n   <cc:Work>\n    <dc:type rdf:resource=\"http://purl.org/dc/dcmitype/StillImage\"/>\n    <dc:date>2021-08-31T07:52:13.516906</dc:date>\n    <dc:format>image/svg+xml</dc:format>\n    <dc:creator>\n     <cc:Agent>\n      <dc:title>Matplotlib v3.4.2, https://matplotlib.org/</dc:title>\n     </cc:Agent>\n    </dc:creator>\n   </cc:Work>\n  </rdf:RDF>\n </metadata>\n <defs>\n  <style type=\"text/css\">*{stroke-linecap:butt;stroke-linejoin:round;}</style>\n </defs>\n <g id=\"figure_1\">\n  <g id=\"patch_1\">\n   <path d=\"M 0 388.14125 \nL 1077.615625 388.14125 \nL 1077.615625 0 \nL 0 0 \nz\n\" style=\"fill:#ffffff;\"/>\n  </g>\n  <g id=\"axes_1\">\n   <g id=\"patch_2\">\n    <path d=\"M 177.615625 333.36 \nL 1070.415625 333.36 \nL 1070.415625 7.2 \nL 177.615625 7.2 \nz\n\" style=\"fill:#eaeaf2;\"/>\n   </g>\n   <g id=\"matplotlib.axis_1\">\n    <g id=\"xtick_1\">\n     <g id=\"line2d_1\">\n      <path clip-path=\"url(#p7577c3e701)\" d=\"M 177.615625 333.36 \nL 177.615625 7.2 \n\" style=\"fill:none;stroke:#ffffff;stroke-linecap:round;stroke-width:0.8;\"/>\n     </g>\n     <g id=\"text_1\">\n      <!-- 0 -->\n      <g style=\"fill:#262626;\" transform=\"translate(172.054688 354.675625)scale(0.2 -0.2)\">\n       <defs>\n        <path d=\"M 266 2259 \nQ 266 3072 433 3567 \nQ 600 4063 929 4331 \nQ 1259 4600 1759 4600 \nQ 2128 4600 2406 4451 \nQ 2684 4303 2865 4023 \nQ 3047 3744 3150 3342 \nQ 3253 2941 3253 2259 \nQ 3253 1453 3087 958 \nQ 2922 463 2592 192 \nQ 2263 -78 1759 -78 \nQ 1097 -78 719 397 \nQ 266 969 266 2259 \nz\nM 844 2259 \nQ 844 1131 1108 757 \nQ 1372 384 1759 384 \nQ 2147 384 2411 759 \nQ 2675 1134 2675 2259 \nQ 2675 3391 2411 3762 \nQ 2147 4134 1753 4134 \nQ 1366 4134 1134 3806 \nQ 844 3388 844 2259 \nz\n\" id=\"ArialMT-30\" transform=\"scale(0.015625)\"/>\n       </defs>\n       <use xlink:href=\"#ArialMT-30\"/>\n      </g>\n     </g>\n    </g>\n    <g id=\"xtick_2\">\n     <g id=\"line2d_2\">\n      <path clip-path=\"url(#p7577c3e701)\" d=\"M 373.109335 333.36 \nL 373.109335 7.2 \n\" style=\"fill:none;stroke:#ffffff;stroke-linecap:round;stroke-width:0.8;\"/>\n     </g>\n     <g id=\"text_2\">\n      <!-- 10 -->\n      <g style=\"fill:#262626;\" transform=\"translate(361.98746 354.675625)scale(0.2 -0.2)\">\n       <defs>\n        <path d=\"M 2384 0 \nL 1822 0 \nL 1822 3584 \nQ 1619 3391 1289 3197 \nQ 959 3003 697 2906 \nL 697 3450 \nQ 1169 3672 1522 3987 \nQ 1875 4303 2022 4600 \nL 2384 4600 \nL 2384 0 \nz\n\" id=\"ArialMT-31\" transform=\"scale(0.015625)\"/>\n       </defs>\n       <use xlink:href=\"#ArialMT-31\"/>\n       <use x=\"55.615234\" xlink:href=\"#ArialMT-30\"/>\n      </g>\n     </g>\n    </g>\n    <g id=\"xtick_3\">\n     <g id=\"line2d_3\">\n      <path clip-path=\"url(#p7577c3e701)\" d=\"M 568.603045 333.36 \nL 568.603045 7.2 \n\" style=\"fill:none;stroke:#ffffff;stroke-linecap:round;stroke-width:0.8;\"/>\n     </g>\n     <g id=\"text_3\">\n      <!-- 20 -->\n      <g style=\"fill:#262626;\" transform=\"translate(557.48117 354.675625)scale(0.2 -0.2)\">\n       <defs>\n        <path d=\"M 3222 541 \nL 3222 0 \nL 194 0 \nQ 188 203 259 391 \nQ 375 700 629 1000 \nQ 884 1300 1366 1694 \nQ 2113 2306 2375 2664 \nQ 2638 3022 2638 3341 \nQ 2638 3675 2398 3904 \nQ 2159 4134 1775 4134 \nQ 1369 4134 1125 3890 \nQ 881 3647 878 3216 \nL 300 3275 \nQ 359 3922 746 4261 \nQ 1134 4600 1788 4600 \nQ 2447 4600 2831 4234 \nQ 3216 3869 3216 3328 \nQ 3216 3053 3103 2787 \nQ 2991 2522 2730 2228 \nQ 2469 1934 1863 1422 \nQ 1356 997 1212 845 \nQ 1069 694 975 541 \nL 3222 541 \nz\n\" id=\"ArialMT-32\" transform=\"scale(0.015625)\"/>\n       </defs>\n       <use xlink:href=\"#ArialMT-32\"/>\n       <use x=\"55.615234\" xlink:href=\"#ArialMT-30\"/>\n      </g>\n     </g>\n    </g>\n    <g id=\"xtick_4\">\n     <g id=\"line2d_4\">\n      <path clip-path=\"url(#p7577c3e701)\" d=\"M 764.096755 333.36 \nL 764.096755 7.2 \n\" style=\"fill:none;stroke:#ffffff;stroke-linecap:round;stroke-width:0.8;\"/>\n     </g>\n     <g id=\"text_4\">\n      <!-- 30 -->\n      <g style=\"fill:#262626;\" transform=\"translate(752.97488 354.675625)scale(0.2 -0.2)\">\n       <defs>\n        <path d=\"M 269 1209 \nL 831 1284 \nQ 928 806 1161 595 \nQ 1394 384 1728 384 \nQ 2125 384 2398 659 \nQ 2672 934 2672 1341 \nQ 2672 1728 2419 1979 \nQ 2166 2231 1775 2231 \nQ 1616 2231 1378 2169 \nL 1441 2663 \nQ 1497 2656 1531 2656 \nQ 1891 2656 2178 2843 \nQ 2466 3031 2466 3422 \nQ 2466 3731 2256 3934 \nQ 2047 4138 1716 4138 \nQ 1388 4138 1169 3931 \nQ 950 3725 888 3313 \nL 325 3413 \nQ 428 3978 793 4289 \nQ 1159 4600 1703 4600 \nQ 2078 4600 2393 4439 \nQ 2709 4278 2876 4000 \nQ 3044 3722 3044 3409 \nQ 3044 3113 2884 2869 \nQ 2725 2625 2413 2481 \nQ 2819 2388 3044 2092 \nQ 3269 1797 3269 1353 \nQ 3269 753 2831 336 \nQ 2394 -81 1725 -81 \nQ 1122 -81 723 278 \nQ 325 638 269 1209 \nz\n\" id=\"ArialMT-33\" transform=\"scale(0.015625)\"/>\n       </defs>\n       <use xlink:href=\"#ArialMT-33\"/>\n       <use x=\"55.615234\" xlink:href=\"#ArialMT-30\"/>\n      </g>\n     </g>\n    </g>\n    <g id=\"xtick_5\">\n     <g id=\"line2d_5\">\n      <path clip-path=\"url(#p7577c3e701)\" d=\"M 959.590465 333.36 \nL 959.590465 7.2 \n\" style=\"fill:none;stroke:#ffffff;stroke-linecap:round;stroke-width:0.8;\"/>\n     </g>\n     <g id=\"text_5\">\n      <!-- 40 -->\n      <g style=\"fill:#262626;\" transform=\"translate(948.46859 354.675625)scale(0.2 -0.2)\">\n       <defs>\n        <path d=\"M 2069 0 \nL 2069 1097 \nL 81 1097 \nL 81 1613 \nL 2172 4581 \nL 2631 4581 \nL 2631 1613 \nL 3250 1613 \nL 3250 1097 \nL 2631 1097 \nL 2631 0 \nL 2069 0 \nz\nM 2069 1613 \nL 2069 3678 \nL 634 1613 \nL 2069 1613 \nz\n\" id=\"ArialMT-34\" transform=\"scale(0.015625)\"/>\n       </defs>\n       <use xlink:href=\"#ArialMT-34\"/>\n       <use x=\"55.615234\" xlink:href=\"#ArialMT-30\"/>\n      </g>\n     </g>\n    </g>\n    <g id=\"text_6\">\n     <!-- t-valores -->\n     <g style=\"fill:#262626;\" transform=\"translate(585.673437 376.96625)scale(0.2 -0.2)\">\n      <defs>\n       <path d=\"M 1650 503 \nL 1731 6 \nQ 1494 -44 1306 -44 \nQ 1000 -44 831 53 \nQ 663 150 594 308 \nQ 525 466 525 972 \nL 525 2881 \nL 113 2881 \nL 113 3319 \nL 525 3319 \nL 525 4141 \nL 1084 4478 \nL 1084 3319 \nL 1650 3319 \nL 1650 2881 \nL 1084 2881 \nL 1084 941 \nQ 1084 700 1114 631 \nQ 1144 563 1211 522 \nQ 1278 481 1403 481 \nQ 1497 481 1650 503 \nz\n\" id=\"ArialMT-74\" transform=\"scale(0.015625)\"/>\n       <path d=\"M 203 1375 \nL 203 1941 \nL 1931 1941 \nL 1931 1375 \nL 203 1375 \nz\n\" id=\"ArialMT-2d\" transform=\"scale(0.015625)\"/>\n       <path d=\"M 1344 0 \nL 81 3319 \nL 675 3319 \nL 1388 1331 \nQ 1503 1009 1600 663 \nQ 1675 925 1809 1294 \nL 2547 3319 \nL 3125 3319 \nL 1869 0 \nL 1344 0 \nz\n\" id=\"ArialMT-76\" transform=\"scale(0.015625)\"/>\n       <path d=\"M 2588 409 \nQ 2275 144 1986 34 \nQ 1697 -75 1366 -75 \nQ 819 -75 525 192 \nQ 231 459 231 875 \nQ 231 1119 342 1320 \nQ 453 1522 633 1644 \nQ 813 1766 1038 1828 \nQ 1203 1872 1538 1913 \nQ 2219 1994 2541 2106 \nQ 2544 2222 2544 2253 \nQ 2544 2597 2384 2738 \nQ 2169 2928 1744 2928 \nQ 1347 2928 1158 2789 \nQ 969 2650 878 2297 \nL 328 2372 \nQ 403 2725 575 2942 \nQ 747 3159 1072 3276 \nQ 1397 3394 1825 3394 \nQ 2250 3394 2515 3294 \nQ 2781 3194 2906 3042 \nQ 3031 2891 3081 2659 \nQ 3109 2516 3109 2141 \nL 3109 1391 \nQ 3109 606 3145 398 \nQ 3181 191 3288 0 \nL 2700 0 \nQ 2613 175 2588 409 \nz\nM 2541 1666 \nQ 2234 1541 1622 1453 \nQ 1275 1403 1131 1340 \nQ 988 1278 909 1158 \nQ 831 1038 831 891 \nQ 831 666 1001 516 \nQ 1172 366 1500 366 \nQ 1825 366 2078 508 \nQ 2331 650 2450 897 \nQ 2541 1088 2541 1459 \nL 2541 1666 \nz\n\" id=\"ArialMT-61\" transform=\"scale(0.015625)\"/>\n       <path d=\"M 409 0 \nL 409 4581 \nL 972 4581 \nL 972 0 \nL 409 0 \nz\n\" id=\"ArialMT-6c\" transform=\"scale(0.015625)\"/>\n       <path d=\"M 213 1659 \nQ 213 2581 725 3025 \nQ 1153 3394 1769 3394 \nQ 2453 3394 2887 2945 \nQ 3322 2497 3322 1706 \nQ 3322 1066 3130 698 \nQ 2938 331 2570 128 \nQ 2203 -75 1769 -75 \nQ 1072 -75 642 372 \nQ 213 819 213 1659 \nz\nM 791 1659 \nQ 791 1022 1069 705 \nQ 1347 388 1769 388 \nQ 2188 388 2466 706 \nQ 2744 1025 2744 1678 \nQ 2744 2294 2464 2611 \nQ 2184 2928 1769 2928 \nQ 1347 2928 1069 2612 \nQ 791 2297 791 1659 \nz\n\" id=\"ArialMT-6f\" transform=\"scale(0.015625)\"/>\n       <path d=\"M 416 0 \nL 416 3319 \nL 922 3319 \nL 922 2816 \nQ 1116 3169 1280 3281 \nQ 1444 3394 1641 3394 \nQ 1925 3394 2219 3213 \nL 2025 2691 \nQ 1819 2813 1613 2813 \nQ 1428 2813 1281 2702 \nQ 1134 2591 1072 2394 \nQ 978 2094 978 1738 \nL 978 0 \nL 416 0 \nz\n\" id=\"ArialMT-72\" transform=\"scale(0.015625)\"/>\n       <path d=\"M 2694 1069 \nL 3275 997 \nQ 3138 488 2766 206 \nQ 2394 -75 1816 -75 \nQ 1088 -75 661 373 \nQ 234 822 234 1631 \nQ 234 2469 665 2931 \nQ 1097 3394 1784 3394 \nQ 2450 3394 2872 2941 \nQ 3294 2488 3294 1666 \nQ 3294 1616 3291 1516 \nL 816 1516 \nQ 847 969 1125 678 \nQ 1403 388 1819 388 \nQ 2128 388 2347 550 \nQ 2566 713 2694 1069 \nz\nM 847 1978 \nL 2700 1978 \nQ 2663 2397 2488 2606 \nQ 2219 2931 1791 2931 \nQ 1403 2931 1139 2672 \nQ 875 2413 847 1978 \nz\n\" id=\"ArialMT-65\" transform=\"scale(0.015625)\"/>\n       <path d=\"M 197 991 \nL 753 1078 \nQ 800 744 1014 566 \nQ 1228 388 1613 388 \nQ 2000 388 2187 545 \nQ 2375 703 2375 916 \nQ 2375 1106 2209 1216 \nQ 2094 1291 1634 1406 \nQ 1016 1563 777 1677 \nQ 538 1791 414 1992 \nQ 291 2194 291 2438 \nQ 291 2659 392 2848 \nQ 494 3038 669 3163 \nQ 800 3259 1026 3326 \nQ 1253 3394 1513 3394 \nQ 1903 3394 2198 3281 \nQ 2494 3169 2634 2976 \nQ 2775 2784 2828 2463 \nL 2278 2388 \nQ 2241 2644 2061 2787 \nQ 1881 2931 1553 2931 \nQ 1166 2931 1000 2803 \nQ 834 2675 834 2503 \nQ 834 2394 903 2306 \nQ 972 2216 1119 2156 \nQ 1203 2125 1616 2013 \nQ 2213 1853 2448 1751 \nQ 2684 1650 2818 1456 \nQ 2953 1263 2953 975 \nQ 2953 694 2789 445 \nQ 2625 197 2315 61 \nQ 2006 -75 1616 -75 \nQ 969 -75 630 194 \nQ 291 463 197 991 \nz\n\" id=\"ArialMT-73\" transform=\"scale(0.015625)\"/>\n      </defs>\n      <use xlink:href=\"#ArialMT-74\"/>\n      <use x=\"27.783203\" xlink:href=\"#ArialMT-2d\"/>\n      <use x=\"61.083984\" xlink:href=\"#ArialMT-76\"/>\n      <use x=\"111.083984\" xlink:href=\"#ArialMT-61\"/>\n      <use x=\"166.699219\" xlink:href=\"#ArialMT-6c\"/>\n      <use x=\"188.916016\" xlink:href=\"#ArialMT-6f\"/>\n      <use x=\"244.53125\" xlink:href=\"#ArialMT-72\"/>\n      <use x=\"277.832031\" xlink:href=\"#ArialMT-65\"/>\n      <use x=\"333.447266\" xlink:href=\"#ArialMT-73\"/>\n     </g>\n    </g>\n   </g>\n   <g id=\"matplotlib.axis_2\">\n    <g id=\"ytick_1\">\n     <g id=\"text_7\">\n      <!-- Intercept -->\n      <g style=\"fill:#262626;\" transform=\"translate(92.8 60.39475)scale(0.2 -0.2)\">\n       <defs>\n        <path d=\"M 597 0 \nL 597 4581 \nL 1203 4581 \nL 1203 0 \nL 597 0 \nz\n\" id=\"ArialMT-49\" transform=\"scale(0.015625)\"/>\n        <path d=\"M 422 0 \nL 422 3319 \nL 928 3319 \nL 928 2847 \nQ 1294 3394 1984 3394 \nQ 2284 3394 2536 3286 \nQ 2788 3178 2913 3003 \nQ 3038 2828 3088 2588 \nQ 3119 2431 3119 2041 \nL 3119 0 \nL 2556 0 \nL 2556 2019 \nQ 2556 2363 2490 2533 \nQ 2425 2703 2258 2804 \nQ 2091 2906 1866 2906 \nQ 1506 2906 1245 2678 \nQ 984 2450 984 1813 \nL 984 0 \nL 422 0 \nz\n\" id=\"ArialMT-6e\" transform=\"scale(0.015625)\"/>\n        <path d=\"M 2588 1216 \nL 3141 1144 \nQ 3050 572 2676 248 \nQ 2303 -75 1759 -75 \nQ 1078 -75 664 370 \nQ 250 816 250 1647 \nQ 250 2184 428 2587 \nQ 606 2991 970 3192 \nQ 1334 3394 1763 3394 \nQ 2303 3394 2647 3120 \nQ 2991 2847 3088 2344 \nL 2541 2259 \nQ 2463 2594 2264 2762 \nQ 2066 2931 1784 2931 \nQ 1359 2931 1093 2626 \nQ 828 2322 828 1663 \nQ 828 994 1084 691 \nQ 1341 388 1753 388 \nQ 2084 388 2306 591 \nQ 2528 794 2588 1216 \nz\n\" id=\"ArialMT-63\" transform=\"scale(0.015625)\"/>\n        <path d=\"M 422 -1272 \nL 422 3319 \nL 934 3319 \nL 934 2888 \nQ 1116 3141 1344 3267 \nQ 1572 3394 1897 3394 \nQ 2322 3394 2647 3175 \nQ 2972 2956 3137 2557 \nQ 3303 2159 3303 1684 \nQ 3303 1175 3120 767 \nQ 2938 359 2589 142 \nQ 2241 -75 1856 -75 \nQ 1575 -75 1351 44 \nQ 1128 163 984 344 \nL 984 -1272 \nL 422 -1272 \nz\nM 931 1641 \nQ 931 1000 1190 694 \nQ 1450 388 1819 388 \nQ 2194 388 2461 705 \nQ 2728 1022 2728 1688 \nQ 2728 2322 2467 2637 \nQ 2206 2953 1844 2953 \nQ 1484 2953 1207 2617 \nQ 931 2281 931 1641 \nz\n\" id=\"ArialMT-70\" transform=\"scale(0.015625)\"/>\n       </defs>\n       <use xlink:href=\"#ArialMT-49\"/>\n       <use x=\"27.783203\" xlink:href=\"#ArialMT-6e\"/>\n       <use x=\"83.398438\" xlink:href=\"#ArialMT-74\"/>\n       <use x=\"111.181641\" xlink:href=\"#ArialMT-65\"/>\n       <use x=\"166.796875\" xlink:href=\"#ArialMT-72\"/>\n       <use x=\"200.097656\" xlink:href=\"#ArialMT-63\"/>\n       <use x=\"250.097656\" xlink:href=\"#ArialMT-65\"/>\n       <use x=\"305.712891\" xlink:href=\"#ArialMT-70\"/>\n       <use x=\"361.328125\" xlink:href=\"#ArialMT-74\"/>\n      </g>\n     </g>\n    </g>\n    <g id=\"ytick_2\">\n     <g id=\"text_8\">\n      <!-- Farinha -->\n      <g style=\"fill:#262626;\" transform=\"translate(102.809375 138.423458)scale(0.2 -0.2)\">\n       <defs>\n        <path d=\"M 525 0 \nL 525 4581 \nL 3616 4581 \nL 3616 4041 \nL 1131 4041 \nL 1131 2622 \nL 3281 2622 \nL 3281 2081 \nL 1131 2081 \nL 1131 0 \nL 525 0 \nz\n\" id=\"ArialMT-46\" transform=\"scale(0.015625)\"/>\n        <path d=\"M 425 3934 \nL 425 4581 \nL 988 4581 \nL 988 3934 \nL 425 3934 \nz\nM 425 0 \nL 425 3319 \nL 988 3319 \nL 988 0 \nL 425 0 \nz\n\" id=\"ArialMT-69\" transform=\"scale(0.015625)\"/>\n        <path d=\"M 422 0 \nL 422 4581 \nL 984 4581 \nL 984 2938 \nQ 1378 3394 1978 3394 \nQ 2347 3394 2619 3248 \nQ 2891 3103 3008 2847 \nQ 3125 2591 3125 2103 \nL 3125 0 \nL 2563 0 \nL 2563 2103 \nQ 2563 2525 2380 2717 \nQ 2197 2909 1863 2909 \nQ 1613 2909 1392 2779 \nQ 1172 2650 1078 2428 \nQ 984 2206 984 1816 \nL 984 0 \nL 422 0 \nz\n\" id=\"ArialMT-68\" transform=\"scale(0.015625)\"/>\n       </defs>\n       <use xlink:href=\"#ArialMT-46\"/>\n       <use x=\"61.083984\" xlink:href=\"#ArialMT-61\"/>\n       <use x=\"116.699219\" xlink:href=\"#ArialMT-72\"/>\n       <use x=\"150\" xlink:href=\"#ArialMT-69\"/>\n       <use x=\"172.216797\" xlink:href=\"#ArialMT-6e\"/>\n       <use x=\"227.832031\" xlink:href=\"#ArialMT-68\"/>\n       <use x=\"283.447266\" xlink:href=\"#ArialMT-61\"/>\n      </g>\n     </g>\n    </g>\n    <g id=\"ytick_3\">\n     <g id=\"text_9\">\n      <!-- Chocolate -->\n      <g style=\"fill:#262626;\" transform=\"translate(80.5625 216.452167)scale(0.2 -0.2)\">\n       <defs>\n        <path d=\"M 3763 1606 \nL 4369 1453 \nQ 4178 706 3683 314 \nQ 3188 -78 2472 -78 \nQ 1731 -78 1267 223 \nQ 803 525 561 1097 \nQ 319 1669 319 2325 \nQ 319 3041 592 3573 \nQ 866 4106 1370 4382 \nQ 1875 4659 2481 4659 \nQ 3169 4659 3637 4309 \nQ 4106 3959 4291 3325 \nL 3694 3184 \nQ 3534 3684 3231 3912 \nQ 2928 4141 2469 4141 \nQ 1941 4141 1586 3887 \nQ 1231 3634 1087 3207 \nQ 944 2781 944 2328 \nQ 944 1744 1114 1308 \nQ 1284 872 1643 656 \nQ 2003 441 2422 441 \nQ 2931 441 3284 734 \nQ 3638 1028 3763 1606 \nz\n\" id=\"ArialMT-43\" transform=\"scale(0.015625)\"/>\n       </defs>\n       <use xlink:href=\"#ArialMT-43\"/>\n       <use x=\"72.216797\" xlink:href=\"#ArialMT-68\"/>\n       <use x=\"127.832031\" xlink:href=\"#ArialMT-6f\"/>\n       <use x=\"183.447266\" xlink:href=\"#ArialMT-63\"/>\n       <use x=\"233.447266\" xlink:href=\"#ArialMT-6f\"/>\n       <use x=\"289.0625\" xlink:href=\"#ArialMT-6c\"/>\n       <use x=\"311.279297\" xlink:href=\"#ArialMT-61\"/>\n       <use x=\"366.894531\" xlink:href=\"#ArialMT-74\"/>\n       <use x=\"394.677734\" xlink:href=\"#ArialMT-65\"/>\n      </g>\n     </g>\n    </g>\n    <g id=\"ytick_4\">\n     <g id=\"text_10\">\n      <!-- Farinha:Chocolate -->\n      <g style=\"fill:#262626;\" transform=\"translate(7.2 294.480875)scale(0.2 -0.2)\">\n       <defs>\n        <path d=\"M 578 2678 \nL 578 3319 \nL 1219 3319 \nL 1219 2678 \nL 578 2678 \nz\nM 578 0 \nL 578 641 \nL 1219 641 \nL 1219 0 \nL 578 0 \nz\n\" id=\"ArialMT-3a\" transform=\"scale(0.015625)\"/>\n       </defs>\n       <use xlink:href=\"#ArialMT-46\"/>\n       <use x=\"61.083984\" xlink:href=\"#ArialMT-61\"/>\n       <use x=\"116.699219\" xlink:href=\"#ArialMT-72\"/>\n       <use x=\"150\" xlink:href=\"#ArialMT-69\"/>\n       <use x=\"172.216797\" xlink:href=\"#ArialMT-6e\"/>\n       <use x=\"227.832031\" xlink:href=\"#ArialMT-68\"/>\n       <use x=\"283.447266\" xlink:href=\"#ArialMT-61\"/>\n       <use x=\"339.0625\" xlink:href=\"#ArialMT-3a\"/>\n       <use x=\"366.845703\" xlink:href=\"#ArialMT-43\"/>\n       <use x=\"439.0625\" xlink:href=\"#ArialMT-68\"/>\n       <use x=\"494.677734\" xlink:href=\"#ArialMT-6f\"/>\n       <use x=\"550.292969\" xlink:href=\"#ArialMT-63\"/>\n       <use x=\"600.292969\" xlink:href=\"#ArialMT-6f\"/>\n       <use x=\"655.908203\" xlink:href=\"#ArialMT-6c\"/>\n       <use x=\"678.125\" xlink:href=\"#ArialMT-61\"/>\n       <use x=\"733.740234\" xlink:href=\"#ArialMT-74\"/>\n       <use x=\"761.523438\" xlink:href=\"#ArialMT-65\"/>\n      </g>\n     </g>\n    </g>\n   </g>\n   <g id=\"patch_3\">\n    <path clip-path=\"url(#p7577c3e701)\" d=\"M 177.615625 22.025455 \nL 1027.901339 22.025455 \nL 1027.901339 84.448421 \nL 177.615625 84.448421 \nz\n\" style=\"fill:#228eda;stroke:#ffffff;stroke-linejoin:miter;\"/>\n   </g>\n   <g id=\"patch_4\">\n    <path clip-path=\"url(#p7577c3e701)\" d=\"M 177.615625 100.054163 \nL 386.955221 100.054163 \nL 386.955221 162.477129 \nL 177.615625 162.477129 \nz\n\" style=\"fill:#3bbe71;stroke:#ffffff;stroke-linejoin:miter;\"/>\n   </g>\n   <g id=\"patch_5\">\n    <path clip-path=\"url(#p7577c3e701)\" d=\"M 177.615625 178.082871 \nL 260.377791 178.082871 \nL 260.377791 240.505837 \nL 177.615625 240.505837 \nz\n\" style=\"fill:#b7e397;stroke:#ffffff;stroke-linejoin:miter;\"/>\n   </g>\n   <g id=\"patch_6\">\n    <path clip-path=\"url(#p7577c3e701)\" d=\"M 177.615625 256.111579 \nL 211.694164 256.111579 \nL 211.694164 318.534545 \nL 177.615625 318.534545 \nz\n\" style=\"fill:#cfc890;stroke:#ffffff;stroke-linejoin:miter;\"/>\n   </g>\n   <g id=\"line2d_6\">\n    <path clip-path=\"url(#p7577c3e701)\" style=\"fill:none;stroke:#424242;stroke-linecap:round;stroke-width:2.7;\"/>\n   </g>\n   <g id=\"line2d_7\">\n    <path clip-path=\"url(#p7577c3e701)\" style=\"fill:none;stroke:#424242;stroke-linecap:round;stroke-width:2.7;\"/>\n   </g>\n   <g id=\"line2d_8\">\n    <path clip-path=\"url(#p7577c3e701)\" style=\"fill:none;stroke:#424242;stroke-linecap:round;stroke-width:2.7;\"/>\n   </g>\n   <g id=\"line2d_9\">\n    <path clip-path=\"url(#p7577c3e701)\" style=\"fill:none;stroke:#424242;stroke-linecap:round;stroke-width:2.7;\"/>\n   </g>\n   <g id=\"line2d_10\">\n    <path clip-path=\"url(#p7577c3e701)\" d=\"M 231.89338 53.236938 \nL 231.89338 131.265646 \nL 231.89338 209.294354 \nL 231.89338 287.323062 \n\" style=\"fill:none;stroke:#ff0000;stroke-linecap:round;stroke-width:1.5;\"/>\n   </g>\n   <g id=\"patch_7\">\n    <path d=\"M 177.615625 333.36 \nL 177.615625 7.2 \n\" style=\"fill:none;stroke:#ffffff;stroke-linecap:square;stroke-linejoin:miter;stroke-width:0.8;\"/>\n   </g>\n   <g id=\"patch_8\">\n    <path d=\"M 1070.415625 333.36 \nL 1070.415625 7.2 \n\" style=\"fill:none;stroke:#ffffff;stroke-linecap:square;stroke-linejoin:miter;stroke-width:0.8;\"/>\n   </g>\n   <g id=\"patch_9\">\n    <path d=\"M 177.615625 333.36 \nL 1070.415625 333.36 \n\" style=\"fill:none;stroke:#ffffff;stroke-linecap:square;stroke-linejoin:miter;stroke-width:0.8;\"/>\n   </g>\n   <g id=\"patch_10\">\n    <path d=\"M 177.615625 7.2 \nL 1070.415625 7.2 \n\" style=\"fill:none;stroke:#ffffff;stroke-linecap:square;stroke-linejoin:miter;stroke-width:0.8;\"/>\n   </g>\n  </g>\n </g>\n <defs>\n  <clipPath id=\"p7577c3e701\">\n   <rect height=\"326.16\" width=\"892.8\" x=\"177.615625\" y=\"7.2\"/>\n  </clipPath>\n </defs>\n</svg>\n",
      "text/plain": [
       "<Figure size 1152x432 with 1 Axes>"
      ]
     },
     "metadata": {}
    }
   ],
   "metadata": {}
  },
  {
   "cell_type": "markdown",
   "source": [
    "# <font color = 'purple'> Propondo um novo modelo   </font>\n",
    "\n",
    "\n",
    "<p style='margin: 30px 30px;'>\n",
    "    \n",
    "<hr style = 'border: 1px solid purple;'>\n"
   ],
   "metadata": {}
  },
  {
   "cell_type": "markdown",
   "source": [
    "<hr>\n",
    "\n",
    "<img width='800px' src='figuras/Figura_3.png'>\n",
    "\n",
    "<p style='margin: 30px 30px;'> \n",
    "\n",
    "<hr>"
   ],
   "metadata": {}
  },
  {
   "cell_type": "markdown",
   "source": [
    "<p style='margin: 200px 200px;'>\n",
    "\n",
    "\n",
    "<hr>\n",
    "\n",
    "<img width='600px' src='figuras/Figura_9.png'> \n",
    "\n",
    "<p style='font-size: 18px; line-height: 2; margin: 0px 0px; text-align: justify; text-indent: 0px;'>\n",
    "\n",
    "\n",
    "<p style='margin: 30px 30px;'>\n",
    "\n",
    "    \n",
    "<hr>    \n"
   ],
   "metadata": {}
  },
  {
   "cell_type": "code",
   "execution_count": 128,
   "source": [
    "modelo_2 = smf.ols(data=experimento, formula='Porções ~ Farinha + Chocolate')"
   ],
   "outputs": [],
   "metadata": {}
  },
  {
   "cell_type": "code",
   "execution_count": 129,
   "source": [
    "modelo_ajustado_2 = modelo_2.fit()"
   ],
   "outputs": [],
   "metadata": {}
  },
  {
   "cell_type": "code",
   "execution_count": 130,
   "source": [
    "print(modelo_ajustado_2.summary())"
   ],
   "outputs": [
    {
     "output_type": "stream",
     "name": "stdout",
     "text": [
      "                            OLS Regression Results                            \n",
      "==============================================================================\n",
      "Dep. Variable:                Porções   R-squared:                       0.950\n",
      "Model:                            OLS   Adj. R-squared:                  0.929\n",
      "Method:                 Least Squares   F-statistic:                     47.09\n",
      "Date:                Tue, 31 Aug 2021   Prob (F-statistic):           0.000571\n",
      "Time:                        07:52:13   Log-Likelihood:                -16.416\n",
      "No. Observations:                   8   AIC:                             38.83\n",
      "Df Residuals:                       5   BIC:                             39.07\n",
      "Df Model:                           2                                         \n",
      "Covariance Type:            nonrobust                                         \n",
      "==============================================================================\n",
      "                 coef    std err          t      P>|t|      [0.025      0.975]\n",
      "------------------------------------------------------------------------------\n",
      "Intercept     30.8750      0.842     36.658      0.000      28.710      33.040\n",
      "Farinha       10.7500      1.191      9.025      0.000       7.688      13.812\n",
      "Chocolate      4.2500      1.191      3.568      0.016       1.188       7.312\n",
      "==============================================================================\n",
      "Omnibus:                        2.106   Durbin-Watson:                   1.850\n",
      "Prob(Omnibus):                  0.349   Jarque-Bera (JB):                1.245\n",
      "Skew:                           0.868   Prob(JB):                        0.537\n",
      "Kurtosis:                       2.153   Cond. No.                         1.41\n",
      "==============================================================================\n",
      "\n",
      "Notes:\n",
      "[1] Standard Errors assume that the covariance matrix of the errors is correctly specified.\n"
     ]
    },
    {
     "output_type": "stream",
     "name": "stderr",
     "text": [
      "/home/diego/.local/lib/python3.8/site-packages/scipy/stats/stats.py:1603: UserWarning: kurtosistest only valid for n>=20 ... continuing anyway, n=8\n",
      "  warnings.warn(\"kurtosistest only valid for n>=20 ... continuing \"\n"
     ]
    }
   ],
   "metadata": {}
  },
  {
   "cell_type": "markdown",
   "source": [
    "<hr>"
   ],
   "metadata": {}
  },
  {
   "cell_type": "markdown",
   "source": [
    "# <font color = 'purple'> Gráfico Padronizado de Pareto do novo modelo    </font>\n",
    "\n",
    "\n",
    "<p style='margin: 30px 30px;'>\n",
    "    \n",
    "<hr style = 'border: 1px solid purple;'>\n"
   ],
   "metadata": {}
  },
  {
   "cell_type": "code",
   "execution_count": 131,
   "source": [
    "t_valores = modelo_ajustado_2.tvalues"
   ],
   "outputs": [],
   "metadata": {}
  },
  {
   "cell_type": "code",
   "execution_count": 132,
   "source": [
    "t_valores"
   ],
   "outputs": [
    {
     "output_type": "execute_result",
     "data": {
      "text/plain": [
       "Intercept    36.658022\n",
       "Farinha       9.025173\n",
       "Chocolate     3.568092\n",
       "dtype: float64"
      ]
     },
     "metadata": {},
     "execution_count": 132
    }
   ],
   "metadata": {}
  },
  {
   "cell_type": "code",
   "execution_count": 133,
   "source": [
    "nomes = t_valores.index.tolist()"
   ],
   "outputs": [],
   "metadata": {}
  },
  {
   "cell_type": "code",
   "execution_count": 134,
   "source": [
    "nomes"
   ],
   "outputs": [
    {
     "output_type": "execute_result",
     "data": {
      "text/plain": [
       "['Intercept', 'Farinha', 'Chocolate']"
      ]
     },
     "metadata": {},
     "execution_count": 134
    }
   ],
   "metadata": {}
  },
  {
   "cell_type": "markdown",
   "source": [
    "### ."
   ],
   "metadata": {}
  },
  {
   "cell_type": "code",
   "execution_count": 135,
   "source": [
    "distribuicao = stats.t(df=5)"
   ],
   "outputs": [],
   "metadata": {}
  },
  {
   "cell_type": "code",
   "execution_count": 136,
   "source": [
    "distribuicao.ppf(q=1-0.025)"
   ],
   "outputs": [
    {
     "output_type": "execute_result",
     "data": {
      "text/plain": [
       "2.5705818366147395"
      ]
     },
     "metadata": {},
     "execution_count": 136
    }
   ],
   "metadata": {}
  },
  {
   "cell_type": "code",
   "execution_count": 137,
   "source": [
    "limite = [distribuicao.ppf(q=1 - 0.025)]*len(nomes)"
   ],
   "outputs": [],
   "metadata": {}
  },
  {
   "cell_type": "markdown",
   "source": [
    "### Plotando o gráfico"
   ],
   "metadata": {}
  },
  {
   "cell_type": "code",
   "execution_count": 138,
   "source": [
    "pareto = sns.barplot(x=t_valores,\n",
    "                     y=nomes)\n",
    "\n",
    "pareto.figure.set_size_inches(18,6)\n",
    "pareto.tick_params(labelsize = 20)\n",
    "pareto.set_xlabel('t-valor', fontsize=20)\n",
    "\n",
    "pareto.plot(limite, nomes, 'r')\n"
   ],
   "outputs": [
    {
     "output_type": "execute_result",
     "data": {
      "text/plain": [
       "[<matplotlib.lines.Line2D at 0x7f8a547a0d30>]"
      ]
     },
     "metadata": {},
     "execution_count": 138
    },
    {
     "output_type": "display_data",
     "data": {
      "image/png": "[encoded data removed]",
      "image/svg+xml": "<?xml version=\"1.0\" encoding=\"utf-8\" standalone=\"no\"?>\n<!DOCTYPE svg PUBLIC \"-//W3C//DTD SVG 1.1//EN\"\n  \"http://www.w3.org/Graphics/SVG/1.1/DTD/svg11.dtd\">\n<svg height=\"388.14125pt\" version=\"1.1\" viewBox=\"0 0 1115.853125 388.14125\" width=\"1115.853125pt\" xmlns=\"http://www.w3.org/2000/svg\" xmlns:xlink=\"http://www.w3.org/1999/xlink\">\n <metadata>\n  <rdf:RDF xmlns:cc=\"http://creativecommons.org/ns#\" xmlns:dc=\"http://purl.org/dc/elements/1.1/\" xmlns:rdf=\"http://www.w3.org/1999/02/22-rdf-syntax-ns#\">\n   <cc:Work>\n    <dc:type rdf:resource=\"http://purl.org/dc/dcmitype/StillImage\"/>\n    <dc:date>2021-08-31T07:52:14.322325</dc:date>\n    <dc:format>image/svg+xml</dc:format>\n    <dc:creator>\n     <cc:Agent>\n      <dc:title>Matplotlib v3.4.2, https://matplotlib.org/</dc:title>\n     </cc:Agent>\n    </dc:creator>\n   </cc:Work>\n  </rdf:RDF>\n </metadata>\n <defs>\n  <style type=\"text/css\">*{stroke-linecap:butt;stroke-linejoin:round;}</style>\n </defs>\n <g id=\"figure_1\">\n  <g id=\"patch_1\">\n   <path d=\"M -0 388.14125 \nL 1115.853125 388.14125 \nL 1115.853125 0 \nL -0 0 \nz\n\" style=\"fill:#ffffff;\"/>\n  </g>\n  <g id=\"axes_1\">\n   <g id=\"patch_2\">\n    <path d=\"M 104.253125 333.36 \nL 1108.653125 333.36 \nL 1108.653125 7.2 \nL 104.253125 7.2 \nz\n\" style=\"fill:#eaeaf2;\"/>\n   </g>\n   <g id=\"matplotlib.axis_1\">\n    <g id=\"xtick_1\">\n     <g id=\"line2d_1\">\n      <path clip-path=\"url(#p4b86a281b7)\" d=\"M 104.253125 333.36 \nL 104.253125 7.2 \n\" style=\"fill:none;stroke:#ffffff;stroke-linecap:round;stroke-width:0.8;\"/>\n     </g>\n     <g id=\"text_1\">\n      <!-- 0 -->\n      <g style=\"fill:#262626;\" transform=\"translate(98.692188 354.675625)scale(0.2 -0.2)\">\n       <defs>\n        <path d=\"M 266 2259 \nQ 266 3072 433 3567 \nQ 600 4063 929 4331 \nQ 1259 4600 1759 4600 \nQ 2128 4600 2406 4451 \nQ 2684 4303 2865 4023 \nQ 3047 3744 3150 3342 \nQ 3253 2941 3253 2259 \nQ 3253 1453 3087 958 \nQ 2922 463 2592 192 \nQ 2263 -78 1759 -78 \nQ 1097 -78 719 397 \nQ 266 969 266 2259 \nz\nM 844 2259 \nQ 844 1131 1108 757 \nQ 1372 384 1759 384 \nQ 2147 384 2411 759 \nQ 2675 1134 2675 2259 \nQ 2675 3391 2411 3762 \nQ 2147 4134 1753 4134 \nQ 1366 4134 1134 3806 \nQ 844 3388 844 2259 \nz\n\" id=\"ArialMT-30\" transform=\"scale(0.015625)\"/>\n       </defs>\n       <use xlink:href=\"#ArialMT-30\"/>\n      </g>\n     </g>\n    </g>\n    <g id=\"xtick_2\">\n     <g id=\"line2d_2\">\n      <path clip-path=\"url(#p4b86a281b7)\" d=\"M 234.725444 333.36 \nL 234.725444 7.2 \n\" style=\"fill:none;stroke:#ffffff;stroke-linecap:round;stroke-width:0.8;\"/>\n     </g>\n     <g id=\"text_2\">\n      <!-- 5 -->\n      <g style=\"fill:#262626;\" transform=\"translate(229.164507 354.675625)scale(0.2 -0.2)\">\n       <defs>\n        <path d=\"M 266 1200 \nL 856 1250 \nQ 922 819 1161 601 \nQ 1400 384 1738 384 \nQ 2144 384 2425 690 \nQ 2706 997 2706 1503 \nQ 2706 1984 2436 2262 \nQ 2166 2541 1728 2541 \nQ 1456 2541 1237 2417 \nQ 1019 2294 894 2097 \nL 366 2166 \nL 809 4519 \nL 3088 4519 \nL 3088 3981 \nL 1259 3981 \nL 1013 2750 \nQ 1425 3038 1878 3038 \nQ 2478 3038 2890 2622 \nQ 3303 2206 3303 1553 \nQ 3303 931 2941 478 \nQ 2500 -78 1738 -78 \nQ 1113 -78 717 272 \nQ 322 622 266 1200 \nz\n\" id=\"ArialMT-35\" transform=\"scale(0.015625)\"/>\n       </defs>\n       <use xlink:href=\"#ArialMT-35\"/>\n      </g>\n     </g>\n    </g>\n    <g id=\"xtick_3\">\n     <g id=\"line2d_3\">\n      <path clip-path=\"url(#p4b86a281b7)\" d=\"M 365.197764 333.36 \nL 365.197764 7.2 \n\" style=\"fill:none;stroke:#ffffff;stroke-linecap:round;stroke-width:0.8;\"/>\n     </g>\n     <g id=\"text_3\">\n      <!-- 10 -->\n      <g style=\"fill:#262626;\" transform=\"translate(354.075889 354.675625)scale(0.2 -0.2)\">\n       <defs>\n        <path d=\"M 2384 0 \nL 1822 0 \nL 1822 3584 \nQ 1619 3391 1289 3197 \nQ 959 3003 697 2906 \nL 697 3450 \nQ 1169 3672 1522 3987 \nQ 1875 4303 2022 4600 \nL 2384 4600 \nL 2384 0 \nz\n\" id=\"ArialMT-31\" transform=\"scale(0.015625)\"/>\n       </defs>\n       <use xlink:href=\"#ArialMT-31\"/>\n       <use x=\"55.615234\" xlink:href=\"#ArialMT-30\"/>\n      </g>\n     </g>\n    </g>\n    <g id=\"xtick_4\">\n     <g id=\"line2d_4\">\n      <path clip-path=\"url(#p4b86a281b7)\" d=\"M 495.670083 333.36 \nL 495.670083 7.2 \n\" style=\"fill:none;stroke:#ffffff;stroke-linecap:round;stroke-width:0.8;\"/>\n     </g>\n     <g id=\"text_4\">\n      <!-- 15 -->\n      <g style=\"fill:#262626;\" transform=\"translate(484.548208 354.675625)scale(0.2 -0.2)\">\n       <use xlink:href=\"#ArialMT-31\"/>\n       <use x=\"55.615234\" xlink:href=\"#ArialMT-35\"/>\n      </g>\n     </g>\n    </g>\n    <g id=\"xtick_5\">\n     <g id=\"line2d_5\">\n      <path clip-path=\"url(#p4b86a281b7)\" d=\"M 626.142402 333.36 \nL 626.142402 7.2 \n\" style=\"fill:none;stroke:#ffffff;stroke-linecap:round;stroke-width:0.8;\"/>\n     </g>\n     <g id=\"text_5\">\n      <!-- 20 -->\n      <g style=\"fill:#262626;\" transform=\"translate(615.020527 354.675625)scale(0.2 -0.2)\">\n       <defs>\n        <path d=\"M 3222 541 \nL 3222 0 \nL 194 0 \nQ 188 203 259 391 \nQ 375 700 629 1000 \nQ 884 1300 1366 1694 \nQ 2113 2306 2375 2664 \nQ 2638 3022 2638 3341 \nQ 2638 3675 2398 3904 \nQ 2159 4134 1775 4134 \nQ 1369 4134 1125 3890 \nQ 881 3647 878 3216 \nL 300 3275 \nQ 359 3922 746 4261 \nQ 1134 4600 1788 4600 \nQ 2447 4600 2831 4234 \nQ 3216 3869 3216 3328 \nQ 3216 3053 3103 2787 \nQ 2991 2522 2730 2228 \nQ 2469 1934 1863 1422 \nQ 1356 997 1212 845 \nQ 1069 694 975 541 \nL 3222 541 \nz\n\" id=\"ArialMT-32\" transform=\"scale(0.015625)\"/>\n       </defs>\n       <use xlink:href=\"#ArialMT-32\"/>\n       <use x=\"55.615234\" xlink:href=\"#ArialMT-30\"/>\n      </g>\n     </g>\n    </g>\n    <g id=\"xtick_6\">\n     <g id=\"line2d_6\">\n      <path clip-path=\"url(#p4b86a281b7)\" d=\"M 756.614721 333.36 \nL 756.614721 7.2 \n\" style=\"fill:none;stroke:#ffffff;stroke-linecap:round;stroke-width:0.8;\"/>\n     </g>\n     <g id=\"text_6\">\n      <!-- 25 -->\n      <g style=\"fill:#262626;\" transform=\"translate(745.492846 354.675625)scale(0.2 -0.2)\">\n       <use xlink:href=\"#ArialMT-32\"/>\n       <use x=\"55.615234\" xlink:href=\"#ArialMT-35\"/>\n      </g>\n     </g>\n    </g>\n    <g id=\"xtick_7\">\n     <g id=\"line2d_7\">\n      <path clip-path=\"url(#p4b86a281b7)\" d=\"M 887.087041 333.36 \nL 887.087041 7.2 \n\" style=\"fill:none;stroke:#ffffff;stroke-linecap:round;stroke-width:0.8;\"/>\n     </g>\n     <g id=\"text_7\">\n      <!-- 30 -->\n      <g style=\"fill:#262626;\" transform=\"translate(875.965166 354.675625)scale(0.2 -0.2)\">\n       <defs>\n        <path d=\"M 269 1209 \nL 831 1284 \nQ 928 806 1161 595 \nQ 1394 384 1728 384 \nQ 2125 384 2398 659 \nQ 2672 934 2672 1341 \nQ 2672 1728 2419 1979 \nQ 2166 2231 1775 2231 \nQ 1616 2231 1378 2169 \nL 1441 2663 \nQ 1497 2656 1531 2656 \nQ 1891 2656 2178 2843 \nQ 2466 3031 2466 3422 \nQ 2466 3731 2256 3934 \nQ 2047 4138 1716 4138 \nQ 1388 4138 1169 3931 \nQ 950 3725 888 3313 \nL 325 3413 \nQ 428 3978 793 4289 \nQ 1159 4600 1703 4600 \nQ 2078 4600 2393 4439 \nQ 2709 4278 2876 4000 \nQ 3044 3722 3044 3409 \nQ 3044 3113 2884 2869 \nQ 2725 2625 2413 2481 \nQ 2819 2388 3044 2092 \nQ 3269 1797 3269 1353 \nQ 3269 753 2831 336 \nQ 2394 -81 1725 -81 \nQ 1122 -81 723 278 \nQ 325 638 269 1209 \nz\n\" id=\"ArialMT-33\" transform=\"scale(0.015625)\"/>\n       </defs>\n       <use xlink:href=\"#ArialMT-33\"/>\n       <use x=\"55.615234\" xlink:href=\"#ArialMT-30\"/>\n      </g>\n     </g>\n    </g>\n    <g id=\"xtick_8\">\n     <g id=\"line2d_8\">\n      <path clip-path=\"url(#p4b86a281b7)\" d=\"M 1017.55936 333.36 \nL 1017.55936 7.2 \n\" style=\"fill:none;stroke:#ffffff;stroke-linecap:round;stroke-width:0.8;\"/>\n     </g>\n     <g id=\"text_8\">\n      <!-- 35 -->\n      <g style=\"fill:#262626;\" transform=\"translate(1006.437485 354.675625)scale(0.2 -0.2)\">\n       <use xlink:href=\"#ArialMT-33\"/>\n       <use x=\"55.615234\" xlink:href=\"#ArialMT-35\"/>\n      </g>\n     </g>\n    </g>\n    <g id=\"text_9\">\n     <!-- t-valor -->\n     <g style=\"fill:#262626;\" transform=\"translate(578.671875 376.96625)scale(0.2 -0.2)\">\n      <defs>\n       <path d=\"M 1650 503 \nL 1731 6 \nQ 1494 -44 1306 -44 \nQ 1000 -44 831 53 \nQ 663 150 594 308 \nQ 525 466 525 972 \nL 525 2881 \nL 113 2881 \nL 113 3319 \nL 525 3319 \nL 525 4141 \nL 1084 4478 \nL 1084 3319 \nL 1650 3319 \nL 1650 2881 \nL 1084 2881 \nL 1084 941 \nQ 1084 700 1114 631 \nQ 1144 563 1211 522 \nQ 1278 481 1403 481 \nQ 1497 481 1650 503 \nz\n\" id=\"ArialMT-74\" transform=\"scale(0.015625)\"/>\n       <path d=\"M 203 1375 \nL 203 1941 \nL 1931 1941 \nL 1931 1375 \nL 203 1375 \nz\n\" id=\"ArialMT-2d\" transform=\"scale(0.015625)\"/>\n       <path d=\"M 1344 0 \nL 81 3319 \nL 675 3319 \nL 1388 1331 \nQ 1503 1009 1600 663 \nQ 1675 925 1809 1294 \nL 2547 3319 \nL 3125 3319 \nL 1869 0 \nL 1344 0 \nz\n\" id=\"ArialMT-76\" transform=\"scale(0.015625)\"/>\n       <path d=\"M 2588 409 \nQ 2275 144 1986 34 \nQ 1697 -75 1366 -75 \nQ 819 -75 525 192 \nQ 231 459 231 875 \nQ 231 1119 342 1320 \nQ 453 1522 633 1644 \nQ 813 1766 1038 1828 \nQ 1203 1872 1538 1913 \nQ 2219 1994 2541 2106 \nQ 2544 2222 2544 2253 \nQ 2544 2597 2384 2738 \nQ 2169 2928 1744 2928 \nQ 1347 2928 1158 2789 \nQ 969 2650 878 2297 \nL 328 2372 \nQ 403 2725 575 2942 \nQ 747 3159 1072 3276 \nQ 1397 3394 1825 3394 \nQ 2250 3394 2515 3294 \nQ 2781 3194 2906 3042 \nQ 3031 2891 3081 2659 \nQ 3109 2516 3109 2141 \nL 3109 1391 \nQ 3109 606 3145 398 \nQ 3181 191 3288 0 \nL 2700 0 \nQ 2613 175 2588 409 \nz\nM 2541 1666 \nQ 2234 1541 1622 1453 \nQ 1275 1403 1131 1340 \nQ 988 1278 909 1158 \nQ 831 1038 831 891 \nQ 831 666 1001 516 \nQ 1172 366 1500 366 \nQ 1825 366 2078 508 \nQ 2331 650 2450 897 \nQ 2541 1088 2541 1459 \nL 2541 1666 \nz\n\" id=\"ArialMT-61\" transform=\"scale(0.015625)\"/>\n       <path d=\"M 409 0 \nL 409 4581 \nL 972 4581 \nL 972 0 \nL 409 0 \nz\n\" id=\"ArialMT-6c\" transform=\"scale(0.015625)\"/>\n       <path d=\"M 213 1659 \nQ 213 2581 725 3025 \nQ 1153 3394 1769 3394 \nQ 2453 3394 2887 2945 \nQ 3322 2497 3322 1706 \nQ 3322 1066 3130 698 \nQ 2938 331 2570 128 \nQ 2203 -75 1769 -75 \nQ 1072 -75 642 372 \nQ 213 819 213 1659 \nz\nM 791 1659 \nQ 791 1022 1069 705 \nQ 1347 388 1769 388 \nQ 2188 388 2466 706 \nQ 2744 1025 2744 1678 \nQ 2744 2294 2464 2611 \nQ 2184 2928 1769 2928 \nQ 1347 2928 1069 2612 \nQ 791 2297 791 1659 \nz\n\" id=\"ArialMT-6f\" transform=\"scale(0.015625)\"/>\n       <path d=\"M 416 0 \nL 416 3319 \nL 922 3319 \nL 922 2816 \nQ 1116 3169 1280 3281 \nQ 1444 3394 1641 3394 \nQ 1925 3394 2219 3213 \nL 2025 2691 \nQ 1819 2813 1613 2813 \nQ 1428 2813 1281 2702 \nQ 1134 2591 1072 2394 \nQ 978 2094 978 1738 \nL 978 0 \nL 416 0 \nz\n\" id=\"ArialMT-72\" transform=\"scale(0.015625)\"/>\n      </defs>\n      <use xlink:href=\"#ArialMT-74\"/>\n      <use x=\"27.783203\" xlink:href=\"#ArialMT-2d\"/>\n      <use x=\"61.083984\" xlink:href=\"#ArialMT-76\"/>\n      <use x=\"111.083984\" xlink:href=\"#ArialMT-61\"/>\n      <use x=\"166.699219\" xlink:href=\"#ArialMT-6c\"/>\n      <use x=\"188.916016\" xlink:href=\"#ArialMT-6f\"/>\n      <use x=\"244.53125\" xlink:href=\"#ArialMT-72\"/>\n     </g>\n    </g>\n   </g>\n   <g id=\"matplotlib.axis_2\">\n    <g id=\"ytick_1\">\n     <g id=\"text_10\">\n      <!-- Intercept -->\n      <g style=\"fill:#262626;\" transform=\"translate(19.4375 71.541709)scale(0.2 -0.2)\">\n       <defs>\n        <path d=\"M 597 0 \nL 597 4581 \nL 1203 4581 \nL 1203 0 \nL 597 0 \nz\n\" id=\"ArialMT-49\" transform=\"scale(0.015625)\"/>\n        <path d=\"M 422 0 \nL 422 3319 \nL 928 3319 \nL 928 2847 \nQ 1294 3394 1984 3394 \nQ 2284 3394 2536 3286 \nQ 2788 3178 2913 3003 \nQ 3038 2828 3088 2588 \nQ 3119 2431 3119 2041 \nL 3119 0 \nL 2556 0 \nL 2556 2019 \nQ 2556 2363 2490 2533 \nQ 2425 2703 2258 2804 \nQ 2091 2906 1866 2906 \nQ 1506 2906 1245 2678 \nQ 984 2450 984 1813 \nL 984 0 \nL 422 0 \nz\n\" id=\"ArialMT-6e\" transform=\"scale(0.015625)\"/>\n        <path d=\"M 2694 1069 \nL 3275 997 \nQ 3138 488 2766 206 \nQ 2394 -75 1816 -75 \nQ 1088 -75 661 373 \nQ 234 822 234 1631 \nQ 234 2469 665 2931 \nQ 1097 3394 1784 3394 \nQ 2450 3394 2872 2941 \nQ 3294 2488 3294 1666 \nQ 3294 1616 3291 1516 \nL 816 1516 \nQ 847 969 1125 678 \nQ 1403 388 1819 388 \nQ 2128 388 2347 550 \nQ 2566 713 2694 1069 \nz\nM 847 1978 \nL 2700 1978 \nQ 2663 2397 2488 2606 \nQ 2219 2931 1791 2931 \nQ 1403 2931 1139 2672 \nQ 875 2413 847 1978 \nz\n\" id=\"ArialMT-65\" transform=\"scale(0.015625)\"/>\n        <path d=\"M 2588 1216 \nL 3141 1144 \nQ 3050 572 2676 248 \nQ 2303 -75 1759 -75 \nQ 1078 -75 664 370 \nQ 250 816 250 1647 \nQ 250 2184 428 2587 \nQ 606 2991 970 3192 \nQ 1334 3394 1763 3394 \nQ 2303 3394 2647 3120 \nQ 2991 2847 3088 2344 \nL 2541 2259 \nQ 2463 2594 2264 2762 \nQ 2066 2931 1784 2931 \nQ 1359 2931 1093 2626 \nQ 828 2322 828 1663 \nQ 828 994 1084 691 \nQ 1341 388 1753 388 \nQ 2084 388 2306 591 \nQ 2528 794 2588 1216 \nz\n\" id=\"ArialMT-63\" transform=\"scale(0.015625)\"/>\n        <path d=\"M 422 -1272 \nL 422 3319 \nL 934 3319 \nL 934 2888 \nQ 1116 3141 1344 3267 \nQ 1572 3394 1897 3394 \nQ 2322 3394 2647 3175 \nQ 2972 2956 3137 2557 \nQ 3303 2159 3303 1684 \nQ 3303 1175 3120 767 \nQ 2938 359 2589 142 \nQ 2241 -75 1856 -75 \nQ 1575 -75 1351 44 \nQ 1128 163 984 344 \nL 984 -1272 \nL 422 -1272 \nz\nM 931 1641 \nQ 931 1000 1190 694 \nQ 1450 388 1819 388 \nQ 2194 388 2461 705 \nQ 2728 1022 2728 1688 \nQ 2728 2322 2467 2637 \nQ 2206 2953 1844 2953 \nQ 1484 2953 1207 2617 \nQ 931 2281 931 1641 \nz\n\" id=\"ArialMT-70\" transform=\"scale(0.015625)\"/>\n       </defs>\n       <use xlink:href=\"#ArialMT-49\"/>\n       <use x=\"27.783203\" xlink:href=\"#ArialMT-6e\"/>\n       <use x=\"83.398438\" xlink:href=\"#ArialMT-74\"/>\n       <use x=\"111.181641\" xlink:href=\"#ArialMT-65\"/>\n       <use x=\"166.796875\" xlink:href=\"#ArialMT-72\"/>\n       <use x=\"200.097656\" xlink:href=\"#ArialMT-63\"/>\n       <use x=\"250.097656\" xlink:href=\"#ArialMT-65\"/>\n       <use x=\"305.712891\" xlink:href=\"#ArialMT-70\"/>\n       <use x=\"361.328125\" xlink:href=\"#ArialMT-74\"/>\n      </g>\n     </g>\n    </g>\n    <g id=\"ytick_2\">\n     <g id=\"text_11\">\n      <!-- Farinha -->\n      <g style=\"fill:#262626;\" transform=\"translate(29.446875 177.437813)scale(0.2 -0.2)\">\n       <defs>\n        <path d=\"M 525 0 \nL 525 4581 \nL 3616 4581 \nL 3616 4041 \nL 1131 4041 \nL 1131 2622 \nL 3281 2622 \nL 3281 2081 \nL 1131 2081 \nL 1131 0 \nL 525 0 \nz\n\" id=\"ArialMT-46\" transform=\"scale(0.015625)\"/>\n        <path d=\"M 425 3934 \nL 425 4581 \nL 988 4581 \nL 988 3934 \nL 425 3934 \nz\nM 425 0 \nL 425 3319 \nL 988 3319 \nL 988 0 \nL 425 0 \nz\n\" id=\"ArialMT-69\" transform=\"scale(0.015625)\"/>\n        <path d=\"M 422 0 \nL 422 4581 \nL 984 4581 \nL 984 2938 \nQ 1378 3394 1978 3394 \nQ 2347 3394 2619 3248 \nQ 2891 3103 3008 2847 \nQ 3125 2591 3125 2103 \nL 3125 0 \nL 2563 0 \nL 2563 2103 \nQ 2563 2525 2380 2717 \nQ 2197 2909 1863 2909 \nQ 1613 2909 1392 2779 \nQ 1172 2650 1078 2428 \nQ 984 2206 984 1816 \nL 984 0 \nL 422 0 \nz\n\" id=\"ArialMT-68\" transform=\"scale(0.015625)\"/>\n       </defs>\n       <use xlink:href=\"#ArialMT-46\"/>\n       <use x=\"61.083984\" xlink:href=\"#ArialMT-61\"/>\n       <use x=\"116.699219\" xlink:href=\"#ArialMT-72\"/>\n       <use x=\"150\" xlink:href=\"#ArialMT-69\"/>\n       <use x=\"172.216797\" xlink:href=\"#ArialMT-6e\"/>\n       <use x=\"227.832031\" xlink:href=\"#ArialMT-68\"/>\n       <use x=\"283.447266\" xlink:href=\"#ArialMT-61\"/>\n      </g>\n     </g>\n    </g>\n    <g id=\"ytick_3\">\n     <g id=\"text_12\">\n      <!-- Chocolate -->\n      <g style=\"fill:#262626;\" transform=\"translate(7.2 283.333916)scale(0.2 -0.2)\">\n       <defs>\n        <path d=\"M 3763 1606 \nL 4369 1453 \nQ 4178 706 3683 314 \nQ 3188 -78 2472 -78 \nQ 1731 -78 1267 223 \nQ 803 525 561 1097 \nQ 319 1669 319 2325 \nQ 319 3041 592 3573 \nQ 866 4106 1370 4382 \nQ 1875 4659 2481 4659 \nQ 3169 4659 3637 4309 \nQ 4106 3959 4291 3325 \nL 3694 3184 \nQ 3534 3684 3231 3912 \nQ 2928 4141 2469 4141 \nQ 1941 4141 1586 3887 \nQ 1231 3634 1087 3207 \nQ 944 2781 944 2328 \nQ 944 1744 1114 1308 \nQ 1284 872 1643 656 \nQ 2003 441 2422 441 \nQ 2931 441 3284 734 \nQ 3638 1028 3763 1606 \nz\n\" id=\"ArialMT-43\" transform=\"scale(0.015625)\"/>\n       </defs>\n       <use xlink:href=\"#ArialMT-43\"/>\n       <use x=\"72.216797\" xlink:href=\"#ArialMT-68\"/>\n       <use x=\"127.832031\" xlink:href=\"#ArialMT-6f\"/>\n       <use x=\"183.447266\" xlink:href=\"#ArialMT-63\"/>\n       <use x=\"233.447266\" xlink:href=\"#ArialMT-6f\"/>\n       <use x=\"289.0625\" xlink:href=\"#ArialMT-6c\"/>\n       <use x=\"311.279297\" xlink:href=\"#ArialMT-61\"/>\n       <use x=\"366.894531\" xlink:href=\"#ArialMT-74\"/>\n       <use x=\"394.677734\" xlink:href=\"#ArialMT-65\"/>\n      </g>\n     </g>\n    </g>\n   </g>\n   <g id=\"patch_3\">\n    <path clip-path=\"url(#p4b86a281b7)\" d=\"M 104.253125 22.025455 \nL 1060.824554 22.025455 \nL 1060.824554 106.742338 \nL 104.253125 106.742338 \nz\n\" style=\"fill:#228eda;stroke:#ffffff;stroke-linejoin:miter;\"/>\n   </g>\n   <g id=\"patch_4\">\n    <path clip-path=\"url(#p4b86a281b7)\" d=\"M 104.253125 127.921558 \nL 339.760171 127.921558 \nL 339.760171 212.638442 \nL 104.253125 212.638442 \nz\n\" style=\"fill:#3bbe71;stroke:#ffffff;stroke-linejoin:miter;\"/>\n   </g>\n   <g id=\"patch_5\">\n    <path clip-path=\"url(#p4b86a281b7)\" d=\"M 104.253125 233.817662 \nL 197.360562 233.817662 \nL 197.360562 318.534545 \nL 104.253125 318.534545 \nz\n\" style=\"fill:#b7e397;stroke:#ffffff;stroke-linejoin:miter;\"/>\n   </g>\n   <g id=\"line2d_9\">\n    <path clip-path=\"url(#p4b86a281b7)\" style=\"fill:none;stroke:#424242;stroke-linecap:round;stroke-width:2.7;\"/>\n   </g>\n   <g id=\"line2d_10\">\n    <path clip-path=\"url(#p4b86a281b7)\" style=\"fill:none;stroke:#424242;stroke-linecap:round;stroke-width:2.7;\"/>\n   </g>\n   <g id=\"line2d_11\">\n    <path clip-path=\"url(#p4b86a281b7)\" style=\"fill:none;stroke:#424242;stroke-linecap:round;stroke-width:2.7;\"/>\n   </g>\n   <g id=\"line2d_12\">\n    <path clip-path=\"url(#p4b86a281b7)\" d=\"M 171.33108 64.383896 \nL 171.33108 170.28 \nL 171.33108 276.176104 \n\" style=\"fill:none;stroke:#ff0000;stroke-linecap:round;stroke-width:1.5;\"/>\n   </g>\n   <g id=\"patch_6\">\n    <path d=\"M 104.253125 333.36 \nL 104.253125 7.2 \n\" style=\"fill:none;stroke:#ffffff;stroke-linecap:square;stroke-linejoin:miter;stroke-width:0.8;\"/>\n   </g>\n   <g id=\"patch_7\">\n    <path d=\"M 1108.653125 333.36 \nL 1108.653125 7.2 \n\" style=\"fill:none;stroke:#ffffff;stroke-linecap:square;stroke-linejoin:miter;stroke-width:0.8;\"/>\n   </g>\n   <g id=\"patch_8\">\n    <path d=\"M 104.253125 333.36 \nL 1108.653125 333.36 \n\" style=\"fill:none;stroke:#ffffff;stroke-linecap:square;stroke-linejoin:miter;stroke-width:0.8;\"/>\n   </g>\n   <g id=\"patch_9\">\n    <path d=\"M 104.253125 7.2 \nL 1108.653125 7.2 \n\" style=\"fill:none;stroke:#ffffff;stroke-linecap:square;stroke-linejoin:miter;stroke-width:0.8;\"/>\n   </g>\n  </g>\n </g>\n <defs>\n  <clipPath id=\"p4b86a281b7\">\n   <rect height=\"326.16\" width=\"1004.4\" x=\"104.253125\" y=\"7.2\"/>\n  </clipPath>\n </defs>\n</svg>\n",
      "text/plain": [
       "<Figure size 1296x432 with 1 Axes>"
      ]
     },
     "metadata": {}
    }
   ],
   "metadata": {}
  },
  {
   "cell_type": "markdown",
   "source": [
    "<font color='red' style='font-size: 30px;'> Preditos por observados  </font>\n",
    "<hr style='border: 2px solid red;'>"
   ],
   "metadata": {}
  },
  {
   "cell_type": "code",
   "execution_count": 139,
   "source": [
    "observados = experimento['Porções']"
   ],
   "outputs": [],
   "metadata": {}
  },
  {
   "cell_type": "code",
   "execution_count": 140,
   "source": [
    "observados"
   ],
   "outputs": [
    {
     "output_type": "execute_result",
     "data": {
      "text/plain": [
       "0    19\n",
       "1    37\n",
       "2    24\n",
       "3    49\n",
       "4    29\n",
       "5    30\n",
       "6    29\n",
       "7    30\n",
       "Name: Porções, dtype: int64"
      ]
     },
     "metadata": {},
     "execution_count": 140
    }
   ],
   "metadata": {}
  },
  {
   "cell_type": "markdown",
   "source": [
    "### ."
   ],
   "metadata": {}
  },
  {
   "cell_type": "code",
   "execution_count": 141,
   "source": [
    "preditos = modelo_ajustado_2.predict()"
   ],
   "outputs": [],
   "metadata": {}
  },
  {
   "cell_type": "code",
   "execution_count": 142,
   "source": [
    "preditos"
   ],
   "outputs": [
    {
     "output_type": "execute_result",
     "data": {
      "text/plain": [
       "array([15.875, 37.375, 24.375, 45.875, 30.875, 30.875, 30.875, 30.875])"
      ]
     },
     "metadata": {},
     "execution_count": 142
    }
   ],
   "metadata": {}
  },
  {
   "cell_type": "markdown",
   "source": [
    "### ."
   ],
   "metadata": {}
  },
  {
   "cell_type": "code",
   "execution_count": 143,
   "source": [
    "import matplotlib.pyplot as plt"
   ],
   "outputs": [],
   "metadata": {}
  },
  {
   "cell_type": "code",
   "execution_count": 144,
   "source": [
    "plt.figure(figsize=(10, 5))\n",
    "\n",
    "plt.xlabel('Preditos', fontsize=16)\n",
    "plt.ylabel('Observados', fontsize=16)\n",
    "\n",
    "\n",
    "#Linha de guia\n",
    "\n",
    "x = np.linspace(start=15, stop= 50, num=10)\n",
    "y = np.linspace(start=15, stop= 50, num=10)\n",
    "\n",
    "plt.plot(x, y, 'r')\n",
    "\n",
    "#Comparação\n",
    "\n",
    "plt.scatter(preditos, observados)"
   ],
   "outputs": [
    {
     "output_type": "execute_result",
     "data": {
      "text/plain": [
       "<matplotlib.collections.PathCollection at 0x7f8a546b5fd0>"
      ]
     },
     "metadata": {},
     "execution_count": 144
    },
    {
     "output_type": "display_data",
     "data": {
      "image/png": "[encoded data removed]",
      "image/svg+xml": "<?xml version=\"1.0\" encoding=\"utf-8\" standalone=\"no\"?>\n<!DOCTYPE svg PUBLIC \"-//W3C//DTD SVG 1.1//EN\"\n  \"http://www.w3.org/Graphics/SVG/1.1/DTD/svg11.dtd\">\n<svg height=\"320.977813pt\" version=\"1.1\" viewBox=\"0 0 609.154375 320.977813\" width=\"609.154375pt\" xmlns=\"http://www.w3.org/2000/svg\" xmlns:xlink=\"http://www.w3.org/1999/xlink\">\n <metadata>\n  <rdf:RDF xmlns:cc=\"http://creativecommons.org/ns#\" xmlns:dc=\"http://purl.org/dc/elements/1.1/\" xmlns:rdf=\"http://www.w3.org/1999/02/22-rdf-syntax-ns#\">\n   <cc:Work>\n    <dc:type rdf:resource=\"http://purl.org/dc/dcmitype/StillImage\"/>\n    <dc:date>2021-08-31T07:52:14.910974</dc:date>\n    <dc:format>image/svg+xml</dc:format>\n    <dc:creator>\n     <cc:Agent>\n      <dc:title>Matplotlib v3.4.2, https://matplotlib.org/</dc:title>\n     </cc:Agent>\n    </dc:creator>\n   </cc:Work>\n  </rdf:RDF>\n </metadata>\n <defs>\n  <style type=\"text/css\">*{stroke-linecap:butt;stroke-linejoin:round;}</style>\n </defs>\n <g id=\"figure_1\">\n  <g id=\"patch_1\">\n   <path d=\"M 0 320.977813 \nL 609.154375 320.977813 \nL 609.154375 0 \nL 0 0 \nz\n\" style=\"fill:#ffffff;\"/>\n  </g>\n  <g id=\"axes_1\">\n   <g id=\"patch_2\">\n    <path d=\"M 43.954375 279 \nL 601.954375 279 \nL 601.954375 7.2 \nL 43.954375 7.2 \nz\n\" style=\"fill:#eaeaf2;\"/>\n   </g>\n   <g id=\"matplotlib.axis_1\">\n    <g id=\"xtick_1\">\n     <g id=\"line2d_1\">\n      <path clip-path=\"url(#pf04c1e1c63)\" d=\"M 69.318011 279 \nL 69.318011 7.2 \n\" style=\"fill:none;stroke:#ffffff;stroke-linecap:round;stroke-width:0.8;\"/>\n     </g>\n     <g id=\"text_1\">\n      <!-- 15 -->\n      <g style=\"fill:#262626;\" transform=\"translate(63.757074 293.157813)scale(0.1 -0.1)\">\n       <defs>\n        <path d=\"M 2384 0 \nL 1822 0 \nL 1822 3584 \nQ 1619 3391 1289 3197 \nQ 959 3003 697 2906 \nL 697 3450 \nQ 1169 3672 1522 3987 \nQ 1875 4303 2022 4600 \nL 2384 4600 \nL 2384 0 \nz\n\" id=\"ArialMT-31\" transform=\"scale(0.015625)\"/>\n        <path d=\"M 266 1200 \nL 856 1250 \nQ 922 819 1161 601 \nQ 1400 384 1738 384 \nQ 2144 384 2425 690 \nQ 2706 997 2706 1503 \nQ 2706 1984 2436 2262 \nQ 2166 2541 1728 2541 \nQ 1456 2541 1237 2417 \nQ 1019 2294 894 2097 \nL 366 2166 \nL 809 4519 \nL 3088 4519 \nL 3088 3981 \nL 1259 3981 \nL 1013 2750 \nQ 1425 3038 1878 3038 \nQ 2478 3038 2890 2622 \nQ 3303 2206 3303 1553 \nQ 3303 931 2941 478 \nQ 2500 -78 1738 -78 \nQ 1113 -78 717 272 \nQ 322 622 266 1200 \nz\n\" id=\"ArialMT-35\" transform=\"scale(0.015625)\"/>\n       </defs>\n       <use xlink:href=\"#ArialMT-31\"/>\n       <use x=\"55.615234\" xlink:href=\"#ArialMT-35\"/>\n      </g>\n     </g>\n    </g>\n    <g id=\"xtick_2\">\n     <g id=\"line2d_2\">\n      <path clip-path=\"url(#pf04c1e1c63)\" d=\"M 141.785544 279 \nL 141.785544 7.2 \n\" style=\"fill:none;stroke:#ffffff;stroke-linecap:round;stroke-width:0.8;\"/>\n     </g>\n     <g id=\"text_2\">\n      <!-- 20 -->\n      <g style=\"fill:#262626;\" transform=\"translate(136.224606 293.157813)scale(0.1 -0.1)\">\n       <defs>\n        <path d=\"M 3222 541 \nL 3222 0 \nL 194 0 \nQ 188 203 259 391 \nQ 375 700 629 1000 \nQ 884 1300 1366 1694 \nQ 2113 2306 2375 2664 \nQ 2638 3022 2638 3341 \nQ 2638 3675 2398 3904 \nQ 2159 4134 1775 4134 \nQ 1369 4134 1125 3890 \nQ 881 3647 878 3216 \nL 300 3275 \nQ 359 3922 746 4261 \nQ 1134 4600 1788 4600 \nQ 2447 4600 2831 4234 \nQ 3216 3869 3216 3328 \nQ 3216 3053 3103 2787 \nQ 2991 2522 2730 2228 \nQ 2469 1934 1863 1422 \nQ 1356 997 1212 845 \nQ 1069 694 975 541 \nL 3222 541 \nz\n\" id=\"ArialMT-32\" transform=\"scale(0.015625)\"/>\n        <path d=\"M 266 2259 \nQ 266 3072 433 3567 \nQ 600 4063 929 4331 \nQ 1259 4600 1759 4600 \nQ 2128 4600 2406 4451 \nQ 2684 4303 2865 4023 \nQ 3047 3744 3150 3342 \nQ 3253 2941 3253 2259 \nQ 3253 1453 3087 958 \nQ 2922 463 2592 192 \nQ 2263 -78 1759 -78 \nQ 1097 -78 719 397 \nQ 266 969 266 2259 \nz\nM 844 2259 \nQ 844 1131 1108 757 \nQ 1372 384 1759 384 \nQ 2147 384 2411 759 \nQ 2675 1134 2675 2259 \nQ 2675 3391 2411 3762 \nQ 2147 4134 1753 4134 \nQ 1366 4134 1134 3806 \nQ 844 3388 844 2259 \nz\n\" id=\"ArialMT-30\" transform=\"scale(0.015625)\"/>\n       </defs>\n       <use xlink:href=\"#ArialMT-32\"/>\n       <use x=\"55.615234\" xlink:href=\"#ArialMT-30\"/>\n      </g>\n     </g>\n    </g>\n    <g id=\"xtick_3\">\n     <g id=\"line2d_3\">\n      <path clip-path=\"url(#pf04c1e1c63)\" d=\"M 214.253076 279 \nL 214.253076 7.2 \n\" style=\"fill:none;stroke:#ffffff;stroke-linecap:round;stroke-width:0.8;\"/>\n     </g>\n     <g id=\"text_3\">\n      <!-- 25 -->\n      <g style=\"fill:#262626;\" transform=\"translate(208.692139 293.157813)scale(0.1 -0.1)\">\n       <use xlink:href=\"#ArialMT-32\"/>\n       <use x=\"55.615234\" xlink:href=\"#ArialMT-35\"/>\n      </g>\n     </g>\n    </g>\n    <g id=\"xtick_4\">\n     <g id=\"line2d_4\">\n      <path clip-path=\"url(#pf04c1e1c63)\" d=\"M 286.720609 279 \nL 286.720609 7.2 \n\" style=\"fill:none;stroke:#ffffff;stroke-linecap:round;stroke-width:0.8;\"/>\n     </g>\n     <g id=\"text_4\">\n      <!-- 30 -->\n      <g style=\"fill:#262626;\" transform=\"translate(281.159671 293.157813)scale(0.1 -0.1)\">\n       <defs>\n        <path d=\"M 269 1209 \nL 831 1284 \nQ 928 806 1161 595 \nQ 1394 384 1728 384 \nQ 2125 384 2398 659 \nQ 2672 934 2672 1341 \nQ 2672 1728 2419 1979 \nQ 2166 2231 1775 2231 \nQ 1616 2231 1378 2169 \nL 1441 2663 \nQ 1497 2656 1531 2656 \nQ 1891 2656 2178 2843 \nQ 2466 3031 2466 3422 \nQ 2466 3731 2256 3934 \nQ 2047 4138 1716 4138 \nQ 1388 4138 1169 3931 \nQ 950 3725 888 3313 \nL 325 3413 \nQ 428 3978 793 4289 \nQ 1159 4600 1703 4600 \nQ 2078 4600 2393 4439 \nQ 2709 4278 2876 4000 \nQ 3044 3722 3044 3409 \nQ 3044 3113 2884 2869 \nQ 2725 2625 2413 2481 \nQ 2819 2388 3044 2092 \nQ 3269 1797 3269 1353 \nQ 3269 753 2831 336 \nQ 2394 -81 1725 -81 \nQ 1122 -81 723 278 \nQ 325 638 269 1209 \nz\n\" id=\"ArialMT-33\" transform=\"scale(0.015625)\"/>\n       </defs>\n       <use xlink:href=\"#ArialMT-33\"/>\n       <use x=\"55.615234\" xlink:href=\"#ArialMT-30\"/>\n      </g>\n     </g>\n    </g>\n    <g id=\"xtick_5\">\n     <g id=\"line2d_5\">\n      <path clip-path=\"url(#pf04c1e1c63)\" d=\"M 359.188141 279 \nL 359.188141 7.2 \n\" style=\"fill:none;stroke:#ffffff;stroke-linecap:round;stroke-width:0.8;\"/>\n     </g>\n     <g id=\"text_5\">\n      <!-- 35 -->\n      <g style=\"fill:#262626;\" transform=\"translate(353.627204 293.157813)scale(0.1 -0.1)\">\n       <use xlink:href=\"#ArialMT-33\"/>\n       <use x=\"55.615234\" xlink:href=\"#ArialMT-35\"/>\n      </g>\n     </g>\n    </g>\n    <g id=\"xtick_6\">\n     <g id=\"line2d_6\">\n      <path clip-path=\"url(#pf04c1e1c63)\" d=\"M 431.655674 279 \nL 431.655674 7.2 \n\" style=\"fill:none;stroke:#ffffff;stroke-linecap:round;stroke-width:0.8;\"/>\n     </g>\n     <g id=\"text_6\">\n      <!-- 40 -->\n      <g style=\"fill:#262626;\" transform=\"translate(426.094736 293.157813)scale(0.1 -0.1)\">\n       <defs>\n        <path d=\"M 2069 0 \nL 2069 1097 \nL 81 1097 \nL 81 1613 \nL 2172 4581 \nL 2631 4581 \nL 2631 1613 \nL 3250 1613 \nL 3250 1097 \nL 2631 1097 \nL 2631 0 \nL 2069 0 \nz\nM 2069 1613 \nL 2069 3678 \nL 634 1613 \nL 2069 1613 \nz\n\" id=\"ArialMT-34\" transform=\"scale(0.015625)\"/>\n       </defs>\n       <use xlink:href=\"#ArialMT-34\"/>\n       <use x=\"55.615234\" xlink:href=\"#ArialMT-30\"/>\n      </g>\n     </g>\n    </g>\n    <g id=\"xtick_7\">\n     <g id=\"line2d_7\">\n      <path clip-path=\"url(#pf04c1e1c63)\" d=\"M 504.123206 279 \nL 504.123206 7.2 \n\" style=\"fill:none;stroke:#ffffff;stroke-linecap:round;stroke-width:0.8;\"/>\n     </g>\n     <g id=\"text_7\">\n      <!-- 45 -->\n      <g style=\"fill:#262626;\" transform=\"translate(498.562269 293.157813)scale(0.1 -0.1)\">\n       <use xlink:href=\"#ArialMT-34\"/>\n       <use x=\"55.615234\" xlink:href=\"#ArialMT-35\"/>\n      </g>\n     </g>\n    </g>\n    <g id=\"xtick_8\">\n     <g id=\"line2d_8\">\n      <path clip-path=\"url(#pf04c1e1c63)\" d=\"M 576.590739 279 \nL 576.590739 7.2 \n\" style=\"fill:none;stroke:#ffffff;stroke-linecap:round;stroke-width:0.8;\"/>\n     </g>\n     <g id=\"text_8\">\n      <!-- 50 -->\n      <g style=\"fill:#262626;\" transform=\"translate(571.029801 293.157813)scale(0.1 -0.1)\">\n       <use xlink:href=\"#ArialMT-35\"/>\n       <use x=\"55.615234\" xlink:href=\"#ArialMT-30\"/>\n      </g>\n     </g>\n    </g>\n    <g id=\"text_9\">\n     <!-- Preditos -->\n     <g style=\"fill:#262626;\" transform=\"translate(293.608125 310.597813)scale(0.16 -0.16)\">\n      <defs>\n       <path d=\"M 494 0 \nL 494 4581 \nL 2222 4581 \nQ 2678 4581 2919 4538 \nQ 3256 4481 3484 4323 \nQ 3713 4166 3852 3881 \nQ 3991 3597 3991 3256 \nQ 3991 2672 3619 2267 \nQ 3247 1863 2275 1863 \nL 1100 1863 \nL 1100 0 \nL 494 0 \nz\nM 1100 2403 \nL 2284 2403 \nQ 2872 2403 3119 2622 \nQ 3366 2841 3366 3238 \nQ 3366 3525 3220 3729 \nQ 3075 3934 2838 4000 \nQ 2684 4041 2272 4041 \nL 1100 4041 \nL 1100 2403 \nz\n\" id=\"ArialMT-50\" transform=\"scale(0.015625)\"/>\n       <path d=\"M 416 0 \nL 416 3319 \nL 922 3319 \nL 922 2816 \nQ 1116 3169 1280 3281 \nQ 1444 3394 1641 3394 \nQ 1925 3394 2219 3213 \nL 2025 2691 \nQ 1819 2813 1613 2813 \nQ 1428 2813 1281 2702 \nQ 1134 2591 1072 2394 \nQ 978 2094 978 1738 \nL 978 0 \nL 416 0 \nz\n\" id=\"ArialMT-72\" transform=\"scale(0.015625)\"/>\n       <path d=\"M 2694 1069 \nL 3275 997 \nQ 3138 488 2766 206 \nQ 2394 -75 1816 -75 \nQ 1088 -75 661 373 \nQ 234 822 234 1631 \nQ 234 2469 665 2931 \nQ 1097 3394 1784 3394 \nQ 2450 3394 2872 2941 \nQ 3294 2488 3294 1666 \nQ 3294 1616 3291 1516 \nL 816 1516 \nQ 847 969 1125 678 \nQ 1403 388 1819 388 \nQ 2128 388 2347 550 \nQ 2566 713 2694 1069 \nz\nM 847 1978 \nL 2700 1978 \nQ 2663 2397 2488 2606 \nQ 2219 2931 1791 2931 \nQ 1403 2931 1139 2672 \nQ 875 2413 847 1978 \nz\n\" id=\"ArialMT-65\" transform=\"scale(0.015625)\"/>\n       <path d=\"M 2575 0 \nL 2575 419 \nQ 2259 -75 1647 -75 \nQ 1250 -75 917 144 \nQ 584 363 401 755 \nQ 219 1147 219 1656 \nQ 219 2153 384 2558 \nQ 550 2963 881 3178 \nQ 1213 3394 1622 3394 \nQ 1922 3394 2156 3267 \nQ 2391 3141 2538 2938 \nL 2538 4581 \nL 3097 4581 \nL 3097 0 \nL 2575 0 \nz\nM 797 1656 \nQ 797 1019 1065 703 \nQ 1334 388 1700 388 \nQ 2069 388 2326 689 \nQ 2584 991 2584 1609 \nQ 2584 2291 2321 2609 \nQ 2059 2928 1675 2928 \nQ 1300 2928 1048 2622 \nQ 797 2316 797 1656 \nz\n\" id=\"ArialMT-64\" transform=\"scale(0.015625)\"/>\n       <path d=\"M 425 3934 \nL 425 4581 \nL 988 4581 \nL 988 3934 \nL 425 3934 \nz\nM 425 0 \nL 425 3319 \nL 988 3319 \nL 988 0 \nL 425 0 \nz\n\" id=\"ArialMT-69\" transform=\"scale(0.015625)\"/>\n       <path d=\"M 1650 503 \nL 1731 6 \nQ 1494 -44 1306 -44 \nQ 1000 -44 831 53 \nQ 663 150 594 308 \nQ 525 466 525 972 \nL 525 2881 \nL 113 2881 \nL 113 3319 \nL 525 3319 \nL 525 4141 \nL 1084 4478 \nL 1084 3319 \nL 1650 3319 \nL 1650 2881 \nL 1084 2881 \nL 1084 941 \nQ 1084 700 1114 631 \nQ 1144 563 1211 522 \nQ 1278 481 1403 481 \nQ 1497 481 1650 503 \nz\n\" id=\"ArialMT-74\" transform=\"scale(0.015625)\"/>\n       <path d=\"M 213 1659 \nQ 213 2581 725 3025 \nQ 1153 3394 1769 3394 \nQ 2453 3394 2887 2945 \nQ 3322 2497 3322 1706 \nQ 3322 1066 3130 698 \nQ 2938 331 2570 128 \nQ 2203 -75 1769 -75 \nQ 1072 -75 642 372 \nQ 213 819 213 1659 \nz\nM 791 1659 \nQ 791 1022 1069 705 \nQ 1347 388 1769 388 \nQ 2188 388 2466 706 \nQ 2744 1025 2744 1678 \nQ 2744 2294 2464 2611 \nQ 2184 2928 1769 2928 \nQ 1347 2928 1069 2612 \nQ 791 2297 791 1659 \nz\n\" id=\"ArialMT-6f\" transform=\"scale(0.015625)\"/>\n       <path d=\"M 197 991 \nL 753 1078 \nQ 800 744 1014 566 \nQ 1228 388 1613 388 \nQ 2000 388 2187 545 \nQ 2375 703 2375 916 \nQ 2375 1106 2209 1216 \nQ 2094 1291 1634 1406 \nQ 1016 1563 777 1677 \nQ 538 1791 414 1992 \nQ 291 2194 291 2438 \nQ 291 2659 392 2848 \nQ 494 3038 669 3163 \nQ 800 3259 1026 3326 \nQ 1253 3394 1513 3394 \nQ 1903 3394 2198 3281 \nQ 2494 3169 2634 2976 \nQ 2775 2784 2828 2463 \nL 2278 2388 \nQ 2241 2644 2061 2787 \nQ 1881 2931 1553 2931 \nQ 1166 2931 1000 2803 \nQ 834 2675 834 2503 \nQ 834 2394 903 2306 \nQ 972 2216 1119 2156 \nQ 1203 2125 1616 2013 \nQ 2213 1853 2448 1751 \nQ 2684 1650 2818 1456 \nQ 2953 1263 2953 975 \nQ 2953 694 2789 445 \nQ 2625 197 2315 61 \nQ 2006 -75 1616 -75 \nQ 969 -75 630 194 \nQ 291 463 197 991 \nz\n\" id=\"ArialMT-73\" transform=\"scale(0.015625)\"/>\n      </defs>\n      <use xlink:href=\"#ArialMT-50\"/>\n      <use x=\"66.699219\" xlink:href=\"#ArialMT-72\"/>\n      <use x=\"100\" xlink:href=\"#ArialMT-65\"/>\n      <use x=\"155.615234\" xlink:href=\"#ArialMT-64\"/>\n      <use x=\"211.230469\" xlink:href=\"#ArialMT-69\"/>\n      <use x=\"233.447266\" xlink:href=\"#ArialMT-74\"/>\n      <use x=\"261.230469\" xlink:href=\"#ArialMT-6f\"/>\n      <use x=\"316.845703\" xlink:href=\"#ArialMT-73\"/>\n     </g>\n    </g>\n   </g>\n   <g id=\"matplotlib.axis_2\">\n    <g id=\"ytick_1\">\n     <g id=\"line2d_9\">\n      <path clip-path=\"url(#pf04c1e1c63)\" d=\"M 43.954375 266.645455 \nL 601.954375 266.645455 \n\" style=\"fill:none;stroke:#ffffff;stroke-linecap:round;stroke-width:0.8;\"/>\n     </g>\n     <g id=\"text_10\">\n      <!-- 15 -->\n      <g style=\"fill:#262626;\" transform=\"translate(25.8325 270.224361)scale(0.1 -0.1)\">\n       <use xlink:href=\"#ArialMT-31\"/>\n       <use x=\"55.615234\" xlink:href=\"#ArialMT-35\"/>\n      </g>\n     </g>\n    </g>\n    <g id=\"ytick_2\">\n     <g id=\"line2d_10\">\n      <path clip-path=\"url(#pf04c1e1c63)\" d=\"M 43.954375 231.346753 \nL 601.954375 231.346753 \n\" style=\"fill:none;stroke:#ffffff;stroke-linecap:round;stroke-width:0.8;\"/>\n     </g>\n     <g id=\"text_11\">\n      <!-- 20 -->\n      <g style=\"fill:#262626;\" transform=\"translate(25.8325 234.925659)scale(0.1 -0.1)\">\n       <use xlink:href=\"#ArialMT-32\"/>\n       <use x=\"55.615234\" xlink:href=\"#ArialMT-30\"/>\n      </g>\n     </g>\n    </g>\n    <g id=\"ytick_3\">\n     <g id=\"line2d_11\">\n      <path clip-path=\"url(#pf04c1e1c63)\" d=\"M 43.954375 196.048052 \nL 601.954375 196.048052 \n\" style=\"fill:none;stroke:#ffffff;stroke-linecap:round;stroke-width:0.8;\"/>\n     </g>\n     <g id=\"text_12\">\n      <!-- 25 -->\n      <g style=\"fill:#262626;\" transform=\"translate(25.8325 199.626958)scale(0.1 -0.1)\">\n       <use xlink:href=\"#ArialMT-32\"/>\n       <use x=\"55.615234\" xlink:href=\"#ArialMT-35\"/>\n      </g>\n     </g>\n    </g>\n    <g id=\"ytick_4\">\n     <g id=\"line2d_12\">\n      <path clip-path=\"url(#pf04c1e1c63)\" d=\"M 43.954375 160.749351 \nL 601.954375 160.749351 \n\" style=\"fill:none;stroke:#ffffff;stroke-linecap:round;stroke-width:0.8;\"/>\n     </g>\n     <g id=\"text_13\">\n      <!-- 30 -->\n      <g style=\"fill:#262626;\" transform=\"translate(25.8325 164.328257)scale(0.1 -0.1)\">\n       <use xlink:href=\"#ArialMT-33\"/>\n       <use x=\"55.615234\" xlink:href=\"#ArialMT-30\"/>\n      </g>\n     </g>\n    </g>\n    <g id=\"ytick_5\">\n     <g id=\"line2d_13\">\n      <path clip-path=\"url(#pf04c1e1c63)\" d=\"M 43.954375 125.450649 \nL 601.954375 125.450649 \n\" style=\"fill:none;stroke:#ffffff;stroke-linecap:round;stroke-width:0.8;\"/>\n     </g>\n     <g id=\"text_14\">\n      <!-- 35 -->\n      <g style=\"fill:#262626;\" transform=\"translate(25.8325 129.029556)scale(0.1 -0.1)\">\n       <use xlink:href=\"#ArialMT-33\"/>\n       <use x=\"55.615234\" xlink:href=\"#ArialMT-35\"/>\n      </g>\n     </g>\n    </g>\n    <g id=\"ytick_6\">\n     <g id=\"line2d_14\">\n      <path clip-path=\"url(#pf04c1e1c63)\" d=\"M 43.954375 90.151948 \nL 601.954375 90.151948 \n\" style=\"fill:none;stroke:#ffffff;stroke-linecap:round;stroke-width:0.8;\"/>\n     </g>\n     <g id=\"text_15\">\n      <!-- 40 -->\n      <g style=\"fill:#262626;\" transform=\"translate(25.8325 93.730854)scale(0.1 -0.1)\">\n       <use xlink:href=\"#ArialMT-34\"/>\n       <use x=\"55.615234\" xlink:href=\"#ArialMT-30\"/>\n      </g>\n     </g>\n    </g>\n    <g id=\"ytick_7\">\n     <g id=\"line2d_15\">\n      <path clip-path=\"url(#pf04c1e1c63)\" d=\"M 43.954375 54.853247 \nL 601.954375 54.853247 \n\" style=\"fill:none;stroke:#ffffff;stroke-linecap:round;stroke-width:0.8;\"/>\n     </g>\n     <g id=\"text_16\">\n      <!-- 45 -->\n      <g style=\"fill:#262626;\" transform=\"translate(25.8325 58.432153)scale(0.1 -0.1)\">\n       <use xlink:href=\"#ArialMT-34\"/>\n       <use x=\"55.615234\" xlink:href=\"#ArialMT-35\"/>\n      </g>\n     </g>\n    </g>\n    <g id=\"ytick_8\">\n     <g id=\"line2d_16\">\n      <path clip-path=\"url(#pf04c1e1c63)\" d=\"M 43.954375 19.554545 \nL 601.954375 19.554545 \n\" style=\"fill:none;stroke:#ffffff;stroke-linecap:round;stroke-width:0.8;\"/>\n     </g>\n     <g id=\"text_17\">\n      <!-- 50 -->\n      <g style=\"fill:#262626;\" transform=\"translate(25.8325 23.133452)scale(0.1 -0.1)\">\n       <use xlink:href=\"#ArialMT-35\"/>\n       <use x=\"55.615234\" xlink:href=\"#ArialMT-30\"/>\n      </g>\n     </g>\n    </g>\n    <g id=\"text_18\">\n     <!-- Observados -->\n     <g style=\"fill:#262626;\" transform=\"translate(18.6525 186.23)rotate(-90)scale(0.16 -0.16)\">\n      <defs>\n       <path d=\"M 309 2231 \nQ 309 3372 921 4017 \nQ 1534 4663 2503 4663 \nQ 3138 4663 3647 4359 \nQ 4156 4056 4423 3514 \nQ 4691 2972 4691 2284 \nQ 4691 1588 4409 1038 \nQ 4128 488 3612 205 \nQ 3097 -78 2500 -78 \nQ 1853 -78 1343 234 \nQ 834 547 571 1087 \nQ 309 1628 309 2231 \nz\nM 934 2222 \nQ 934 1394 1379 917 \nQ 1825 441 2497 441 \nQ 3181 441 3623 922 \nQ 4066 1403 4066 2288 \nQ 4066 2847 3877 3264 \nQ 3688 3681 3323 3911 \nQ 2959 4141 2506 4141 \nQ 1863 4141 1398 3698 \nQ 934 3256 934 2222 \nz\n\" id=\"ArialMT-4f\" transform=\"scale(0.015625)\"/>\n       <path d=\"M 941 0 \nL 419 0 \nL 419 4581 \nL 981 4581 \nL 981 2947 \nQ 1338 3394 1891 3394 \nQ 2197 3394 2470 3270 \nQ 2744 3147 2920 2923 \nQ 3097 2700 3197 2384 \nQ 3297 2069 3297 1709 \nQ 3297 856 2875 390 \nQ 2453 -75 1863 -75 \nQ 1275 -75 941 416 \nL 941 0 \nz\nM 934 1684 \nQ 934 1088 1097 822 \nQ 1363 388 1816 388 \nQ 2184 388 2453 708 \nQ 2722 1028 2722 1663 \nQ 2722 2313 2464 2622 \nQ 2206 2931 1841 2931 \nQ 1472 2931 1203 2611 \nQ 934 2291 934 1684 \nz\n\" id=\"ArialMT-62\" transform=\"scale(0.015625)\"/>\n       <path d=\"M 1344 0 \nL 81 3319 \nL 675 3319 \nL 1388 1331 \nQ 1503 1009 1600 663 \nQ 1675 925 1809 1294 \nL 2547 3319 \nL 3125 3319 \nL 1869 0 \nL 1344 0 \nz\n\" id=\"ArialMT-76\" transform=\"scale(0.015625)\"/>\n       <path d=\"M 2588 409 \nQ 2275 144 1986 34 \nQ 1697 -75 1366 -75 \nQ 819 -75 525 192 \nQ 231 459 231 875 \nQ 231 1119 342 1320 \nQ 453 1522 633 1644 \nQ 813 1766 1038 1828 \nQ 1203 1872 1538 1913 \nQ 2219 1994 2541 2106 \nQ 2544 2222 2544 2253 \nQ 2544 2597 2384 2738 \nQ 2169 2928 1744 2928 \nQ 1347 2928 1158 2789 \nQ 969 2650 878 2297 \nL 328 2372 \nQ 403 2725 575 2942 \nQ 747 3159 1072 3276 \nQ 1397 3394 1825 3394 \nQ 2250 3394 2515 3294 \nQ 2781 3194 2906 3042 \nQ 3031 2891 3081 2659 \nQ 3109 2516 3109 2141 \nL 3109 1391 \nQ 3109 606 3145 398 \nQ 3181 191 3288 0 \nL 2700 0 \nQ 2613 175 2588 409 \nz\nM 2541 1666 \nQ 2234 1541 1622 1453 \nQ 1275 1403 1131 1340 \nQ 988 1278 909 1158 \nQ 831 1038 831 891 \nQ 831 666 1001 516 \nQ 1172 366 1500 366 \nQ 1825 366 2078 508 \nQ 2331 650 2450 897 \nQ 2541 1088 2541 1459 \nL 2541 1666 \nz\n\" id=\"ArialMT-61\" transform=\"scale(0.015625)\"/>\n      </defs>\n      <use xlink:href=\"#ArialMT-4f\"/>\n      <use x=\"77.783203\" xlink:href=\"#ArialMT-62\"/>\n      <use x=\"133.398438\" xlink:href=\"#ArialMT-73\"/>\n      <use x=\"183.398438\" xlink:href=\"#ArialMT-65\"/>\n      <use x=\"239.013672\" xlink:href=\"#ArialMT-72\"/>\n      <use x=\"272.314453\" xlink:href=\"#ArialMT-76\"/>\n      <use x=\"322.314453\" xlink:href=\"#ArialMT-61\"/>\n      <use x=\"377.929688\" xlink:href=\"#ArialMT-64\"/>\n      <use x=\"433.544922\" xlink:href=\"#ArialMT-6f\"/>\n      <use x=\"489.160156\" xlink:href=\"#ArialMT-73\"/>\n     </g>\n    </g>\n   </g>\n   <g id=\"PathCollection_1\">\n    <defs>\n     <path d=\"M 0 3 \nC 0.795609 3 1.55874 2.683901 2.12132 2.12132 \nC 2.683901 1.55874 3 0.795609 3 0 \nC 3 -0.795609 2.683901 -1.55874 2.12132 -2.12132 \nC 1.55874 -2.683901 0.795609 -3 0 -3 \nC -0.795609 -3 -1.55874 -2.683901 -2.12132 -2.12132 \nC -2.683901 -1.55874 -3 -0.795609 -3 0 \nC -3 0.795609 -2.683901 1.55874 -2.12132 2.12132 \nC -1.55874 2.683901 -0.795609 3 0 3 \nz\n\" id=\"m2e39bb99c7\" style=\"stroke:#0393f9;\"/>\n    </defs>\n    <g clip-path=\"url(#pf04c1e1c63)\">\n     <use style=\"fill:#0393f9;stroke:#0393f9;\" x=\"81.99983\" xlink:href=\"#m2e39bb99c7\" y=\"238.406494\"/>\n     <use style=\"fill:#0393f9;stroke:#0393f9;\" x=\"393.610219\" xlink:href=\"#m2e39bb99c7\" y=\"111.331169\"/>\n     <use style=\"fill:#0393f9;stroke:#0393f9;\" x=\"205.194635\" xlink:href=\"#m2e39bb99c7\" y=\"203.107792\"/>\n     <use style=\"fill:#0393f9;stroke:#0393f9;\" x=\"516.805024\" xlink:href=\"#m2e39bb99c7\" y=\"26.614286\"/>\n     <use style=\"fill:#0393f9;stroke:#0393f9;\" x=\"299.402427\" xlink:href=\"#m2e39bb99c7\" y=\"167.809091\"/>\n     <use style=\"fill:#0393f9;stroke:#0393f9;\" x=\"299.402427\" xlink:href=\"#m2e39bb99c7\" y=\"160.749351\"/>\n     <use style=\"fill:#0393f9;stroke:#0393f9;\" x=\"299.402427\" xlink:href=\"#m2e39bb99c7\" y=\"167.809091\"/>\n     <use style=\"fill:#0393f9;stroke:#0393f9;\" x=\"299.402427\" xlink:href=\"#m2e39bb99c7\" y=\"160.749351\"/>\n    </g>\n   </g>\n   <g id=\"line2d_17\">\n    <path clip-path=\"url(#pf04c1e1c63)\" d=\"M 69.318011 266.645455 \nL 125.681648 239.190909 \nL 182.045284 211.736364 \nL 238.40892 184.281818 \nL 294.772557 156.827273 \nL 351.136193 129.372727 \nL 407.49983 101.918182 \nL 463.863466 74.463636 \nL 520.227102 47.009091 \nL 576.590739 19.554545 \n\" style=\"fill:none;stroke:#ff0000;stroke-linecap:round;stroke-width:1.5;\"/>\n   </g>\n   <g id=\"patch_3\">\n    <path d=\"M 43.954375 279 \nL 43.954375 7.2 \n\" style=\"fill:none;stroke:#ffffff;stroke-linecap:square;stroke-linejoin:miter;stroke-width:0.8;\"/>\n   </g>\n   <g id=\"patch_4\">\n    <path d=\"M 601.954375 279 \nL 601.954375 7.2 \n\" style=\"fill:none;stroke:#ffffff;stroke-linecap:square;stroke-linejoin:miter;stroke-width:0.8;\"/>\n   </g>\n   <g id=\"patch_5\">\n    <path d=\"M 43.954375 279 \nL 601.954375 279 \n\" style=\"fill:none;stroke:#ffffff;stroke-linecap:square;stroke-linejoin:miter;stroke-width:0.8;\"/>\n   </g>\n   <g id=\"patch_6\">\n    <path d=\"M 43.954375 7.2 \nL 601.954375 7.2 \n\" style=\"fill:none;stroke:#ffffff;stroke-linecap:square;stroke-linejoin:miter;stroke-width:0.8;\"/>\n   </g>\n  </g>\n </g>\n <defs>\n  <clipPath id=\"pf04c1e1c63\">\n   <rect height=\"271.8\" width=\"558\" x=\"43.954375\" y=\"7.2\"/>\n  </clipPath>\n </defs>\n</svg>\n",
      "text/plain": [
       "<Figure size 720x360 with 1 Axes>"
      ]
     },
     "metadata": {}
    }
   ],
   "metadata": {}
  },
  {
   "cell_type": "markdown",
   "source": [
    "<hr>"
   ],
   "metadata": {}
  },
  {
   "cell_type": "code",
   "execution_count": 145,
   "source": [
    "print(modelo_ajustado_2.summary())"
   ],
   "outputs": [
    {
     "output_type": "stream",
     "name": "stdout",
     "text": [
      "                            OLS Regression Results                            \n",
      "==============================================================================\n",
      "Dep. Variable:                Porções   R-squared:                       0.950\n",
      "Model:                            OLS   Adj. R-squared:                  0.929\n",
      "Method:                 Least Squares   F-statistic:                     47.09\n",
      "Date:                Tue, 31 Aug 2021   Prob (F-statistic):           0.000571\n",
      "Time:                        07:52:15   Log-Likelihood:                -16.416\n",
      "No. Observations:                   8   AIC:                             38.83\n",
      "Df Residuals:                       5   BIC:                             39.07\n",
      "Df Model:                           2                                         \n",
      "Covariance Type:            nonrobust                                         \n",
      "==============================================================================\n",
      "                 coef    std err          t      P>|t|      [0.025      0.975]\n",
      "------------------------------------------------------------------------------\n",
      "Intercept     30.8750      0.842     36.658      0.000      28.710      33.040\n",
      "Farinha       10.7500      1.191      9.025      0.000       7.688      13.812\n",
      "Chocolate      4.2500      1.191      3.568      0.016       1.188       7.312\n",
      "==============================================================================\n",
      "Omnibus:                        2.106   Durbin-Watson:                   1.850\n",
      "Prob(Omnibus):                  0.349   Jarque-Bera (JB):                1.245\n",
      "Skew:                           0.868   Prob(JB):                        0.537\n",
      "Kurtosis:                       2.153   Cond. No.                         1.41\n",
      "==============================================================================\n",
      "\n",
      "Notes:\n",
      "[1] Standard Errors assume that the covariance matrix of the errors is correctly specified.\n"
     ]
    },
    {
     "output_type": "stream",
     "name": "stderr",
     "text": [
      "/home/diego/.local/lib/python3.8/site-packages/scipy/stats/stats.py:1603: UserWarning: kurtosistest only valid for n>=20 ... continuing anyway, n=8\n",
      "  warnings.warn(\"kurtosistest only valid for n>=20 ... continuing \"\n"
     ]
    }
   ],
   "metadata": {}
  },
  {
   "cell_type": "markdown",
   "source": [
    "### ."
   ],
   "metadata": {}
  },
  {
   "cell_type": "markdown",
   "source": [
    "# <font color = 'purple'> Explorando o modelo   </font>\n",
    "\n",
    "\n",
    "<p style='margin: 30px 30px;'>\n",
    "    \n",
    "<hr style = 'border: 1px solid purple;'>"
   ],
   "metadata": {}
  },
  {
   "cell_type": "code",
   "execution_count": 146,
   "source": [
    "parametros = modelo_ajustado_2.params"
   ],
   "outputs": [],
   "metadata": {}
  },
  {
   "cell_type": "code",
   "execution_count": 147,
   "source": [
    "parametros"
   ],
   "outputs": [
    {
     "output_type": "execute_result",
     "data": {
      "text/plain": [
       "Intercept    30.875\n",
       "Farinha      10.750\n",
       "Chocolate     4.250\n",
       "dtype: float64"
      ]
     },
     "metadata": {},
     "execution_count": 147
    }
   ],
   "metadata": {}
  },
  {
   "cell_type": "markdown",
   "source": [
    "### ."
   ],
   "metadata": {}
  },
  {
   "cell_type": "markdown",
   "source": [
    "### Definindo a função"
   ],
   "metadata": {}
  },
  {
   "cell_type": "code",
   "execution_count": 174,
   "source": [
    "def modelo_receita(x_f, x_c):\n",
    "\n",
    "    #limites\n",
    "    limite_normalizado = [-1, +1]\n",
    "    limite_farina = [0.5, 1.5]\n",
    "    limite_chocolate = [0.1, 0.5]\n",
    "\n",
    "    #converter\n",
    "    x_f_convertido = np.interp(x_f, limite_farina, limite_normalizado)\n",
    "    x_c_convertido = np.interp(x_c, limite_chocolate, limite_normalizado)\n",
    "\n",
    "    porcoes = parametros['Intercept'] + parametros['Farinha'] * x_f_convertido + parametros['Chocolate'] *x_c_convertido\n",
    "    return porcoes\n"
   ],
   "outputs": [],
   "metadata": {}
  },
  {
   "cell_type": "code",
   "execution_count": 175,
   "source": [
    "modelo_receita(0.5, 0.1)"
   ],
   "outputs": [
    {
     "output_type": "execute_result",
     "data": {
      "text/plain": [
       "15.874999999999986"
      ]
     },
     "metadata": {},
     "execution_count": 175
    }
   ],
   "metadata": {}
  },
  {
   "cell_type": "markdown",
   "source": [
    "\n",
    "<p style='margin: 150px 150px;'>\n",
    "\n",
    "\n",
    "<hr>\n",
    "\n",
    "<img width='700px' src='figuras/Figura_22.png'> \n",
    "\n",
    "\n",
    "<hr>"
   ],
   "metadata": {}
  },
  {
   "cell_type": "markdown",
   "source": [
    "# <font color = 'purple'> Mapa de cores   </font>\n",
    "\n",
    "\n",
    "<p style='margin: 30px 30px;'>\n",
    "    \n",
    "<hr style = 'border: 1px solid purple;'>"
   ],
   "metadata": {}
  },
  {
   "cell_type": "markdown",
   "source": [
    "\n",
    "<p style='margin: 150px 150px;'>\n",
    "\n",
    "\n",
    "<hr>\n",
    "\n",
    "<img width='700px' src='figuras/Figura_23.jpg'> \n",
    "\n",
    "#### Fonte: National Centers for Environmental Prediction\n",
    "\n",
    "\n",
    "<hr>\n",
    "\n",
    "\n",
    "\n",
    "<p style='margin: 50px 50px;'>\n"
   ],
   "metadata": {}
  },
  {
   "cell_type": "markdown",
   "source": [
    "\n",
    "\n",
    "<p style='margin: 150px 150px;'>\n",
    "\n",
    "\n",
    "<hr>\n",
    "\n",
    "<img width='600px' src='figuras/Figura_24.png'> \n",
    "\n",
    "\n",
    "<hr>\n",
    "\n",
    "\n",
    "\n",
    "<p style='margin: 30px 30px;'>"
   ],
   "metadata": {}
  },
  {
   "cell_type": "code",
   "execution_count": 176,
   "source": [
    "x_farinha = np.linspace(start=0.5, stop=1.5, num=10)\n",
    "x_farinha"
   ],
   "outputs": [
    {
     "output_type": "execute_result",
     "data": {
      "text/plain": [
       "array([0.5       , 0.61111111, 0.72222222, 0.83333333, 0.94444444,\n",
       "       1.05555556, 1.16666667, 1.27777778, 1.38888889, 1.5       ])"
      ]
     },
     "metadata": {},
     "execution_count": 176
    }
   ],
   "metadata": {}
  },
  {
   "cell_type": "code",
   "execution_count": 177,
   "source": [
    "x_chocolate = np.linspace(start=0.1, stop=0.5, num=10)\n",
    "x_chocolate"
   ],
   "outputs": [
    {
     "output_type": "execute_result",
     "data": {
      "text/plain": [
       "array([0.1       , 0.14444444, 0.18888889, 0.23333333, 0.27777778,\n",
       "       0.32222222, 0.36666667, 0.41111111, 0.45555556, 0.5       ])"
      ]
     },
     "metadata": {},
     "execution_count": 177
    }
   ],
   "metadata": {}
  },
  {
   "cell_type": "markdown",
   "source": [
    "### . "
   ],
   "metadata": {}
  },
  {
   "cell_type": "code",
   "execution_count": 178,
   "source": [
    "pontos = []\n",
    "\n",
    "for cont1 in x_farinha:\n",
    "    temp = []\n",
    "    for cont2 in x_chocolate:\n",
    "        temp.append(modelo_receita(cont1, cont2))\n",
    "    pontos.append(temp)\n"
   ],
   "outputs": [],
   "metadata": {}
  },
  {
   "cell_type": "code",
   "execution_count": 179,
   "source": [
    "pontos"
   ],
   "outputs": [
    {
     "output_type": "execute_result",
     "data": {
      "text/plain": [
       "[[15.874999999999986,\n",
       "  16.819444444444432,\n",
       "  17.76388888888888,\n",
       "  18.708333333333325,\n",
       "  19.65277777777777,\n",
       "  20.597222222222214,\n",
       "  21.541666666666664,\n",
       "  22.486111111111107,\n",
       "  23.430555555555557,\n",
       "  24.375],\n",
       " [18.263888888888875,\n",
       "  19.20833333333332,\n",
       "  20.152777777777768,\n",
       "  21.097222222222214,\n",
       "  22.04166666666666,\n",
       "  22.986111111111107,\n",
       "  23.93055555555555,\n",
       "  24.874999999999996,\n",
       "  25.819444444444443,\n",
       "  26.76388888888889],\n",
       " [20.652777777777764,\n",
       "  21.59722222222221,\n",
       "  22.541666666666657,\n",
       "  23.486111111111104,\n",
       "  24.43055555555555,\n",
       "  25.374999999999993,\n",
       "  26.319444444444443,\n",
       "  27.263888888888886,\n",
       "  28.208333333333336,\n",
       "  29.15277777777778],\n",
       " [23.04166666666665,\n",
       "  23.986111111111097,\n",
       "  24.930555555555543,\n",
       "  25.87499999999999,\n",
       "  26.819444444444436,\n",
       "  27.76388888888888,\n",
       "  28.70833333333333,\n",
       "  29.65277777777777,\n",
       "  30.59722222222222,\n",
       "  31.541666666666664],\n",
       " [25.43055555555554,\n",
       "  26.374999999999986,\n",
       "  27.319444444444432,\n",
       "  28.26388888888888,\n",
       "  29.208333333333325,\n",
       "  30.15277777777777,\n",
       "  31.097222222222214,\n",
       "  32.041666666666664,\n",
       "  32.98611111111111,\n",
       "  33.93055555555556],\n",
       " [27.81944444444443,\n",
       "  28.763888888888875,\n",
       "  29.70833333333332,\n",
       "  30.652777777777768,\n",
       "  31.597222222222214,\n",
       "  32.54166666666666,\n",
       "  33.48611111111111,\n",
       "  34.43055555555555,\n",
       "  35.375,\n",
       "  36.31944444444444],\n",
       " [30.208333333333314,\n",
       "  31.15277777777776,\n",
       "  32.09722222222221,\n",
       "  33.04166666666665,\n",
       "  33.9861111111111,\n",
       "  34.93055555555554,\n",
       "  35.87499999999999,\n",
       "  36.819444444444436,\n",
       "  37.763888888888886,\n",
       "  38.70833333333333],\n",
       " [32.59722222222221,\n",
       "  33.54166666666666,\n",
       "  34.4861111111111,\n",
       "  35.43055555555554,\n",
       "  36.37499999999999,\n",
       "  37.319444444444436,\n",
       "  38.263888888888886,\n",
       "  39.20833333333333,\n",
       "  40.15277777777778,\n",
       "  41.09722222222222],\n",
       " [34.98611111111109,\n",
       "  35.93055555555554,\n",
       "  36.874999999999986,\n",
       "  37.81944444444443,\n",
       "  38.76388888888888,\n",
       "  39.70833333333332,\n",
       "  40.65277777777777,\n",
       "  41.597222222222214,\n",
       "  42.541666666666664,\n",
       "  43.48611111111111],\n",
       " [37.374999999999986,\n",
       "  38.31944444444443,\n",
       "  39.26388888888888,\n",
       "  40.20833333333332,\n",
       "  41.15277777777777,\n",
       "  42.097222222222214,\n",
       "  43.041666666666664,\n",
       "  43.98611111111111,\n",
       "  44.93055555555556,\n",
       "  45.875]]"
      ]
     },
     "metadata": {},
     "execution_count": 179
    }
   ],
   "metadata": {}
  },
  {
   "cell_type": "markdown",
   "source": [
    "### ."
   ],
   "metadata": {}
  },
  {
   "cell_type": "markdown",
   "source": [
    "### Construindo a superfície de resposta"
   ],
   "metadata": {}
  },
  {
   "cell_type": "code",
   "execution_count": 180,
   "source": [
    "import matplotlib.cm as cm"
   ],
   "outputs": [],
   "metadata": {}
  },
  {
   "cell_type": "markdown",
   "source": [
    "https://matplotlib.org/users/colormaps.html"
   ],
   "metadata": {}
  },
  {
   "cell_type": "code",
   "execution_count": 184,
   "source": [
    "# Base \n",
    "\n",
    "plt.figure(figsize = (16, 6))\n",
    "\n",
    "plt.xlabel('Farinha (kg)', fontsize=16)\n",
    "\n",
    "plt.ylabel('Chocolate (kg)', fontsize=16)\n",
    "\n",
    "#Mapa de cores\n",
    "mapa_cor = plt.imshow(pontos, origin='lower', cmap=cm.rainbow, interpolation='quadric', extent=(0.5, 1.5, 0.1, 0.5))\n",
    "\n",
    "#Barra de cor\n",
    "plt.colorbar().set_label('Porções', fontsize=16)\n",
    "\n",
    "#Linhas\n",
    "linhas = plt.contour(x_farinha, x_chocolate, pontos, colors = 'black', liwidths=1.5)\n",
    "plt.clabel(linhas, inline=True, fontsize=15.0, inline_spacing=10)\n"
   ],
   "outputs": [
    {
     "output_type": "stream",
     "name": "stderr",
     "text": [
      "<ipython-input-184-f0fe4068880b>:16: UserWarning: The following kwargs were not used by contour: 'liwidths'\n",
      "  linhas = plt.contour(x_farinha, x_chocolate, pontos, colors = 'black', liwidths=1.5)\n"
     ]
    },
    {
     "output_type": "execute_result",
     "data": {
      "text/plain": [
       "<a list of 7 text.Text objects>"
      ]
     },
     "metadata": {},
     "execution_count": 184
    },
    {
     "output_type": "display_data",
     "data": {
      "image/png": "[encoded data removed]",
      "image/svg+xml": "<?xml version=\"1.0\" encoding=\"utf-8\" standalone=\"no\"?>\n<!DOCTYPE svg PUBLIC \"-//W3C//DTD SVG 1.1//EN\"\n  \"http://www.w3.org/Graphics/SVG/1.1/DTD/svg11.dtd\">\n<svg height=\"355.488313pt\" version=\"1.1\" viewBox=\"0 0 871.818313 355.488313\" width=\"871.818313pt\" xmlns=\"http://www.w3.org/2000/svg\" xmlns:xlink=\"http://www.w3.org/1999/xlink\">\n <metadata>\n  <rdf:RDF xmlns:cc=\"http://creativecommons.org/ns#\" xmlns:dc=\"http://purl.org/dc/elements/1.1/\" xmlns:rdf=\"http://www.w3.org/1999/02/22-rdf-syntax-ns#\">\n   <cc:Work>\n    <dc:type rdf:resource=\"http://purl.org/dc/dcmitype/StillImage\"/>\n    <dc:date>2021-08-31T08:03:13.530710</dc:date>\n    <dc:format>image/svg+xml</dc:format>\n    <dc:creator>\n     <cc:Agent>\n      <dc:title>Matplotlib v3.4.2, https://matplotlib.org/</dc:title>\n     </cc:Agent>\n    </dc:creator>\n   </cc:Work>\n  </rdf:RDF>\n </metadata>\n <defs>\n  <style type=\"text/css\">*{stroke-linecap:butt;stroke-linejoin:round;}</style>\n </defs>\n <g id=\"figure_1\">\n  <g id=\"patch_1\">\n   <path d=\"M 0 355.488313 \nL 871.818313 355.488313 \nL 871.818313 0 \nL 0 0 \nz\n\" style=\"fill:#ffffff;\"/>\n  </g>\n  <g id=\"axes_1\">\n   <g id=\"patch_2\">\n    <path d=\"M 52.675938 313.128 \nL 766.915938 313.128 \nL 766.915938 27.432 \nL 52.675938 27.432 \nz\n\" style=\"fill:#eaeaf2;\"/>\n   </g>\n   <g clip-path=\"url(#p5e7e2449f3)\">\n    <image height=\"286\" id=\"imagec756c931b4\" transform=\"scale(1 -1)translate(0 -286)\" width=\"715\" x=\"52.675938\" xlink:href=\"data:image/png;base64,\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\" y=\"-27.128\"/>\n   </g>\n   <g id=\"matplotlib.axis_1\">\n    <g id=\"xtick_1\">\n     <g id=\"line2d_1\">\n      <path clip-path=\"url(#p5e7e2449f3)\" d=\"M 124.099938 313.128 \nL 124.099938 27.432 \n\" style=\"fill:none;stroke:#ffffff;stroke-linecap:round;stroke-width:0.8;\"/>\n     </g>\n     <g id=\"text_1\">\n      <!-- 0.6 -->\n      <g style=\"fill:#262626;\" transform=\"translate(117.149938 327.285813)scale(0.1 -0.1)\">\n       <defs>\n        <path d=\"M 266 2259 \nQ 266 3072 433 3567 \nQ 600 4063 929 4331 \nQ 1259 4600 1759 4600 \nQ 2128 4600 2406 4451 \nQ 2684 4303 2865 4023 \nQ 3047 3744 3150 3342 \nQ 3253 2941 3253 2259 \nQ 3253 1453 3087 958 \nQ 2922 463 2592 192 \nQ 2263 -78 1759 -78 \nQ 1097 -78 719 397 \nQ 266 969 266 2259 \nz\nM 844 2259 \nQ 844 1131 1108 757 \nQ 1372 384 1759 384 \nQ 2147 384 2411 759 \nQ 2675 1134 2675 2259 \nQ 2675 3391 2411 3762 \nQ 2147 4134 1753 4134 \nQ 1366 4134 1134 3806 \nQ 844 3388 844 2259 \nz\n\" id=\"ArialMT-30\" transform=\"scale(0.015625)\"/>\n        <path d=\"M 581 0 \nL 581 641 \nL 1222 641 \nL 1222 0 \nL 581 0 \nz\n\" id=\"ArialMT-2e\" transform=\"scale(0.015625)\"/>\n        <path d=\"M 3184 3459 \nL 2625 3416 \nQ 2550 3747 2413 3897 \nQ 2184 4138 1850 4138 \nQ 1581 4138 1378 3988 \nQ 1113 3794 959 3422 \nQ 806 3050 800 2363 \nQ 1003 2672 1297 2822 \nQ 1591 2972 1913 2972 \nQ 2475 2972 2870 2558 \nQ 3266 2144 3266 1488 \nQ 3266 1056 3080 686 \nQ 2894 316 2569 119 \nQ 2244 -78 1831 -78 \nQ 1128 -78 684 439 \nQ 241 956 241 2144 \nQ 241 3472 731 4075 \nQ 1159 4600 1884 4600 \nQ 2425 4600 2770 4297 \nQ 3116 3994 3184 3459 \nz\nM 888 1484 \nQ 888 1194 1011 928 \nQ 1134 663 1356 523 \nQ 1578 384 1822 384 \nQ 2178 384 2434 671 \nQ 2691 959 2691 1453 \nQ 2691 1928 2437 2201 \nQ 2184 2475 1800 2475 \nQ 1419 2475 1153 2201 \nQ 888 1928 888 1484 \nz\n\" id=\"ArialMT-36\" transform=\"scale(0.015625)\"/>\n       </defs>\n       <use xlink:href=\"#ArialMT-30\"/>\n       <use x=\"55.615234\" xlink:href=\"#ArialMT-2e\"/>\n       <use x=\"83.398438\" xlink:href=\"#ArialMT-36\"/>\n      </g>\n     </g>\n    </g>\n    <g id=\"xtick_2\">\n     <g id=\"line2d_2\">\n      <path clip-path=\"url(#p5e7e2449f3)\" d=\"M 266.947938 313.128 \nL 266.947938 27.432 \n\" style=\"fill:none;stroke:#ffffff;stroke-linecap:round;stroke-width:0.8;\"/>\n     </g>\n     <g id=\"text_2\">\n      <!-- 0.8 -->\n      <g style=\"fill:#262626;\" transform=\"translate(259.997938 327.285813)scale(0.1 -0.1)\">\n       <defs>\n        <path d=\"M 1131 2484 \nQ 781 2613 612 2850 \nQ 444 3088 444 3419 \nQ 444 3919 803 4259 \nQ 1163 4600 1759 4600 \nQ 2359 4600 2725 4251 \nQ 3091 3903 3091 3403 \nQ 3091 3084 2923 2848 \nQ 2756 2613 2416 2484 \nQ 2838 2347 3058 2040 \nQ 3278 1734 3278 1309 \nQ 3278 722 2862 322 \nQ 2447 -78 1769 -78 \nQ 1091 -78 675 323 \nQ 259 725 259 1325 \nQ 259 1772 486 2073 \nQ 713 2375 1131 2484 \nz\nM 1019 3438 \nQ 1019 3113 1228 2906 \nQ 1438 2700 1772 2700 \nQ 2097 2700 2305 2904 \nQ 2513 3109 2513 3406 \nQ 2513 3716 2298 3927 \nQ 2084 4138 1766 4138 \nQ 1444 4138 1231 3931 \nQ 1019 3725 1019 3438 \nz\nM 838 1322 \nQ 838 1081 952 856 \nQ 1066 631 1291 507 \nQ 1516 384 1775 384 \nQ 2178 384 2440 643 \nQ 2703 903 2703 1303 \nQ 2703 1709 2433 1975 \nQ 2163 2241 1756 2241 \nQ 1359 2241 1098 1978 \nQ 838 1716 838 1322 \nz\n\" id=\"ArialMT-38\" transform=\"scale(0.015625)\"/>\n       </defs>\n       <use xlink:href=\"#ArialMT-30\"/>\n       <use x=\"55.615234\" xlink:href=\"#ArialMT-2e\"/>\n       <use x=\"83.398438\" xlink:href=\"#ArialMT-38\"/>\n      </g>\n     </g>\n    </g>\n    <g id=\"xtick_3\">\n     <g id=\"line2d_3\">\n      <path clip-path=\"url(#p5e7e2449f3)\" d=\"M 409.795938 313.128 \nL 409.795938 27.432 \n\" style=\"fill:none;stroke:#ffffff;stroke-linecap:round;stroke-width:0.8;\"/>\n     </g>\n     <g id=\"text_3\">\n      <!-- 1.0 -->\n      <g style=\"fill:#262626;\" transform=\"translate(402.845938 327.285813)scale(0.1 -0.1)\">\n       <defs>\n        <path d=\"M 2384 0 \nL 1822 0 \nL 1822 3584 \nQ 1619 3391 1289 3197 \nQ 959 3003 697 2906 \nL 697 3450 \nQ 1169 3672 1522 3987 \nQ 1875 4303 2022 4600 \nL 2384 4600 \nL 2384 0 \nz\n\" id=\"ArialMT-31\" transform=\"scale(0.015625)\"/>\n       </defs>\n       <use xlink:href=\"#ArialMT-31\"/>\n       <use x=\"55.615234\" xlink:href=\"#ArialMT-2e\"/>\n       <use x=\"83.398438\" xlink:href=\"#ArialMT-30\"/>\n      </g>\n     </g>\n    </g>\n    <g id=\"xtick_4\">\n     <g id=\"line2d_4\">\n      <path clip-path=\"url(#p5e7e2449f3)\" d=\"M 552.643938 313.128 \nL 552.643938 27.432 \n\" style=\"fill:none;stroke:#ffffff;stroke-linecap:round;stroke-width:0.8;\"/>\n     </g>\n     <g id=\"text_4\">\n      <!-- 1.2 -->\n      <g style=\"fill:#262626;\" transform=\"translate(545.693938 327.285813)scale(0.1 -0.1)\">\n       <defs>\n        <path d=\"M 3222 541 \nL 3222 0 \nL 194 0 \nQ 188 203 259 391 \nQ 375 700 629 1000 \nQ 884 1300 1366 1694 \nQ 2113 2306 2375 2664 \nQ 2638 3022 2638 3341 \nQ 2638 3675 2398 3904 \nQ 2159 4134 1775 4134 \nQ 1369 4134 1125 3890 \nQ 881 3647 878 3216 \nL 300 3275 \nQ 359 3922 746 4261 \nQ 1134 4600 1788 4600 \nQ 2447 4600 2831 4234 \nQ 3216 3869 3216 3328 \nQ 3216 3053 3103 2787 \nQ 2991 2522 2730 2228 \nQ 2469 1934 1863 1422 \nQ 1356 997 1212 845 \nQ 1069 694 975 541 \nL 3222 541 \nz\n\" id=\"ArialMT-32\" transform=\"scale(0.015625)\"/>\n       </defs>\n       <use xlink:href=\"#ArialMT-31\"/>\n       <use x=\"55.615234\" xlink:href=\"#ArialMT-2e\"/>\n       <use x=\"83.398438\" xlink:href=\"#ArialMT-32\"/>\n      </g>\n     </g>\n    </g>\n    <g id=\"xtick_5\">\n     <g id=\"line2d_5\">\n      <path clip-path=\"url(#p5e7e2449f3)\" d=\"M 695.491938 313.128 \nL 695.491938 27.432 \n\" style=\"fill:none;stroke:#ffffff;stroke-linecap:round;stroke-width:0.8;\"/>\n     </g>\n     <g id=\"text_5\">\n      <!-- 1.4 -->\n      <g style=\"fill:#262626;\" transform=\"translate(688.541938 327.285813)scale(0.1 -0.1)\">\n       <defs>\n        <path d=\"M 2069 0 \nL 2069 1097 \nL 81 1097 \nL 81 1613 \nL 2172 4581 \nL 2631 4581 \nL 2631 1613 \nL 3250 1613 \nL 3250 1097 \nL 2631 1097 \nL 2631 0 \nL 2069 0 \nz\nM 2069 1613 \nL 2069 3678 \nL 634 1613 \nL 2069 1613 \nz\n\" id=\"ArialMT-34\" transform=\"scale(0.015625)\"/>\n       </defs>\n       <use xlink:href=\"#ArialMT-31\"/>\n       <use x=\"55.615234\" xlink:href=\"#ArialMT-2e\"/>\n       <use x=\"83.398438\" xlink:href=\"#ArialMT-34\"/>\n      </g>\n     </g>\n    </g>\n    <g id=\"text_6\">\n     <!-- Farinha (kg) -->\n     <g style=\"fill:#262626;\" transform=\"translate(366.674688 344.920813)scale(0.16 -0.16)\">\n      <defs>\n       <path d=\"M 525 0 \nL 525 4581 \nL 3616 4581 \nL 3616 4041 \nL 1131 4041 \nL 1131 2622 \nL 3281 2622 \nL 3281 2081 \nL 1131 2081 \nL 1131 0 \nL 525 0 \nz\n\" id=\"ArialMT-46\" transform=\"scale(0.015625)\"/>\n       <path d=\"M 2588 409 \nQ 2275 144 1986 34 \nQ 1697 -75 1366 -75 \nQ 819 -75 525 192 \nQ 231 459 231 875 \nQ 231 1119 342 1320 \nQ 453 1522 633 1644 \nQ 813 1766 1038 1828 \nQ 1203 1872 1538 1913 \nQ 2219 1994 2541 2106 \nQ 2544 2222 2544 2253 \nQ 2544 2597 2384 2738 \nQ 2169 2928 1744 2928 \nQ 1347 2928 1158 2789 \nQ 969 2650 878 2297 \nL 328 2372 \nQ 403 2725 575 2942 \nQ 747 3159 1072 3276 \nQ 1397 3394 1825 3394 \nQ 2250 3394 2515 3294 \nQ 2781 3194 2906 3042 \nQ 3031 2891 3081 2659 \nQ 3109 2516 3109 2141 \nL 3109 1391 \nQ 3109 606 3145 398 \nQ 3181 191 3288 0 \nL 2700 0 \nQ 2613 175 2588 409 \nz\nM 2541 1666 \nQ 2234 1541 1622 1453 \nQ 1275 1403 1131 1340 \nQ 988 1278 909 1158 \nQ 831 1038 831 891 \nQ 831 666 1001 516 \nQ 1172 366 1500 366 \nQ 1825 366 2078 508 \nQ 2331 650 2450 897 \nQ 2541 1088 2541 1459 \nL 2541 1666 \nz\n\" id=\"ArialMT-61\" transform=\"scale(0.015625)\"/>\n       <path d=\"M 416 0 \nL 416 3319 \nL 922 3319 \nL 922 2816 \nQ 1116 3169 1280 3281 \nQ 1444 3394 1641 3394 \nQ 1925 3394 2219 3213 \nL 2025 2691 \nQ 1819 2813 1613 2813 \nQ 1428 2813 1281 2702 \nQ 1134 2591 1072 2394 \nQ 978 2094 978 1738 \nL 978 0 \nL 416 0 \nz\n\" id=\"ArialMT-72\" transform=\"scale(0.015625)\"/>\n       <path d=\"M 425 3934 \nL 425 4581 \nL 988 4581 \nL 988 3934 \nL 425 3934 \nz\nM 425 0 \nL 425 3319 \nL 988 3319 \nL 988 0 \nL 425 0 \nz\n\" id=\"ArialMT-69\" transform=\"scale(0.015625)\"/>\n       <path d=\"M 422 0 \nL 422 3319 \nL 928 3319 \nL 928 2847 \nQ 1294 3394 1984 3394 \nQ 2284 3394 2536 3286 \nQ 2788 3178 2913 3003 \nQ 3038 2828 3088 2588 \nQ 3119 2431 3119 2041 \nL 3119 0 \nL 2556 0 \nL 2556 2019 \nQ 2556 2363 2490 2533 \nQ 2425 2703 2258 2804 \nQ 2091 2906 1866 2906 \nQ 1506 2906 1245 2678 \nQ 984 2450 984 1813 \nL 984 0 \nL 422 0 \nz\n\" id=\"ArialMT-6e\" transform=\"scale(0.015625)\"/>\n       <path d=\"M 422 0 \nL 422 4581 \nL 984 4581 \nL 984 2938 \nQ 1378 3394 1978 3394 \nQ 2347 3394 2619 3248 \nQ 2891 3103 3008 2847 \nQ 3125 2591 3125 2103 \nL 3125 0 \nL 2563 0 \nL 2563 2103 \nQ 2563 2525 2380 2717 \nQ 2197 2909 1863 2909 \nQ 1613 2909 1392 2779 \nQ 1172 2650 1078 2428 \nQ 984 2206 984 1816 \nL 984 0 \nL 422 0 \nz\n\" id=\"ArialMT-68\" transform=\"scale(0.015625)\"/>\n       <path id=\"ArialMT-20\" transform=\"scale(0.015625)\"/>\n       <path d=\"M 1497 -1347 \nQ 1031 -759 709 28 \nQ 388 816 388 1659 \nQ 388 2403 628 3084 \nQ 909 3875 1497 4659 \nL 1900 4659 \nQ 1522 4009 1400 3731 \nQ 1209 3300 1100 2831 \nQ 966 2247 966 1656 \nQ 966 153 1900 -1347 \nL 1497 -1347 \nz\n\" id=\"ArialMT-28\" transform=\"scale(0.015625)\"/>\n       <path d=\"M 425 0 \nL 425 4581 \nL 988 4581 \nL 988 1969 \nL 2319 3319 \nL 3047 3319 \nL 1778 2088 \nL 3175 0 \nL 2481 0 \nL 1384 1697 \nL 988 1316 \nL 988 0 \nL 425 0 \nz\n\" id=\"ArialMT-6b\" transform=\"scale(0.015625)\"/>\n       <path d=\"M 319 -275 \nL 866 -356 \nQ 900 -609 1056 -725 \nQ 1266 -881 1628 -881 \nQ 2019 -881 2231 -725 \nQ 2444 -569 2519 -288 \nQ 2563 -116 2559 434 \nQ 2191 0 1641 0 \nQ 956 0 581 494 \nQ 206 988 206 1678 \nQ 206 2153 378 2554 \nQ 550 2956 876 3175 \nQ 1203 3394 1644 3394 \nQ 2231 3394 2613 2919 \nL 2613 3319 \nL 3131 3319 \nL 3131 450 \nQ 3131 -325 2973 -648 \nQ 2816 -972 2473 -1159 \nQ 2131 -1347 1631 -1347 \nQ 1038 -1347 672 -1080 \nQ 306 -813 319 -275 \nz\nM 784 1719 \nQ 784 1066 1043 766 \nQ 1303 466 1694 466 \nQ 2081 466 2343 764 \nQ 2606 1063 2606 1700 \nQ 2606 2309 2336 2618 \nQ 2066 2928 1684 2928 \nQ 1309 2928 1046 2623 \nQ 784 2319 784 1719 \nz\n\" id=\"ArialMT-67\" transform=\"scale(0.015625)\"/>\n       <path d=\"M 791 -1347 \nL 388 -1347 \nQ 1322 153 1322 1656 \nQ 1322 2244 1188 2822 \nQ 1081 3291 891 3722 \nQ 769 4003 388 4659 \nL 791 4659 \nQ 1378 3875 1659 3084 \nQ 1900 2403 1900 1659 \nQ 1900 816 1576 28 \nQ 1253 -759 791 -1347 \nz\n\" id=\"ArialMT-29\" transform=\"scale(0.015625)\"/>\n      </defs>\n      <use xlink:href=\"#ArialMT-46\"/>\n      <use x=\"61.083984\" xlink:href=\"#ArialMT-61\"/>\n      <use x=\"116.699219\" xlink:href=\"#ArialMT-72\"/>\n      <use x=\"150\" xlink:href=\"#ArialMT-69\"/>\n      <use x=\"172.216797\" xlink:href=\"#ArialMT-6e\"/>\n      <use x=\"227.832031\" xlink:href=\"#ArialMT-68\"/>\n      <use x=\"283.447266\" xlink:href=\"#ArialMT-61\"/>\n      <use x=\"339.0625\" xlink:href=\"#ArialMT-20\"/>\n      <use x=\"366.845703\" xlink:href=\"#ArialMT-28\"/>\n      <use x=\"400.146484\" xlink:href=\"#ArialMT-6b\"/>\n      <use x=\"450.146484\" xlink:href=\"#ArialMT-67\"/>\n      <use x=\"505.761719\" xlink:href=\"#ArialMT-29\"/>\n     </g>\n    </g>\n   </g>\n   <g id=\"matplotlib.axis_2\">\n    <g id=\"ytick_1\">\n     <g id=\"line2d_6\">\n      <path clip-path=\"url(#p5e7e2449f3)\" d=\"M 52.675938 313.128 \nL 766.915938 313.128 \n\" style=\"fill:none;stroke:#ffffff;stroke-linecap:round;stroke-width:0.8;\"/>\n     </g>\n     <g id=\"text_7\">\n      <!-- 0.10 -->\n      <g style=\"fill:#262626;\" transform=\"translate(26.215 316.706906)scale(0.1 -0.1)\">\n       <use xlink:href=\"#ArialMT-30\"/>\n       <use x=\"55.615234\" xlink:href=\"#ArialMT-2e\"/>\n       <use x=\"83.398438\" xlink:href=\"#ArialMT-31\"/>\n       <use x=\"139.013672\" xlink:href=\"#ArialMT-30\"/>\n      </g>\n     </g>\n    </g>\n    <g id=\"ytick_2\">\n     <g id=\"line2d_7\">\n      <path clip-path=\"url(#p5e7e2449f3)\" d=\"M 52.675938 277.416 \nL 766.915938 277.416 \n\" style=\"fill:none;stroke:#ffffff;stroke-linecap:round;stroke-width:0.8;\"/>\n     </g>\n     <g id=\"text_8\">\n      <!-- 0.15 -->\n      <g style=\"fill:#262626;\" transform=\"translate(26.215 280.994906)scale(0.1 -0.1)\">\n       <defs>\n        <path d=\"M 266 1200 \nL 856 1250 \nQ 922 819 1161 601 \nQ 1400 384 1738 384 \nQ 2144 384 2425 690 \nQ 2706 997 2706 1503 \nQ 2706 1984 2436 2262 \nQ 2166 2541 1728 2541 \nQ 1456 2541 1237 2417 \nQ 1019 2294 894 2097 \nL 366 2166 \nL 809 4519 \nL 3088 4519 \nL 3088 3981 \nL 1259 3981 \nL 1013 2750 \nQ 1425 3038 1878 3038 \nQ 2478 3038 2890 2622 \nQ 3303 2206 3303 1553 \nQ 3303 931 2941 478 \nQ 2500 -78 1738 -78 \nQ 1113 -78 717 272 \nQ 322 622 266 1200 \nz\n\" id=\"ArialMT-35\" transform=\"scale(0.015625)\"/>\n       </defs>\n       <use xlink:href=\"#ArialMT-30\"/>\n       <use x=\"55.615234\" xlink:href=\"#ArialMT-2e\"/>\n       <use x=\"83.398438\" xlink:href=\"#ArialMT-31\"/>\n       <use x=\"139.013672\" xlink:href=\"#ArialMT-35\"/>\n      </g>\n     </g>\n    </g>\n    <g id=\"ytick_3\">\n     <g id=\"line2d_8\">\n      <path clip-path=\"url(#p5e7e2449f3)\" d=\"M 52.675938 241.704 \nL 766.915938 241.704 \n\" style=\"fill:none;stroke:#ffffff;stroke-linecap:round;stroke-width:0.8;\"/>\n     </g>\n     <g id=\"text_9\">\n      <!-- 0.20 -->\n      <g style=\"fill:#262626;\" transform=\"translate(26.215 245.282906)scale(0.1 -0.1)\">\n       <use xlink:href=\"#ArialMT-30\"/>\n       <use x=\"55.615234\" xlink:href=\"#ArialMT-2e\"/>\n       <use x=\"83.398438\" xlink:href=\"#ArialMT-32\"/>\n       <use x=\"139.013672\" xlink:href=\"#ArialMT-30\"/>\n      </g>\n     </g>\n    </g>\n    <g id=\"ytick_4\">\n     <g id=\"line2d_9\">\n      <path clip-path=\"url(#p5e7e2449f3)\" d=\"M 52.675938 205.992 \nL 766.915938 205.992 \n\" style=\"fill:none;stroke:#ffffff;stroke-linecap:round;stroke-width:0.8;\"/>\n     </g>\n     <g id=\"text_10\">\n      <!-- 0.25 -->\n      <g style=\"fill:#262626;\" transform=\"translate(26.215 209.570906)scale(0.1 -0.1)\">\n       <use xlink:href=\"#ArialMT-30\"/>\n       <use x=\"55.615234\" xlink:href=\"#ArialMT-2e\"/>\n       <use x=\"83.398438\" xlink:href=\"#ArialMT-32\"/>\n       <use x=\"139.013672\" xlink:href=\"#ArialMT-35\"/>\n      </g>\n     </g>\n    </g>\n    <g id=\"ytick_5\">\n     <g id=\"line2d_10\">\n      <path clip-path=\"url(#p5e7e2449f3)\" d=\"M 52.675938 170.28 \nL 766.915938 170.28 \n\" style=\"fill:none;stroke:#ffffff;stroke-linecap:round;stroke-width:0.8;\"/>\n     </g>\n     <g id=\"text_11\">\n      <!-- 0.30 -->\n      <g style=\"fill:#262626;\" transform=\"translate(26.215 173.858906)scale(0.1 -0.1)\">\n       <defs>\n        <path d=\"M 269 1209 \nL 831 1284 \nQ 928 806 1161 595 \nQ 1394 384 1728 384 \nQ 2125 384 2398 659 \nQ 2672 934 2672 1341 \nQ 2672 1728 2419 1979 \nQ 2166 2231 1775 2231 \nQ 1616 2231 1378 2169 \nL 1441 2663 \nQ 1497 2656 1531 2656 \nQ 1891 2656 2178 2843 \nQ 2466 3031 2466 3422 \nQ 2466 3731 2256 3934 \nQ 2047 4138 1716 4138 \nQ 1388 4138 1169 3931 \nQ 950 3725 888 3313 \nL 325 3413 \nQ 428 3978 793 4289 \nQ 1159 4600 1703 4600 \nQ 2078 4600 2393 4439 \nQ 2709 4278 2876 4000 \nQ 3044 3722 3044 3409 \nQ 3044 3113 2884 2869 \nQ 2725 2625 2413 2481 \nQ 2819 2388 3044 2092 \nQ 3269 1797 3269 1353 \nQ 3269 753 2831 336 \nQ 2394 -81 1725 -81 \nQ 1122 -81 723 278 \nQ 325 638 269 1209 \nz\n\" id=\"ArialMT-33\" transform=\"scale(0.015625)\"/>\n       </defs>\n       <use xlink:href=\"#ArialMT-30\"/>\n       <use x=\"55.615234\" xlink:href=\"#ArialMT-2e\"/>\n       <use x=\"83.398438\" xlink:href=\"#ArialMT-33\"/>\n       <use x=\"139.013672\" xlink:href=\"#ArialMT-30\"/>\n      </g>\n     </g>\n    </g>\n    <g id=\"ytick_6\">\n     <g id=\"line2d_11\">\n      <path clip-path=\"url(#p5e7e2449f3)\" d=\"M 52.675938 134.568 \nL 766.915938 134.568 \n\" style=\"fill:none;stroke:#ffffff;stroke-linecap:round;stroke-width:0.8;\"/>\n     </g>\n     <g id=\"text_12\">\n      <!-- 0.35 -->\n      <g style=\"fill:#262626;\" transform=\"translate(26.215 138.146906)scale(0.1 -0.1)\">\n       <use xlink:href=\"#ArialMT-30\"/>\n       <use x=\"55.615234\" xlink:href=\"#ArialMT-2e\"/>\n       <use x=\"83.398438\" xlink:href=\"#ArialMT-33\"/>\n       <use x=\"139.013672\" xlink:href=\"#ArialMT-35\"/>\n      </g>\n     </g>\n    </g>\n    <g id=\"ytick_7\">\n     <g id=\"line2d_12\">\n      <path clip-path=\"url(#p5e7e2449f3)\" d=\"M 52.675938 98.856 \nL 766.915938 98.856 \n\" style=\"fill:none;stroke:#ffffff;stroke-linecap:round;stroke-width:0.8;\"/>\n     </g>\n     <g id=\"text_13\">\n      <!-- 0.40 -->\n      <g style=\"fill:#262626;\" transform=\"translate(26.215 102.434906)scale(0.1 -0.1)\">\n       <use xlink:href=\"#ArialMT-30\"/>\n       <use x=\"55.615234\" xlink:href=\"#ArialMT-2e\"/>\n       <use x=\"83.398438\" xlink:href=\"#ArialMT-34\"/>\n       <use x=\"139.013672\" xlink:href=\"#ArialMT-30\"/>\n      </g>\n     </g>\n    </g>\n    <g id=\"ytick_8\">\n     <g id=\"line2d_13\">\n      <path clip-path=\"url(#p5e7e2449f3)\" d=\"M 52.675938 63.144 \nL 766.915938 63.144 \n\" style=\"fill:none;stroke:#ffffff;stroke-linecap:round;stroke-width:0.8;\"/>\n     </g>\n     <g id=\"text_14\">\n      <!-- 0.45 -->\n      <g style=\"fill:#262626;\" transform=\"translate(26.215 66.722906)scale(0.1 -0.1)\">\n       <use xlink:href=\"#ArialMT-30\"/>\n       <use x=\"55.615234\" xlink:href=\"#ArialMT-2e\"/>\n       <use x=\"83.398438\" xlink:href=\"#ArialMT-34\"/>\n       <use x=\"139.013672\" xlink:href=\"#ArialMT-35\"/>\n      </g>\n     </g>\n    </g>\n    <g id=\"ytick_9\">\n     <g id=\"line2d_14\">\n      <path clip-path=\"url(#p5e7e2449f3)\" d=\"M 52.675938 27.432 \nL 766.915938 27.432 \n\" style=\"fill:none;stroke:#ffffff;stroke-linecap:round;stroke-width:0.8;\"/>\n     </g>\n     <g id=\"text_15\">\n      <!-- 0.50 -->\n      <g style=\"fill:#262626;\" transform=\"translate(26.215 31.010906)scale(0.1 -0.1)\">\n       <use xlink:href=\"#ArialMT-30\"/>\n       <use x=\"55.615234\" xlink:href=\"#ArialMT-2e\"/>\n       <use x=\"83.398438\" xlink:href=\"#ArialMT-35\"/>\n       <use x=\"139.013672\" xlink:href=\"#ArialMT-30\"/>\n      </g>\n     </g>\n    </g>\n    <g id=\"text_16\">\n     <!-- Chocolate (kg) -->\n     <g style=\"fill:#262626;\" transform=\"translate(18.8475 222.3)rotate(-90)scale(0.16 -0.16)\">\n      <defs>\n       <path d=\"M 3763 1606 \nL 4369 1453 \nQ 4178 706 3683 314 \nQ 3188 -78 2472 -78 \nQ 1731 -78 1267 223 \nQ 803 525 561 1097 \nQ 319 1669 319 2325 \nQ 319 3041 592 3573 \nQ 866 4106 1370 4382 \nQ 1875 4659 2481 4659 \nQ 3169 4659 3637 4309 \nQ 4106 3959 4291 3325 \nL 3694 3184 \nQ 3534 3684 3231 3912 \nQ 2928 4141 2469 4141 \nQ 1941 4141 1586 3887 \nQ 1231 3634 1087 3207 \nQ 944 2781 944 2328 \nQ 944 1744 1114 1308 \nQ 1284 872 1643 656 \nQ 2003 441 2422 441 \nQ 2931 441 3284 734 \nQ 3638 1028 3763 1606 \nz\n\" id=\"ArialMT-43\" transform=\"scale(0.015625)\"/>\n       <path d=\"M 213 1659 \nQ 213 2581 725 3025 \nQ 1153 3394 1769 3394 \nQ 2453 3394 2887 2945 \nQ 3322 2497 3322 1706 \nQ 3322 1066 3130 698 \nQ 2938 331 2570 128 \nQ 2203 -75 1769 -75 \nQ 1072 -75 642 372 \nQ 213 819 213 1659 \nz\nM 791 1659 \nQ 791 1022 1069 705 \nQ 1347 388 1769 388 \nQ 2188 388 2466 706 \nQ 2744 1025 2744 1678 \nQ 2744 2294 2464 2611 \nQ 2184 2928 1769 2928 \nQ 1347 2928 1069 2612 \nQ 791 2297 791 1659 \nz\n\" id=\"ArialMT-6f\" transform=\"scale(0.015625)\"/>\n       <path d=\"M 2588 1216 \nL 3141 1144 \nQ 3050 572 2676 248 \nQ 2303 -75 1759 -75 \nQ 1078 -75 664 370 \nQ 250 816 250 1647 \nQ 250 2184 428 2587 \nQ 606 2991 970 3192 \nQ 1334 3394 1763 3394 \nQ 2303 3394 2647 3120 \nQ 2991 2847 3088 2344 \nL 2541 2259 \nQ 2463 2594 2264 2762 \nQ 2066 2931 1784 2931 \nQ 1359 2931 1093 2626 \nQ 828 2322 828 1663 \nQ 828 994 1084 691 \nQ 1341 388 1753 388 \nQ 2084 388 2306 591 \nQ 2528 794 2588 1216 \nz\n\" id=\"ArialMT-63\" transform=\"scale(0.015625)\"/>\n       <path d=\"M 409 0 \nL 409 4581 \nL 972 4581 \nL 972 0 \nL 409 0 \nz\n\" id=\"ArialMT-6c\" transform=\"scale(0.015625)\"/>\n       <path d=\"M 1650 503 \nL 1731 6 \nQ 1494 -44 1306 -44 \nQ 1000 -44 831 53 \nQ 663 150 594 308 \nQ 525 466 525 972 \nL 525 2881 \nL 113 2881 \nL 113 3319 \nL 525 3319 \nL 525 4141 \nL 1084 4478 \nL 1084 3319 \nL 1650 3319 \nL 1650 2881 \nL 1084 2881 \nL 1084 941 \nQ 1084 700 1114 631 \nQ 1144 563 1211 522 \nQ 1278 481 1403 481 \nQ 1497 481 1650 503 \nz\n\" id=\"ArialMT-74\" transform=\"scale(0.015625)\"/>\n       <path d=\"M 2694 1069 \nL 3275 997 \nQ 3138 488 2766 206 \nQ 2394 -75 1816 -75 \nQ 1088 -75 661 373 \nQ 234 822 234 1631 \nQ 234 2469 665 2931 \nQ 1097 3394 1784 3394 \nQ 2450 3394 2872 2941 \nQ 3294 2488 3294 1666 \nQ 3294 1616 3291 1516 \nL 816 1516 \nQ 847 969 1125 678 \nQ 1403 388 1819 388 \nQ 2128 388 2347 550 \nQ 2566 713 2694 1069 \nz\nM 847 1978 \nL 2700 1978 \nQ 2663 2397 2488 2606 \nQ 2219 2931 1791 2931 \nQ 1403 2931 1139 2672 \nQ 875 2413 847 1978 \nz\n\" id=\"ArialMT-65\" transform=\"scale(0.015625)\"/>\n      </defs>\n      <use xlink:href=\"#ArialMT-43\"/>\n      <use x=\"72.216797\" xlink:href=\"#ArialMT-68\"/>\n      <use x=\"127.832031\" xlink:href=\"#ArialMT-6f\"/>\n      <use x=\"183.447266\" xlink:href=\"#ArialMT-63\"/>\n      <use x=\"233.447266\" xlink:href=\"#ArialMT-6f\"/>\n      <use x=\"289.0625\" xlink:href=\"#ArialMT-6c\"/>\n      <use x=\"311.279297\" xlink:href=\"#ArialMT-61\"/>\n      <use x=\"366.894531\" xlink:href=\"#ArialMT-74\"/>\n      <use x=\"394.677734\" xlink:href=\"#ArialMT-65\"/>\n      <use x=\"450.292969\" xlink:href=\"#ArialMT-20\"/>\n      <use x=\"478.076172\" xlink:href=\"#ArialMT-28\"/>\n      <use x=\"511.376953\" xlink:href=\"#ArialMT-6b\"/>\n      <use x=\"561.376953\" xlink:href=\"#ArialMT-67\"/>\n      <use x=\"616.992188\" xlink:href=\"#ArialMT-29\"/>\n     </g>\n    </g>\n   </g>\n   <g id=\"LineCollection_1\"/>\n   <g id=\"LineCollection_2\">\n    <path clip-path=\"url(#p5e7e2449f3)\" d=\"M 52.675938 311.466977 \nL 63.179467 313.128 \n\" style=\"fill:none;stroke:#000000;stroke-width:1.5;\"/>\n   </g>\n   <g id=\"LineCollection_3\">\n    <path clip-path=\"url(#p5e7e2449f3)\" d=\"M 52.675938 258.314233 \nL 132.035938 270.864186 \nL 193.374771 280.564281 \n\" style=\"fill:none;stroke:#000000;stroke-width:1.5;\"/>\n    <path clip-path=\"url(#p5e7e2449f3)\" d=\"M 229.417104 286.263998 \nL 290.755938 295.964093 \nL 370.115938 308.514047 \nL 399.292408 313.128 \n\" style=\"fill:none;stroke:#000000;stroke-width:1.5;\"/>\n   </g>\n   <g id=\"LineCollection_4\">\n    <path clip-path=\"url(#p5e7e2449f3)\" d=\"M 52.675938 205.161488 \nL 132.035938 217.711442 \nL 133.202996 217.896 \nL 211.395938 230.261395 \nL 290.755938 242.811349 \nL 333.937114 249.64 \nL 352.094771 252.511443 \n\" style=\"fill:none;stroke:#000000;stroke-width:1.5;\"/>\n    <path clip-path=\"url(#p5e7e2449f3)\" d=\"M 388.137104 258.211161 \nL 449.475938 267.911256 \nL 528.835938 280.461209 \nL 534.671232 281.384 \nL 608.195938 293.011163 \nL 687.555938 305.561116 \nL 735.405349 313.128 \n\" style=\"fill:none;stroke:#000000;stroke-width:1.5;\"/>\n   </g>\n   <g id=\"LineCollection_5\">\n    <path clip-path=\"url(#p5e7e2449f3)\" d=\"M 52.675938 152.008744 \nL 67.847702 154.408 \nL 132.035938 164.558698 \nL 211.395938 177.108651 \nL 268.58182 186.152 \nL 290.755938 189.658605 \nL 370.115938 202.208558 \nL 431.454771 211.908653 \n\" style=\"fill:none;stroke:#000000;stroke-width:1.5;\"/>\n    <path clip-path=\"url(#p5e7e2449f3)\" d=\"M 467.497104 217.608371 \nL 469.315938 217.896 \nL 528.835938 227.308465 \nL 608.195938 239.858419 \nL 670.050055 249.64 \nL 687.555938 252.408372 \nL 766.915938 264.958326 \n\" style=\"fill:none;stroke:#000000;stroke-width:1.5;\"/>\n   </g>\n   <g id=\"LineCollection_6\">\n    <path clip-path=\"url(#p5e7e2449f3)\" d=\"M 52.675938 98.856 \nL 132.035938 111.405953 \nL 203.226526 122.664 \nL 211.395938 123.955907 \nL 290.755938 136.50586 \nL 370.115938 149.055814 \nL 386.000983 151.567868 \n\" style=\"fill:none;stroke:#000000;stroke-width:1.5;\"/>\n    <path clip-path=\"url(#p5e7e2449f3)\" d=\"M 421.920304 157.248132 \nL 449.475938 161.605767 \nL 528.835938 174.155721 \nL 604.694761 186.152 \nL 608.195938 186.705674 \nL 687.555938 199.255628 \nL 766.915938 211.805581 \n\" style=\"fill:none;stroke:#000000;stroke-width:1.5;\"/>\n   </g>\n   <g id=\"LineCollection_7\">\n    <path clip-path=\"url(#p5e7e2449f3)\" d=\"M 52.675938 45.703256 \nL 132.035938 58.253209 \nL 137.871232 59.176 \nL 211.395938 70.803163 \nL 290.755938 83.353116 \nL 338.605349 90.92 \nL 370.115938 95.90307 \nL 431.454771 105.603164 \n\" style=\"fill:none;stroke:#000000;stroke-width:1.5;\"/>\n    <path clip-path=\"url(#p5e7e2449f3)\" d=\"M 467.497104 111.302882 \nL 528.835938 121.002977 \nL 539.339467 122.664 \nL 608.195938 133.55293 \nL 687.555938 146.102884 \nL 740.073585 154.408 \nL 766.915938 158.652837 \n\" style=\"fill:none;stroke:#000000;stroke-width:1.5;\"/>\n   </g>\n   <g id=\"LineCollection_8\">\n    <path clip-path=\"url(#p5e7e2449f3)\" d=\"M 273.250055 27.432 \nL 290.755938 30.200372 \nL 370.115938 42.750326 \nL 449.475938 55.300279 \nL 473.984173 59.176 \nL 510.753265 64.990647 \n\" style=\"fill:none;stroke:#000000;stroke-width:1.5;\"/>\n    <path clip-path=\"url(#p5e7e2449f3)\" d=\"M 546.91861 70.709818 \nL 608.195938 80.400186 \nL 674.71829 90.92 \nL 687.555938 92.95014 \nL 766.915938 105.500093 \n\" style=\"fill:none;stroke:#000000;stroke-width:1.5;\"/>\n   </g>\n   <g id=\"LineCollection_9\">\n    <path clip-path=\"url(#p5e7e2449f3)\" d=\"M 609.362996 27.432 \nL 669.473265 36.93781 \n\" style=\"fill:none;stroke:#000000;stroke-width:1.5;\"/>\n    <path clip-path=\"url(#p5e7e2449f3)\" d=\"M 705.63861 42.656981 \nL 766.915938 52.347349 \n\" style=\"fill:none;stroke:#000000;stroke-width:1.5;\"/>\n   </g>\n   <g id=\"LineCollection_10\"/>\n   <g id=\"patch_3\">\n    <path d=\"M 52.675938 313.128 \nL 52.675938 27.432 \n\" style=\"fill:none;stroke:#ffffff;stroke-linecap:square;stroke-linejoin:miter;stroke-width:0.8;\"/>\n   </g>\n   <g id=\"patch_4\">\n    <path d=\"M 766.915938 313.128 \nL 766.915938 27.432 \n\" style=\"fill:none;stroke:#ffffff;stroke-linecap:square;stroke-linejoin:miter;stroke-width:0.8;\"/>\n   </g>\n   <g id=\"patch_5\">\n    <path d=\"M 52.675938 313.128 \nL 766.915938 313.128 \n\" style=\"fill:none;stroke:#ffffff;stroke-linecap:square;stroke-linejoin:miter;stroke-width:0.8;\"/>\n   </g>\n   <g id=\"patch_6\">\n    <path d=\"M 52.675938 27.432 \nL 766.915938 27.432 \n\" style=\"fill:none;stroke:#ffffff;stroke-linecap:square;stroke-linejoin:miter;stroke-width:0.8;\"/>\n   </g>\n   <g id=\"text_17\">\n    <g clip-path=\"url(#p5e7e2449f3)\">\n     <!-- 20 -->\n     <g transform=\"translate(202.498296 285.748206)rotate(-349.766209)scale(0.15 -0.15)\">\n      <use xlink:href=\"#ArialMT-32\"/>\n      <use x=\"55.615234\" xlink:href=\"#ArialMT-30\"/>\n     </g>\n    </g>\n   </g>\n   <g id=\"text_18\">\n    <g clip-path=\"url(#p5e7e2449f3)\">\n     <!-- 24 -->\n     <g transform=\"translate(361.218296 257.695369)rotate(-349.766209)scale(0.15 -0.15)\">\n      <use xlink:href=\"#ArialMT-32\"/>\n      <use x=\"55.615234\" xlink:href=\"#ArialMT-34\"/>\n     </g>\n    </g>\n   </g>\n   <g id=\"text_19\">\n    <g clip-path=\"url(#p5e7e2449f3)\">\n     <!-- 28 -->\n     <g transform=\"translate(440.578296 217.092578)rotate(-349.766209)scale(0.15 -0.15)\">\n      <use xlink:href=\"#ArialMT-32\"/>\n      <use x=\"55.615234\" xlink:href=\"#ArialMT-38\"/>\n     </g>\n    </g>\n   </g>\n   <g id=\"text_20\">\n    <g clip-path=\"url(#p5e7e2449f3)\">\n     <!-- 32 -->\n     <g transform=\"translate(395.063002 156.742066)rotate(-349.766209)scale(0.15 -0.15)\">\n      <use xlink:href=\"#ArialMT-33\"/>\n      <use x=\"55.615234\" xlink:href=\"#ArialMT-32\"/>\n     </g>\n    </g>\n   </g>\n   <g id=\"text_21\">\n    <g clip-path=\"url(#p5e7e2449f3)\">\n     <!-- 36 -->\n     <g transform=\"translate(440.578296 110.78709)rotate(-349.766209)scale(0.15 -0.15)\">\n      <use xlink:href=\"#ArialMT-33\"/>\n      <use x=\"55.615234\" xlink:href=\"#ArialMT-36\"/>\n     </g>\n    </g>\n   </g>\n   <g id=\"text_22\">\n    <g clip-path=\"url(#p5e7e2449f3)\">\n     <!-- 40 -->\n     <g transform=\"translate(519.938296 70.184299)rotate(-349.766209)scale(0.15 -0.15)\">\n      <use xlink:href=\"#ArialMT-34\"/>\n      <use x=\"55.615234\" xlink:href=\"#ArialMT-30\"/>\n     </g>\n    </g>\n   </g>\n   <g id=\"text_23\">\n    <g clip-path=\"url(#p5e7e2449f3)\">\n     <!-- 44 -->\n     <g transform=\"translate(678.658296 42.131462)rotate(-349.766209)scale(0.15 -0.15)\">\n      <use xlink:href=\"#ArialMT-34\"/>\n      <use x=\"55.615234\" xlink:href=\"#ArialMT-34\"/>\n     </g>\n    </g>\n   </g>\n  </g>\n  <g id=\"axes_2\">\n   <g id=\"patch_7\">\n    <path d=\"M 811.555938 333.36 \nL 827.863938 333.36 \nL 827.863938 7.2 \nL 811.555938 7.2 \nz\n\" style=\"fill:#eaeaf2;\"/>\n   </g>\n   <g id=\"patch_8\">\n    <path clip-path=\"url(#p27f5638157)\" d=\"M 811.555938 333.36 \nL 811.555938 332.085938 \nL 811.555938 8.474063 \nL 811.555938 7.2 \nL 827.863938 7.2 \nL 827.863938 8.474063 \nL 827.863938 332.085938 \nL 827.863938 333.36 \nL 827.863938 333.36 \nz\n\" style=\"fill:#eaeaf2;stroke:#eaeaf2;stroke-linejoin:miter;stroke-width:0.01;\"/>\n   </g>\n   <g id=\"matplotlib.axis_3\"/>\n   <g id=\"matplotlib.axis_4\">\n    <g id=\"ytick_10\">\n     <g id=\"line2d_15\">\n      <defs>\n       <path d=\"M 0 0 \nL 3.5 0 \n\" id=\"m40da09a675\" style=\"stroke:#262626;stroke-width:0.8;\"/>\n      </defs>\n      <g>\n       <use style=\"fill:#262626;stroke:#262626;stroke-width:0.8;\" x=\"827.863938\" xlink:href=\"#m40da09a675\" y=\"288.513\"/>\n      </g>\n     </g>\n     <g id=\"text_24\">\n      <!-- 20 -->\n      <g style=\"fill:#262626;\" transform=\"translate(834.863938 292.091906)scale(0.1 -0.1)\">\n       <use xlink:href=\"#ArialMT-32\"/>\n       <use x=\"55.615234\" xlink:href=\"#ArialMT-30\"/>\n      </g>\n     </g>\n    </g>\n    <g id=\"ytick_11\">\n     <g id=\"line2d_16\">\n      <g>\n       <use style=\"fill:#262626;stroke:#262626;stroke-width:0.8;\" x=\"827.863938\" xlink:href=\"#m40da09a675\" y=\"234.153\"/>\n      </g>\n     </g>\n     <g id=\"text_25\">\n      <!-- 25 -->\n      <g style=\"fill:#262626;\" transform=\"translate(834.863938 237.731906)scale(0.1 -0.1)\">\n       <use xlink:href=\"#ArialMT-32\"/>\n       <use x=\"55.615234\" xlink:href=\"#ArialMT-35\"/>\n      </g>\n     </g>\n    </g>\n    <g id=\"ytick_12\">\n     <g id=\"line2d_17\">\n      <g>\n       <use style=\"fill:#262626;stroke:#262626;stroke-width:0.8;\" x=\"827.863938\" xlink:href=\"#m40da09a675\" y=\"179.793\"/>\n      </g>\n     </g>\n     <g id=\"text_26\">\n      <!-- 30 -->\n      <g style=\"fill:#262626;\" transform=\"translate(834.863938 183.371906)scale(0.1 -0.1)\">\n       <use xlink:href=\"#ArialMT-33\"/>\n       <use x=\"55.615234\" xlink:href=\"#ArialMT-30\"/>\n      </g>\n     </g>\n    </g>\n    <g id=\"ytick_13\">\n     <g id=\"line2d_18\">\n      <g>\n       <use style=\"fill:#262626;stroke:#262626;stroke-width:0.8;\" x=\"827.863938\" xlink:href=\"#m40da09a675\" y=\"125.433\"/>\n      </g>\n     </g>\n     <g id=\"text_27\">\n      <!-- 35 -->\n      <g style=\"fill:#262626;\" transform=\"translate(834.863938 129.011906)scale(0.1 -0.1)\">\n       <use xlink:href=\"#ArialMT-33\"/>\n       <use x=\"55.615234\" xlink:href=\"#ArialMT-35\"/>\n      </g>\n     </g>\n    </g>\n    <g id=\"ytick_14\">\n     <g id=\"line2d_19\">\n      <g>\n       <use style=\"fill:#262626;stroke:#262626;stroke-width:0.8;\" x=\"827.863938\" xlink:href=\"#m40da09a675\" y=\"71.073\"/>\n      </g>\n     </g>\n     <g id=\"text_28\">\n      <!-- 40 -->\n      <g style=\"fill:#262626;\" transform=\"translate(834.863938 74.651906)scale(0.1 -0.1)\">\n       <use xlink:href=\"#ArialMT-34\"/>\n       <use x=\"55.615234\" xlink:href=\"#ArialMT-30\"/>\n      </g>\n     </g>\n    </g>\n    <g id=\"ytick_15\">\n     <g id=\"line2d_20\">\n      <g>\n       <use style=\"fill:#262626;stroke:#262626;stroke-width:0.8;\" x=\"827.863938\" xlink:href=\"#m40da09a675\" y=\"16.713\"/>\n      </g>\n     </g>\n     <g id=\"text_29\">\n      <!-- 45 -->\n      <g style=\"fill:#262626;\" transform=\"translate(834.863938 20.291906)scale(0.1 -0.1)\">\n       <use xlink:href=\"#ArialMT-34\"/>\n       <use x=\"55.615234\" xlink:href=\"#ArialMT-35\"/>\n      </g>\n     </g>\n    </g>\n    <g id=\"text_30\">\n     <!-- Porções -->\n     <g style=\"fill:#262626;\" transform=\"translate(861.438313 199.62625)rotate(-90)scale(0.16 -0.16)\">\n      <defs>\n       <path d=\"M 494 0 \nL 494 4581 \nL 2222 4581 \nQ 2678 4581 2919 4538 \nQ 3256 4481 3484 4323 \nQ 3713 4166 3852 3881 \nQ 3991 3597 3991 3256 \nQ 3991 2672 3619 2267 \nQ 3247 1863 2275 1863 \nL 1100 1863 \nL 1100 0 \nL 494 0 \nz\nM 1100 2403 \nL 2284 2403 \nQ 2872 2403 3119 2622 \nQ 3366 2841 3366 3238 \nQ 3366 3525 3220 3729 \nQ 3075 3934 2838 4000 \nQ 2684 4041 2272 4041 \nL 1100 4041 \nL 1100 2403 \nz\n\" id=\"ArialMT-50\" transform=\"scale(0.015625)\"/>\n       <path d=\"M 2588 1216 \nL 3141 1144 \nQ 3050 572 2676 248 \nQ 2303 -75 1759 -75 \nQ 1078 -75 664 370 \nQ 250 816 250 1647 \nQ 250 2184 428 2587 \nQ 606 2991 970 3192 \nQ 1334 3394 1763 3394 \nQ 2303 3394 2647 3120 \nQ 2991 2847 3088 2344 \nL 2541 2259 \nQ 2463 2594 2264 2762 \nQ 2066 2931 1784 2931 \nQ 1359 2931 1093 2626 \nQ 828 2322 828 1663 \nQ 828 994 1084 691 \nQ 1341 388 1753 388 \nQ 2084 388 2306 591 \nQ 2528 794 2588 1216 \nz\nM 1283 -417 \nL 1446 136 \nL 1864 136 \nL 1761 -199 \nQ 2027 -230 2161 -362 \nQ 2296 -495 2296 -658 \nQ 2296 -892 2071 -1072 \nQ 1846 -1252 1392 -1252 \nQ 1136 -1252 942 -1214 \nL 977 -849 \nQ 1177 -861 1271 -861 \nQ 1564 -861 1683 -780 \nQ 1774 -717 1774 -627 \nQ 1774 -570 1738 -526 \nQ 1702 -483 1605 -451 \nQ 1508 -420 1283 -417 \nz\n\" id=\"ArialMT-e7\" transform=\"scale(0.015625)\"/>\n       <path d=\"M 213 1659 \nQ 213 2581 725 3025 \nQ 1153 3394 1769 3394 \nQ 2453 3394 2887 2945 \nQ 3322 2497 3322 1706 \nQ 3322 1066 3130 698 \nQ 2938 331 2570 128 \nQ 2203 -75 1769 -75 \nQ 1072 -75 642 372 \nQ 213 819 213 1659 \nz\nM 791 1659 \nQ 791 1022 1069 705 \nQ 1347 388 1769 388 \nQ 2188 388 2466 706 \nQ 2744 1025 2744 1678 \nQ 2744 2294 2464 2611 \nQ 2184 2928 1769 2928 \nQ 1347 2928 1069 2612 \nQ 791 2297 791 1659 \nz\nM 726 3809 \nQ 723 4134 904 4328 \nQ 1082 4522 1360 4522 \nQ 1554 4522 1888 4353 \nQ 2073 4259 2182 4259 \nQ 2282 4259 2335 4314 \nQ 2388 4369 2410 4531 \nL 2817 4531 \nQ 2807 4175 2637 3997 \nQ 2467 3819 2204 3819 \nQ 2007 3819 1685 3994 \nQ 1476 4106 1379 4106 \nQ 1273 4106 1207 4031 \nQ 1138 3956 1142 3809 \nL 726 3809 \nz\n\" id=\"ArialMT-f5\" transform=\"scale(0.015625)\"/>\n       <path d=\"M 197 991 \nL 753 1078 \nQ 800 744 1014 566 \nQ 1228 388 1613 388 \nQ 2000 388 2187 545 \nQ 2375 703 2375 916 \nQ 2375 1106 2209 1216 \nQ 2094 1291 1634 1406 \nQ 1016 1563 777 1677 \nQ 538 1791 414 1992 \nQ 291 2194 291 2438 \nQ 291 2659 392 2848 \nQ 494 3038 669 3163 \nQ 800 3259 1026 3326 \nQ 1253 3394 1513 3394 \nQ 1903 3394 2198 3281 \nQ 2494 3169 2634 2976 \nQ 2775 2784 2828 2463 \nL 2278 2388 \nQ 2241 2644 2061 2787 \nQ 1881 2931 1553 2931 \nQ 1166 2931 1000 2803 \nQ 834 2675 834 2503 \nQ 834 2394 903 2306 \nQ 972 2216 1119 2156 \nQ 1203 2125 1616 2013 \nQ 2213 1853 2448 1751 \nQ 2684 1650 2818 1456 \nQ 2953 1263 2953 975 \nQ 2953 694 2789 445 \nQ 2625 197 2315 61 \nQ 2006 -75 1616 -75 \nQ 969 -75 630 194 \nQ 291 463 197 991 \nz\n\" id=\"ArialMT-73\" transform=\"scale(0.015625)\"/>\n      </defs>\n      <use xlink:href=\"#ArialMT-50\"/>\n      <use x=\"66.699219\" xlink:href=\"#ArialMT-6f\"/>\n      <use x=\"122.314453\" xlink:href=\"#ArialMT-72\"/>\n      <use x=\"155.615234\" xlink:href=\"#ArialMT-e7\"/>\n      <use x=\"205.615234\" xlink:href=\"#ArialMT-f5\"/>\n      <use x=\"261.230469\" xlink:href=\"#ArialMT-65\"/>\n      <use x=\"316.845703\" xlink:href=\"#ArialMT-73\"/>\n     </g>\n    </g>\n   </g>\n   <image height=\"326\" id=\"image626680701e\" transform=\"scale(1 -1)translate(0 -326)\" width=\"16\" x=\"812\" xlink:href=\"data:image/png;base64,\niVBORw0KGgoAAAANSUhEUgAAABAAAAFGCAYAAABjUx8/AAAB0ElEQVR4nO2aW47DMAzE/MjB9+BtsoegAE5c9d+GTHFkF8j8G88zwO+6N1k+xmLLCyoo2OCSKzgCYjO47o3CyE08AyLb4AwGVKSG6HehIdYwkLPgb9AQI9L4pUd4YA0BDHAbOUSsMqQQAREyeHAa1wEmUogBIslZqJiJrxeJZuEMiLqJOgN9qFbEWYdIGSzKYNEKtn4vTJrGAxjgI8zXm8gh7okhwgoCGHAPbJEmbGNAGnkXJlrP50FAGrmJukh8oFCIBSbqEAMYoPVHQOQm6gz4I8tmcK2hQ8SPLG4iWh9hIoYIPTiBAc1CgYl6GvWBUjATdYgFJt5sAxrnAgb2QCkwUYdIVeYM9A0KXqr8CDCNPoPNPpQN8CAA4nrkqXwt2saAu9E3EbYx4G7EECfvgg4RZwEzgBsETCQ/jdTEAIj7tuMcMNLsMAWkcd56GvFMhEdIEImnkbYRVlBgIodIZ6KeRnyEApHkLlRApNe73wU9jdseKCeI9H4TC0T6vl2kAIiDHmF8IcTRDAoq8CHSNNIj+BU0xJo0vt2DBIj+RIIVJISpISZAtOMcAbFFChCpIfoVREBsBi1SwBF8lRNeqp8WqUWKYPD5+f+N8xnsE4h/L6WBl6xb1zMAAAAASUVORK5CYII=\" y=\"-7\"/>\n   <g id=\"LineCollection_11\"/>\n   <g id=\"patch_9\">\n    <path d=\"M 811.555938 333.36 \nL 811.555938 332.085938 \nL 811.555938 8.474063 \nL 811.555938 7.2 \nL 827.863938 7.2 \nL 827.863938 8.474063 \nL 827.863938 332.085938 \nL 827.863938 333.36 \nz\n\" style=\"fill:none;stroke:#ffffff;stroke-linecap:square;stroke-linejoin:miter;stroke-width:0.8;\"/>\n   </g>\n  </g>\n </g>\n <defs>\n  <clipPath id=\"p5e7e2449f3\">\n   <rect height=\"285.696\" width=\"714.24\" x=\"52.675938\" y=\"27.432\"/>\n  </clipPath>\n  <clipPath id=\"p27f5638157\">\n   <rect height=\"326.16\" width=\"16.308\" x=\"811.555938\" y=\"7.2\"/>\n  </clipPath>\n </defs>\n</svg>\n",
      "text/plain": [
       "<Figure size 1152x432 with 2 Axes>"
      ]
     },
     "metadata": {}
    }
   ],
   "metadata": {}
  },
  {
   "cell_type": "code",
   "execution_count": null,
   "source": [],
   "outputs": [],
   "metadata": {}
  }
 ],
 "metadata": {
  "kernelspec": {
   "name": "python3",
   "display_name": "Python 3.8.8 64-bit ('base': conda)"
  },
  "language_info": {
   "codemirror_mode": {
    "name": "ipython",
    "version": 3
   },
   "file_extension": ".py",
   "mimetype": "text/x-python",
   "name": "python",
   "nbconvert_exporter": "python",
   "pygments_lexer": "ipython3",
   "version": "3.8.8"
  },
  "interpreter": {
   "hash": "648cb497f9726581f5c61f68ba7fae955320a0270152a187dbdef1af63b80d02"
  }
 },
 "nbformat": 4,
 "nbformat_minor": 2
}