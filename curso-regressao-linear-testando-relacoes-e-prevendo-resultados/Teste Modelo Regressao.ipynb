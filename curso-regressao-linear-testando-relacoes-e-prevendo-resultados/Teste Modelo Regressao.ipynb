{
    "cells": [
        {
            "cell_type": "code",
            "execution_count": 1,
            "source": [
                "import pickle\n",
                "\n",
                "modelo = open('modelo_consumo_cerveja', 'rb')\n",
                "lm_new = pickle.load(modelo)\n",
                "modelo.close()"
            ],
            "outputs": [],
            "metadata": {}
        },
        {
            "cell_type": "code",
            "execution_count": 8,
            "source": [
                "temp_max = 30.5\n",
                "chuva = 20\n",
                "fds = 0\n",
                "entrada = [[temp_max, chuva, fds]]\n",
                "\n",
                "\n",
                "print('{0: .2f} litros'.format(lm_new.predict(entrada)[0]))"
            ],
            "outputs": [
                {
                    "output_type": "stream",
                    "name": "stdout",
                    "text": [
                        " 25620.80 litros\n"
                    ]
                }
            ],
            "metadata": {}
        }
    ],
    "metadata": {
        "orig_nbformat": 4,
        "language_info": {
            "name": "python",
            "version": "3.8.8",
            "mimetype": "text/x-python",
            "codemirror_mode": {
                "name": "ipython",
                "version": 3
            },
            "pygments_lexer": "ipython3",
            "nbconvert_exporter": "python",
            "file_extension": ".py"
        },
        "kernelspec": {
            "name": "python3",
            "display_name": "Python 3.8.8 64-bit ('base': conda)"
        },
        "interpreter": {
            "hash": "648cb497f9726581f5c61f68ba7fae955320a0270152a187dbdef1af63b80d02"
        }
    },
    "nbformat": 4,
    "nbformat_minor": 2
}