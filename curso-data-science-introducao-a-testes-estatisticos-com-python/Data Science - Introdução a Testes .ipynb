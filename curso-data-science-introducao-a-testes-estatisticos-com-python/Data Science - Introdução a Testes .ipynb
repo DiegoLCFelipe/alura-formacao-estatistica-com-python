{
 "cells": [
  {
   "cell_type": "markdown",
   "source": [
    "<h1 style='color: darkblue; font-size: 36px; font-weight: bold;'>Data Science - Introdução a Testes Estatísticos</h1>"
   ],
   "metadata": {}
  },
  {
   "cell_type": "markdown",
   "source": [
    "# <font color='darkblue' style='font-size: 30px;'>1 Conhecendo o Dataset</font>\n",
    "<hr style='border: 2px solid black;'>"
   ],
   "metadata": {}
  },
  {
   "cell_type": "markdown",
   "source": [
    "## Importando a biblioteca pandas\n",
    "\n",
    "https://pandas.pydata.org/"
   ],
   "metadata": {}
  },
  {
   "cell_type": "code",
   "execution_count": 43,
   "source": [
    "import pandas as pd"
   ],
   "outputs": [],
   "metadata": {}
  },
  {
   "cell_type": "markdown",
   "source": [
    "## O Dataset e o Projeto\n",
    "<hr>\n",
    "\n",
    "### Descrição:\n",
    "\n",
    "<p style='font-size: 18px; line-height: 2; margin: 10px 50px; text-align: justify; text-indent: 35px;'>Ao longo dos nossos estudos, utilizaremos dados do MovieLens, que são avaliações de filmes (com notas de 0.5 a 5), e também do The Movie Database (TMDB).<p>\n",
    "\n",
    "### Dados:\n",
    "\n",
    "<ul style='font-size: 18px; line-height: 2; text-align: justify;'>\n",
    "   <li><b>budget</b> - Orçamento </li>\n",
    "   <li><b>genres</b> - Gêneros </li>\n",
    "   <li><b>homepage</b> - Página do filme na internet </li>\n",
    "   <li><b>id</b> - Identificador </li>\n",
    "   <li><b>keywords</b> - Palavras-chave associadas ao filme </li>\n",
    "   <li><b>original_language</b> - Língua original </li>\n",
    "   <li><b>original_title</b> - Título original </li>\n",
    "   <li><b>overview</b>  - Descrição básica do filme </li>\n",
    "   <li><b>popularity</b> - \"Nota\" de popularidade calculada pelo próprio TMDB </li>\n",
    "   <li><b>production_companies</b> - Empresas envolvidas na produção </li>\n",
    "   <li><b>production_contries</b> - Países em que o filme foi produzido </li>\n",
    "   <li><b>release_date</b> - Data de lançamento </li>\n",
    "   <li><b>renevue</b> - Faturamento </li>\n",
    "   <li><b>runtime</b> - Tempo de duração (em minutos) </li>\n",
    "   <li><b>spoken_languages</b> - Línguas faladas no filme </li>\n",
    "   <li><b>status</b> - Se o filme foi lançado ou não </li>\n",
    "   <li><b>tagline</b> - Chamada do filme (como encontramos em propagandas) </li>\n",
    "   <li><b>title</b> - Título </li>\n",
    "   <li><b>vote_average</b> - Nota média do filme </li>\n",
    "   <li>vote_count</b> - Número de notas atribuídas ao filme</li>\n",
    "</ul>"
   ],
   "metadata": {}
  },
  {
   "cell_type": "markdown",
   "source": [
    "## Leitura e visualização dos dados"
   ],
   "metadata": {}
  },
  {
   "cell_type": "code",
   "execution_count": 44,
   "source": [
    "tmdb = pd.read_csv(\"dados/tmdb_5000_movies.csv\")\n",
    "tmdb.head()"
   ],
   "outputs": [
    {
     "output_type": "execute_result",
     "data": {
      "text/html": [
       "<div>\n",
       "<style scoped>\n",
       "    .dataframe tbody tr th:only-of-type {\n",
       "        vertical-align: middle;\n",
       "    }\n",
       "\n",
       "    .dataframe tbody tr th {\n",
       "        vertical-align: top;\n",
       "    }\n",
       "\n",
       "    .dataframe thead th {\n",
       "        text-align: right;\n",
       "    }\n",
       "</style>\n",
       "<table border=\"1\" class=\"dataframe\">\n",
       "  <thead>\n",
       "    <tr style=\"text-align: right;\">\n",
       "      <th></th>\n",
       "      <th>budget</th>\n",
       "      <th>genres</th>\n",
       "      <th>homepage</th>\n",
       "      <th>id</th>\n",
       "      <th>keywords</th>\n",
       "      <th>original_language</th>\n",
       "      <th>original_title</th>\n",
       "      <th>overview</th>\n",
       "      <th>popularity</th>\n",
       "      <th>production_companies</th>\n",
       "      <th>production_countries</th>\n",
       "      <th>release_date</th>\n",
       "      <th>revenue</th>\n",
       "      <th>runtime</th>\n",
       "      <th>spoken_languages</th>\n",
       "      <th>status</th>\n",
       "      <th>tagline</th>\n",
       "      <th>title</th>\n",
       "      <th>vote_average</th>\n",
       "      <th>vote_count</th>\n",
       "    </tr>\n",
       "  </thead>\n",
       "  <tbody>\n",
       "    <tr>\n",
       "      <th>0</th>\n",
       "      <td>237000000</td>\n",
       "      <td>[{\"id\": 28, \"name\": \"Action\"}, {\"id\": 12, \"nam...</td>\n",
       "      <td>http://www.avatarmovie.com/</td>\n",
       "      <td>19995</td>\n",
       "      <td>[{\"id\": 1463, \"name\": \"culture clash\"}, {\"id\":...</td>\n",
       "      <td>en</td>\n",
       "      <td>Avatar</td>\n",
       "      <td>In the 22nd century, a paraplegic Marine is di...</td>\n",
       "      <td>150.437577</td>\n",
       "      <td>[{\"name\": \"Ingenious Film Partners\", \"id\": 289...</td>\n",
       "      <td>[{\"iso_3166_1\": \"US\", \"name\": \"United States o...</td>\n",
       "      <td>2009-12-10</td>\n",
       "      <td>2787965087</td>\n",
       "      <td>162.0</td>\n",
       "      <td>[{\"iso_639_1\": \"en\", \"name\": \"English\"}, {\"iso...</td>\n",
       "      <td>Released</td>\n",
       "      <td>Enter the World of Pandora.</td>\n",
       "      <td>Avatar</td>\n",
       "      <td>7.2</td>\n",
       "      <td>11800</td>\n",
       "    </tr>\n",
       "    <tr>\n",
       "      <th>1</th>\n",
       "      <td>300000000</td>\n",
       "      <td>[{\"id\": 12, \"name\": \"Adventure\"}, {\"id\": 14, \"...</td>\n",
       "      <td>http://disney.go.com/disneypictures/pirates/</td>\n",
       "      <td>285</td>\n",
       "      <td>[{\"id\": 270, \"name\": \"ocean\"}, {\"id\": 726, \"na...</td>\n",
       "      <td>en</td>\n",
       "      <td>Pirates of the Caribbean: At World's End</td>\n",
       "      <td>Captain Barbossa, long believed to be dead, ha...</td>\n",
       "      <td>139.082615</td>\n",
       "      <td>[{\"name\": \"Walt Disney Pictures\", \"id\": 2}, {\"...</td>\n",
       "      <td>[{\"iso_3166_1\": \"US\", \"name\": \"United States o...</td>\n",
       "      <td>2007-05-19</td>\n",
       "      <td>961000000</td>\n",
       "      <td>169.0</td>\n",
       "      <td>[{\"iso_639_1\": \"en\", \"name\": \"English\"}]</td>\n",
       "      <td>Released</td>\n",
       "      <td>At the end of the world, the adventure begins.</td>\n",
       "      <td>Pirates of the Caribbean: At World's End</td>\n",
       "      <td>6.9</td>\n",
       "      <td>4500</td>\n",
       "    </tr>\n",
       "    <tr>\n",
       "      <th>2</th>\n",
       "      <td>245000000</td>\n",
       "      <td>[{\"id\": 28, \"name\": \"Action\"}, {\"id\": 12, \"nam...</td>\n",
       "      <td>http://www.sonypictures.com/movies/spectre/</td>\n",
       "      <td>206647</td>\n",
       "      <td>[{\"id\": 470, \"name\": \"spy\"}, {\"id\": 818, \"name...</td>\n",
       "      <td>en</td>\n",
       "      <td>Spectre</td>\n",
       "      <td>A cryptic message from Bond’s past sends him o...</td>\n",
       "      <td>107.376788</td>\n",
       "      <td>[{\"name\": \"Columbia Pictures\", \"id\": 5}, {\"nam...</td>\n",
       "      <td>[{\"iso_3166_1\": \"GB\", \"name\": \"United Kingdom\"...</td>\n",
       "      <td>2015-10-26</td>\n",
       "      <td>880674609</td>\n",
       "      <td>148.0</td>\n",
       "      <td>[{\"iso_639_1\": \"fr\", \"name\": \"Fran\\u00e7ais\"},...</td>\n",
       "      <td>Released</td>\n",
       "      <td>A Plan No One Escapes</td>\n",
       "      <td>Spectre</td>\n",
       "      <td>6.3</td>\n",
       "      <td>4466</td>\n",
       "    </tr>\n",
       "    <tr>\n",
       "      <th>3</th>\n",
       "      <td>250000000</td>\n",
       "      <td>[{\"id\": 28, \"name\": \"Action\"}, {\"id\": 80, \"nam...</td>\n",
       "      <td>http://www.thedarkknightrises.com/</td>\n",
       "      <td>49026</td>\n",
       "      <td>[{\"id\": 849, \"name\": \"dc comics\"}, {\"id\": 853,...</td>\n",
       "      <td>en</td>\n",
       "      <td>The Dark Knight Rises</td>\n",
       "      <td>Following the death of District Attorney Harve...</td>\n",
       "      <td>112.312950</td>\n",
       "      <td>[{\"name\": \"Legendary Pictures\", \"id\": 923}, {\"...</td>\n",
       "      <td>[{\"iso_3166_1\": \"US\", \"name\": \"United States o...</td>\n",
       "      <td>2012-07-16</td>\n",
       "      <td>1084939099</td>\n",
       "      <td>165.0</td>\n",
       "      <td>[{\"iso_639_1\": \"en\", \"name\": \"English\"}]</td>\n",
       "      <td>Released</td>\n",
       "      <td>The Legend Ends</td>\n",
       "      <td>The Dark Knight Rises</td>\n",
       "      <td>7.6</td>\n",
       "      <td>9106</td>\n",
       "    </tr>\n",
       "    <tr>\n",
       "      <th>4</th>\n",
       "      <td>260000000</td>\n",
       "      <td>[{\"id\": 28, \"name\": \"Action\"}, {\"id\": 12, \"nam...</td>\n",
       "      <td>http://movies.disney.com/john-carter</td>\n",
       "      <td>49529</td>\n",
       "      <td>[{\"id\": 818, \"name\": \"based on novel\"}, {\"id\":...</td>\n",
       "      <td>en</td>\n",
       "      <td>John Carter</td>\n",
       "      <td>John Carter is a war-weary, former military ca...</td>\n",
       "      <td>43.926995</td>\n",
       "      <td>[{\"name\": \"Walt Disney Pictures\", \"id\": 2}]</td>\n",
       "      <td>[{\"iso_3166_1\": \"US\", \"name\": \"United States o...</td>\n",
       "      <td>2012-03-07</td>\n",
       "      <td>284139100</td>\n",
       "      <td>132.0</td>\n",
       "      <td>[{\"iso_639_1\": \"en\", \"name\": \"English\"}]</td>\n",
       "      <td>Released</td>\n",
       "      <td>Lost in our world, found in another.</td>\n",
       "      <td>John Carter</td>\n",
       "      <td>6.1</td>\n",
       "      <td>2124</td>\n",
       "    </tr>\n",
       "  </tbody>\n",
       "</table>\n",
       "</div>"
      ],
      "text/plain": [
       "      budget                                             genres  \\\n",
       "0  237000000  [{\"id\": 28, \"name\": \"Action\"}, {\"id\": 12, \"nam...   \n",
       "1  300000000  [{\"id\": 12, \"name\": \"Adventure\"}, {\"id\": 14, \"...   \n",
       "2  245000000  [{\"id\": 28, \"name\": \"Action\"}, {\"id\": 12, \"nam...   \n",
       "3  250000000  [{\"id\": 28, \"name\": \"Action\"}, {\"id\": 80, \"nam...   \n",
       "4  260000000  [{\"id\": 28, \"name\": \"Action\"}, {\"id\": 12, \"nam...   \n",
       "\n",
       "                                       homepage      id  \\\n",
       "0                   http://www.avatarmovie.com/   19995   \n",
       "1  http://disney.go.com/disneypictures/pirates/     285   \n",
       "2   http://www.sonypictures.com/movies/spectre/  206647   \n",
       "3            http://www.thedarkknightrises.com/   49026   \n",
       "4          http://movies.disney.com/john-carter   49529   \n",
       "\n",
       "                                            keywords original_language  \\\n",
       "0  [{\"id\": 1463, \"name\": \"culture clash\"}, {\"id\":...                en   \n",
       "1  [{\"id\": 270, \"name\": \"ocean\"}, {\"id\": 726, \"na...                en   \n",
       "2  [{\"id\": 470, \"name\": \"spy\"}, {\"id\": 818, \"name...                en   \n",
       "3  [{\"id\": 849, \"name\": \"dc comics\"}, {\"id\": 853,...                en   \n",
       "4  [{\"id\": 818, \"name\": \"based on novel\"}, {\"id\":...                en   \n",
       "\n",
       "                             original_title  \\\n",
       "0                                    Avatar   \n",
       "1  Pirates of the Caribbean: At World's End   \n",
       "2                                   Spectre   \n",
       "3                     The Dark Knight Rises   \n",
       "4                               John Carter   \n",
       "\n",
       "                                            overview  popularity  \\\n",
       "0  In the 22nd century, a paraplegic Marine is di...  150.437577   \n",
       "1  Captain Barbossa, long believed to be dead, ha...  139.082615   \n",
       "2  A cryptic message from Bond’s past sends him o...  107.376788   \n",
       "3  Following the death of District Attorney Harve...  112.312950   \n",
       "4  John Carter is a war-weary, former military ca...   43.926995   \n",
       "\n",
       "                                production_companies  \\\n",
       "0  [{\"name\": \"Ingenious Film Partners\", \"id\": 289...   \n",
       "1  [{\"name\": \"Walt Disney Pictures\", \"id\": 2}, {\"...   \n",
       "2  [{\"name\": \"Columbia Pictures\", \"id\": 5}, {\"nam...   \n",
       "3  [{\"name\": \"Legendary Pictures\", \"id\": 923}, {\"...   \n",
       "4        [{\"name\": \"Walt Disney Pictures\", \"id\": 2}]   \n",
       "\n",
       "                                production_countries release_date     revenue  \\\n",
       "0  [{\"iso_3166_1\": \"US\", \"name\": \"United States o...   2009-12-10  2787965087   \n",
       "1  [{\"iso_3166_1\": \"US\", \"name\": \"United States o...   2007-05-19   961000000   \n",
       "2  [{\"iso_3166_1\": \"GB\", \"name\": \"United Kingdom\"...   2015-10-26   880674609   \n",
       "3  [{\"iso_3166_1\": \"US\", \"name\": \"United States o...   2012-07-16  1084939099   \n",
       "4  [{\"iso_3166_1\": \"US\", \"name\": \"United States o...   2012-03-07   284139100   \n",
       "\n",
       "   runtime                                   spoken_languages    status  \\\n",
       "0    162.0  [{\"iso_639_1\": \"en\", \"name\": \"English\"}, {\"iso...  Released   \n",
       "1    169.0           [{\"iso_639_1\": \"en\", \"name\": \"English\"}]  Released   \n",
       "2    148.0  [{\"iso_639_1\": \"fr\", \"name\": \"Fran\\u00e7ais\"},...  Released   \n",
       "3    165.0           [{\"iso_639_1\": \"en\", \"name\": \"English\"}]  Released   \n",
       "4    132.0           [{\"iso_639_1\": \"en\", \"name\": \"English\"}]  Released   \n",
       "\n",
       "                                          tagline  \\\n",
       "0                     Enter the World of Pandora.   \n",
       "1  At the end of the world, the adventure begins.   \n",
       "2                           A Plan No One Escapes   \n",
       "3                                 The Legend Ends   \n",
       "4            Lost in our world, found in another.   \n",
       "\n",
       "                                      title  vote_average  vote_count  \n",
       "0                                    Avatar           7.2       11800  \n",
       "1  Pirates of the Caribbean: At World's End           6.9        4500  \n",
       "2                                   Spectre           6.3        4466  \n",
       "3                     The Dark Knight Rises           7.6        9106  \n",
       "4                               John Carter           6.1        2124  "
      ]
     },
     "metadata": {},
     "execution_count": 44
    }
   ],
   "metadata": {}
  },
  {
   "cell_type": "markdown",
   "source": [
    "# <font color='darkblue' style='font-size: 30px;'>1.1 Análises Preliminares - TMDB</font>\n",
    "<hr style='border: 2px solid black;'>"
   ],
   "metadata": {}
  },
  {
   "cell_type": "markdown",
   "source": [
    "## Estatíticas Descritivas"
   ],
   "metadata": {}
  },
  {
   "cell_type": "code",
   "execution_count": 45,
   "source": [
    "tmdb.describe()"
   ],
   "outputs": [
    {
     "output_type": "execute_result",
     "data": {
      "text/html": [
       "<div>\n",
       "<style scoped>\n",
       "    .dataframe tbody tr th:only-of-type {\n",
       "        vertical-align: middle;\n",
       "    }\n",
       "\n",
       "    .dataframe tbody tr th {\n",
       "        vertical-align: top;\n",
       "    }\n",
       "\n",
       "    .dataframe thead th {\n",
       "        text-align: right;\n",
       "    }\n",
       "</style>\n",
       "<table border=\"1\" class=\"dataframe\">\n",
       "  <thead>\n",
       "    <tr style=\"text-align: right;\">\n",
       "      <th></th>\n",
       "      <th>budget</th>\n",
       "      <th>id</th>\n",
       "      <th>popularity</th>\n",
       "      <th>revenue</th>\n",
       "      <th>runtime</th>\n",
       "      <th>vote_average</th>\n",
       "      <th>vote_count</th>\n",
       "    </tr>\n",
       "  </thead>\n",
       "  <tbody>\n",
       "    <tr>\n",
       "      <th>count</th>\n",
       "      <td>4.803000e+03</td>\n",
       "      <td>4803.000000</td>\n",
       "      <td>4803.000000</td>\n",
       "      <td>4.803000e+03</td>\n",
       "      <td>4801.000000</td>\n",
       "      <td>4803.000000</td>\n",
       "      <td>4803.000000</td>\n",
       "    </tr>\n",
       "    <tr>\n",
       "      <th>mean</th>\n",
       "      <td>2.904504e+07</td>\n",
       "      <td>57165.484281</td>\n",
       "      <td>21.492301</td>\n",
       "      <td>8.226064e+07</td>\n",
       "      <td>106.875859</td>\n",
       "      <td>6.092172</td>\n",
       "      <td>690.217989</td>\n",
       "    </tr>\n",
       "    <tr>\n",
       "      <th>std</th>\n",
       "      <td>4.072239e+07</td>\n",
       "      <td>88694.614033</td>\n",
       "      <td>31.816650</td>\n",
       "      <td>1.628571e+08</td>\n",
       "      <td>22.611935</td>\n",
       "      <td>1.194612</td>\n",
       "      <td>1234.585891</td>\n",
       "    </tr>\n",
       "    <tr>\n",
       "      <th>min</th>\n",
       "      <td>0.000000e+00</td>\n",
       "      <td>5.000000</td>\n",
       "      <td>0.000000</td>\n",
       "      <td>0.000000e+00</td>\n",
       "      <td>0.000000</td>\n",
       "      <td>0.000000</td>\n",
       "      <td>0.000000</td>\n",
       "    </tr>\n",
       "    <tr>\n",
       "      <th>25%</th>\n",
       "      <td>7.900000e+05</td>\n",
       "      <td>9014.500000</td>\n",
       "      <td>4.668070</td>\n",
       "      <td>0.000000e+00</td>\n",
       "      <td>94.000000</td>\n",
       "      <td>5.600000</td>\n",
       "      <td>54.000000</td>\n",
       "    </tr>\n",
       "    <tr>\n",
       "      <th>50%</th>\n",
       "      <td>1.500000e+07</td>\n",
       "      <td>14629.000000</td>\n",
       "      <td>12.921594</td>\n",
       "      <td>1.917000e+07</td>\n",
       "      <td>103.000000</td>\n",
       "      <td>6.200000</td>\n",
       "      <td>235.000000</td>\n",
       "    </tr>\n",
       "    <tr>\n",
       "      <th>75%</th>\n",
       "      <td>4.000000e+07</td>\n",
       "      <td>58610.500000</td>\n",
       "      <td>28.313505</td>\n",
       "      <td>9.291719e+07</td>\n",
       "      <td>118.000000</td>\n",
       "      <td>6.800000</td>\n",
       "      <td>737.000000</td>\n",
       "    </tr>\n",
       "    <tr>\n",
       "      <th>max</th>\n",
       "      <td>3.800000e+08</td>\n",
       "      <td>459488.000000</td>\n",
       "      <td>875.581305</td>\n",
       "      <td>2.787965e+09</td>\n",
       "      <td>338.000000</td>\n",
       "      <td>10.000000</td>\n",
       "      <td>13752.000000</td>\n",
       "    </tr>\n",
       "  </tbody>\n",
       "</table>\n",
       "</div>"
      ],
      "text/plain": [
       "             budget             id   popularity       revenue      runtime  \\\n",
       "count  4.803000e+03    4803.000000  4803.000000  4.803000e+03  4801.000000   \n",
       "mean   2.904504e+07   57165.484281    21.492301  8.226064e+07   106.875859   \n",
       "std    4.072239e+07   88694.614033    31.816650  1.628571e+08    22.611935   \n",
       "min    0.000000e+00       5.000000     0.000000  0.000000e+00     0.000000   \n",
       "25%    7.900000e+05    9014.500000     4.668070  0.000000e+00    94.000000   \n",
       "50%    1.500000e+07   14629.000000    12.921594  1.917000e+07   103.000000   \n",
       "75%    4.000000e+07   58610.500000    28.313505  9.291719e+07   118.000000   \n",
       "max    3.800000e+08  459488.000000   875.581305  2.787965e+09   338.000000   \n",
       "\n",
       "       vote_average    vote_count  \n",
       "count   4803.000000   4803.000000  \n",
       "mean       6.092172    690.217989  \n",
       "std        1.194612   1234.585891  \n",
       "min        0.000000      0.000000  \n",
       "25%        5.600000     54.000000  \n",
       "50%        6.200000    235.000000  \n",
       "75%        6.800000    737.000000  \n",
       "max       10.000000  13752.000000  "
      ]
     },
     "metadata": {},
     "execution_count": 45
    }
   ],
   "metadata": {}
  },
  {
   "cell_type": "markdown",
   "source": [
    "Na tabela resultante, é possível verificar, por exemplo, que o valor mínimo para \"vote_average é 0, e o máximo é 10. Essa é uma maneira tabular de visualizarmos essas informações, e ela nos permite, inclusive, verificar a mediana (que figura na linha 50%, e que representa o valor que divide o conjunto de dados ao meio - neste caso, 6.2) e os quartis (25% e 75%)."
   ],
   "metadata": {}
  },
  {
   "cell_type": "markdown",
   "source": [
    "## Distribuição de Frequências dos Votos"
   ],
   "metadata": {}
  },
  {
   "cell_type": "markdown",
   "source": [
    "\n",
    "Estamos interessados em apresentar a **média de votos** em filmes do TMDB, para isso utilizamos um histograma com a densidade (números relativos) de cada uma das notas em conjunto com a curva de densidade de probabilidade, **kde**.\n",
    "\n",
    "Ao observar o histograma nota-se a existênca de uma grande quantidade de valores com nota 0.\n",
    "\n",
    "Observação: A função utilizada no curso, **distplot** está obsoleta, de forma que utilizou-se a função **histplot** para reproduzir a mesma visualização. O eixo y só apresenta os valores relativos utilizando o parâmetro **stat**."
   ],
   "metadata": {}
  },
  {
   "cell_type": "code",
   "execution_count": 46,
   "source": [
    "import matplotlib.pyplot as plt\n",
    "import seaborn as sns\n",
    "\n",
    "sns.set_style('white')\n",
    "sns.set_context(\"notebook\", rc={\"lines.linewidth\": 1.7})\n",
    "sns.set_palette('YlGnBu_r')\n",
    "\n",
    "fig = plt.figure(figsize=(10, 5))\n",
    "axes = fig.subplots(1,2)\n",
    "sns.histplot(tmdb.vote_average, kde=True, stat=\"density\", ax=axes[0])\n",
    "axes[0].set_xlabel('Nota Média',fontsize=13)\n",
    "axes[0].set_ylabel('Densidade', fontsize=13)\n",
    "axes[0].set_title('Média de votos em filmes do TMDB 5000', fontsize=15)\n",
    "\n",
    "sns.histplot(tmdb.vote_average, kde=True, ax=axes[1])\n",
    "axes[1].set_xlabel('Nota Média',fontsize=13)\n",
    "axes[1].set_ylabel('Frequência', fontsize=13)\n",
    "axes[1].set_title('Média de votos em filmes do TMDB 5000', fontsize=15)\n",
    "fig.tight_layout()"
   ],
   "outputs": [
    {
     "output_type": "display_data",
     "data": {
      "image/png": "[encoded data removed]",
      "text/plain": [
       "<Figure size 720x360 with 2 Axes>"
      ]
     },
     "metadata": {}
    }
   ],
   "metadata": {}
  },
  {
   "cell_type": "markdown",
   "source": [
    "## Box plot dos Votos \n",
    "\n",
    "Agora é interessante mostrar a **distribuição** do dados **em torno da média**, **mediana** e **quartis**. Isso é feito utilizando o **boxplot**, conforme mostrado no gŕafico abaixo. \n",
    "\n",
    "A observação do boxplot demonstra e existência de filmes com **média** 0 ou 10, o que é um comportamento estranho, visto que para que isso ocorra todas as pessoas deveriam votar 0 ou 10. Para tirar essa dúvida checaremos os filmes com nota igual a 0, através de uma **query**."
   ],
   "metadata": {}
  },
  {
   "cell_type": "code",
   "execution_count": 47,
   "source": [
    "ax = sns.boxplot(data = tmdb.vote_average, orient='h')\n",
    "ax.set_xlabel('Nota Média do Filme', fontsize = 13)\n",
    "ax.set_title('Distribuição de nota média dos filmes TMDB 5000', fontsize = 15)"
   ],
   "outputs": [
    {
     "output_type": "execute_result",
     "data": {
      "text/plain": [
       "Text(0.5, 1.0, 'Distribuição de nota média dos filmes TMDB 5000')"
      ]
     },
     "metadata": {},
     "execution_count": 47
    },
    {
     "output_type": "display_data",
     "data": {
      "image/png": "[encoded data removed]",
      "text/plain": [
       "<Figure size 432x288 with 1 Axes>"
      ]
     },
     "metadata": {}
    }
   ],
   "metadata": {}
  },
  {
   "cell_type": "markdown",
   "source": [
    "Essas são maneiras diferentes de visualizarmos as informações do nosso conjunto, cada uma com suas propriedades. Por exemplo, no histograma, apesar de conseguirmos identificar as frequências com mais exatidão, é impossível visualizar a mediana ou os quartis, que são algumas das principais informações no boxplot. Dessa forma, a utilização de cada visualização vai depender dos nossos objetivos."
   ],
   "metadata": {}
  },
  {
   "cell_type": "code",
   "execution_count": 48,
   "source": [
    "tmdb.query('vote_average == 0').head()"
   ],
   "outputs": [
    {
     "output_type": "execute_result",
     "data": {
      "text/html": [
       "<div>\n",
       "<style scoped>\n",
       "    .dataframe tbody tr th:only-of-type {\n",
       "        vertical-align: middle;\n",
       "    }\n",
       "\n",
       "    .dataframe tbody tr th {\n",
       "        vertical-align: top;\n",
       "    }\n",
       "\n",
       "    .dataframe thead th {\n",
       "        text-align: right;\n",
       "    }\n",
       "</style>\n",
       "<table border=\"1\" class=\"dataframe\">\n",
       "  <thead>\n",
       "    <tr style=\"text-align: right;\">\n",
       "      <th></th>\n",
       "      <th>budget</th>\n",
       "      <th>genres</th>\n",
       "      <th>homepage</th>\n",
       "      <th>id</th>\n",
       "      <th>keywords</th>\n",
       "      <th>original_language</th>\n",
       "      <th>original_title</th>\n",
       "      <th>overview</th>\n",
       "      <th>popularity</th>\n",
       "      <th>production_companies</th>\n",
       "      <th>production_countries</th>\n",
       "      <th>release_date</th>\n",
       "      <th>revenue</th>\n",
       "      <th>runtime</th>\n",
       "      <th>spoken_languages</th>\n",
       "      <th>status</th>\n",
       "      <th>tagline</th>\n",
       "      <th>title</th>\n",
       "      <th>vote_average</th>\n",
       "      <th>vote_count</th>\n",
       "    </tr>\n",
       "  </thead>\n",
       "  <tbody>\n",
       "    <tr>\n",
       "      <th>1464</th>\n",
       "      <td>0</td>\n",
       "      <td>[{\"id\": 18, \"name\": \"Drama\"}, {\"id\": 80, \"name...</td>\n",
       "      <td>NaN</td>\n",
       "      <td>310706</td>\n",
       "      <td>[]</td>\n",
       "      <td>en</td>\n",
       "      <td>Black Water Transit</td>\n",
       "      <td>In this action thriller set in post-Katrina Ne...</td>\n",
       "      <td>0.126738</td>\n",
       "      <td>[{\"name\": \"Capitol Films\", \"id\": 826}]</td>\n",
       "      <td>[{\"iso_3166_1\": \"US\", \"name\": \"United States o...</td>\n",
       "      <td>2009-05-13</td>\n",
       "      <td>0</td>\n",
       "      <td>100.0</td>\n",
       "      <td>[{\"iso_639_1\": \"en\", \"name\": \"English\"}]</td>\n",
       "      <td>Released</td>\n",
       "      <td>NaN</td>\n",
       "      <td>Black Water Transit</td>\n",
       "      <td>0.0</td>\n",
       "      <td>0</td>\n",
       "    </tr>\n",
       "    <tr>\n",
       "      <th>3669</th>\n",
       "      <td>0</td>\n",
       "      <td>[{\"id\": 35, \"name\": \"Comedy\"}, {\"id\": 18, \"nam...</td>\n",
       "      <td>http://www.romeothemovie.com/</td>\n",
       "      <td>113406</td>\n",
       "      <td>[]</td>\n",
       "      <td>en</td>\n",
       "      <td>Should've Been Romeo</td>\n",
       "      <td>A self-centered, middle-aged pitchman for a po...</td>\n",
       "      <td>0.407030</td>\n",
       "      <td>[{\"name\": \"Phillybrook Films\", \"id\": 65147}]</td>\n",
       "      <td>[{\"iso_3166_1\": \"US\", \"name\": \"United States o...</td>\n",
       "      <td>2012-04-28</td>\n",
       "      <td>0</td>\n",
       "      <td>0.0</td>\n",
       "      <td>[{\"iso_639_1\": \"en\", \"name\": \"English\"}]</td>\n",
       "      <td>Released</td>\n",
       "      <td>Even Shakespeare didn't see this one coming.</td>\n",
       "      <td>Should've Been Romeo</td>\n",
       "      <td>0.0</td>\n",
       "      <td>0</td>\n",
       "    </tr>\n",
       "    <tr>\n",
       "      <th>3670</th>\n",
       "      <td>0</td>\n",
       "      <td>[{\"id\": 10751, \"name\": \"Family\"}]</td>\n",
       "      <td>NaN</td>\n",
       "      <td>447027</td>\n",
       "      <td>[]</td>\n",
       "      <td>en</td>\n",
       "      <td>Running Forever</td>\n",
       "      <td>After being estranged since her mother's death...</td>\n",
       "      <td>0.028756</td>\n",
       "      <td>[{\"name\": \"New Kingdom Pictures\", \"id\": 41671}]</td>\n",
       "      <td>[{\"iso_3166_1\": \"US\", \"name\": \"United States o...</td>\n",
       "      <td>2015-10-27</td>\n",
       "      <td>0</td>\n",
       "      <td>88.0</td>\n",
       "      <td>[]</td>\n",
       "      <td>Released</td>\n",
       "      <td>NaN</td>\n",
       "      <td>Running Forever</td>\n",
       "      <td>0.0</td>\n",
       "      <td>0</td>\n",
       "    </tr>\n",
       "    <tr>\n",
       "      <th>3852</th>\n",
       "      <td>0</td>\n",
       "      <td>[{\"id\": 18, \"name\": \"Drama\"}]</td>\n",
       "      <td>NaN</td>\n",
       "      <td>395766</td>\n",
       "      <td>[{\"id\": 11162, \"name\": \"miniseries\"}]</td>\n",
       "      <td>en</td>\n",
       "      <td>The Secret</td>\n",
       "      <td>The Secret is the story of a real-life double ...</td>\n",
       "      <td>0.042346</td>\n",
       "      <td>[]</td>\n",
       "      <td>[]</td>\n",
       "      <td>2016-04-29</td>\n",
       "      <td>0</td>\n",
       "      <td>200.0</td>\n",
       "      <td>[]</td>\n",
       "      <td>Released</td>\n",
       "      <td>NaN</td>\n",
       "      <td>The Secret</td>\n",
       "      <td>0.0</td>\n",
       "      <td>0</td>\n",
       "    </tr>\n",
       "    <tr>\n",
       "      <th>3855</th>\n",
       "      <td>3500000</td>\n",
       "      <td>[{\"id\": 99, \"name\": \"Documentary\"}]</td>\n",
       "      <td>http://www.timetochoose.com</td>\n",
       "      <td>370662</td>\n",
       "      <td>[{\"id\": 2210, \"name\": \"climate change\"}, {\"id\"...</td>\n",
       "      <td>en</td>\n",
       "      <td>Time to Choose</td>\n",
       "      <td>Academy Award® winning director Charles Fergus...</td>\n",
       "      <td>1.618138</td>\n",
       "      <td>[{\"name\": \"Representational Pictures\", \"id\": 8...</td>\n",
       "      <td>[{\"iso_3166_1\": \"US\", \"name\": \"United States o...</td>\n",
       "      <td>2015-09-04</td>\n",
       "      <td>0</td>\n",
       "      <td>100.0</td>\n",
       "      <td>[{\"iso_639_1\": \"en\", \"name\": \"English\"}]</td>\n",
       "      <td>Released</td>\n",
       "      <td>Climate change for good.</td>\n",
       "      <td>Time to Choose</td>\n",
       "      <td>0.0</td>\n",
       "      <td>0</td>\n",
       "    </tr>\n",
       "  </tbody>\n",
       "</table>\n",
       "</div>"
      ],
      "text/plain": [
       "       budget                                             genres  \\\n",
       "1464        0  [{\"id\": 18, \"name\": \"Drama\"}, {\"id\": 80, \"name...   \n",
       "3669        0  [{\"id\": 35, \"name\": \"Comedy\"}, {\"id\": 18, \"nam...   \n",
       "3670        0                  [{\"id\": 10751, \"name\": \"Family\"}]   \n",
       "3852        0                      [{\"id\": 18, \"name\": \"Drama\"}]   \n",
       "3855  3500000                [{\"id\": 99, \"name\": \"Documentary\"}]   \n",
       "\n",
       "                           homepage      id  \\\n",
       "1464                            NaN  310706   \n",
       "3669  http://www.romeothemovie.com/  113406   \n",
       "3670                            NaN  447027   \n",
       "3852                            NaN  395766   \n",
       "3855    http://www.timetochoose.com  370662   \n",
       "\n",
       "                                               keywords original_language  \\\n",
       "1464                                                 []                en   \n",
       "3669                                                 []                en   \n",
       "3670                                                 []                en   \n",
       "3852              [{\"id\": 11162, \"name\": \"miniseries\"}]                en   \n",
       "3855  [{\"id\": 2210, \"name\": \"climate change\"}, {\"id\"...                en   \n",
       "\n",
       "            original_title                                           overview  \\\n",
       "1464   Black Water Transit  In this action thriller set in post-Katrina Ne...   \n",
       "3669  Should've Been Romeo  A self-centered, middle-aged pitchman for a po...   \n",
       "3670       Running Forever  After being estranged since her mother's death...   \n",
       "3852            The Secret  The Secret is the story of a real-life double ...   \n",
       "3855        Time to Choose  Academy Award® winning director Charles Fergus...   \n",
       "\n",
       "      popularity                               production_companies  \\\n",
       "1464    0.126738             [{\"name\": \"Capitol Films\", \"id\": 826}]   \n",
       "3669    0.407030       [{\"name\": \"Phillybrook Films\", \"id\": 65147}]   \n",
       "3670    0.028756    [{\"name\": \"New Kingdom Pictures\", \"id\": 41671}]   \n",
       "3852    0.042346                                                 []   \n",
       "3855    1.618138  [{\"name\": \"Representational Pictures\", \"id\": 8...   \n",
       "\n",
       "                                   production_countries release_date  revenue  \\\n",
       "1464  [{\"iso_3166_1\": \"US\", \"name\": \"United States o...   2009-05-13        0   \n",
       "3669  [{\"iso_3166_1\": \"US\", \"name\": \"United States o...   2012-04-28        0   \n",
       "3670  [{\"iso_3166_1\": \"US\", \"name\": \"United States o...   2015-10-27        0   \n",
       "3852                                                 []   2016-04-29        0   \n",
       "3855  [{\"iso_3166_1\": \"US\", \"name\": \"United States o...   2015-09-04        0   \n",
       "\n",
       "      runtime                          spoken_languages    status  \\\n",
       "1464    100.0  [{\"iso_639_1\": \"en\", \"name\": \"English\"}]  Released   \n",
       "3669      0.0  [{\"iso_639_1\": \"en\", \"name\": \"English\"}]  Released   \n",
       "3670     88.0                                        []  Released   \n",
       "3852    200.0                                        []  Released   \n",
       "3855    100.0  [{\"iso_639_1\": \"en\", \"name\": \"English\"}]  Released   \n",
       "\n",
       "                                           tagline                 title  \\\n",
       "1464                                           NaN   Black Water Transit   \n",
       "3669  Even Shakespeare didn't see this one coming.  Should've Been Romeo   \n",
       "3670                                           NaN       Running Forever   \n",
       "3852                                           NaN            The Secret   \n",
       "3855                      Climate change for good.        Time to Choose   \n",
       "\n",
       "      vote_average  vote_count  \n",
       "1464           0.0           0  \n",
       "3669           0.0           0  \n",
       "3670           0.0           0  \n",
       "3852           0.0           0  \n",
       "3855           0.0           0  "
      ]
     },
     "metadata": {},
     "execution_count": 48
    }
   ],
   "metadata": {}
  },
  {
   "cell_type": "markdown",
   "source": [
    "Ao filtrar o dataFrame apenas com os filmes com nota 0, observa-se que a maioria destes filmes não foi votada, de forma que esses dados não são adequados à análise por não demontrar a satisfação em relação ao filme. Para contornar isso consdieraremos nas análises apenas os filmes que possuem mais de 10 votos."
   ],
   "metadata": {}
  },
  {
   "cell_type": "markdown",
   "source": [
    "## Removendo Outliers\n",
    "\n",
    "Conforme as análises preliminares notamos que existem filmes com médias 10 ou 0 e concluimmos que essas médias ocorrem por esses filmes terem poucos votos. Apartir disso consideraremos como representativos apenas os filmes com mais de 10 votos."
   ],
   "metadata": {}
  },
  {
   "cell_type": "code",
   "execution_count": 49,
   "source": [
    "tmdb_com_mais_de_10_votos = tmdb.query('vote_count >= 10')\n",
    "tmdb_com_mais_de_10_votos.describe()"
   ],
   "outputs": [
    {
     "output_type": "execute_result",
     "data": {
      "text/html": [
       "<div>\n",
       "<style scoped>\n",
       "    .dataframe tbody tr th:only-of-type {\n",
       "        vertical-align: middle;\n",
       "    }\n",
       "\n",
       "    .dataframe tbody tr th {\n",
       "        vertical-align: top;\n",
       "    }\n",
       "\n",
       "    .dataframe thead th {\n",
       "        text-align: right;\n",
       "    }\n",
       "</style>\n",
       "<table border=\"1\" class=\"dataframe\">\n",
       "  <thead>\n",
       "    <tr style=\"text-align: right;\">\n",
       "      <th></th>\n",
       "      <th>budget</th>\n",
       "      <th>id</th>\n",
       "      <th>popularity</th>\n",
       "      <th>revenue</th>\n",
       "      <th>runtime</th>\n",
       "      <th>vote_average</th>\n",
       "      <th>vote_count</th>\n",
       "    </tr>\n",
       "  </thead>\n",
       "  <tbody>\n",
       "    <tr>\n",
       "      <th>count</th>\n",
       "      <td>4.392000e+03</td>\n",
       "      <td>4392.000000</td>\n",
       "      <td>4392.000000</td>\n",
       "      <td>4.392000e+03</td>\n",
       "      <td>4391.000000</td>\n",
       "      <td>4392.000000</td>\n",
       "      <td>4392.000000</td>\n",
       "    </tr>\n",
       "    <tr>\n",
       "      <th>mean</th>\n",
       "      <td>3.164545e+07</td>\n",
       "      <td>49204.119991</td>\n",
       "      <td>23.448815</td>\n",
       "      <td>8.990969e+07</td>\n",
       "      <td>108.430881</td>\n",
       "      <td>6.226935</td>\n",
       "      <td>754.441712</td>\n",
       "    </tr>\n",
       "    <tr>\n",
       "      <th>std</th>\n",
       "      <td>4.162736e+07</td>\n",
       "      <td>80136.249777</td>\n",
       "      <td>32.592158</td>\n",
       "      <td>1.682870e+08</td>\n",
       "      <td>21.014719</td>\n",
       "      <td>0.893215</td>\n",
       "      <td>1272.263761</td>\n",
       "    </tr>\n",
       "    <tr>\n",
       "      <th>min</th>\n",
       "      <td>0.000000e+00</td>\n",
       "      <td>5.000000</td>\n",
       "      <td>0.011697</td>\n",
       "      <td>0.000000e+00</td>\n",
       "      <td>0.000000</td>\n",
       "      <td>1.900000</td>\n",
       "      <td>10.000000</td>\n",
       "    </tr>\n",
       "    <tr>\n",
       "      <th>25%</th>\n",
       "      <td>2.895962e+06</td>\n",
       "      <td>8403.500000</td>\n",
       "      <td>6.512166</td>\n",
       "      <td>1.365700e+04</td>\n",
       "      <td>95.000000</td>\n",
       "      <td>5.700000</td>\n",
       "      <td>83.750000</td>\n",
       "    </tr>\n",
       "    <tr>\n",
       "      <th>50%</th>\n",
       "      <td>1.700000e+07</td>\n",
       "      <td>13084.500000</td>\n",
       "      <td>14.827784</td>\n",
       "      <td>2.685837e+07</td>\n",
       "      <td>105.000000</td>\n",
       "      <td>6.300000</td>\n",
       "      <td>288.500000</td>\n",
       "    </tr>\n",
       "    <tr>\n",
       "      <th>75%</th>\n",
       "      <td>4.200000e+07</td>\n",
       "      <td>46831.250000</td>\n",
       "      <td>30.258282</td>\n",
       "      <td>1.022818e+08</td>\n",
       "      <td>118.500000</td>\n",
       "      <td>6.800000</td>\n",
       "      <td>831.000000</td>\n",
       "    </tr>\n",
       "    <tr>\n",
       "      <th>max</th>\n",
       "      <td>3.800000e+08</td>\n",
       "      <td>417859.000000</td>\n",
       "      <td>875.581305</td>\n",
       "      <td>2.787965e+09</td>\n",
       "      <td>338.000000</td>\n",
       "      <td>8.500000</td>\n",
       "      <td>13752.000000</td>\n",
       "    </tr>\n",
       "  </tbody>\n",
       "</table>\n",
       "</div>"
      ],
      "text/plain": [
       "             budget             id   popularity       revenue      runtime  \\\n",
       "count  4.392000e+03    4392.000000  4392.000000  4.392000e+03  4391.000000   \n",
       "mean   3.164545e+07   49204.119991    23.448815  8.990969e+07   108.430881   \n",
       "std    4.162736e+07   80136.249777    32.592158  1.682870e+08    21.014719   \n",
       "min    0.000000e+00       5.000000     0.011697  0.000000e+00     0.000000   \n",
       "25%    2.895962e+06    8403.500000     6.512166  1.365700e+04    95.000000   \n",
       "50%    1.700000e+07   13084.500000    14.827784  2.685837e+07   105.000000   \n",
       "75%    4.200000e+07   46831.250000    30.258282  1.022818e+08   118.500000   \n",
       "max    3.800000e+08  417859.000000   875.581305  2.787965e+09   338.000000   \n",
       "\n",
       "       vote_average    vote_count  \n",
       "count   4392.000000   4392.000000  \n",
       "mean       6.226935    754.441712  \n",
       "std        0.893215   1272.263761  \n",
       "min        1.900000     10.000000  \n",
       "25%        5.700000     83.750000  \n",
       "50%        6.300000    288.500000  \n",
       "75%        6.800000    831.000000  \n",
       "max        8.500000  13752.000000  "
      ]
     },
     "metadata": {},
     "execution_count": 49
    }
   ],
   "metadata": {}
  },
  {
   "cell_type": "markdown",
   "source": [
    "Ao filtrar os dados observamos os valores mínimo e máximo foram 1,9 e 8,5, respectivamente, o que retrata melhor a realidade."
   ],
   "metadata": {}
  },
  {
   "cell_type": "code",
   "execution_count": 50,
   "source": [
    "fig = plt.figure(figsize=(10, 5))\n",
    "axes = fig.subplots(1,2)\n",
    "sns.histplot(tmdb_com_mais_de_10_votos.vote_average, kde=True, stat=\"density\",  ax=axes[0])\n",
    "axes[0].set_xlabel('Nota Média', fontsize=13)\n",
    "axes[0].set_ylabel('Densidade', fontsize=13)\n",
    "axes[0].set_title('Média de votos em filmes do TMDB 5000 \\n considerando os filmes com 10 ou mais votos', fontsize=15)       \n",
    "\n",
    "sns.histplot(tmdb_com_mais_de_10_votos.vote_average, kde=True, ax=axes[1])\n",
    "axes[1].set_xlabel('Nota Média', fontsize=13)\n",
    "axes[1].set_ylabel('Frequência', fontsize=13)\n",
    "axes[1].set_title('Média de votos em filmes do TMDB 5000 \\n considerando os filmes com 10 ou mais votos', fontsize=15)\n",
    "\n",
    "fig.tight_layout()"
   ],
   "outputs": [
    {
     "output_type": "display_data",
     "data": {
      "image/png": "[encoded data removed]",
      "text/plain": [
       "<Figure size 720x360 with 2 Axes>"
      ]
     },
     "metadata": {}
    }
   ],
   "metadata": {}
  },
  {
   "cell_type": "code",
   "execution_count": 51,
   "source": [
    "ax = sns.boxplot(data = tmdb_com_mais_de_10_votos.vote_average, orient='horizontal')\n",
    "ax.set_xlabel('Nota média do filme', fontsize=13)\n",
    "ax.set_title('Distribuição da nota média dos filmes do TMDB 5000 \\n com mais de 10 votos', fontsize=15)"
   ],
   "outputs": [
    {
     "output_type": "execute_result",
     "data": {
      "text/plain": [
       "Text(0.5, 1.0, 'Distribuição da nota média dos filmes do TMDB 5000 \\n com mais de 10 votos')"
      ]
     },
     "metadata": {},
     "execution_count": 51
    },
    {
     "output_type": "display_data",
     "data": {
      "image/png": "[encoded data removed]",
      "text/plain": [
       "<Figure size 432x288 with 1 Axes>"
      ]
     },
     "metadata": {}
    }
   ],
   "metadata": {}
  },
  {
   "cell_type": "markdown",
   "source": [
    "# <font color='darkblue' style='font-size: 30px;'>1.2 Análises Preliminares - MovieLens</font>\n",
    "<hr style='border: 2px solid black;'>"
   ],
   "metadata": {}
  },
  {
   "cell_type": "markdown",
   "source": [
    "## Visulização dos Dados"
   ],
   "metadata": {}
  },
  {
   "cell_type": "code",
   "execution_count": 52,
   "source": [
    "notas  = pd.read_csv('dados/ratings.csv')\n",
    "notas.head()"
   ],
   "outputs": [
    {
     "output_type": "execute_result",
     "data": {
      "text/html": [
       "<div>\n",
       "<style scoped>\n",
       "    .dataframe tbody tr th:only-of-type {\n",
       "        vertical-align: middle;\n",
       "    }\n",
       "\n",
       "    .dataframe tbody tr th {\n",
       "        vertical-align: top;\n",
       "    }\n",
       "\n",
       "    .dataframe thead th {\n",
       "        text-align: right;\n",
       "    }\n",
       "</style>\n",
       "<table border=\"1\" class=\"dataframe\">\n",
       "  <thead>\n",
       "    <tr style=\"text-align: right;\">\n",
       "      <th></th>\n",
       "      <th>userId</th>\n",
       "      <th>movieId</th>\n",
       "      <th>rating</th>\n",
       "      <th>timestamp</th>\n",
       "    </tr>\n",
       "  </thead>\n",
       "  <tbody>\n",
       "    <tr>\n",
       "      <th>0</th>\n",
       "      <td>1</td>\n",
       "      <td>1</td>\n",
       "      <td>4.0</td>\n",
       "      <td>964982703</td>\n",
       "    </tr>\n",
       "    <tr>\n",
       "      <th>1</th>\n",
       "      <td>1</td>\n",
       "      <td>3</td>\n",
       "      <td>4.0</td>\n",
       "      <td>964981247</td>\n",
       "    </tr>\n",
       "    <tr>\n",
       "      <th>2</th>\n",
       "      <td>1</td>\n",
       "      <td>6</td>\n",
       "      <td>4.0</td>\n",
       "      <td>964982224</td>\n",
       "    </tr>\n",
       "    <tr>\n",
       "      <th>3</th>\n",
       "      <td>1</td>\n",
       "      <td>47</td>\n",
       "      <td>5.0</td>\n",
       "      <td>964983815</td>\n",
       "    </tr>\n",
       "    <tr>\n",
       "      <th>4</th>\n",
       "      <td>1</td>\n",
       "      <td>50</td>\n",
       "      <td>5.0</td>\n",
       "      <td>964982931</td>\n",
       "    </tr>\n",
       "  </tbody>\n",
       "</table>\n",
       "</div>"
      ],
      "text/plain": [
       "   userId  movieId  rating  timestamp\n",
       "0       1        1     4.0  964982703\n",
       "1       1        3     4.0  964981247\n",
       "2       1        6     4.0  964982224\n",
       "3       1       47     5.0  964983815\n",
       "4       1       50     5.0  964982931"
      ]
     },
     "metadata": {},
     "execution_count": 52
    }
   ],
   "metadata": {}
  },
  {
   "cell_type": "markdown",
   "source": [
    "Observa-se que o movielens não fornece s médias de cada filme, apenas as notas. Dessa forma, calcularemos as médias e agruparemos os dados pela id do filme (movieId)."
   ],
   "metadata": {}
  },
  {
   "cell_type": "code",
   "execution_count": 53,
   "source": [
    "notas_media_por_filme = notas.groupby(by = 'movieId').mean()['rating']\n",
    "notas_media_por_filme.head()"
   ],
   "outputs": [
    {
     "output_type": "execute_result",
     "data": {
      "text/plain": [
       "movieId\n",
       "1    3.920930\n",
       "2    3.431818\n",
       "3    3.259615\n",
       "4    2.357143\n",
       "5    3.071429\n",
       "Name: rating, dtype: float64"
      ]
     },
     "metadata": {},
     "execution_count": 53
    }
   ],
   "metadata": {}
  },
  {
   "cell_type": "markdown",
   "source": [
    "## Distribuição de Frequência dos Votos\n",
    "Utilizaremos a série para ver a distribuição das médias através de um histograma.\n",
    "\n",
    "**Observação**: para utilizar o valor em uma série de dados deve-se utilizar **.values**."
   ],
   "metadata": {}
  },
  {
   "cell_type": "code",
   "execution_count": 54,
   "source": [
    "ax = sns.histplot(notas_media_por_filme.values, stat='density', kde=True)\n",
    "ax.set_xlabel('Nota Média', fontsize=13)\n",
    "ax.set_ylabel('Densidade', fontsize=13)\n",
    "ax.set_title('Média de votos em filmes no Movielens 100k', fontsize=15)"
   ],
   "outputs": [
    {
     "output_type": "execute_result",
     "data": {
      "text/plain": [
       "Text(0.5, 1.0, 'Média de votos em filmes no Movielens 100k')"
      ]
     },
     "metadata": {},
     "execution_count": 54
    },
    {
     "output_type": "display_data",
     "data": {
      "image/png": "[encoded data removed]",
      "text/plain": [
       "<Figure size 432x288 with 1 Axes>"
      ]
     },
     "metadata": {}
    }
   ],
   "metadata": {}
  },
  {
   "cell_type": "markdown",
   "source": [
    "## Removendo Outliers"
   ],
   "metadata": {}
  },
  {
   "cell_type": "markdown",
   "source": [
    "Observa-se a existência de filmes com nota 5, o que não é razoável. Esses filmes devem ter poucos votos, de forma que é necessário avaliar se eles são representativos para nossa análise.\n",
    "\n",
    "Para isso selecionamos apenas os filmes com apenas 10 fotos e fazemos um novo histograma."
   ],
   "metadata": {}
  },
  {
   "cell_type": "code",
   "execution_count": 55,
   "source": [
    "quantidade_de_votos_por_filmes = notas.groupby('movieId').count()\n",
    "filmes_com_pelo_menos_10_votos = quantidade_de_votos_por_filmes.query('rating >= 10').index\n",
    "filmes_com_pelo_menos_10_votos.values"
   ],
   "outputs": [
    {
     "output_type": "execute_result",
     "data": {
      "text/plain": [
       "array([     1,      2,      3, ..., 177765, 179819, 187593])"
      ]
     },
     "metadata": {},
     "execution_count": 55
    }
   ],
   "metadata": {}
  },
  {
   "cell_type": "code",
   "execution_count": 56,
   "source": [
    "nota_media_dos_filmes_com_pelo_menos_10_votos = notas_media_por_filme.loc[filmes_com_pelo_menos_10_votos.values]\n",
    "nota_media_dos_filmes_com_pelo_menos_10_votos"
   ],
   "outputs": [
    {
     "output_type": "execute_result",
     "data": {
      "text/plain": [
       "movieId\n",
       "1         3.920930\n",
       "2         3.431818\n",
       "3         3.259615\n",
       "5         3.071429\n",
       "6         3.946078\n",
       "            ...   \n",
       "174055    3.423077\n",
       "176371    3.805556\n",
       "177765    3.538462\n",
       "179819    3.125000\n",
       "187593    3.875000\n",
       "Name: rating, Length: 2269, dtype: float64"
      ]
     },
     "metadata": {},
     "execution_count": 56
    }
   ],
   "metadata": {}
  },
  {
   "cell_type": "markdown",
   "source": [
    "## Distribuição de Frequência para filmes com mais de 10 votos"
   ],
   "metadata": {}
  },
  {
   "cell_type": "code",
   "execution_count": 57,
   "source": [
    "ax = sns.histplot(nota_media_dos_filmes_com_pelo_menos_10_votos.values, stat='density', kde=True)\n",
    "ax.set_xlabel('Nota Média', fontsize=13)\n",
    "ax.set_ylabel('Densidade', fontsize=13)\n",
    "ax.set_title('Média de votos em filmes no Movielens 100k \\n com 10 ou mais votos', fontsize=15)"
   ],
   "outputs": [
    {
     "output_type": "execute_result",
     "data": {
      "text/plain": [
       "Text(0.5, 1.0, 'Média de votos em filmes no Movielens 100k \\n com 10 ou mais votos')"
      ]
     },
     "metadata": {},
     "execution_count": 57
    },
    {
     "output_type": "display_data",
     "data": {
      "image/png": "[encoded data removed]",
      "text/plain": [
       "<Figure size 432x288 with 1 Axes>"
      ]
     },
     "metadata": {}
    }
   ],
   "metadata": {}
  },
  {
   "cell_type": "markdown",
   "source": [
    "O novo histograma apresenta um conjunto de dados com uma distribuição que parece mais realista.\n",
    "\n",
    "## Distribuição de Frequência Acumulada para filmes com mais de 10 votos"
   ],
   "metadata": {}
  },
  {
   "cell_type": "code",
   "execution_count": 58,
   "source": [
    "ax = sns.histplot(nota_media_dos_filmes_com_pelo_menos_10_votos.values, stat='density', kde=True, cumulative=True)\n",
    "ax.set_xlabel('Nota Média', fontsize=13)\n",
    "ax.set_ylabel('% Acumulada de Filmes', fontsize=13)\n",
    "ax.set_title('Média de votos em filmes no Movielens 100k \\n com 10 ou mais votos', fontsize=15)"
   ],
   "outputs": [
    {
     "output_type": "execute_result",
     "data": {
      "text/plain": [
       "Text(0.5, 1.0, 'Média de votos em filmes no Movielens 100k \\n com 10 ou mais votos')"
      ]
     },
     "metadata": {},
     "execution_count": 58
    },
    {
     "output_type": "display_data",
     "data": {
      "image/png": "[encoded data removed]",
      "text/plain": [
       "<Figure size 432x288 with 1 Axes>"
      ]
     },
     "metadata": {}
    }
   ],
   "metadata": {}
  },
  {
   "cell_type": "code",
   "execution_count": 59,
   "source": [
    "ax = sns.boxplot(data = nota_media_dos_filmes_com_pelo_menos_10_votos.values, orient='h')\n",
    "ax.set_xlabel('Nota média por filme', fontsize = 13)\n",
    "ax.set_title('Distribuição da Nota Média por Filmes do Moviens \\n com mais de 10 votos', fontsize=15)"
   ],
   "outputs": [
    {
     "output_type": "execute_result",
     "data": {
      "text/plain": [
       "Text(0.5, 1.0, 'Distribuição da Nota Média por Filmes do Moviens \\n com mais de 10 votos')"
      ]
     },
     "metadata": {},
     "execution_count": 59
    },
    {
     "output_type": "display_data",
     "data": {
      "image/png": "[encoded data removed]",
      "text/plain": [
       "<Figure size 432x288 with 1 Axes>"
      ]
     },
     "metadata": {}
    }
   ],
   "metadata": {}
  },
  {
   "cell_type": "markdown",
   "source": [
    "Fazendo uma análise visual dos bancos de dados TMDB e do Movielens, observa-se que no geral as pessoas custumam dar notas positivas (superiores à 5) para os filmes. Isso fica claro pela distribuição a direita dos hitogramas e dos boxplots. "
   ],
   "metadata": {}
  },
  {
   "cell_type": "markdown",
   "source": [
    "# <font color='darkblue' style='font-size: 30px;'>1.3 Analisando a distribuição dos dados capturados de outros campos do TMDB</font>\n",
    "<hr style='border: 2px solid black;'>\n"
   ],
   "metadata": {}
  },
  {
   "cell_type": "markdown",
   "source": [
    "## Número de Votos"
   ],
   "metadata": {}
  },
  {
   "cell_type": "code",
   "execution_count": 60,
   "source": [
    "ax = sns.histplot(data=tmdb_com_mais_de_10_votos.query('budget > 0 & runtime > 0').vote_average, stat='density', kde=True)\n",
    "ax.set(xlabel='Número de votos', ylabel='Densidade')\n",
    "ax.set_title('Número de votos em filmes no TMDB 5000 com 10 ou mais votos')"
   ],
   "outputs": [
    {
     "output_type": "execute_result",
     "data": {
      "text/plain": [
       "Text(0.5, 1.0, 'Número de votos em filmes no TMDB 5000 com 10 ou mais votos')"
      ]
     },
     "metadata": {},
     "execution_count": 60
    },
    {
     "output_type": "display_data",
     "data": {
      "image/png": "[encoded data removed]",
      "text/plain": [
       "<Figure size 432x288 with 1 Axes>"
      ]
     },
     "metadata": {}
    }
   ],
   "metadata": {}
  },
  {
   "cell_type": "markdown",
   "source": [
    "O grafico acima é coerente, pois existem filmes muito populares que são muito votados e filmes poucos populares que, consequentemente, são poucos votados."
   ],
   "metadata": {}
  },
  {
   "cell_type": "markdown",
   "source": [
    "## Orçamento"
   ],
   "metadata": {}
  },
  {
   "cell_type": "markdown",
   "source": [
    "No dataFrame do TMDB os filmes em que nsão se sabia o orçamento foram preenchidos com o valor 0, de forma que eles não devem ser considerados na análise."
   ],
   "metadata": {}
  },
  {
   "cell_type": "code",
   "execution_count": 61,
   "source": [
    "tmdb.query('budget > 0').budget\n",
    "ax = sns.histplot(tmdb.query('budget > 0').budget, stat='density', kde=True)\n",
    "ax.set(xlabel='Budget (gastos)', ylabel='Densidade')\n",
    "ax.set_title('Gastos em filmes no TMDB 5000 ')"
   ],
   "outputs": [
    {
     "output_type": "execute_result",
     "data": {
      "text/plain": [
       "Text(0.5, 1.0, 'Gastos em filmes no TMDB 5000 ')"
      ]
     },
     "metadata": {},
     "execution_count": 61
    },
    {
     "output_type": "display_data",
     "data": {
      "image/png": "[encoded data removed]",
      "text/plain": [
       "<Figure size 432x288 with 1 Axes>"
      ]
     },
     "metadata": {}
    }
   ],
   "metadata": {}
  },
  {
   "cell_type": "markdown",
   "source": [
    "## Popularidade"
   ],
   "metadata": {}
  },
  {
   "cell_type": "code",
   "execution_count": 62,
   "source": [
    "ax = sns.histplot(tmdb.popularity, stat='density', kde=True)\n",
    "ax.set(xlabel='Popularidade', ylabel='Densidade')\n",
    "ax.set_title('Gastos em filmes no TMDB 5000 ')"
   ],
   "outputs": [
    {
     "output_type": "execute_result",
     "data": {
      "text/plain": [
       "Text(0.5, 1.0, 'Gastos em filmes no TMDB 5000 ')"
      ]
     },
     "metadata": {},
     "execution_count": 62
    },
    {
     "output_type": "display_data",
     "data": {
      "image/png": "[encoded data removed]",
      "text/plain": [
       "<Figure size 432x288 with 1 Axes>"
      ]
     },
     "metadata": {}
    }
   ],
   "metadata": {}
  },
  {
   "cell_type": "markdown",
   "source": [
    "## Tempo de Duração "
   ],
   "metadata": {}
  },
  {
   "cell_type": "code",
   "execution_count": 63,
   "source": [
    "ax = sns.histplot(tmdb.query('runtime > 0').runtime, stat='density', kde=True)\n",
    "ax.set(xlabel='Budget (gastos)', ylabel='Densidade')\n",
    "ax.set_title('Gastos em filmes no TMDB 5000 ')"
   ],
   "outputs": [
    {
     "output_type": "execute_result",
     "data": {
      "text/plain": [
       "Text(0.5, 1.0, 'Gastos em filmes no TMDB 5000 ')"
      ]
     },
     "metadata": {},
     "execution_count": 63
    },
    {
     "output_type": "display_data",
     "data": {
      "image/png": "[encoded data removed]",
      "text/plain": [
       "<Figure size 432x288 with 1 Axes>"
      ]
     },
     "metadata": {}
    }
   ],
   "metadata": {}
  },
  {
   "cell_type": "code",
   "execution_count": 64,
   "source": [
    "ax = sns.histplot(tmdb.query('runtime > 0').runtime, stat='density', kde=True, cumulative=True)\n",
    "ax.set(xlabel='Tempo de duração', ylabel='% de filmes')\n",
    "ax.set_title('Gastos em filmes no TMDB 5000 ')"
   ],
   "outputs": [
    {
     "output_type": "execute_result",
     "data": {
      "text/plain": [
       "Text(0.5, 1.0, 'Gastos em filmes no TMDB 5000 ')"
      ]
     },
     "metadata": {},
     "execution_count": 64
    },
    {
     "output_type": "display_data",
     "data": {
      "image/png": "[encoded data removed]",
      "text/plain": [
       "<Figure size 432x288 with 1 Axes>"
      ]
     },
     "metadata": {}
    }
   ],
   "metadata": {}
  },
  {
   "cell_type": "markdown",
   "source": [
    "O gráfico de distribuição acumulada dá um idéia da proporção de filmes para cada tempo de duração específica, contudo se por acaso quisermos saber uma **proporção** específica podemos utilizar a função **quantile**."
   ],
   "metadata": {}
  },
  {
   "cell_type": "code",
   "execution_count": 65,
   "source": [
    "tmdb.query('runtime > 0').runtime.dropna().quantile(0.8)"
   ],
   "outputs": [
    {
     "output_type": "execute_result",
     "data": {
      "text/plain": [
       "121.0"
      ]
     },
     "metadata": {},
     "execution_count": 65
    }
   ],
   "metadata": {}
  },
  {
   "cell_type": "markdown",
   "source": [
    "# <font color='darkblue' style='font-size: 30px;'>1.4 Movilens: média dos filmes com pelo menos 10 votos</font>\n",
    "<hr style='border: 2px solid black;'>"
   ],
   "metadata": {}
  },
  {
   "cell_type": "code",
   "execution_count": 66,
   "source": [
    "print('Média dos filmes com pelo menos 10 votos', nota_media_dos_filmes_com_pelo_menos_10_votos.mean())"
   ],
   "outputs": [
    {
     "output_type": "stream",
     "name": "stdout",
     "text": [
      "Média dos filmes com pelo menos 10 votos 3.4320503405352603\n"
     ]
    }
   ],
   "metadata": {}
  },
  {
   "cell_type": "markdown",
   "source": [
    "Para mostrar a influência do tamanho da amostro no cálculo da média, calcularemos a média amostras com diversor de tamanho."
   ],
   "metadata": {}
  },
  {
   "cell_type": "code",
   "execution_count": 67,
   "source": [
    "import numpy as np\n",
    "np.random.seed(75243)\n",
    "\n",
    "temp = nota_media_dos_filmes_com_pelo_menos_10_votos.sample(frac=1)\n",
    "medias = [temp[0:i].mean() for i in range (1, len(temp))]\n",
    "  \n",
    "plt.plot(medias)\n",
    "plt.xlabel('Tamanho da amostra')\n",
    "plt.ylabel('Média')"
   ],
   "outputs": [
    {
     "output_type": "execute_result",
     "data": {
      "text/plain": [
       "Text(0, 0.5, 'Média')"
      ]
     },
     "metadata": {},
     "execution_count": 67
    },
    {
     "output_type": "display_data",
     "data": {
      "image/png": "[encoded data removed]",
      "text/plain": [
       "<Figure size 432x288 with 1 Axes>"
      ]
     },
     "metadata": {}
    }
   ],
   "metadata": {}
  },
  {
   "cell_type": "markdown",
   "source": [
    "O gráfico demonstra que a medida que aumenta o tamanho da amostra, a média fica mais estável."
   ],
   "metadata": {}
  },
  {
   "cell_type": "markdown",
   "source": [
    "# <font color='darkblue' style='font-size: 30px;'>1.5 Intervalo de Confiança\n",
    "</font>\n",
    "<hr style='border: 2px solid black;'>\n",
    "\n",
    "Afim de utilizar a média da nossa amostra para representar média da população total de filmes, é possivel utiliar intevalos de confiança baseados em teste de hipótese, para isso será utilizada a biblioteca **statsmodels**.\n"
   ],
   "metadata": {}
  },
  {
   "cell_type": "markdown",
   "source": [
    "## Teste Z"
   ],
   "metadata": {}
  },
  {
   "cell_type": "code",
   "execution_count": 68,
   "source": [
    "from statsmodels.stats.weightstats import zconfint\n",
    "\n",
    "zconfint(nota_media_dos_filmes_com_pelo_menos_10_votos)"
   ],
   "outputs": [
    {
     "output_type": "execute_result",
     "data": {
      "text/plain": [
       "(3.4112459477469557, 3.452854733323563)"
      ]
     },
     "metadata": {},
     "execution_count": 68
    }
   ],
   "metadata": {}
  },
  {
   "cell_type": "markdown",
   "source": [
    "## Teste t"
   ],
   "metadata": {}
  },
  {
   "cell_type": "code",
   "execution_count": 69,
   "source": [
    "from statsmodels.stats.weightstats import DescrStatsW\n",
    "\n",
    "descr_de_todos_com_10_notas = DescrStatsW(nota_media_dos_filmes_com_pelo_menos_10_votos)\n",
    "descr_de_todos_com_10_notas.tconfint_mean()"
   ],
   "outputs": [
    {
     "output_type": "execute_result",
     "data": {
      "text/plain": [
       "(3.411234839229381, 3.4528658418411395)"
      ]
     },
     "metadata": {},
     "execution_count": 69
    }
   ],
   "metadata": {}
  },
  {
   "cell_type": "markdown",
   "source": [
    "## Vamos ver o filme 1 ...\n",
    "O nome do filme de acordo com a id  no dataFrame de notas está localizada no arquivo **movies."
   ],
   "metadata": {}
  },
  {
   "cell_type": "code",
   "execution_count": 70,
   "source": [
    "filmes = pd.read_csv('dados/movies.csv')\n",
    "filmes.query('movieId == 1')"
   ],
   "outputs": [
    {
     "output_type": "execute_result",
     "data": {
      "text/html": [
       "<div>\n",
       "<style scoped>\n",
       "    .dataframe tbody tr th:only-of-type {\n",
       "        vertical-align: middle;\n",
       "    }\n",
       "\n",
       "    .dataframe tbody tr th {\n",
       "        vertical-align: top;\n",
       "    }\n",
       "\n",
       "    .dataframe thead th {\n",
       "        text-align: right;\n",
       "    }\n",
       "</style>\n",
       "<table border=\"1\" class=\"dataframe\">\n",
       "  <thead>\n",
       "    <tr style=\"text-align: right;\">\n",
       "      <th></th>\n",
       "      <th>movieId</th>\n",
       "      <th>title</th>\n",
       "      <th>genres</th>\n",
       "    </tr>\n",
       "  </thead>\n",
       "  <tbody>\n",
       "    <tr>\n",
       "      <th>0</th>\n",
       "      <td>1</td>\n",
       "      <td>Toy Story (1995)</td>\n",
       "      <td>Adventure|Animation|Children|Comedy|Fantasy</td>\n",
       "    </tr>\n",
       "  </tbody>\n",
       "</table>\n",
       "</div>"
      ],
      "text/plain": [
       "   movieId             title                                       genres\n",
       "0        1  Toy Story (1995)  Adventure|Animation|Children|Comedy|Fantasy"
      ]
     },
     "metadata": {},
     "execution_count": 70
    }
   ],
   "metadata": {}
  },
  {
   "cell_type": "code",
   "execution_count": 71,
   "source": [
    "notas1 = notas.query('movieId == 1')\n",
    "notas1.head()"
   ],
   "outputs": [
    {
     "output_type": "execute_result",
     "data": {
      "text/html": [
       "<div>\n",
       "<style scoped>\n",
       "    .dataframe tbody tr th:only-of-type {\n",
       "        vertical-align: middle;\n",
       "    }\n",
       "\n",
       "    .dataframe tbody tr th {\n",
       "        vertical-align: top;\n",
       "    }\n",
       "\n",
       "    .dataframe thead th {\n",
       "        text-align: right;\n",
       "    }\n",
       "</style>\n",
       "<table border=\"1\" class=\"dataframe\">\n",
       "  <thead>\n",
       "    <tr style=\"text-align: right;\">\n",
       "      <th></th>\n",
       "      <th>userId</th>\n",
       "      <th>movieId</th>\n",
       "      <th>rating</th>\n",
       "      <th>timestamp</th>\n",
       "    </tr>\n",
       "  </thead>\n",
       "  <tbody>\n",
       "    <tr>\n",
       "      <th>0</th>\n",
       "      <td>1</td>\n",
       "      <td>1</td>\n",
       "      <td>4.0</td>\n",
       "      <td>964982703</td>\n",
       "    </tr>\n",
       "    <tr>\n",
       "      <th>516</th>\n",
       "      <td>5</td>\n",
       "      <td>1</td>\n",
       "      <td>4.0</td>\n",
       "      <td>847434962</td>\n",
       "    </tr>\n",
       "    <tr>\n",
       "      <th>874</th>\n",
       "      <td>7</td>\n",
       "      <td>1</td>\n",
       "      <td>4.5</td>\n",
       "      <td>1106635946</td>\n",
       "    </tr>\n",
       "    <tr>\n",
       "      <th>1434</th>\n",
       "      <td>15</td>\n",
       "      <td>1</td>\n",
       "      <td>2.5</td>\n",
       "      <td>1510577970</td>\n",
       "    </tr>\n",
       "    <tr>\n",
       "      <th>1667</th>\n",
       "      <td>17</td>\n",
       "      <td>1</td>\n",
       "      <td>4.5</td>\n",
       "      <td>1305696483</td>\n",
       "    </tr>\n",
       "  </tbody>\n",
       "</table>\n",
       "</div>"
      ],
      "text/plain": [
       "      userId  movieId  rating   timestamp\n",
       "0          1        1     4.0   964982703\n",
       "516        5        1     4.0   847434962\n",
       "874        7        1     4.5  1106635946\n",
       "1434      15        1     2.5  1510577970\n",
       "1667      17        1     4.5  1305696483"
      ]
     },
     "metadata": {},
     "execution_count": 71
    }
   ],
   "metadata": {}
  },
  {
   "cell_type": "markdown",
   "source": [
    "Primeiro vemo como as notas estão distribuídas para o filmes Toys Story, atrvés do histograma e do boxplot."
   ],
   "metadata": {}
  },
  {
   "cell_type": "code",
   "execution_count": 72,
   "source": [
    "ax = sns.histplot(data= notas1.rating, stat='density', kde=True, bins = 5)\n",
    "ax.set_xlabel('Nota', fontsize=13)\n",
    "ax.set_ylabel('Densidade', fontsize=13)\n",
    "ax.set_title('Distribuição das Notas para o Toy Story', fontsize=15)"
   ],
   "outputs": [
    {
     "output_type": "execute_result",
     "data": {
      "text/plain": [
       "Text(0.5, 1.0, 'Distribuição das Notas para o Toy Story')"
      ]
     },
     "metadata": {},
     "execution_count": 72
    },
    {
     "output_type": "display_data",
     "data": {
      "image/png": "[encoded data removed]",
      "text/plain": [
       "<Figure size 432x288 with 1 Axes>"
      ]
     },
     "metadata": {}
    }
   ],
   "metadata": {}
  },
  {
   "cell_type": "markdown",
   "source": [
    "Observamos que o histograma apresenta um comportamento estranho pelo fato das notas serem dadas de meio em meio ponto."
   ],
   "metadata": {}
  },
  {
   "cell_type": "code",
   "execution_count": 73,
   "source": [
    "ax = sns.boxplot(data= notas1.rating, orient='h')\n",
    "ax.set_xlabel('Notas ', fontsize = 13)\n",
    "ax.set_title('Distribuição das notas para o Toy Story', fontsize=15)"
   ],
   "outputs": [
    {
     "output_type": "execute_result",
     "data": {
      "text/plain": [
       "Text(0.5, 1.0, 'Distribuição das notas para o Toy Story')"
      ]
     },
     "metadata": {},
     "execution_count": 73
    },
    {
     "output_type": "display_data",
     "data": {
      "image/png": "[encoded data removed]",
      "text/plain": [
       "<Figure size 432x288 with 1 Axes>"
      ]
     },
     "metadata": {}
    }
   ],
   "metadata": {}
  },
  {
   "cell_type": "markdown",
   "source": [
    "Atrvés observamos que a distribuição das notas para o filmes Toys Story é diferente da distribuição das notas para a amostra, pelo menos visualmente. Vamos então comparar numericamente a média."
   ],
   "metadata": {}
  },
  {
   "cell_type": "code",
   "execution_count": 74,
   "source": [
    "notas1.rating.mean()"
   ],
   "outputs": [
    {
     "output_type": "execute_result",
     "data": {
      "text/plain": [
       "3.9209302325581397"
      ]
     },
     "metadata": {},
     "execution_count": 74
    }
   ],
   "metadata": {}
  },
  {
   "cell_type": "code",
   "execution_count": 75,
   "source": [
    "notas1.rating.count()"
   ],
   "outputs": [
    {
     "output_type": "execute_result",
     "data": {
      "text/plain": [
       "215"
      ]
     },
     "metadata": {},
     "execution_count": 75
    }
   ],
   "metadata": {}
  },
  {
   "cell_type": "code",
   "execution_count": 76,
   "source": [
    "zconfint(notas1.rating)"
   ],
   "outputs": [
    {
     "output_type": "execute_result",
     "data": {
      "text/plain": [
       "(3.8093359183563402, 4.032524546759939)"
      ]
     },
     "metadata": {},
     "execution_count": 76
    }
   ],
   "metadata": {}
  },
  {
   "cell_type": "code",
   "execution_count": 77,
   "source": [
    "from statsmodels.stats.weightstats import ztest\n",
    "ztest(notas1.rating, value = 3.420534)"
   ],
   "outputs": [
    {
     "output_type": "execute_result",
     "data": {
      "text/plain": [
       "(8.788607204843306, 1.5142549700325034e-18)"
      ]
     },
     "metadata": {},
     "execution_count": 77
    }
   ],
   "metadata": {}
  },
  {
   "cell_type": "code",
   "execution_count": 78,
   "source": [
    "np.random.seed(75241)\n",
    "\n",
    "temp = notas1.sample(frac=1).rating\n",
    "medias = [temp[0:i].mean() for i in range (1, len(temp))]\n",
    "  \n",
    "plt.plot(medias)\n",
    "plt.xlabel('Tamanho da amostra')\n",
    "plt.ylabel('Média')"
   ],
   "outputs": [
    {
     "output_type": "execute_result",
     "data": {
      "text/plain": [
       "Text(0, 0.5, 'Média')"
      ]
     },
     "metadata": {},
     "execution_count": 78
    },
    {
     "output_type": "display_data",
     "data": {
      "image/png": "[encoded data removed]",
      "text/plain": [
       "<Figure size 432x288 with 1 Axes>"
      ]
     },
     "metadata": {}
    }
   ],
   "metadata": {}
  },
  {
   "cell_type": "code",
   "execution_count": 79,
   "source": [
    "np.random.seed(75241)\n",
    "\n",
    "temp = notas1.sample(frac=1).rating\n",
    "\n",
    "def calcula_teste(i):\n",
    "    media = temp[0:i].mean()\n",
    "    stat, p = ztest(temp[0:i], value = 3.420534)\n",
    "    return (i, media, p)\n",
    "\n",
    "\n",
    "\n",
    "valores = np.array([calcula_teste(i) for i in range (2, len(temp))])\n",
    "\n",
    "plt.plot(valores[:,0],valores[:,1])\n",
    "plt.plot(valores[:,0],valores[:,2])\n",
    "plt.hlines(y = 0.05, xmin = 2, xmax = len(temp), color = 'r')\n"
   ],
   "outputs": [
    {
     "output_type": "execute_result",
     "data": {
      "text/plain": [
       "<matplotlib.collections.LineCollection at 0x7fba997e99a0>"
      ]
     },
     "metadata": {},
     "execution_count": 79
    },
    {
     "output_type": "display_data",
     "data": {
      "image/png": "[encoded data removed]",
      "text/plain": [
       "<Figure size 432x288 with 1 Axes>"
      ]
     },
     "metadata": {}
    }
   ],
   "metadata": {}
  },
  {
   "cell_type": "markdown",
   "source": [
    "# Comparação de dois conjuntos de amostras"
   ],
   "metadata": {}
  },
  {
   "cell_type": "code",
   "execution_count": 80,
   "source": [
    "print(ztest(notas1.rating, notas.rating))\n",
    "zconfint(notas1.rating, notas.rating)"
   ],
   "outputs": [
    {
     "output_type": "stream",
     "name": "stdout",
     "text": [
      "(5.894327101501841, 3.762112778881965e-09)\n"
     ]
    },
    {
     "output_type": "execute_result",
     "data": {
      "text/plain": [
       "(0.2799245129192442, 0.5588219849631111)"
      ]
     },
     "metadata": {},
     "execution_count": 80
    }
   ],
   "metadata": {}
  },
  {
   "cell_type": "code",
   "execution_count": 81,
   "source": [
    "print(ztest(notas.rating, notas1.rating))\n",
    "zconfint(notas.rating, notas1.rating)"
   ],
   "outputs": [
    {
     "output_type": "stream",
     "name": "stdout",
     "text": [
      "(-5.894327101501841, 3.762112778881965e-09)\n"
     ]
    },
    {
     "output_type": "execute_result",
     "data": {
      "text/plain": [
       "(-0.5588219849631111, -0.2799245129192442)"
      ]
     },
     "metadata": {},
     "execution_count": 81
    }
   ],
   "metadata": {}
  },
  {
   "cell_type": "code",
   "execution_count": 82,
   "source": [
    "from scipy.stats import ttest_ind\n",
    "ttest_ind(notas.rating, notas1.rating)"
   ],
   "outputs": [
    {
     "output_type": "execute_result",
     "data": {
      "text/plain": [
       "Ttest_indResult(statistic=-5.894327101501841, pvalue=3.774003138720876e-09)"
      ]
     },
     "metadata": {},
     "execution_count": 82
    }
   ],
   "metadata": {}
  },
  {
   "cell_type": "code",
   "execution_count": 83,
   "source": [
    "descr_todas_as_notas = DescrStatsW(notas.rating)\n",
    "descr_toystory = DescrStatsW(notas1.rating)\n",
    "comparacao = descr_todas_as_notas.get_compare(descr_toystory)\n",
    "comparacao.summary(use_t=False)"
   ],
   "outputs": [
    {
     "output_type": "execute_result",
     "data": {
      "text/html": [
       "<table class=\"simpletable\">\n",
       "<caption>Test for equality of means</caption>\n",
       "<tr>\n",
       "      <td></td>         <th>coef</th>     <th>std err</th>      <th>z</th>      <th>P>|z|</th>  <th>[0.025</th>    <th>0.975]</th>  \n",
       "</tr>\n",
       "<tr>\n",
       "  <th>subset #1</th> <td>   -0.4194</td> <td>    0.071</td> <td>   -5.894</td> <td> 0.000</td> <td>   -0.559</td> <td>   -0.280</td>\n",
       "</tr>\n",
       "</table>"
      ],
      "text/plain": [
       "<class 'statsmodels.iolib.table.SimpleTable'>"
      ]
     },
     "metadata": {},
     "execution_count": 83
    }
   ],
   "metadata": {}
  },
  {
   "cell_type": "code",
   "execution_count": 84,
   "source": [
    "comparacao.summary(use_t=True)"
   ],
   "outputs": [
    {
     "output_type": "execute_result",
     "data": {
      "text/html": [
       "<table class=\"simpletable\">\n",
       "<caption>Test for equality of means</caption>\n",
       "<tr>\n",
       "      <td></td>         <th>coef</th>     <th>std err</th>      <th>t</th>      <th>P>|t|</th>  <th>[0.025</th>    <th>0.975]</th>  \n",
       "</tr>\n",
       "<tr>\n",
       "  <th>subset #1</th> <td>   -0.4194</td> <td>    0.071</td> <td>   -5.894</td> <td> 0.000</td> <td>   -0.559</td> <td>   -0.280</td>\n",
       "</tr>\n",
       "</table>"
      ],
      "text/plain": [
       "<class 'statsmodels.iolib.table.SimpleTable'>"
      ]
     },
     "metadata": {},
     "execution_count": 84
    }
   ],
   "metadata": {}
  },
  {
   "cell_type": "code",
   "execution_count": 85,
   "source": [
    "plt.boxplot([notas.rating, notas1.rating], labels=['Todas as Notas', 'Toys Story'])\n",
    "plt.title('Distribuição das Notas por Filme')"
   ],
   "outputs": [
    {
     "output_type": "execute_result",
     "data": {
      "text/plain": [
       "Text(0.5, 1.0, 'Distribuição das Notas por Filme')"
      ]
     },
     "metadata": {},
     "execution_count": 85
    },
    {
     "output_type": "display_data",
     "data": {
      "image/png": "[encoded data removed]",
      "text/plain": [
       "<Figure size 432x288 with 1 Axes>"
      ]
     },
     "metadata": {}
    }
   ],
   "metadata": {}
  },
  {
   "cell_type": "code",
   "execution_count": 86,
   "source": [
    "plt.boxplot([notas.rating, notas1.rating[3:12]], labels=['Todas as Notas', 'Toys Story'])\n",
    "plt.title('Distribuição das Notas por Filme')"
   ],
   "outputs": [
    {
     "output_type": "execute_result",
     "data": {
      "text/plain": [
       "Text(0.5, 1.0, 'Distribuição das Notas por Filme')"
      ]
     },
     "metadata": {},
     "execution_count": 86
    },
    {
     "output_type": "display_data",
     "data": {
      "image/png": "[encoded data removed]",
      "text/plain": [
       "<Figure size 432x288 with 1 Axes>"
      ]
     },
     "metadata": {}
    }
   ],
   "metadata": {}
  },
  {
   "cell_type": "code",
   "execution_count": 87,
   "source": [
    "descr_todas_as_notas = DescrStatsW(notas.rating)\n",
    "descr_toystory = DescrStatsW(notas1[3:12].rating)\n",
    "comparacao = descr_todas_as_notas.get_compare(descr_toystory)\n",
    "comparacao.summary(use_t=False)"
   ],
   "outputs": [
    {
     "output_type": "execute_result",
     "data": {
      "text/html": [
       "<table class=\"simpletable\">\n",
       "<caption>Test for equality of means</caption>\n",
       "<tr>\n",
       "      <td></td>         <th>coef</th>     <th>std err</th>      <th>z</th>      <th>P>|z|</th>  <th>[0.025</th>    <th>0.975]</th>  \n",
       "</tr>\n",
       "<tr>\n",
       "  <th>subset #1</th> <td>   -0.0540</td> <td>    0.348</td> <td>   -0.155</td> <td> 0.877</td> <td>   -0.735</td> <td>    0.627</td>\n",
       "</tr>\n",
       "</table>"
      ],
      "text/plain": [
       "<class 'statsmodels.iolib.table.SimpleTable'>"
      ]
     },
     "metadata": {},
     "execution_count": 87
    }
   ],
   "metadata": {}
  },
  {
   "cell_type": "markdown",
   "source": [
    "## Comparar a média de dois filmes"
   ],
   "metadata": {}
  },
  {
   "cell_type": "code",
   "execution_count": 88,
   "source": [
    "filmes.query('movieId in [1, 593, 72226]')"
   ],
   "outputs": [
    {
     "output_type": "execute_result",
     "data": {
      "text/html": [
       "<div>\n",
       "<style scoped>\n",
       "    .dataframe tbody tr th:only-of-type {\n",
       "        vertical-align: middle;\n",
       "    }\n",
       "\n",
       "    .dataframe tbody tr th {\n",
       "        vertical-align: top;\n",
       "    }\n",
       "\n",
       "    .dataframe thead th {\n",
       "        text-align: right;\n",
       "    }\n",
       "</style>\n",
       "<table border=\"1\" class=\"dataframe\">\n",
       "  <thead>\n",
       "    <tr style=\"text-align: right;\">\n",
       "      <th></th>\n",
       "      <th>movieId</th>\n",
       "      <th>title</th>\n",
       "      <th>genres</th>\n",
       "    </tr>\n",
       "  </thead>\n",
       "  <tbody>\n",
       "    <tr>\n",
       "      <th>0</th>\n",
       "      <td>1</td>\n",
       "      <td>Toy Story (1995)</td>\n",
       "      <td>Adventure|Animation|Children|Comedy|Fantasy</td>\n",
       "    </tr>\n",
       "    <tr>\n",
       "      <th>510</th>\n",
       "      <td>593</td>\n",
       "      <td>Silence of the Lambs, The (1991)</td>\n",
       "      <td>Crime|Horror|Thriller</td>\n",
       "    </tr>\n",
       "    <tr>\n",
       "      <th>7180</th>\n",
       "      <td>72226</td>\n",
       "      <td>Fantastic Mr. Fox (2009)</td>\n",
       "      <td>Adventure|Animation|Children|Comedy|Crime</td>\n",
       "    </tr>\n",
       "  </tbody>\n",
       "</table>\n",
       "</div>"
      ],
      "text/plain": [
       "      movieId                             title  \\\n",
       "0           1                  Toy Story (1995)   \n",
       "510       593  Silence of the Lambs, The (1991)   \n",
       "7180    72226          Fantastic Mr. Fox (2009)   \n",
       "\n",
       "                                           genres  \n",
       "0     Adventure|Animation|Children|Comedy|Fantasy  \n",
       "510                         Crime|Horror|Thriller  \n",
       "7180    Adventure|Animation|Children|Comedy|Crime  "
      ]
     },
     "metadata": {},
     "execution_count": 88
    }
   ],
   "metadata": {}
  },
  {
   "cell_type": "code",
   "execution_count": 89,
   "source": [
    "notas1 = notas.query('movieId == 1')\n",
    "notas593 = notas.query('movieId == 593')\n",
    "notas72226 = notas.query('movieId == 72226')\n",
    "\n",
    "plt.boxplot([notas1.rating, notas593.rating, notas72226.rating], labels = ['Toys Story', 'The Silence of the Lambs', 'Fantastic Mr. Fox'])\n",
    "plt.title('Distribuição das notas de acordo com o filme')"
   ],
   "outputs": [
    {
     "output_type": "execute_result",
     "data": {
      "text/plain": [
       "Text(0.5, 1.0, 'Distribuição das notas de acordo com o filme')"
      ]
     },
     "metadata": {},
     "execution_count": 89
    },
    {
     "output_type": "display_data",
     "data": {
      "image/png": "[encoded data removed]",
      "text/plain": [
       "<Figure size 432x288 with 1 Axes>"
      ]
     },
     "metadata": {}
    }
   ],
   "metadata": {}
  },
  {
   "cell_type": "code",
   "execution_count": 90,
   "source": [
    "notas72226.describe()"
   ],
   "outputs": [
    {
     "output_type": "execute_result",
     "data": {
      "text/html": [
       "<div>\n",
       "<style scoped>\n",
       "    .dataframe tbody tr th:only-of-type {\n",
       "        vertical-align: middle;\n",
       "    }\n",
       "\n",
       "    .dataframe tbody tr th {\n",
       "        vertical-align: top;\n",
       "    }\n",
       "\n",
       "    .dataframe thead th {\n",
       "        text-align: right;\n",
       "    }\n",
       "</style>\n",
       "<table border=\"1\" class=\"dataframe\">\n",
       "  <thead>\n",
       "    <tr style=\"text-align: right;\">\n",
       "      <th></th>\n",
       "      <th>userId</th>\n",
       "      <th>movieId</th>\n",
       "      <th>rating</th>\n",
       "      <th>timestamp</th>\n",
       "    </tr>\n",
       "  </thead>\n",
       "  <tbody>\n",
       "    <tr>\n",
       "      <th>count</th>\n",
       "      <td>18.000000</td>\n",
       "      <td>18.0</td>\n",
       "      <td>18.000000</td>\n",
       "      <td>1.800000e+01</td>\n",
       "    </tr>\n",
       "    <tr>\n",
       "      <th>mean</th>\n",
       "      <td>329.722222</td>\n",
       "      <td>72226.0</td>\n",
       "      <td>4.083333</td>\n",
       "      <td>1.395218e+09</td>\n",
       "    </tr>\n",
       "    <tr>\n",
       "      <th>std</th>\n",
       "      <td>174.748157</td>\n",
       "      <td>0.0</td>\n",
       "      <td>0.895249</td>\n",
       "      <td>9.459862e+07</td>\n",
       "    </tr>\n",
       "    <tr>\n",
       "      <th>min</th>\n",
       "      <td>73.000000</td>\n",
       "      <td>72226.0</td>\n",
       "      <td>1.500000</td>\n",
       "      <td>1.262899e+09</td>\n",
       "    </tr>\n",
       "    <tr>\n",
       "      <th>25%</th>\n",
       "      <td>167.000000</td>\n",
       "      <td>72226.0</td>\n",
       "      <td>4.000000</td>\n",
       "      <td>1.279706e+09</td>\n",
       "    </tr>\n",
       "    <tr>\n",
       "      <th>50%</th>\n",
       "      <td>326.000000</td>\n",
       "      <td>72226.0</td>\n",
       "      <td>4.250000</td>\n",
       "      <td>1.441777e+09</td>\n",
       "    </tr>\n",
       "    <tr>\n",
       "      <th>75%</th>\n",
       "      <td>466.250000</td>\n",
       "      <td>72226.0</td>\n",
       "      <td>4.500000</td>\n",
       "      <td>1.471770e+09</td>\n",
       "    </tr>\n",
       "    <tr>\n",
       "      <th>max</th>\n",
       "      <td>610.000000</td>\n",
       "      <td>72226.0</td>\n",
       "      <td>5.000000</td>\n",
       "      <td>1.498522e+09</td>\n",
       "    </tr>\n",
       "  </tbody>\n",
       "</table>\n",
       "</div>"
      ],
      "text/plain": [
       "           userId  movieId     rating     timestamp\n",
       "count   18.000000     18.0  18.000000  1.800000e+01\n",
       "mean   329.722222  72226.0   4.083333  1.395218e+09\n",
       "std    174.748157      0.0   0.895249  9.459862e+07\n",
       "min     73.000000  72226.0   1.500000  1.262899e+09\n",
       "25%    167.000000  72226.0   4.000000  1.279706e+09\n",
       "50%    326.000000  72226.0   4.250000  1.441777e+09\n",
       "75%    466.250000  72226.0   4.500000  1.471770e+09\n",
       "max    610.000000  72226.0   5.000000  1.498522e+09"
      ]
     },
     "metadata": {},
     "execution_count": 90
    }
   ],
   "metadata": {}
  },
  {
   "cell_type": "code",
   "execution_count": 91,
   "source": [
    "sns.boxplot(data = notas.query('movieId in (1, 593, 72226)'), x = 'movieId', y='rating')"
   ],
   "outputs": [
    {
     "output_type": "execute_result",
     "data": {
      "text/plain": [
       "<AxesSubplot:xlabel='movieId', ylabel='rating'>"
      ]
     },
     "metadata": {},
     "execution_count": 91
    },
    {
     "output_type": "display_data",
     "data": {
      "image/png": "[encoded data removed]",
      "text/plain": [
       "<Figure size 432x288 with 1 Axes>"
      ]
     },
     "metadata": {}
    }
   ],
   "metadata": {}
  },
  {
   "cell_type": "code",
   "execution_count": 92,
   "source": [
    "descr_1 = DescrStatsW(notas1.rating)\n",
    "descr_593 = DescrStatsW(notas593.rating)\n",
    "comparacao = descr_1.get_compare(descr_593)\n",
    "comparacao.summary(use_t=False)"
   ],
   "outputs": [
    {
     "output_type": "execute_result",
     "data": {
      "text/html": [
       "<table class=\"simpletable\">\n",
       "<caption>Test for equality of means</caption>\n",
       "<tr>\n",
       "      <td></td>         <th>coef</th>     <th>std err</th>      <th>z</th>      <th>P>|z|</th>  <th>[0.025</th>    <th>0.975]</th>  \n",
       "</tr>\n",
       "<tr>\n",
       "  <th>subset #1</th> <td>   -0.2404</td> <td>    0.077</td> <td>   -3.132</td> <td> 0.002</td> <td>   -0.391</td> <td>   -0.090</td>\n",
       "</tr>\n",
       "</table>"
      ],
      "text/plain": [
       "<class 'statsmodels.iolib.table.SimpleTable'>"
      ]
     },
     "metadata": {},
     "execution_count": 92
    }
   ],
   "metadata": {}
  },
  {
   "cell_type": "code",
   "execution_count": 93,
   "source": [
    "\n",
    "descr_593 = DescrStatsW(notas593.rating)\n",
    "descr_72226 = DescrStatsW(notas72226.rating)\n",
    "comparacao = descr_72226.get_compare(descr_593)\n",
    "comparacao.summary(use_t=False)"
   ],
   "outputs": [
    {
     "output_type": "execute_result",
     "data": {
      "text/html": [
       "<table class=\"simpletable\">\n",
       "<caption>Test for equality of means</caption>\n",
       "<tr>\n",
       "      <td></td>         <th>coef</th>     <th>std err</th>      <th>z</th>      <th>P>|z|</th>  <th>[0.025</th>    <th>0.975]</th>  \n",
       "</tr>\n",
       "<tr>\n",
       "  <th>subset #1</th> <td>   -0.0780</td> <td>    0.208</td> <td>   -0.374</td> <td> 0.708</td> <td>   -0.486</td> <td>    0.330</td>\n",
       "</tr>\n",
       "</table>"
      ],
      "text/plain": [
       "<class 'statsmodels.iolib.table.SimpleTable'>"
      ]
     },
     "metadata": {},
     "execution_count": 93
    }
   ],
   "metadata": {}
  },
  {
   "cell_type": "code",
   "execution_count": 94,
   "source": [
    "descr_1 = DescrStatsW(notas1.rating)\n",
    "descr_72226 = DescrStatsW(notas72226.rating)\n",
    "comparacao = descr_1.get_compare(descr_72226)\n",
    "comparacao.summary(use_t=False)"
   ],
   "outputs": [
    {
     "output_type": "execute_result",
     "data": {
      "text/html": [
       "<table class=\"simpletable\">\n",
       "<caption>Test for equality of means</caption>\n",
       "<tr>\n",
       "      <td></td>         <th>coef</th>     <th>std err</th>      <th>z</th>      <th>P>|z|</th>  <th>[0.025</th>    <th>0.975]</th>  \n",
       "</tr>\n",
       "<tr>\n",
       "  <th>subset #1</th> <td>   -0.1624</td> <td>    0.206</td> <td>   -0.788</td> <td> 0.430</td> <td>   -0.566</td> <td>    0.241</td>\n",
       "</tr>\n",
       "</table>"
      ],
      "text/plain": [
       "<class 'statsmodels.iolib.table.SimpleTable'>"
      ]
     },
     "metadata": {},
     "execution_count": 94
    }
   ],
   "metadata": {}
  },
  {
   "cell_type": "code",
   "execution_count": 95,
   "source": [
    "notas.query('movieId in (1, 593, 72226)').groupby(by='movieId').count()"
   ],
   "outputs": [
    {
     "output_type": "execute_result",
     "data": {
      "text/html": [
       "<div>\n",
       "<style scoped>\n",
       "    .dataframe tbody tr th:only-of-type {\n",
       "        vertical-align: middle;\n",
       "    }\n",
       "\n",
       "    .dataframe tbody tr th {\n",
       "        vertical-align: top;\n",
       "    }\n",
       "\n",
       "    .dataframe thead th {\n",
       "        text-align: right;\n",
       "    }\n",
       "</style>\n",
       "<table border=\"1\" class=\"dataframe\">\n",
       "  <thead>\n",
       "    <tr style=\"text-align: right;\">\n",
       "      <th></th>\n",
       "      <th>userId</th>\n",
       "      <th>rating</th>\n",
       "      <th>timestamp</th>\n",
       "    </tr>\n",
       "    <tr>\n",
       "      <th>movieId</th>\n",
       "      <th></th>\n",
       "      <th></th>\n",
       "      <th></th>\n",
       "    </tr>\n",
       "  </thead>\n",
       "  <tbody>\n",
       "    <tr>\n",
       "      <th>1</th>\n",
       "      <td>215</td>\n",
       "      <td>215</td>\n",
       "      <td>215</td>\n",
       "    </tr>\n",
       "    <tr>\n",
       "      <th>593</th>\n",
       "      <td>279</td>\n",
       "      <td>279</td>\n",
       "      <td>279</td>\n",
       "    </tr>\n",
       "    <tr>\n",
       "      <th>72226</th>\n",
       "      <td>18</td>\n",
       "      <td>18</td>\n",
       "      <td>18</td>\n",
       "    </tr>\n",
       "  </tbody>\n",
       "</table>\n",
       "</div>"
      ],
      "text/plain": [
       "         userId  rating  timestamp\n",
       "movieId                           \n",
       "1           215     215        215\n",
       "593         279     279        279\n",
       "72226        18      18         18"
      ]
     },
     "metadata": {},
     "execution_count": 95
    }
   ],
   "metadata": {}
  },
  {
   "cell_type": "code",
   "execution_count": 96,
   "source": [
    "descr_593 = DescrStatsW(notas593.rating)\n",
    "descr_72226 = DescrStatsW(notas72226.rating)\n",
    "comparacao = descr_72226.get_compare(descr_593)\n",
    "comparacao.summary(use_t=True)"
   ],
   "outputs": [
    {
     "output_type": "execute_result",
     "data": {
      "text/html": [
       "<table class=\"simpletable\">\n",
       "<caption>Test for equality of means</caption>\n",
       "<tr>\n",
       "      <td></td>         <th>coef</th>     <th>std err</th>      <th>t</th>      <th>P>|t|</th>  <th>[0.025</th>    <th>0.975]</th>  \n",
       "</tr>\n",
       "<tr>\n",
       "  <th>subset #1</th> <td>   -0.0780</td> <td>    0.208</td> <td>   -0.374</td> <td> 0.708</td> <td>   -0.488</td> <td>    0.332</td>\n",
       "</tr>\n",
       "</table>"
      ],
      "text/plain": [
       "<class 'statsmodels.iolib.table.SimpleTable'>"
      ]
     },
     "metadata": {},
     "execution_count": 96
    }
   ],
   "metadata": {}
  },
  {
   "cell_type": "code",
   "execution_count": 97,
   "source": [
    "descr_1 = DescrStatsW(notas1.rating)\n",
    "descr_72226 = DescrStatsW(notas72226.rating)\n",
    "comparacao = descr_1.get_compare(descr_72226)\n",
    "comparacao.summary(use_t=True)"
   ],
   "outputs": [
    {
     "output_type": "execute_result",
     "data": {
      "text/html": [
       "<table class=\"simpletable\">\n",
       "<caption>Test for equality of means</caption>\n",
       "<tr>\n",
       "      <td></td>         <th>coef</th>     <th>std err</th>      <th>t</th>      <th>P>|t|</th>  <th>[0.025</th>    <th>0.975]</th>  \n",
       "</tr>\n",
       "<tr>\n",
       "  <th>subset #1</th> <td>   -0.1624</td> <td>    0.206</td> <td>   -0.788</td> <td> 0.431</td> <td>   -0.568</td> <td>    0.243</td>\n",
       "</tr>\n",
       "</table>"
      ],
      "text/plain": [
       "<class 'statsmodels.iolib.table.SimpleTable'>"
      ]
     },
     "metadata": {},
     "execution_count": 97
    }
   ],
   "metadata": {}
  },
  {
   "cell_type": "code",
   "execution_count": 98,
   "source": [
    "from scipy.stats import normaltest\n",
    "\n",
    "_, p = normaltest(notas.rating)\n",
    "p"
   ],
   "outputs": [
    {
     "output_type": "execute_result",
     "data": {
      "text/plain": [
       "0.0"
      ]
     },
     "metadata": {},
     "execution_count": 98
    }
   ],
   "metadata": {}
  },
  {
   "cell_type": "code",
   "execution_count": 99,
   "source": [
    "from scipy.stats import ranksums\n",
    "_, p = ranksums(notas1.rating, notas593.rating)\n",
    "p"
   ],
   "outputs": [
    {
     "output_type": "execute_result",
     "data": {
      "text/plain": [
       "0.0003267718756440693"
      ]
     },
     "metadata": {},
     "execution_count": 99
    }
   ],
   "metadata": {}
  }
 ],
 "metadata": {
  "interpreter": {
   "hash": "648cb497f9726581f5c61f68ba7fae955320a0270152a187dbdef1af63b80d02"
  },
  "kernelspec": {
   "name": "python3",
   "display_name": "Python 3.8.8 64-bit ('base': conda)"
  },
  "language_info": {
   "codemirror_mode": {
    "name": "ipython",
    "version": 3
   },
   "file_extension": ".py",
   "mimetype": "text/x-python",
   "name": "python",
   "nbconvert_exporter": "python",
   "pygments_lexer": "ipython3",
   "version": "3.8.8"
  }
 },
 "nbformat": 4,
 "nbformat_minor": 5
}